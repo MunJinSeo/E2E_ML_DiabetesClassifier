{
  "nbformat": 4,
  "nbformat_minor": 0,
  "metadata": {
    "colab": {
      "name": "midterm_cls_project_2020511021_서문진.ipynb",
      "provenance": [],
      "collapsed_sections": [],
      "toc_visible": true,
      "include_colab_link": true
    },
    "kernelspec": {
      "name": "python3",
      "display_name": "Python 3"
    },
    "language_info": {
      "name": "python"
    }
  },
  "cells": [
    {
      "cell_type": "markdown",
      "metadata": {
        "id": "view-in-github",
        "colab_type": "text"
      },
      "source": [
        "<a href=\"https://colab.research.google.com/github/MunJinSeo/MachineLearning/blob/main/midterm_cls_project_2020511021_%EC%84%9C%EB%AC%B8%EC%A7%84.ipynb\" target=\"_parent\"><img src=\"https://colab.research.google.com/assets/colab-badge.svg\" alt=\"Open In Colab\"/></a>"
      ]
    },
    {
      "cell_type": "markdown",
      "source": [
        "Name (English): MunJin, Seo\n",
        "\n",
        "Name (Korean): 서문진\n",
        "\n",
        "Department (English): Big Data Convergence Department\n",
        "\n",
        "ID: 2020511021"
      ],
      "metadata": {
        "id": "eIfuZAco6Via"
      }
    },
    {
      "cell_type": "markdown",
      "source": [
        "Group : Task 1 (3-class Classification): Predict the diagnosis group of subjects"
      ],
      "metadata": {
        "id": "OpE1H9m_gzt8"
      }
    },
    {
      "cell_type": "markdown",
      "source": [
        "### Instructions\n",
        "\n",
        "1. Using `dataset.csv`, train the best model to perform the following tasks.\n",
        "\n",
        "* ***Task 1*** (3-class Classification): Predict the diagnosis group of subjects\n",
        "<br>Colum A (DX_bl): Diagnosis group of subject\n",
        "<br>0: Cognitive normal\n",
        "<br>1: Mild cognitive impairment\n",
        "<br>2: Alzheimer’s disease\n",
        "\n",
        "* ***Task 2*** (3-logit Regression): Predict the cognitive assessment scores of subjects\n",
        "<br>Colum B (ADAS11): Alzheimer's Disease Assessment Scale (11 questions version)\n",
        "<br>Colum C (ADAS13): Alzheimer's Disease Assessment Scale (13 questions version)\n",
        "<br>Colum D (MMSE): Mini-Mental State Examination\n",
        "\n",
        "2. Save the best model."
      ],
      "metadata": {
        "id": "sGOcJMXP61xW"
      }
    },
    {
      "cell_type": "markdown",
      "source": [
        "A minimal example code for your reference\n",
        "\n",
        "```python\n",
        "!wget https://raw.githubusercontent.com/wltjr1007/wltjr1007.github.io/master/class_datasets/midterm/dataset.csv\n",
        "\n",
        "import pandas as pd\n",
        "from sklearn.ensemble import RandomForestClassifier, RandomForestRegressor\n",
        "import joblib\n",
        "from google.colab import files\n",
        "\n",
        "train_df = pd.read_csv('dataset.csv')\n",
        "\n",
        "X = train_df[[c for c in train_df.columns if c not in ['DX_bl', 'ADAS11', 'ADAS13', 'MMSE']]]\n",
        "y = train_df['DX_bl']\n",
        "y1  = train_df['ADAS11']\n",
        "y2  = train_df['ADAS13']\n",
        "y3  = train_df['MMSE']\n",
        "\n",
        "X = X.fillna(0)\n",
        "\n",
        "clf = RandomForestClassifier(random_state=42).fit(X, y)\n",
        "\n",
        "reg1 = RandomForestRegressor(random_state=42).fit(X, y1)\n",
        "reg2 = RandomForestRegressor(random_state=42).fit(X, y2)\n",
        "reg3 = RandomForestRegressor(random_state=42).fit(X, y3)\n",
        "\n",
        "joblib.dump(clf, 'clf.pkl', compress=1)\n",
        "joblib.dump(reg1, 'reg1.pkl', compress=1)\n",
        "joblib.dump(reg2, 'reg2.pkl', compress=1)\n",
        "joblib.dump(reg3, 'reg3.pkl', compress=1)\n",
        "\n",
        "files.download('clf.pkl')\n",
        "files.download('reg1.pkl')\n",
        "files.download('reg2.pkl')\n",
        "files.download('reg3.pkl')\n",
        "```\n",
        "\n"
      ],
      "metadata": {
        "id": "9V0fl6RC55Ao"
      }
    },
    {
      "cell_type": "markdown",
      "source": [
        "### Compile the below code to get the dataset!!"
      ],
      "metadata": {
        "id": "_Shziwyo7FBB"
      }
    },
    {
      "cell_type": "code",
      "source": [
        "!wget https://raw.githubusercontent.com/wltjr1007/wltjr1007.github.io/master/class_datasets/midterm/dataset.csv"
      ],
      "metadata": {
        "id": "fXqlK0tu6xc1",
        "colab": {
          "base_uri": "https://localhost:8080/"
        },
        "outputId": "0af9cc4b-7360-4550-d53a-16f144d9b4a8"
      },
      "execution_count": 2,
      "outputs": [
        {
          "output_type": "stream",
          "name": "stdout",
          "text": [
            "--2022-05-13 14:46:31--  https://raw.githubusercontent.com/wltjr1007/wltjr1007.github.io/master/class_datasets/midterm/dataset.csv\n",
            "Resolving raw.githubusercontent.com (raw.githubusercontent.com)... 185.199.108.133, 185.199.109.133, 185.199.110.133, ...\n",
            "Connecting to raw.githubusercontent.com (raw.githubusercontent.com)|185.199.108.133|:443... connected.\n",
            "HTTP request sent, awaiting response... 200 OK\n",
            "Length: 1247513 (1.2M) [text/plain]\n",
            "Saving to: ‘dataset.csv’\n",
            "\n",
            "\rdataset.csv           0%[                    ]       0  --.-KB/s               \rdataset.csv         100%[===================>]   1.19M  --.-KB/s    in 0.008s  \n",
            "\n",
            "2022-05-13 14:46:32 (152 MB/s) - ‘dataset.csv’ saved [1247513/1247513]\n",
            "\n"
          ]
        }
      ]
    },
    {
      "cell_type": "markdown",
      "source": [
        "## 1) 실행에 필요한 library import"
      ],
      "metadata": {
        "id": "S2xUaKKyyc4O"
      }
    },
    {
      "cell_type": "code",
      "source": [
        "### START HERE !! ###\n",
        "\n",
        "import pandas as pd\n",
        "import numpy as np\n",
        "np.random.seed(20220513)\n",
        "\n",
        "# 모델 비교하기 위해 각 모델library import\n",
        "from sklearn.linear_model import SGDClassifier  # Stochastic Gradient Descent Classifier\n",
        "from sklearn.multiclass import OneVsRestClassifier\n",
        "from sklearn.naive_bayes import GaussianNB\n",
        "from sklearn.tree import DecisionTreeClassifier\n",
        "from sklearn.ensemble import RandomForestClassifier\n",
        "\n",
        "\n",
        "# To plot pretty figures --강의 교재 참고하여 추가함\n",
        "# 실행한 브라우저에서 바로 그림을 볼 수 있게 해줌\n",
        "%matplotlib inline\n",
        "import matplotlib as mpl #그래프를 그리기 위한 Library\n",
        "import matplotlib.pyplot as plt #그래프를 그리기 위한 Library\n",
        "\n",
        "from sklearn.model_selection import train_test_split # sklearn에서 제공하는 데이터 분리 Library\n",
        "from sklearn.model_selection import StratifiedShuffleSplit  # sklearn에서 제공하는 데이터 분리 Library\n",
        "\n",
        "from sklearn.preprocessing import MinMaxScaler #sklearn에서 제공하는 Feature Scaling Library\n",
        "\n",
        "from sklearn.model_selection import cross_val_score # 교차검증(Cross-Validation)  library import\n",
        "from sklearn.model_selection import cross_val_predict # 교차검증(Cross-Validation)  library import, Confusion Matrix 평가를 위함\n",
        "\n",
        "#from sklearn.metrics import mean_squared_error #평가 -> RMSE : 루트 평균 제곱 오차, MSE : 평균 제곱 오차\n",
        "from sklearn.metrics import confusion_matrix #평가\n",
        "from sklearn.metrics import precision_score, recall_score, f1_score, make_scorer\n",
        "from sklearn.metrics import precision_recall_curve, roc_curve, auc # roc곡선: 양성으로 잘못판단한 것에 의한 진짜 양성의 비율함수\n",
        "from yellowbrick.classifier import ROCAUC #roc 곡선 및 AUC 쉽게 그리도록 지원\n",
        "from sklearn.metrics import roc_auc_score, accuracy_score #정확도 \n",
        "from sklearn.metrics import classification_report\n",
        "\n",
        "from sklearn.model_selection import GridSearchCV # sklearn에서 제공하는 하이퍼파라미터 조합 찾기\n",
        "\n",
        "import joblib # 내 모델을 외부 저장/로딩\n",
        "from google.colab import files"
      ],
      "metadata": {
        "id": "8Mhg_XymISNk"
      },
      "execution_count": 33,
      "outputs": []
    },
    {
      "cell_type": "markdown",
      "source": [
        "## 2) 데이터 로딩 및 확인"
      ],
      "metadata": {
        "id": "_XJUPVhtymnm"
      }
    },
    {
      "cell_type": "code",
      "source": [
        "all_df = pd.read_csv('dataset.csv') # 데이터 로딩"
      ],
      "metadata": {
        "id": "aOZMrepjIWzL"
      },
      "execution_count": 4,
      "outputs": []
    },
    {
      "cell_type": "code",
      "source": [
        "all_df #데이터 확인해보기"
      ],
      "metadata": {
        "colab": {
          "base_uri": "https://localhost:8080/",
          "height": 424
        },
        "id": "rqALn-LKI7VD",
        "outputId": "1bbc867b-5125-4b60-a10c-9f5e4ca2dadc"
      },
      "execution_count": 194,
      "outputs": [
        {
          "output_type": "execute_result",
          "data": {
            "text/plain": [
              "      DX_bl  ADAS11  ADAS13  MMSE  ST102CV  ST103CV  ST104CV  ST105CV  \\\n",
              "0         0    0.00    0.00    30     5010     2418     4905     2749   \n",
              "1         0    0.00    1.00    30     3422     1961     3596     2240   \n",
              "2         0    1.00    1.00    29     5061     1829     3945     2793   \n",
              "3         0    1.00    1.00    29     3574     1749     4072     2378   \n",
              "4         0    1.00    1.00    29     4085     1846     3325     2672   \n",
              "...     ...     ...     ...   ...      ...      ...      ...      ...   \n",
              "1602      2   37.00   51.00    21     3250     1596     2503     1500   \n",
              "1603      2   37.00   52.00    20     2605     1818     2719     1931   \n",
              "1604      2   38.00   50.00    19     2975     2042     4444     1857   \n",
              "1605      2   38.00   51.00    20     3501      790     2313     1589   \n",
              "1606      2   42.67   54.67    24     3874     1542     2908     1492   \n",
              "\n",
              "      ST106CV  ST107CV  ...  ST84TA  ST85TA  ST90TA  ST91TA  ST93TA  ST94TA  \\\n",
              "0        3689     2095  ...   2.603   3.149   2.631   3.247   2.783   2.523   \n",
              "1        3269     2198  ...   2.556   2.570   2.448   2.697   3.004   2.080   \n",
              "2        5027     2913  ...   2.723   2.738   2.514   3.007   2.501   2.400   \n",
              "3        3045     2259  ...   2.381   2.557   2.312   2.629   2.010   1.965   \n",
              "4        3212     1759  ...   2.456   2.859   2.641   2.999   2.155   2.371   \n",
              "...       ...      ...  ...     ...     ...     ...     ...     ...     ...   \n",
              "1602     3515     1831  ...   2.506   2.259   2.061   2.571   1.775   1.801   \n",
              "1603     3244     1924  ...   2.475   2.333   2.099   2.288   2.428   2.002   \n",
              "1604     3358     1783  ...   2.644   2.493   1.832   2.699   1.908   2.087   \n",
              "1605     3326     1324  ...   2.010   1.738   2.103   2.435   2.125   1.750   \n",
              "1606     2557     1951  ...   2.245   2.326   2.261   2.408   2.487   2.048   \n",
              "\n",
              "      ST95TA  ST97TA  ST98TA  ST99TA  \n",
              "0      2.588   2.441   2.346   3.215  \n",
              "1      2.561   1.854   2.467   2.947  \n",
              "2      2.559   2.047   2.590   2.854  \n",
              "3      2.364   1.803   2.119   2.816  \n",
              "4      2.582   2.104   2.259   3.003  \n",
              "...      ...     ...     ...     ...  \n",
              "1602   2.203   1.626   2.220   2.384  \n",
              "1603   2.268   1.822   2.305   2.483  \n",
              "1604   2.610   1.847   2.569   2.627  \n",
              "1605   2.243   1.511   1.995   2.545  \n",
              "1606   2.136   1.885   1.821   2.483  \n",
              "\n",
              "[1607 rows x 144 columns]"
            ],
            "text/html": [
              "\n",
              "  <div id=\"df-cda74ab5-0f31-479e-b345-6544672f9e6b\">\n",
              "    <div class=\"colab-df-container\">\n",
              "      <div>\n",
              "<style scoped>\n",
              "    .dataframe tbody tr th:only-of-type {\n",
              "        vertical-align: middle;\n",
              "    }\n",
              "\n",
              "    .dataframe tbody tr th {\n",
              "        vertical-align: top;\n",
              "    }\n",
              "\n",
              "    .dataframe thead th {\n",
              "        text-align: right;\n",
              "    }\n",
              "</style>\n",
              "<table border=\"1\" class=\"dataframe\">\n",
              "  <thead>\n",
              "    <tr style=\"text-align: right;\">\n",
              "      <th></th>\n",
              "      <th>DX_bl</th>\n",
              "      <th>ADAS11</th>\n",
              "      <th>ADAS13</th>\n",
              "      <th>MMSE</th>\n",
              "      <th>ST102CV</th>\n",
              "      <th>ST103CV</th>\n",
              "      <th>ST104CV</th>\n",
              "      <th>ST105CV</th>\n",
              "      <th>ST106CV</th>\n",
              "      <th>ST107CV</th>\n",
              "      <th>...</th>\n",
              "      <th>ST84TA</th>\n",
              "      <th>ST85TA</th>\n",
              "      <th>ST90TA</th>\n",
              "      <th>ST91TA</th>\n",
              "      <th>ST93TA</th>\n",
              "      <th>ST94TA</th>\n",
              "      <th>ST95TA</th>\n",
              "      <th>ST97TA</th>\n",
              "      <th>ST98TA</th>\n",
              "      <th>ST99TA</th>\n",
              "    </tr>\n",
              "  </thead>\n",
              "  <tbody>\n",
              "    <tr>\n",
              "      <th>0</th>\n",
              "      <td>0</td>\n",
              "      <td>0.00</td>\n",
              "      <td>0.00</td>\n",
              "      <td>30</td>\n",
              "      <td>5010</td>\n",
              "      <td>2418</td>\n",
              "      <td>4905</td>\n",
              "      <td>2749</td>\n",
              "      <td>3689</td>\n",
              "      <td>2095</td>\n",
              "      <td>...</td>\n",
              "      <td>2.603</td>\n",
              "      <td>3.149</td>\n",
              "      <td>2.631</td>\n",
              "      <td>3.247</td>\n",
              "      <td>2.783</td>\n",
              "      <td>2.523</td>\n",
              "      <td>2.588</td>\n",
              "      <td>2.441</td>\n",
              "      <td>2.346</td>\n",
              "      <td>3.215</td>\n",
              "    </tr>\n",
              "    <tr>\n",
              "      <th>1</th>\n",
              "      <td>0</td>\n",
              "      <td>0.00</td>\n",
              "      <td>1.00</td>\n",
              "      <td>30</td>\n",
              "      <td>3422</td>\n",
              "      <td>1961</td>\n",
              "      <td>3596</td>\n",
              "      <td>2240</td>\n",
              "      <td>3269</td>\n",
              "      <td>2198</td>\n",
              "      <td>...</td>\n",
              "      <td>2.556</td>\n",
              "      <td>2.570</td>\n",
              "      <td>2.448</td>\n",
              "      <td>2.697</td>\n",
              "      <td>3.004</td>\n",
              "      <td>2.080</td>\n",
              "      <td>2.561</td>\n",
              "      <td>1.854</td>\n",
              "      <td>2.467</td>\n",
              "      <td>2.947</td>\n",
              "    </tr>\n",
              "    <tr>\n",
              "      <th>2</th>\n",
              "      <td>0</td>\n",
              "      <td>1.00</td>\n",
              "      <td>1.00</td>\n",
              "      <td>29</td>\n",
              "      <td>5061</td>\n",
              "      <td>1829</td>\n",
              "      <td>3945</td>\n",
              "      <td>2793</td>\n",
              "      <td>5027</td>\n",
              "      <td>2913</td>\n",
              "      <td>...</td>\n",
              "      <td>2.723</td>\n",
              "      <td>2.738</td>\n",
              "      <td>2.514</td>\n",
              "      <td>3.007</td>\n",
              "      <td>2.501</td>\n",
              "      <td>2.400</td>\n",
              "      <td>2.559</td>\n",
              "      <td>2.047</td>\n",
              "      <td>2.590</td>\n",
              "      <td>2.854</td>\n",
              "    </tr>\n",
              "    <tr>\n",
              "      <th>3</th>\n",
              "      <td>0</td>\n",
              "      <td>1.00</td>\n",
              "      <td>1.00</td>\n",
              "      <td>29</td>\n",
              "      <td>3574</td>\n",
              "      <td>1749</td>\n",
              "      <td>4072</td>\n",
              "      <td>2378</td>\n",
              "      <td>3045</td>\n",
              "      <td>2259</td>\n",
              "      <td>...</td>\n",
              "      <td>2.381</td>\n",
              "      <td>2.557</td>\n",
              "      <td>2.312</td>\n",
              "      <td>2.629</td>\n",
              "      <td>2.010</td>\n",
              "      <td>1.965</td>\n",
              "      <td>2.364</td>\n",
              "      <td>1.803</td>\n",
              "      <td>2.119</td>\n",
              "      <td>2.816</td>\n",
              "    </tr>\n",
              "    <tr>\n",
              "      <th>4</th>\n",
              "      <td>0</td>\n",
              "      <td>1.00</td>\n",
              "      <td>1.00</td>\n",
              "      <td>29</td>\n",
              "      <td>4085</td>\n",
              "      <td>1846</td>\n",
              "      <td>3325</td>\n",
              "      <td>2672</td>\n",
              "      <td>3212</td>\n",
              "      <td>1759</td>\n",
              "      <td>...</td>\n",
              "      <td>2.456</td>\n",
              "      <td>2.859</td>\n",
              "      <td>2.641</td>\n",
              "      <td>2.999</td>\n",
              "      <td>2.155</td>\n",
              "      <td>2.371</td>\n",
              "      <td>2.582</td>\n",
              "      <td>2.104</td>\n",
              "      <td>2.259</td>\n",
              "      <td>3.003</td>\n",
              "    </tr>\n",
              "    <tr>\n",
              "      <th>...</th>\n",
              "      <td>...</td>\n",
              "      <td>...</td>\n",
              "      <td>...</td>\n",
              "      <td>...</td>\n",
              "      <td>...</td>\n",
              "      <td>...</td>\n",
              "      <td>...</td>\n",
              "      <td>...</td>\n",
              "      <td>...</td>\n",
              "      <td>...</td>\n",
              "      <td>...</td>\n",
              "      <td>...</td>\n",
              "      <td>...</td>\n",
              "      <td>...</td>\n",
              "      <td>...</td>\n",
              "      <td>...</td>\n",
              "      <td>...</td>\n",
              "      <td>...</td>\n",
              "      <td>...</td>\n",
              "      <td>...</td>\n",
              "      <td>...</td>\n",
              "    </tr>\n",
              "    <tr>\n",
              "      <th>1602</th>\n",
              "      <td>2</td>\n",
              "      <td>37.00</td>\n",
              "      <td>51.00</td>\n",
              "      <td>21</td>\n",
              "      <td>3250</td>\n",
              "      <td>1596</td>\n",
              "      <td>2503</td>\n",
              "      <td>1500</td>\n",
              "      <td>3515</td>\n",
              "      <td>1831</td>\n",
              "      <td>...</td>\n",
              "      <td>2.506</td>\n",
              "      <td>2.259</td>\n",
              "      <td>2.061</td>\n",
              "      <td>2.571</td>\n",
              "      <td>1.775</td>\n",
              "      <td>1.801</td>\n",
              "      <td>2.203</td>\n",
              "      <td>1.626</td>\n",
              "      <td>2.220</td>\n",
              "      <td>2.384</td>\n",
              "    </tr>\n",
              "    <tr>\n",
              "      <th>1603</th>\n",
              "      <td>2</td>\n",
              "      <td>37.00</td>\n",
              "      <td>52.00</td>\n",
              "      <td>20</td>\n",
              "      <td>2605</td>\n",
              "      <td>1818</td>\n",
              "      <td>2719</td>\n",
              "      <td>1931</td>\n",
              "      <td>3244</td>\n",
              "      <td>1924</td>\n",
              "      <td>...</td>\n",
              "      <td>2.475</td>\n",
              "      <td>2.333</td>\n",
              "      <td>2.099</td>\n",
              "      <td>2.288</td>\n",
              "      <td>2.428</td>\n",
              "      <td>2.002</td>\n",
              "      <td>2.268</td>\n",
              "      <td>1.822</td>\n",
              "      <td>2.305</td>\n",
              "      <td>2.483</td>\n",
              "    </tr>\n",
              "    <tr>\n",
              "      <th>1604</th>\n",
              "      <td>2</td>\n",
              "      <td>38.00</td>\n",
              "      <td>50.00</td>\n",
              "      <td>19</td>\n",
              "      <td>2975</td>\n",
              "      <td>2042</td>\n",
              "      <td>4444</td>\n",
              "      <td>1857</td>\n",
              "      <td>3358</td>\n",
              "      <td>1783</td>\n",
              "      <td>...</td>\n",
              "      <td>2.644</td>\n",
              "      <td>2.493</td>\n",
              "      <td>1.832</td>\n",
              "      <td>2.699</td>\n",
              "      <td>1.908</td>\n",
              "      <td>2.087</td>\n",
              "      <td>2.610</td>\n",
              "      <td>1.847</td>\n",
              "      <td>2.569</td>\n",
              "      <td>2.627</td>\n",
              "    </tr>\n",
              "    <tr>\n",
              "      <th>1605</th>\n",
              "      <td>2</td>\n",
              "      <td>38.00</td>\n",
              "      <td>51.00</td>\n",
              "      <td>20</td>\n",
              "      <td>3501</td>\n",
              "      <td>790</td>\n",
              "      <td>2313</td>\n",
              "      <td>1589</td>\n",
              "      <td>3326</td>\n",
              "      <td>1324</td>\n",
              "      <td>...</td>\n",
              "      <td>2.010</td>\n",
              "      <td>1.738</td>\n",
              "      <td>2.103</td>\n",
              "      <td>2.435</td>\n",
              "      <td>2.125</td>\n",
              "      <td>1.750</td>\n",
              "      <td>2.243</td>\n",
              "      <td>1.511</td>\n",
              "      <td>1.995</td>\n",
              "      <td>2.545</td>\n",
              "    </tr>\n",
              "    <tr>\n",
              "      <th>1606</th>\n",
              "      <td>2</td>\n",
              "      <td>42.67</td>\n",
              "      <td>54.67</td>\n",
              "      <td>24</td>\n",
              "      <td>3874</td>\n",
              "      <td>1542</td>\n",
              "      <td>2908</td>\n",
              "      <td>1492</td>\n",
              "      <td>2557</td>\n",
              "      <td>1951</td>\n",
              "      <td>...</td>\n",
              "      <td>2.245</td>\n",
              "      <td>2.326</td>\n",
              "      <td>2.261</td>\n",
              "      <td>2.408</td>\n",
              "      <td>2.487</td>\n",
              "      <td>2.048</td>\n",
              "      <td>2.136</td>\n",
              "      <td>1.885</td>\n",
              "      <td>1.821</td>\n",
              "      <td>2.483</td>\n",
              "    </tr>\n",
              "  </tbody>\n",
              "</table>\n",
              "<p>1607 rows × 144 columns</p>\n",
              "</div>\n",
              "      <button class=\"colab-df-convert\" onclick=\"convertToInteractive('df-cda74ab5-0f31-479e-b345-6544672f9e6b')\"\n",
              "              title=\"Convert this dataframe to an interactive table.\"\n",
              "              style=\"display:none;\">\n",
              "        \n",
              "  <svg xmlns=\"http://www.w3.org/2000/svg\" height=\"24px\"viewBox=\"0 0 24 24\"\n",
              "       width=\"24px\">\n",
              "    <path d=\"M0 0h24v24H0V0z\" fill=\"none\"/>\n",
              "    <path d=\"M18.56 5.44l.94 2.06.94-2.06 2.06-.94-2.06-.94-.94-2.06-.94 2.06-2.06.94zm-11 1L8.5 8.5l.94-2.06 2.06-.94-2.06-.94L8.5 2.5l-.94 2.06-2.06.94zm10 10l.94 2.06.94-2.06 2.06-.94-2.06-.94-.94-2.06-.94 2.06-2.06.94z\"/><path d=\"M17.41 7.96l-1.37-1.37c-.4-.4-.92-.59-1.43-.59-.52 0-1.04.2-1.43.59L10.3 9.45l-7.72 7.72c-.78.78-.78 2.05 0 2.83L4 21.41c.39.39.9.59 1.41.59.51 0 1.02-.2 1.41-.59l7.78-7.78 2.81-2.81c.8-.78.8-2.07 0-2.86zM5.41 20L4 18.59l7.72-7.72 1.47 1.35L5.41 20z\"/>\n",
              "  </svg>\n",
              "      </button>\n",
              "      \n",
              "  <style>\n",
              "    .colab-df-container {\n",
              "      display:flex;\n",
              "      flex-wrap:wrap;\n",
              "      gap: 12px;\n",
              "    }\n",
              "\n",
              "    .colab-df-convert {\n",
              "      background-color: #E8F0FE;\n",
              "      border: none;\n",
              "      border-radius: 50%;\n",
              "      cursor: pointer;\n",
              "      display: none;\n",
              "      fill: #1967D2;\n",
              "      height: 32px;\n",
              "      padding: 0 0 0 0;\n",
              "      width: 32px;\n",
              "    }\n",
              "\n",
              "    .colab-df-convert:hover {\n",
              "      background-color: #E2EBFA;\n",
              "      box-shadow: 0px 1px 2px rgba(60, 64, 67, 0.3), 0px 1px 3px 1px rgba(60, 64, 67, 0.15);\n",
              "      fill: #174EA6;\n",
              "    }\n",
              "\n",
              "    [theme=dark] .colab-df-convert {\n",
              "      background-color: #3B4455;\n",
              "      fill: #D2E3FC;\n",
              "    }\n",
              "\n",
              "    [theme=dark] .colab-df-convert:hover {\n",
              "      background-color: #434B5C;\n",
              "      box-shadow: 0px 1px 3px 1px rgba(0, 0, 0, 0.15);\n",
              "      filter: drop-shadow(0px 1px 2px rgba(0, 0, 0, 0.3));\n",
              "      fill: #FFFFFF;\n",
              "    }\n",
              "  </style>\n",
              "\n",
              "      <script>\n",
              "        const buttonEl =\n",
              "          document.querySelector('#df-cda74ab5-0f31-479e-b345-6544672f9e6b button.colab-df-convert');\n",
              "        buttonEl.style.display =\n",
              "          google.colab.kernel.accessAllowed ? 'block' : 'none';\n",
              "\n",
              "        async function convertToInteractive(key) {\n",
              "          const element = document.querySelector('#df-cda74ab5-0f31-479e-b345-6544672f9e6b');\n",
              "          const dataTable =\n",
              "            await google.colab.kernel.invokeFunction('convertToInteractive',\n",
              "                                                     [key], {});\n",
              "          if (!dataTable) return;\n",
              "\n",
              "          const docLinkHtml = 'Like what you see? Visit the ' +\n",
              "            '<a target=\"_blank\" href=https://colab.research.google.com/notebooks/data_table.ipynb>data table notebook</a>'\n",
              "            + ' to learn more about interactive tables.';\n",
              "          element.innerHTML = '';\n",
              "          dataTable['output_type'] = 'display_data';\n",
              "          await google.colab.output.renderOutput(dataTable, element);\n",
              "          const docLink = document.createElement('div');\n",
              "          docLink.innerHTML = docLinkHtml;\n",
              "          element.appendChild(docLink);\n",
              "        }\n",
              "      </script>\n",
              "    </div>\n",
              "  </div>\n",
              "  "
            ]
          },
          "metadata": {},
          "execution_count": 194
        }
      ]
    },
    {
      "cell_type": "code",
      "source": [
        "print( all_df.info() ) #데이터 컬럼별 건수, type등 표시\n",
        "#print( all_df.head() ) #데이터 앞쪽 5개 row 데이터 표시\n",
        "#print( all_df.describe() ) #데이터 count, mean, std, min, 25%,50%,75%, max 값 표시\n",
        "#print( all_df[\"DX_bl\"].value_counts() )\n",
        "print( all_df.value_counts() )\n",
        "#print( all_df[\"ADAS13\"].describe() ) #ADAS13 데이터 count, mean, std, min, 25%,50%,75%, max 값 표시"
      ],
      "metadata": {
        "colab": {
          "base_uri": "https://localhost:8080/"
        },
        "id": "KaIFaVzkPIHw",
        "outputId": "2b6f3226-89dd-4ffb-e0f5-5a3bca5fe561"
      },
      "execution_count": 5,
      "outputs": [
        {
          "output_type": "stream",
          "name": "stdout",
          "text": [
            "<class 'pandas.core.frame.DataFrame'>\n",
            "RangeIndex: 1607 entries, 0 to 1606\n",
            "Columns: 144 entries, DX_bl to ST99TA\n",
            "dtypes: float64(76), int64(68)\n",
            "memory usage: 1.8 MB\n",
            "None\n",
            "DX_bl  ADAS11  ADAS13  MMSE  ST102CV  ST103CV  ST104CV  ST105CV  ST106CV  ST107CV  ST108CV  ST109CV  ST110CV  ST111CV  ST113CV  ST114CV  ST115CV  ST116CV  ST117CV  ST118CV  ST119CV  ST121CV  ST123CV  ST129CV  ST130CV  ST13CV  ST14CV  ST15CV  ST23CV  ST24CV  ST25CV  ST26CV  ST31CV  ST32CV  ST34CV  ST35CV  ST36CV  ST38CV  ST39CV  ST40CV  ST43CV  ST44CV  ST45CV  ST46CV  ST47CV  ST48CV  ST49CV  ST50CV  ST51CV  ST52CV  ST54CV  ST55CV  ST56CV  ST57CV  ST58CV  ST59CV  ST60CV  ST62CV  ST64CV  ST72CV  ST73CV  ST74CV  ST82CV  ST83CV  ST84CV  ST85CV  ST90CV  ST91CV  ST93CV  ST94CV  ST95CV  ST97CV  ST98CV  ST99CV  ST102TA  ST103TA  ST104TA  ST105TA  ST106TA  ST107TA  ST108TA  ST109TA  ST110TA  ST111TA  ST113TA  ST114TA  ST115TA  ST116TA  ST117TA  ST118TA  ST119TA  ST121TA  ST123TA  ST129TA  ST130TA  ST13TA  ST14TA  ST15TA  ST23TA  ST24TA  ST25TA  ST26TA  ST31TA  ST32TA  ST34TA  ST35TA  ST36TA  ST38TA  ST39TA  ST40TA  ST43TA  ST44TA  ST45TA  ST46TA  ST47TA  ST48TA  ST49TA  ST50TA  ST51TA  ST52TA  ST54TA  ST55TA  ST56TA  ST57TA  ST58TA  ST59TA  ST60TA  ST62TA  ST64TA  ST72TA  ST73TA  ST74TA  ST82TA  ST83TA  ST84TA  ST85TA  ST90TA  ST91TA  ST93TA  ST94TA  ST95TA  ST97TA  ST98TA  ST99TA\n",
            "0      0.00    1.00    30    3422     1961     3596     2240     3269     2198     7510     3560     11134    8302     1564     11493    17937    10027    10146    10282    1890     874      6310.0   5808     6348     2515    1952    6096    2186    2067.0  584     9334    9197    8915    2291    8582    6303    6019    3413    8813    2788    1921.0  3794    1854    2775    1948    8029    3005    9572    8487    2078    11486   19014   9959    9268    9210    2258    1454    6418.0  2069    1935    5970    2109    1644    881     7109    14440   9099    1866    9473    5967    5148    4110    8987    2.349    2.587    2.699    2.932    2.603    1.587    1.985    2.698    2.577    2.324    2.945    2.442    2.818    2.275    2.951    2.591    3.617    2.758    1.192    2.984    3.046    2.329   3.251   2.576   1.848   3.406   2.686   2.954   2.390   2.842   2.968   2.130   2.668   1.877   2.276   2.771   2.134   2.349   2.622   2.837   2.698   1.689   1.967   2.657   2.261   2.104   2.911   2.422   2.753   2.214   2.540   2.559   3.448   2.352   1.230   2.616   3.067   2.629   1.638   3.565   2.556   2.570   2.448   2.697   3.004   2.080   2.561   1.854   2.467   2.947     1\n",
            "1      15.00   21.00   27    3607     1705     2704     2555     3256     1647     6579     3197     9272     7173     1793     11007    16263    9428     9143     8036     1862     657      6128.0   5728     5605     1638    1868    4031    2557    1000.0  354     8324    8581    6242    1825    8233    4919    5971    2446    6450    2563    1408.0  3361    1648    2525    1645    7692    2790    9872    6842    2123    11602   15854   11012   9743    8568    1543    1047    5153.0  1670    2557    4391    2707    1493    358     9766    9470    7428    1713    8696    5679    5593    2547    8253    2.022    2.172    2.272    2.397    2.117    1.378    1.642    2.151    1.993    1.970    2.447    2.073    2.403    1.823    2.399    2.122    3.235    2.143    1.160    2.882    2.934    2.068   2.611   2.282   1.678   2.595   2.092   2.393   2.110   2.263   2.240   1.999   2.093   1.909   1.745   2.189   1.994   1.968   2.432   2.385   2.089   1.467   1.796   2.285   2.074   2.080   2.882   2.081   2.410   1.921   2.467   2.349   3.035   2.309   0.941   1.918   2.619   2.223   1.716   2.965   2.112   2.403   2.088   2.452   2.360   1.987   2.486   1.847   1.756   2.307     1\n",
            "       14.33   24.33   25    2503     1639     2887     2061     2903     1279     5909     1866     8167     6702     1053     11390    15017    8465     7601     6890     1481     754      5926.0   5413     6017     2296    1184    6288    1561    1175.0  463     5338    7765    7796    1594    7698    6450    5608    2722    9065    1952    1318.0  3252    1778    2320    1372    6821    2544    8564    5806    1870    8798    16102   6842    7731    7309    1946    920     5193.0  1617    1051    4681    1782    1793    669     5395    8137    7005    1747    6749    5063    5171    3224    9147    1.764    2.371    2.163    2.405    2.116    1.263    1.505    2.006    1.742    1.825    2.672    1.866    2.058    1.533    2.224    1.923    3.310    2.192    1.054    2.813    2.986    2.076   2.392   2.081   1.470   2.762   2.274   2.244   1.890   2.278   2.171   1.620   2.455   1.625   2.071   2.484   1.604   1.776   2.105   2.266   2.063   1.313   1.544   2.153   1.865   1.771   2.679   1.866   2.098   1.492   2.157   2.222   3.298   2.026   0.915   2.147   2.178   2.065   1.471   3.307   2.321   2.127   1.901   2.240   2.240   1.465   2.176   1.582   1.927   2.468     1\n",
            "               25.33   26    3578     2102     4903     2457     2976     2343     7209     4274     12917    8284     2234     15126    16796    9984     9619     9759     2055     683      6341.0   5845     5829     2369    1761    6279    2866    1475.0  803     9382    9536    11493   2825    12547   6097    7417    3899    7573    3439    2032.0  5413    1865    2838    1915    9030    2975    10436   8651    2145    12828   19287   10045   9730    8963    2727    1136    5330.0  1883    3141    4764    3264    1498    1050    10010   10952   10080   2302    13527   6919    7969    4107    10644   2.107    2.813    2.579    2.939    2.352    1.367    1.660    2.728    2.415    2.099    2.831    2.289    2.306    1.853    2.463    2.370    3.599    2.050    1.172    2.900    3.010    2.534   2.739   2.229   1.835   3.193   2.611   2.595   2.151   2.873   2.392   2.069   2.571   1.888   2.319   2.717   2.187   2.880   2.231   2.661   2.289   1.314   1.789   2.549   2.105   2.076   3.035   2.204   2.479   1.857   2.524   2.334   3.809   2.458   0.930   2.530   2.731   2.540   1.794   3.534   3.197   2.847   2.196   2.873   2.636   2.119   2.828   1.976   2.310   2.807     1\n",
            "               27.33   24    2914     1800     3572     2780     3393     1796     6808     3099     10323    8860     1710     9986     18102    9599     8717     8766     1661     741      6537.0   5352     5337     1808    1636    4651    1675    1753.0  649     6890    8388    7512    2088    7657    6001    4870    2931    6886    2432    1883.0  5127    2007    2615    1426    8442    3012    11367   7147    2805    10396   17122   9475    9184    8366    2280    745     5855.0  2185    2078    3930    2220    2064    934     6948    10657   9663    2442    8620    6288    5563    4512    10235   2.250    2.693    2.359    2.869    2.241    1.332    1.817    2.529    2.189    2.049    2.979    2.138    2.591    1.946    2.507    2.249    3.413    2.144    1.288    3.046    2.954    1.985   2.441   2.260   1.576   3.615   2.535   2.240   1.951   2.487   2.138   1.808   2.344   1.679   2.124   2.495   2.100   2.688   2.249   2.662   2.127   1.329   1.764   2.259   2.278   1.926   2.756   2.139   2.591   1.805   2.622   2.317   3.649   1.917   1.056   2.275   2.752   2.197   1.687   3.700   2.540   2.583   2.185   2.739   2.526   2.033   2.354   1.930   2.425   2.672     1\n",
            "                                                                                                                                                                                                                                                                                                                                                                                                                                                                                                                                                                                                                                                                                                                                                                                                                                                                                                                                                                                                                                                                                                                                                                                                                                        ..\n",
            "       6.00    10.00   27    2970     2038     2939     1790     2610     1948     7617     2710     9367     7112     2004     11844    17619    8891     8662     6985     1721     595      6040.0   5393     5096     2485    1588    3961    1568    1683.0  434     7448    9553    9773    1355    7691    6192    4479    3142    9613    2278    1774.0  3851    1447    2089    1366    7873    1999    11010   6871    2132    9641    19365   9563    9765    7328    1838    784     6019.0  1985    2306    3865    2393    1791    676     8095    10018   9269    1583    8000    4888    4264    2855    8416    1.849    2.577    2.006    2.506    2.045    1.467    1.660    2.241    1.823    1.737    2.802    1.927    2.149    1.639    2.216    1.916    3.631    1.572    0.956    2.814    2.661    2.093   2.612   1.984   1.462   3.357   2.463   2.398   2.005   2.569   2.038   1.616   2.231   1.588   2.028   2.504   1.715   2.452   2.046   2.603   1.947   1.317   1.680   1.991   1.976   1.826   2.803   2.034   2.170   1.632   2.423   2.057   3.676   1.588   0.964   2.167   2.744   1.952   1.636   3.404   2.345   2.389   1.868   2.621   1.855   1.730   2.189   1.535   1.933   2.569     1\n",
            "               12.00   26    2981     1832     2598     2178     3479     1735     7297     3235     12424    6281     1825     12412    19165    11040    8262     6498     2030     929      5895.0   5433     5391     1469    2036    4998    2958    1648.0  479     8907    8308    7553    1906    8816    5923    6734    3398    6003    3085    2237.0  3402    1862    2040    1517    7307    3112    13568   6322    2246    12872   18318   10270   8084    7634    2463    845     6694.0  1827    1682    6426    2446    1543    497     9395    10998   7714    1571    10064   5927    5767    3779    8653    1.946    2.344    2.341    2.402    2.091    1.289    1.827    2.387    2.299    1.970    2.600    2.169    2.517    1.966    2.474    2.363    3.665    2.348    0.892    2.886    2.817    1.998   2.966   2.188   1.687   3.306   2.633   2.483   1.975   2.340   2.623   1.904   2.493   1.914   2.426   2.136   2.060   2.521   2.385   2.209   2.006   1.363   1.699   2.467   2.377   2.115   2.975   2.059   2.530   1.892   2.259   2.190   3.607   2.021   1.038   2.035   2.128   2.188   1.718   2.920   2.350   2.804   2.165   2.641   2.357   2.010   2.578   1.834   2.387   2.475     1\n",
            "                       27    2528     1707     3202     1578     2253     1458     6866     2514     9690     7391     1580     10829    15624    7863     8495     7569     1709     620      6087.0   5919     6029     2195    1774    5429    1701    1355.0  667     6743    6684    6391    1591    7430    5147    4471    3440    8409    2349    1482.0  2842    1225    2151    1259    6260    2701    10297   6967    1832    9639    16429   8216    9241    8974    1446    860     5911.0  1845    1829    3681    2075    1858    401     7558    8579    8266    1830    7434    5912    3961    3816    8612    1.893    2.106    1.950    2.262    1.718    1.325    1.580    2.408    1.975    1.832    2.690    1.848    2.310    1.801    2.379    2.099    4.024    1.878    0.983    3.094    2.861    2.022   2.966   2.012   1.601   3.265   2.335   2.439   2.044   2.662   2.390   1.737   2.168   1.551   2.242   2.613   1.736   1.727   1.994   1.919   2.113   1.336   1.580   2.260   2.083   1.785   3.149   1.816   2.286   1.744   2.341   2.137   3.072   1.748   1.012   2.366   2.744   2.050   1.577   3.399   2.002   2.328   2.095   2.470   2.563   1.833   2.128   1.508   1.987   2.512     1\n",
            "                       30    3143     1824     4530     2381     2981     2147     8393     2627     11358    7171     1650     13090    18989    9273     10631    11617    2495     649      6788.0   5997     6139     2013    1186    6366    3402    1675.0  395     9686    10215   9075    1902    11706   6552    5454    3245    10264   2524    2731.0  4132    2132    2998    1692    8610    2626    10333   7677    1651    11882   21231   10403   11515   9137    2421    848     6244.0  2466    1575    5109    2568    1897    885     9499    9990    9909    2416    11054   6350    5216    4267    10907   2.013    2.432    2.436    2.652    2.402    1.460    1.884    2.223    2.298    2.008    3.053    2.291    2.523    2.100    2.659    2.352    3.544    1.945    0.823    2.960    3.007    2.378   2.474   2.452   1.747   3.293   2.461   2.520   2.184   2.860   2.187   2.001   2.445   1.759   2.294   2.897   2.136   2.830   2.451   2.441   2.338   1.525   2.018   2.444   2.076   2.247   2.786   2.183   2.652   2.121   2.751   2.563   3.622   1.954   1.008   2.450   2.572   2.281   1.800   3.700   2.563   2.307   2.226   2.677   2.378   1.892   2.449   1.747   2.314   2.906     1\n",
            "2      42.67   54.67   24    3874     1542     2908     1492     2557     1951     8406     2375     11498    8705     1478     12192    15874    14147    8224     9295     1752     753      5776.0   5238     4836     1811    1574    6552    2914    2011.0  423     6324    8286    8810    2552    10147   5603    5771    2928    8287    3023    2323.0  3295    1774    2437    1446    9819    2458    11547   8928    2028    10936   20225   11997   8873    7641    2255    1011    6618.0  1617    2049    4593    2666    1384    594     7207    9896    8370    1966    10554   5828    5337    3299    8198    2.140    2.241    2.261    2.196    2.043    1.580    2.034    2.246    2.333    2.477    2.674    1.983    2.525    2.504    2.375    2.229    3.119    2.115    0.834    2.576    2.487    2.000   2.694   2.344   1.986   3.044   2.203   2.305   2.136   2.462   2.295   1.889   2.263   1.792   2.070   2.439   2.195   2.644   2.151   2.414   2.051   1.409   1.889   2.560   2.137   2.394   2.855   2.074   2.625   2.339   2.350   1.927   3.123   2.212   0.918   2.272   2.438   2.299   1.883   2.939   2.245   2.326   2.261   2.408   2.487   2.048   2.136   1.885   1.821   2.483     1\n",
            "Length: 760, dtype: int64\n"
          ]
        }
      ]
    },
    {
      "cell_type": "markdown",
      "source": [
        "## 3) 각 컬럼별 분포도 확인"
      ],
      "metadata": {
        "id": "E9R_8wExyztw"
      }
    },
    {
      "cell_type": "code",
      "source": [
        "#all_df[\"DX_bl\"].hist(bins=50, figsize=(8,6)) # bins는 막대 구간 수량 (막대의 영역을 얼마나 채울지 결정됨), figsize는 가로,세로 크기 지정\n",
        "all_df.hist(bins=50, figsize=(20,15)) # 전체 feature 에 대해 histogram 표시 - bins값, figsize값은 교재 참고함\n",
        "plt.show() #일괄로 표시"
      ],
      "metadata": {
        "colab": {
          "base_uri": "https://localhost:8080/",
          "height": 879
        },
        "id": "lzcqz7RTMaFC",
        "outputId": "a2b6e78e-c38b-4411-d799-f089ef1cb470"
      },
      "execution_count": 6,
      "outputs": [
        {
          "output_type": "display_data",
          "data": {
            "text/plain": [
              "<Figure size 1440x1080 with 144 Axes>"
            ],
            "image/png": "[encoded data removed]"
          },
          "metadata": {
            "needs_background": "light"
          }
        }
      ]
    },
    {
      "cell_type": "markdown",
      "source": [
        "## 4) 데이터간 상관관계 분석"
      ],
      "metadata": {
        "id": "JVhbbhiMzAIT"
      }
    },
    {
      "cell_type": "code",
      "source": [
        "corr_matrix = all_df.corr() # 상관관계 계산\n",
        "#print(corr_matrix)\n",
        "print(\"-- DX_bl --\\n\", corr_matrix[\"DX_bl\"].sort_values(ascending=False)) # DX_bl 상관관계 찾아보기\n",
        "\n",
        "#  ST24TA 가 -0.465494 상관관계가 가장 큰것으로 보임 ('DX_bl', 'ADAS11', 'ADAS13', 'MMSE' 값 제외)\n",
        "\n",
        "print(\"-- ST24TA --\\n\", corr_matrix[\"ST24TA\"].sort_values(ascending=False)) # ST24TA 상관관계 찾아보기\n",
        "all_df.plot(kind=\"scatter\", x=\"DX_bl\", y=\"ST24TA\", alpha=0.1) # 흩어뿌리기"
      ],
      "metadata": {
        "colab": {
          "base_uri": "https://localhost:8080/",
          "height": 776
        },
        "id": "3prRUG_4LtFJ",
        "outputId": "e5016808-419a-44e8-a413-68932de6527f"
      },
      "execution_count": 16,
      "outputs": [
        {
          "output_type": "stream",
          "name": "stdout",
          "text": [
            "-- DX_bl --\n",
            " DX_bl      1.000000\n",
            "ADAS13     0.722164\n",
            "ADAS11     0.682012\n",
            "ST73CV     0.008397\n",
            "ST14TA    -0.027894\n",
            "             ...   \n",
            "ST123TA   -0.428103\n",
            "ST64TA    -0.429080\n",
            "ST83TA    -0.439323\n",
            "ST24TA    -0.465494\n",
            "MMSE      -0.723285\n",
            "Name: DX_bl, Length: 144, dtype: float64\n",
            "-- ST24TA --\n",
            " ST24TA    1.000000\n",
            "ST24CV    0.707430\n",
            "ST83TA    0.705330\n",
            "ST60TA    0.646598\n",
            "ST64TA    0.632547\n",
            "            ...   \n",
            "ST73CV    0.060309\n",
            "ST14TA    0.049367\n",
            "DX_bl    -0.465494\n",
            "ADAS11   -0.533028\n",
            "ADAS13   -0.561979\n",
            "Name: ST24TA, Length: 144, dtype: float64\n"
          ]
        },
        {
          "output_type": "execute_result",
          "data": {
            "text/plain": [
              "<matplotlib.axes._subplots.AxesSubplot at 0x7f1e8050b350>"
            ]
          },
          "metadata": {},
          "execution_count": 16
        },
        {
          "output_type": "display_data",
          "data": {
            "text/plain": [
              "<Figure size 432x288 with 1 Axes>"
            ],
            "image/png": "[encoded data removed]"
          },
          "metadata": {
            "needs_background": "light"
          }
        }
      ]
    },
    {
      "cell_type": "code",
      "source": [
        "print(all_df[\"ST24TA\"].describe()) #데이터 count, mean, std, min, 25%,50%,75%, max 값 표시\n",
        "print(\"'ST24TA' contain NaN values ?\",np.any(np.isnan(all_df[\"ST24TA\"]) ) ) # NaN값 있는지 확인\n",
        "print(all_df[\"ST24TA\"].hist()) #그래프 표시"
      ],
      "metadata": {
        "colab": {
          "base_uri": "https://localhost:8080/",
          "height": 467
        },
        "id": "RUiiI3CKhvdT",
        "outputId": "1623fffe-2541-4e1d-e459-c56f1238cc41"
      },
      "execution_count": 17,
      "outputs": [
        {
          "output_type": "stream",
          "name": "stdout",
          "text": [
            "count    1606.000000\n",
            "mean        3.160866\n",
            "std         0.524625\n",
            "min         1.465000\n",
            "25%         2.828000\n",
            "50%         3.250500\n",
            "75%         3.549000\n",
            "max         4.432000\n",
            "Name: ST24TA, dtype: float64\n",
            "'ST24TA' contain NaN values ? True\n",
            "AxesSubplot(0.125,0.125;0.775x0.755)\n"
          ]
        },
        {
          "output_type": "display_data",
          "data": {
            "text/plain": [
              "<Figure size 432x288 with 1 Axes>"
            ],
            "image/png": "[encoded data removed]"
          },
          "metadata": {
            "needs_background": "light"
          }
        }
      ]
    },
    {
      "cell_type": "markdown",
      "source": [
        "## 5) 데이터 전처리 : NaN -> 0 -> mean"
      ],
      "metadata": {
        "id": "rziAZ1g6zRMD"
      }
    },
    {
      "cell_type": "code",
      "source": [
        "#all_df.fillna(0,inplace=True) # NaN값을 0 으로 채움\n",
        "all_df0 = all_df.fillna(0).copy() # 0을 채운 후 복사하여 사용, 아래에서 mena값을 위해\n",
        "\n",
        "print(\"'all_df' contain NaN values ?\",np.any(np.isnan(all_df) ) ) # NaN값 있는지 확인\n",
        "print(\"'all_df0' contain NaN values ?\",np.any(np.isnan(all_df0) ) ) # NaN값 있는지 확인"
      ],
      "metadata": {
        "colab": {
          "base_uri": "https://localhost:8080/"
        },
        "id": "66EvYVpKSWZP",
        "outputId": "b2a29f05-d0cd-4640-c65b-067f3394ee6e"
      },
      "execution_count": 18,
      "outputs": [
        {
          "output_type": "stream",
          "name": "stdout",
          "text": [
            "'all_df' contain NaN values ? True\n",
            "'all_df0' contain NaN values ? False\n"
          ]
        }
      ]
    },
    {
      "cell_type": "code",
      "source": [
        "all_data = all_df.fillna( all_df0.mean() ).copy() # NaN값을 평균값으로 채움, 위에서 0을 채운값으로 평균값 계산\n",
        "\n",
        "print(\"'all_df' contain NaN values ?\",np.any(np.isnan(all_df) ) ) # NaN값 있는지 확인\n",
        "print(\"'all_data' contain NaN values ?\",np.any(np.isnan(all_data) ) ) # NaN값 있는지 확인"
      ],
      "metadata": {
        "colab": {
          "base_uri": "https://localhost:8080/"
        },
        "id": "ztv1GWsDV-6m",
        "outputId": "61713192-35a0-447f-b622-fd9ce719da1e"
      },
      "execution_count": 19,
      "outputs": [
        {
          "output_type": "stream",
          "name": "stdout",
          "text": [
            "'all_df' contain NaN values ? True\n",
            "'all_data' contain NaN values ? False\n"
          ]
        }
      ]
    },
    {
      "cell_type": "markdown",
      "source": [
        "## 6) train, valid 데이터 분리: 준비 작업 - 상관관계 분석결과 반영(컬럼추가)"
      ],
      "metadata": {
        "id": "HUdWfLqpzrVN"
      }
    },
    {
      "cell_type": "code",
      "source": [
        "# train, valid 데이터 분리를 위해 사전 작업 : StratifiedShuffleSplit() 활용\n",
        "\n",
        "# 먼저 all_data 를 나눌때 ST24TA 분포를 고려하기 위해 ST24TA_cut 범주 그룹값 추가\n",
        "all_data[\"ST24TA_cut\"] = pd.cut(all_data[\"ST24TA\"], bins=[0, 1, 2, 3, 4, 5, np.inf], labels=[0, 1, 2, 3, 4, 5] ) #구간별로 나눠서 범주값 매핑, np.inf는 무한대 의미\n",
        "all_data[\"ST24TA_cut\"].hist() #그래프 표시\n",
        "print(all_data[[\"ST24TA\",\"ST24TA_cut\"]]) # 맵핑된 정보 확인 ST24TA -> ST24TA_cut\n",
        "#print(all_data[all_data[\"ST24TA\"] > 3.0 ] ) # ST24TA값이 50보다 큰것들 표시\n",
        "print( all_data[\"ST24TA_cut\"].value_counts() / len(all_data) ) #  전체 데이터 내에 ST24TA_cut 분포 비율 확인"
      ],
      "metadata": {
        "colab": {
          "base_uri": "https://localhost:8080/",
          "height": 651
        },
        "id": "e51D6YSxkX2S",
        "outputId": "63ee7862-0518-4061-afd6-b67bb3e046cf"
      },
      "execution_count": 20,
      "outputs": [
        {
          "output_type": "stream",
          "name": "stdout",
          "text": [
            "      ST24TA ST24TA_cut\n",
            "0      3.482          3\n",
            "1      3.406          3\n",
            "2      3.192          3\n",
            "3      3.395          3\n",
            "4      3.702          3\n",
            "...      ...        ...\n",
            "1602   2.459          2\n",
            "1603   2.268          2\n",
            "1604   2.758          2\n",
            "1605   1.905          1\n",
            "1606   3.044          3\n",
            "\n",
            "[1607 rows x 2 columns]\n",
            "3    0.652147\n",
            "2    0.301805\n",
            "1    0.027380\n",
            "4    0.018668\n",
            "0    0.000000\n",
            "5    0.000000\n",
            "Name: ST24TA_cut, dtype: float64\n"
          ]
        },
        {
          "output_type": "display_data",
          "data": {
            "text/plain": [
              "<Figure size 432x288 with 1 Axes>"
            ],
            "image/png": "[encoded data removed]"
          },
          "metadata": {
            "needs_background": "light"
          }
        }
      ]
    },
    {
      "cell_type": "code",
      "source": [
        "all_data[\"ST24TA_cut\"]"
      ],
      "metadata": {
        "colab": {
          "base_uri": "https://localhost:8080/"
        },
        "id": "xVvokS7Sn57L",
        "outputId": "84759331-8438-46cf-876a-54ae54f15620"
      },
      "execution_count": 21,
      "outputs": [
        {
          "output_type": "execute_result",
          "data": {
            "text/plain": [
              "0       3\n",
              "1       3\n",
              "2       3\n",
              "3       3\n",
              "4       3\n",
              "       ..\n",
              "1602    2\n",
              "1603    2\n",
              "1604    2\n",
              "1605    1\n",
              "1606    3\n",
              "Name: ST24TA_cut, Length: 1607, dtype: category\n",
              "Categories (6, int64): [0 < 1 < 2 < 3 < 4 < 5]"
            ]
          },
          "metadata": {},
          "execution_count": 21
        }
      ]
    },
    {
      "cell_type": "markdown",
      "source": [
        "## 7) train, valid 데이터 분리 : StratifiedShuffleSplit 활용"
      ],
      "metadata": {
        "id": "QzxaumCEz4W0"
      }
    },
    {
      "cell_type": "code",
      "source": [
        "# StratifiedShuffleSplit 를 활용하여 데이터 나누기 (각 구간별, 범주별 데이터 나누기)\n",
        "split1 = StratifiedShuffleSplit(n_splits=1, test_size=0.2, random_state=42) # train/test 1개로 분할, test_size 비율지정, 재현가능성을 위해 난수 초기값 지정\n",
        "for train_index, valid_index in split1.split( all_data, all_data[\"ST24TA_cut\"] ): # all_data를 ST24TA_cut 고려하여 데이터 나누기\n",
        "\ttrain_data = all_data.iloc[train_index].copy() # train 데이터\n",
        "\tvalid_data = all_data.iloc[valid_index].copy() # valid 데이터\n",
        "\n",
        "print(\"-- train_data --\\n\", train_data[\"ST24TA_cut\"].value_counts() / len(train_data)) #train_valid_tmp 내에 ST24TA_cut 분포 비율 확인\n",
        "print(\"-- valid_data --\\n\", valid_data[\"ST24TA_cut\"].value_counts() / len(valid_data)) #test_data 내에 ST24TA_cut 분포 비율 확인\n",
        "#print(train_data.info()) #데이터 컬럼별 건수, type등 표시\n",
        "#print(train_data.head()) #데이터 앞쪽 5개 row 데이터 표시\n",
        "#print(train_data.describe()) #데이터 count, mean, std, min, 25%,50%,75%, max 값 표시\n"
      ],
      "metadata": {
        "colab": {
          "base_uri": "https://localhost:8080/"
        },
        "id": "hdNvngCYmstA",
        "outputId": "ea97515b-7810-4f70-abd9-c902863001d9"
      },
      "execution_count": 22,
      "outputs": [
        {
          "output_type": "stream",
          "name": "stdout",
          "text": [
            "-- train_data --\n",
            " 3    0.652140\n",
            "2    0.301946\n",
            "1    0.027237\n",
            "4    0.018677\n",
            "0    0.000000\n",
            "5    0.000000\n",
            "Name: ST24TA_cut, dtype: float64\n",
            "-- valid_data --\n",
            " 3    0.652174\n",
            "2    0.301242\n",
            "1    0.027950\n",
            "4    0.018634\n",
            "0    0.000000\n",
            "5    0.000000\n",
            "Name: ST24TA_cut, dtype: float64\n"
          ]
        }
      ]
    },
    {
      "cell_type": "code",
      "source": [
        "# 데이터 나누기 위해 추가된 ST24TA_cut 삭제\n",
        "for set_ in (train_data, valid_data):\n",
        "\tset_.drop(\"ST24TA_cut\", axis=1, inplace=True)"
      ],
      "metadata": {
        "id": "t3gWi34nqgMw"
      },
      "execution_count": 23,
      "outputs": []
    },
    {
      "cell_type": "code",
      "source": [
        "# 데이터 shape 확인\n",
        "print( \"train_data.shape=\",train_data.shape )\n",
        "print( \"valid_data.shape=\",valid_data.shape )"
      ],
      "metadata": {
        "colab": {
          "base_uri": "https://localhost:8080/"
        },
        "id": "N9H-ik05qt4H",
        "outputId": "2de63e50-e629-490e-e7f4-ab260c99a75b"
      },
      "execution_count": 24,
      "outputs": [
        {
          "output_type": "stream",
          "name": "stdout",
          "text": [
            "train_data.shape= (1285, 144)\n",
            "valid_data.shape= (322, 144)\n"
          ]
        }
      ]
    },
    {
      "cell_type": "code",
      "source": [
        "# 나의 과제그룹 : Task 1 (3-class Classification): Predict the diagnosis group of subjects\n",
        "\n",
        "X_train = train_data[[c for c in all_df.columns if c not in ['DX_bl', 'ADAS11', 'ADAS13', 'MMSE']]].copy()\n",
        "y_train = train_data['DX_bl'].copy()\n",
        "\n",
        "X_valid = valid_data[[c for c in all_df.columns if c not in ['DX_bl', 'ADAS11', 'ADAS13', 'MMSE']]].copy()\n",
        "y_valid = valid_data['DX_bl'].copy()\n",
        "\n",
        "#y1  = train_df['ADAS11']\n",
        "#y2  = train_df['ADAS13']\n",
        "#y3  = train_df['MMSE']\n"
      ],
      "metadata": {
        "id": "srgHlgsEYZt9"
      },
      "execution_count": 25,
      "outputs": []
    },
    {
      "cell_type": "code",
      "source": [
        "# 데이터 확인\n",
        "print( X_train.value_counts() ) # 값 별로 건수 표시\n",
        "#print( X_train ) # 전체 데이터 확인\n",
        "#print( X_train.describe() ) #데이터 count, mean, std, min, 25%,50%,75%, max 값 표시\n",
        "#X_train.to_numpy() # numpy 배열로 변환\n",
        "\n",
        "print( y_train.value_counts() ) # 값 별로 건수 표시\n",
        "#print( y_train ) # 전체 데이터 확인\n",
        "#print( y_train.describe() ) #데이터 count, mean, std, min, 25%,50%,75%, max 값 표시\n",
        "#y_train.to_numpy() # numpy 배열로 변환\n",
        "\n",
        "print( \"X_train.shape=\",X_train.shape )\n",
        "print( \"y_train.shape=\",y_train.shape )\n",
        "print( \"X_valid.shape=\",X_valid.shape )\n",
        "print( \"y_valid.shape=\",y_valid.shape )"
      ],
      "metadata": {
        "colab": {
          "base_uri": "https://localhost:8080/"
        },
        "id": "sxzietzBkGFr",
        "outputId": "2766d726-e43c-4037-ad94-9f4ebc909c00"
      },
      "execution_count": 26,
      "outputs": [
        {
          "output_type": "stream",
          "name": "stdout",
          "text": [
            "ST102CV  ST103CV  ST104CV  ST105CV  ST106CV  ST107CV  ST108CV  ST109CV  ST110CV  ST111CV  ST113CV  ST114CV  ST115CV  ST116CV  ST117CV  ST118CV  ST119CV  ST121CV  ST123CV      ST129CV  ST130CV  ST13CV  ST14CV  ST15CV  ST23CV  ST24CV  ST25CV  ST26CV  ST31CV  ST32CV  ST34CV  ST35CV  ST36CV  ST38CV  ST39CV  ST40CV  ST43CV  ST44CV  ST45CV  ST46CV  ST47CV  ST48CV  ST49CV  ST50CV  ST51CV  ST52CV  ST54CV  ST55CV  ST56CV  ST57CV  ST58CV  ST59CV  ST60CV  ST62CV  ST64CV       ST72CV  ST73CV  ST74CV  ST82CV  ST83CV  ST84CV  ST85CV  ST90CV  ST91CV  ST93CV  ST94CV  ST95CV  ST97CV  ST98CV  ST99CV  ST102TA  ST103TA  ST104TA  ST105TA  ST106TA  ST107TA  ST108TA  ST109TA  ST110TA  ST111TA  ST113TA  ST114TA  ST115TA  ST116TA  ST117TA  ST118TA  ST119TA  ST121TA  ST123TA   ST129TA  ST130TA  ST13TA  ST14TA  ST15TA  ST23TA  ST24TA  ST25TA  ST26TA  ST31TA  ST32TA  ST34TA  ST35TA  ST36TA  ST38TA  ST39TA  ST40TA  ST43TA  ST44TA  ST45TA  ST46TA  ST47TA  ST48TA  ST49TA  ST50TA  ST51TA  ST52TA  ST54TA  ST55TA  ST56TA  ST57TA  ST58TA  ST59TA  ST60TA  ST62TA  ST64TA    ST72TA  ST73TA  ST74TA  ST82TA  ST83TA  ST84TA  ST85TA  ST90TA  ST91TA  ST93TA  ST94TA  ST95TA  ST97TA  ST98TA  ST99TA\n",
            "1971     2069     2392     2480     2370     2181     6549     2688     9246     7191     1314     12467    17081    10375    9907     7261     1824     651      5639.000000  5431     5114     1307    1477    4454    2919    969.0   374     9399    10650   10511   2176    9185    6361    6039    2956    9800    2437    2279.0  3647    2180    2134    2082    7221    3046    9410    7846    1877    14988   17189   10363   8308    7600    2238    613     6494.000000  2013    1463    4749    3510    1362    450     8751    11679   9993    2779    10200   6090    6537    3844    10068   1.507    2.393    1.837    2.271    1.795    1.255    1.527    2.167    1.787    1.802    2.401    1.803    1.937    1.578    2.508    2.263    3.639    2.082    0.899000  2.879    2.609    1.847   2.349   2.049   1.646   2.913   2.431   2.197   2.103   2.555   2.314   1.815   2.451   1.530   1.963   2.347   1.736   2.552   2.078   2.054   1.705   1.252   1.501   2.157   1.697   1.820   3.067   1.812   2.150   1.668   2.200   2.081   3.742   1.372   0.991000  2.225   2.047   1.910   1.623   3.137   2.315   2.167   1.993   2.465   2.190   1.826   2.100   1.641   1.976   2.502     1\n",
            "3587     1924     3103     3156     3668     1593     9719     3245     13343    10402    2278     16172    21092    12954    10436    10023    1907     797      3052.639701  7161     7635     2546    1510    6021    3030    2020.0  787     8686    11820   11408   2608    11350   7527    7622    5811    11753   3728    2632.0  4491    2019    3590    2186    8736    2868    12771   10749   2358    16698   23001   15198   9673    10372   2468    988     3063.925327  1731    2208    6196    2760    1806    926     9992    17160   12137   2095    10977   6870    5696    5088    13250   2.271    2.623    2.463    3.069    2.377    1.434    2.012    2.441    2.452    2.327    2.908    2.222    2.706    2.128    2.616    2.445    3.921    2.208    0.494713  3.080    2.846    2.504   2.419   2.445   1.900   3.501   2.718   2.818   2.376   2.798   2.396   2.239   2.603   1.975   2.569   2.949   2.392   3.175   2.606   3.110   2.464   1.539   1.912   2.535   2.371   2.442   3.249   2.373   2.721   2.154   2.389   2.357   3.859   2.165   0.493721  2.330   2.393   2.229   1.804   3.144   2.252   2.695   2.483   2.867   2.136   2.204   2.626   1.927   2.564   2.935     1\n",
            "3648     1651     3206     2196     2351     1046     7209     2682     9360     6399     1342     10890    15591    12447    8674     6775     2069     848      5037.000000  4953     5283     1961    1532    4083    1822    1164.0  498     6595    8746    6371    1470    10102   5901    4386    3112    7485    3910    1375.0  3489    1622    2199    942     8600    2545    9979    6485    1989    8979    18427   12487   7938    7860    1727    1086    5286.000000  1318    2290    5763    2947    1311    646     6659    9325    7369    1295    8751    5261    4320    3779    8955    1.993    2.160    2.118    2.390    2.124    1.371    1.864    2.331    1.867    2.150    2.896    2.135    2.526    2.164    2.251    2.195    3.719    2.114    0.828000  2.644    2.854    1.935   2.895   2.209   1.835   2.719   2.375   2.476   2.196   2.557   2.062   2.155   2.267   1.741   2.106   2.449   1.999   1.695   2.175   2.350   1.857   1.329   1.829   2.394   2.010   2.146   2.965   2.029   2.503   2.298   2.185   2.084   3.039   1.793   0.857000  2.108   2.468   2.312   2.078   3.320   2.056   2.307   2.260   2.522   1.985   2.206   2.137   1.604   2.295   2.601     1\n",
            "3647     1943     3119     2494     3482     1982     8305     3175     11542    8306     1945     13497    21765    11687    10708    9186     1768     975      6526.000000  7707     7455     2259    2046    4295    3002    1927.0  805     9415    11365   8124    2248    10626   7222    6025    4563    9483    3302    2177.0  4215    2363    3352    2348    9782    2624    13729   8970    2568    12313   22993   9839    13521   9005    1981    1085    8024.000000  2417    1891    4661    3123    2356    839     8212    14918   8018    2107    10900   6077    6366    4512    10170   2.075    2.376    2.364    2.661    2.025    1.261    2.014    2.373    2.168    2.199    2.274    2.085    2.361    2.153    2.457    2.483    3.477    2.288    0.977000  2.920    2.847    2.361   2.992   2.284   1.801   3.475   2.588   2.391   2.263   2.588   2.494   1.956   2.370   1.638   2.177   2.588   2.041   2.633   2.301   2.673   2.013   1.362   2.115   2.430   2.342   2.391   2.539   2.100   2.532   2.171   2.593   2.361   3.715   2.396   1.085000  2.550   2.443   2.309   1.784   3.788   2.653   2.364   2.313   2.661   2.341   1.887   2.346   1.731   1.970   2.660     1\n",
            "3645     2219     3494     1889     2443     1773     9348     2706     12123    6814     1995     13346    18201    10258    11394    9123     2014     790      3052.639701  5815     6384     2537    1871    4692    2471    1805.0  770     9307    9561    9459    2165    9803    5558    4368    3848    10790   2645    2332.0  4235    1509    2786    1512    9127    2580    12386   6605    2426    14073   18956   11161   11098   9625    2229    1069    3063.925327  2359    1398    4853    2983    1261    965     7779    13605   10075   2126    10182   5475    5867    3944    12119   2.446    3.103    2.736    2.538    2.239    1.567    2.157    2.512    2.443    2.169    2.784    2.199    2.611    2.182    2.701    2.553    3.616    2.341    0.494713  2.864    2.910    2.236   3.121   2.463   1.948   3.370   2.626   2.588   2.241   2.606   2.418   2.182   2.405   1.781   2.170   2.721   2.349   2.932   2.680   2.435   2.327   1.576   2.090   2.518   2.591   1.992   3.032   2.261   2.703   2.173   2.677   2.462   3.677   2.415   0.493721  2.402   2.452   2.418   2.104   3.423   2.572   2.695   2.383   2.796   2.477   2.295   2.396   2.018   2.147   2.769     1\n",
            "                                                                                                                                                                                                                                                                                                                                                                                                                                                                                                                                                                                                                                                                                                                                                                                                                                                                                                                                                                                                                                                                                                                                                                                                                       ..\n",
            "3150     1662     2762     2231     3040     2035     7691     3202     11149    7222     1668     12534    18261    9408     9558     7174     2653     505      7210.000000  6285     6791     2353    1176    4079    1802    1380.0  486     6900    8937    12024   2287    9405    5913    5937    3910    8996    2692    1897.0  4243    2052    3229    1507    7051    2356    9279    8316    1554    11488   21134   10568   9271    8976    2528    825     7303.000000  1554    1827    4414    2450    2437    544     7839    11274   10646   2069    10851   6228    6688    3792    9806    2.145    2.552    2.216    2.203    2.072    1.437    1.757    2.124    2.004    1.902    2.606    1.980    2.338    1.848    2.513    2.189    4.394    1.790    1.134000  2.615    2.882    2.295   2.071   2.143   1.515   3.288   2.314   2.355   2.100   2.569   2.260   1.835   2.246   1.773   2.124   2.451   2.007   2.851   2.084   2.354   1.952   1.256   1.651   2.128   1.879   1.888   2.666   1.901   2.347   1.824   2.514   2.102   3.520   1.625   1.125000  2.010   2.316   2.173   1.629   3.686   2.121   2.465   2.076   2.533   2.096   1.993   2.220   1.838   2.019   2.531     1\n",
            "3149     1230     3776     1357     3244     1593     6552     3011     10269    6151     1254     10087    15365    9713     8055     7969     1539     785      4520.000000  5227     5550     1846    1419    4300    2375    1236.0  420     6641    8638    5625    1656    8181    4749    5023    2813    7154    3235    1473.0  2807    1462    2064    1440    7054    2921    10203   6735    2132    10334   16903   8760    8637    7981    2108    1020    4869.000000  1785    1330    4602    2295    1062    465     7164    9765    5832    1791    8788    4458    4096    2879    7259    2.062    1.925    2.262    1.901    2.058    1.320    1.635    2.703    2.245    2.021    2.591    2.023    2.399    1.809    2.193    2.172    2.778    1.782    0.883000  2.805    2.779    2.191   2.665   2.306   1.635   2.831   2.393   2.277   2.069   2.382   2.629   1.745   2.125   1.579   1.902   2.271   2.138   2.017   2.239   2.300   1.981   1.305   1.733   2.419   2.304   2.061   2.825   2.015   2.510   1.876   2.183   2.265   3.428   1.963   0.890000  2.045   2.414   2.384   1.602   2.898   2.123   2.209   2.091   2.227   2.562   1.768   2.023   1.659   1.868   2.329     1\n",
            "3146     2197     3182     2157     3104     1928     7717     3304     10957    7311     1189     10705    19564    11683    10227    8643     2005     719      7127.000000  5805     5885     2156    1868    4320    2659    2200.0  679     9023    12399   9873    1901    9104    6279    5861    2989    9224    3253    2227.0  3862    2150    3543    1298    8874    3350    10891   7764    2240    11827   17444   11824   10328   8530    2074    1066    7017.000000  1931    1787    4910    2326    1827    717     8501    13234   9136    2023    9725    5391    5754    3546    9747    1.989    2.869    2.393    2.395    2.208    1.356    1.784    2.312    2.041    2.062    2.773    2.234    2.493    1.895    2.643    2.336    3.741    2.289    1.260000  3.024    3.022    2.225   2.892   2.322   1.794   3.307   2.923   2.552   2.191   2.619   2.443   1.920   2.498   1.950   2.039   2.715   2.018   2.997   2.283   2.749   2.281   1.376   1.919   2.457   2.138   2.208   2.641   2.233   2.458   2.027   2.565   2.318   3.773   2.259   1.137000  2.239   2.510   2.403   1.697   3.469   2.715   2.486   2.173   2.881   2.516   2.115   2.497   1.821   2.189   2.741     1\n",
            "3145     1542     3011     2528     3341     2631     10455    3325     14698    9977     2301     15998    16881    11363    10259    12716    2316     947      3052.639701  7567     8558     2935    2298    5001    3308    1874.0  620     12151   12601   11383   2935    13453   6432    6793    5534    12884   3884    2087.0  3909    1994    3550    2300    10158   4029    12247   8147    2786    15974   19810   16239   11023   10903   1924    1076    3063.925327  2484    2968    5668    2966    1812    1310    8368    16492   10683   2587    14040   6498    6126    5721    11099   1.983    2.209    2.510    2.452    2.206    1.460    2.069    2.363    2.079    2.218    2.826    2.076    2.491    2.056    2.343    2.396    3.679    2.119    0.494713  2.904    2.963    2.477   3.001   2.464   1.868   3.381   2.576   2.659   2.413   2.621   2.382   2.231   2.406   1.834   2.491   2.779   2.119   2.448   2.370   2.512   2.221   1.413   1.855   2.388   2.308   2.175   2.670   2.247   2.551   2.129   2.442   2.393   3.031   2.217   0.493721  2.289   2.604   2.312   1.763   3.894   2.352   2.422   2.307   2.594   2.137   2.275   2.407   1.720   2.319   2.648     1\n",
            "6562     1589     3520     2570     4217     2414     8343     2678     13150    10327    1816     16627    20572    10538    10151    7314     2198     1058     6097.000000  6652     6883     2958    1898    6827    3036    2140.0  850     8136    8875    11461   2442    10377   8202    7523    5187    10059   4210    2133.0  4826    2160    2330    2488    9030    3733    14059   11500   2934    15896   22066   11684   11480   9419    1979    1267    6985.000000  1917    1816    6622    2555    1900    853     7610    12148   9327    2343    8475    7832    7417    5228    9190    2.298    1.958    2.508    2.630    2.198    1.424    1.658    2.243    2.096    1.979    2.853    2.241    2.640    1.706    2.394    2.115    3.985    2.378    1.003000  3.104    2.867    2.283   2.393   2.334   1.754   3.747   2.657   2.322   2.154   2.724   2.601   1.791   2.460   1.696   2.229   2.604   2.262   2.229   2.384   2.688   2.312   1.401   1.815   2.379   2.227   2.168   2.786   2.310   2.561   1.918   2.553   2.375   3.379   2.354   1.159000  2.191   2.475   2.262   1.585   3.894   2.647   2.153   2.010   2.482   2.529   1.531   2.492   1.799   2.300   2.545     1\n",
            "Length: 1285, dtype: int64\n",
            "1    653\n",
            "0    381\n",
            "2    251\n",
            "Name: DX_bl, dtype: int64\n",
            "X_train.shape= (1285, 140)\n",
            "y_train.shape= (1285,)\n",
            "X_valid.shape= (322, 140)\n",
            "y_valid.shape= (322,)\n"
          ]
        }
      ]
    },
    {
      "cell_type": "markdown",
      "source": [
        "## 8) train, valid 데이터 MinMax scale"
      ],
      "metadata": {
        "id": "Wpg98nIt0TMn"
      }
    },
    {
      "cell_type": "code",
      "source": [
        "# MinMax scale features into 0~1 (e.g., use MinMaxScaler)\n",
        "scaler1 = MinMaxScaler() # 객체 생성 : X_train 용\n",
        "scaler1.fit(X_train) # 피팅 : 스케일링에 사용할 최소,최대 값 계산하여 저장\n",
        "X_train_scaled = scaler1.transform(X_train) # 데이터 변환, 결과는 배열로 반환됨\n",
        "X_train = np.round(X_train_scaled,4) # 결과값들을 소수점 4째자리까지 반올림 (불필요값 제거)\n",
        "\n",
        "scaler2 = MinMaxScaler() # 객체 생성 : X_valid 용\n",
        "scaler2.fit(X_valid) # 피팅 : 스케일링에 사용할 최소,최대 값 계산하여 저장\n",
        "X_valid_scaled = scaler2.transform(X_valid) # 데이터 변환, 결과는 배열로 반환됨\n",
        "X_valid = np.round(X_valid_scaled,4) # 결과값들을 소수점 4째자리까지 반올림 (불필요값 제거)\n",
        "\n",
        "print(\"My Train data range :\", np.min(X_train) , \"~\", np.max(X_train) )\n",
        "print(\"My Valid data range :\", np.min(X_valid) , \"~\", np.max(X_valid) )"
      ],
      "metadata": {
        "colab": {
          "base_uri": "https://localhost:8080/"
        },
        "id": "x1nC7H66rPYf",
        "outputId": "d3524144-b881-4b4e-d9bb-90effca60467"
      },
      "execution_count": 27,
      "outputs": [
        {
          "output_type": "stream",
          "name": "stdout",
          "text": [
            "My Train data range : 0.0 ~ 1.0\n",
            "My Valid data range : 0.0 ~ 1.0\n"
          ]
        }
      ]
    },
    {
      "cell_type": "markdown",
      "source": [
        "## 9) 모델 비교 (AUC 기준)"
      ],
      "metadata": {
        "id": "kYk97yex0iDY"
      }
    },
    {
      "cell_type": "markdown",
      "source": [
        "### ① OneVsRestClassifier(GaussianNB()) 모델 "
      ],
      "metadata": {
        "id": "XzqOVWbt0qq4"
      }
    },
    {
      "cell_type": "code",
      "source": [
        "# ** 각 모델 비교 OneVsRestClassifier(GaussianNB()), DecisionTreeClassifier, RandomForestClassifier **\n",
        "\n",
        "# ① OneVsRestClassifier(GaussianNB()) 모델 \n",
        "#나이브 베이즈(naive bayes) 분류기는 선형 모델과 매우 유사함, LogisticRegression이나 LinearSVC 같은 선형 분류기 보다 훈련 속도가 빠르지만, 일반화 성능이 조금 뒤쳐짐\n",
        "#각 특성을 개별로 취급해 파라미터를 학습하고 그 특성에서 클래스별 통계를 단순하게 취합\n",
        "#GaussianNB : 연속적인 어떤 데이터에도 적용가능\n",
        "#BernoulliNB : 이진(binary) 데이터에 적용가능\n",
        "#MultinomialNB : 카운트 데이터(ex 문장에 나타난 단어의 횟수)에 적용가능\n",
        "\n",
        "ovr_clf = OneVsRestClassifier(GaussianNB()) # 모델 객체 생성\n",
        "ovr_clf.fit(X_train, y_train) # 모델 피팅 : X_train, y_train\n"
      ],
      "metadata": {
        "colab": {
          "base_uri": "https://localhost:8080/"
        },
        "id": "rqwQe0nGu4kP",
        "outputId": "a10f70f6-7e37-4ead-cd41-88858a5d8174"
      },
      "execution_count": 28,
      "outputs": [
        {
          "output_type": "execute_result",
          "data": {
            "text/plain": [
              "OneVsRestClassifier(estimator=GaussianNB())"
            ]
          },
          "metadata": {},
          "execution_count": 28
        }
      ]
    },
    {
      "cell_type": "code",
      "source": [
        "ovr_pred = ovr_clf.predict(X_valid) # X_valid 로 예측 label 생성\n",
        "ovr_prob = ovr_clf.predict_proba(X_valid) #X_valid 로 예측 확률값 생성 \n",
        "ovr_conf_mx =  confusion_matrix(y_valid, ovr_pred)\n",
        "print( \"OneVsRestClassifier(GaussianNB()) confusion_matrix\\n\", ovr_conf_mx )\n",
        "print( \"accuracy=\", accuracy_score(y_valid, ovr_pred) )# 정확도\n",
        "print('Precision:',precision_score(y_valid, ovr_pred, average = 'macro'))\n",
        "print('Recall:',recall_score(y_valid, ovr_pred, average = 'macro'))\n",
        "print('F1 score:',f1_score(y_valid, ovr_pred, average = 'macro'))\n",
        "print('AUC:',roc_auc_score(y_valid, ovr_prob, multi_class = 'ovr'))\n",
        "print(classification_report(y_valid, ovr_pred)) # 각 scores를 보기좋게 table 방식 표시\n",
        "\n",
        "plt.matshow(ovr_conf_mx, cmap=plt.cm.gray) # matplot의 matshow()함수를 이용해서 시각적으로 확인\n",
        "plt.show()"
      ],
      "metadata": {
        "colab": {
          "base_uri": "https://localhost:8080/",
          "height": 620
        },
        "id": "4_-msxjAwLqv",
        "outputId": "dd7984bb-a2f1-4db1-e684-820574be401d"
      },
      "execution_count": 34,
      "outputs": [
        {
          "output_type": "stream",
          "name": "stdout",
          "text": [
            "OneVsRestClassifier(GaussianNB()) confusion_matrix\n",
            " [[51 35 18]\n",
            " [46 53 62]\n",
            " [ 3 10 44]]\n",
            "accuracy= 0.45962732919254656\n",
            "Precision: 0.4685516787360105\n",
            "Recall: 0.5305023288432898\n",
            "F1 score: 0.46515141819009226\n",
            "AUC: 0.6935273974415251\n",
            "              precision    recall  f1-score   support\n",
            "\n",
            "           0       0.51      0.49      0.50       104\n",
            "           1       0.54      0.33      0.41       161\n",
            "           2       0.35      0.77      0.49        57\n",
            "\n",
            "    accuracy                           0.46       322\n",
            "   macro avg       0.47      0.53      0.47       322\n",
            "weighted avg       0.50      0.46      0.45       322\n",
            "\n"
          ]
        },
        {
          "output_type": "display_data",
          "data": {
            "text/plain": [
              "<Figure size 288x288 with 1 Axes>"
            ],
            "image/png": "[encoded data removed]"
          },
          "metadata": {
            "needs_background": "light"
          }
        }
      ]
    },
    {
      "cell_type": "code",
      "source": [
        "# 대각선의 그림중에서 약간 더 어둡게 보이는 부분이 예측을 못한다는 의미"
      ],
      "metadata": {
        "id": "u44JzpuYzgNu"
      },
      "execution_count": 24,
      "outputs": []
    },
    {
      "cell_type": "code",
      "source": [
        "# ROC 커브 그리기\n",
        "plt_roc_curve = ROCAUC(ovr_clf) #\n",
        "\n",
        "# Fitting to the training data first then scoring with the test data                                    \n",
        "plt_roc_curve.fit(X_train, y_train)\n",
        "plt_roc_curve.score(X_valid, y_valid)\n",
        "plt_roc_curve.show()\n",
        "\n",
        "print(\"AUC=\", plt_roc_curve.score_)"
      ],
      "metadata": {
        "colab": {
          "base_uri": "https://localhost:8080/",
          "height": 312
        },
        "id": "KkEt_mnsbOyA",
        "outputId": "4a2ef925-452e-4083-c04d-b77f75a7ecad"
      },
      "execution_count": 35,
      "outputs": [
        {
          "output_type": "display_data",
          "data": {
            "text/plain": [
              "<Figure size 432x288 with 1 Axes>"
            ],
            "image/png": "[encoded data removed]"
          },
          "metadata": {
            "needs_background": "light"
          }
        },
        {
          "output_type": "stream",
          "name": "stdout",
          "text": [
            "AUC= 0.6960101436478444\n"
          ]
        }
      ]
    },
    {
      "cell_type": "markdown",
      "source": [
        "### ② DecisionTreeClassifier 모델"
      ],
      "metadata": {
        "id": "NNy0Lyeb0ztI"
      }
    },
    {
      "cell_type": "code",
      "source": [
        "# ② DecisionTreeClassifier 모델\n",
        "tree_clf = DecisionTreeClassifier() # 객체 생성\n",
        "tree_clf.fit(X_train, y_train) # 모델 피팅 :X_train, y_train"
      ],
      "metadata": {
        "colab": {
          "base_uri": "https://localhost:8080/"
        },
        "id": "DIMbGTkh08I8",
        "outputId": "62869e6b-baec-4a40-a38a-17a9199d722f"
      },
      "execution_count": 36,
      "outputs": [
        {
          "output_type": "execute_result",
          "data": {
            "text/plain": [
              "DecisionTreeClassifier()"
            ]
          },
          "metadata": {},
          "execution_count": 36
        }
      ]
    },
    {
      "cell_type": "code",
      "source": [
        "tree_pred = tree_clf.predict(X_valid) # X_valid로 예측 label 생성\n",
        "tree_prob = tree_clf.predict_proba(X_valid) # X_valid 로 예측 확률값 생성\n",
        "tree_conf_mx =  confusion_matrix(y_valid, tree_pred)\n",
        "print( \"DecisionTreeClassifier confusion_matrix\\n\", tree_conf_mx )\n",
        "print( \"accuracy=\", accuracy_score(y_valid, tree_pred) )# 정확도\n",
        "print('Precision:',precision_score(y_valid, tree_pred, average = 'macro'))\n",
        "print('Recall:',recall_score(y_valid, tree_pred, average = 'macro'))\n",
        "print('F1 score:',f1_score(y_valid, tree_pred, average = 'macro'))\n",
        "print('AUC:',roc_auc_score(y_valid, tree_prob, multi_class = 'ovr'))\n",
        "print(classification_report(y_valid, tree_pred)) # 각 scores를 보기좋게 table 방식 표시\n",
        "\n",
        "plt.matshow(tree_conf_mx, cmap=plt.cm.gray) # matplot의 matshow()함수를 이용해서 시각적으로 확인\n",
        "plt.show()"
      ],
      "metadata": {
        "colab": {
          "base_uri": "https://localhost:8080/",
          "height": 620
        },
        "id": "Wo55Z_D40hA2",
        "outputId": "ff19bccb-11dc-4925-923b-0890ee5853fb"
      },
      "execution_count": 37,
      "outputs": [
        {
          "output_type": "stream",
          "name": "stdout",
          "text": [
            "DecisionTreeClassifier confusion_matrix\n",
            " [[50 44 10]\n",
            " [58 70 33]\n",
            " [ 4 33 20]]\n",
            "accuracy= 0.43478260869565216\n",
            "Precision: 0.41335978835978837\n",
            "Recall: 0.4221430108157797\n",
            "F1 score: 0.41694725028058355\n",
            "AUC: 0.5569167237023258\n",
            "              precision    recall  f1-score   support\n",
            "\n",
            "           0       0.45      0.48      0.46       104\n",
            "           1       0.48      0.43      0.45       161\n",
            "           2       0.32      0.35      0.33        57\n",
            "\n",
            "    accuracy                           0.43       322\n",
            "   macro avg       0.41      0.42      0.42       322\n",
            "weighted avg       0.44      0.43      0.44       322\n",
            "\n"
          ]
        },
        {
          "output_type": "display_data",
          "data": {
            "text/plain": [
              "<Figure size 288x288 with 1 Axes>"
            ],
            "image/png": "[encoded data removed]"
          },
          "metadata": {
            "needs_background": "light"
          }
        }
      ]
    },
    {
      "cell_type": "code",
      "source": [
        "# ROC 커브 그리기\n",
        "plt_roc_curve = ROCAUC(tree_clf) #\n",
        "\n",
        "# Fitting to the training data first then scoring with the test data                                    \n",
        "plt_roc_curve.fit(X_train, y_train)\n",
        "plt_roc_curve.score(X_valid, y_valid)\n",
        "plt_roc_curve.show()\n",
        "\n",
        "print(\"AUC=\", plt_roc_curve.score_)"
      ],
      "metadata": {
        "colab": {
          "base_uri": "https://localhost:8080/",
          "height": 312
        },
        "id": "xoxAn9ozbFu5",
        "outputId": "a193dd41-5e4a-4955-d259-48229b7f6753"
      },
      "execution_count": 38,
      "outputs": [
        {
          "output_type": "display_data",
          "data": {
            "text/plain": [
              "<Figure size 432x288 with 1 Axes>"
            ],
            "image/png": "[encoded data removed]"
          },
          "metadata": {
            "needs_background": "light"
          }
        },
        {
          "output_type": "stream",
          "name": "stdout",
          "text": [
            "AUC= 0.5569167237023258\n"
          ]
        }
      ]
    },
    {
      "cell_type": "markdown",
      "source": [
        "### ③ RandomForestClassifier 모델"
      ],
      "metadata": {
        "id": "TuDURFKB046R"
      }
    },
    {
      "cell_type": "code",
      "source": [
        "# ③ RandomForestClassifier 모델\n",
        "#forest_clf = RandomForestClassifier(max_depth = 3, random_state = 99) # 객체 생성\n",
        "forest_clf = RandomForestClassifier(random_state = 99) # 객체 생성\n",
        "forest_clf.fit(X_train, y_train) # 모델 피팅 : X_train, y_train"
      ],
      "metadata": {
        "colab": {
          "base_uri": "https://localhost:8080/"
        },
        "id": "tAozoFem2gJ0",
        "outputId": "ad009d92-2578-4bdd-c9f9-9ed326d4fec4"
      },
      "execution_count": 39,
      "outputs": [
        {
          "output_type": "execute_result",
          "data": {
            "text/plain": [
              "RandomForestClassifier(random_state=99)"
            ]
          },
          "metadata": {},
          "execution_count": 39
        }
      ]
    },
    {
      "cell_type": "code",
      "source": [
        "forest_pred = forest_clf.predict(X_valid) # X_valid로 예측 label 생성\n",
        "forest_prob = forest_clf.predict_proba(X_valid) # X_valid로 예측 확률값 생성\n",
        "forest_conf_mx =  confusion_matrix(y_valid, forest_pred)\n",
        "print( \"RandomForestClassifier confusion_matrix\\n\", forest_conf_mx )\n",
        "print( \"accuracy=\", accuracy_score(y_valid, forest_pred) )# 정확도\n",
        "print('Precision:',precision_score(y_valid, forest_pred, average = 'macro'))\n",
        "print('Recall:',recall_score(y_valid, forest_pred, average = 'macro'))\n",
        "print('F1 score:',f1_score(y_valid, forest_pred, average = 'macro'))\n",
        "print('AUC:',roc_auc_score(y_valid, forest_prob, multi_class = 'ovr'))\n",
        "print(classification_report(y_valid, forest_pred)) # 각 scores를 보기좋게 table 방식 표시\n",
        "\n",
        "plt.matshow(forest_conf_mx, cmap=plt.cm.gray) # matplot의 matshow()함수를 이용해서 시각적으로 확인\n",
        "plt.show()"
      ],
      "metadata": {
        "colab": {
          "base_uri": "https://localhost:8080/",
          "height": 620
        },
        "id": "JyktA4oF2pP1",
        "outputId": "b04b08bf-c832-4345-8bbf-4f76beec7eba"
      },
      "execution_count": 40,
      "outputs": [
        {
          "output_type": "stream",
          "name": "stdout",
          "text": [
            "RandomForestClassifier confusion_matrix\n",
            " [[ 36  66   2]\n",
            " [ 31 113  17]\n",
            " [  0  28  29]]\n",
            "accuracy= 0.5527950310559007\n",
            "Precision: 0.5624579397697502\n",
            "Recall: 0.5189297100052249\n",
            "F1 score: 0.5291880062475027\n",
            "AUC: 0.729807782453353\n",
            "              precision    recall  f1-score   support\n",
            "\n",
            "           0       0.54      0.35      0.42       104\n",
            "           1       0.55      0.70      0.61       161\n",
            "           2       0.60      0.51      0.55        57\n",
            "\n",
            "    accuracy                           0.55       322\n",
            "   macro avg       0.56      0.52      0.53       322\n",
            "weighted avg       0.55      0.55      0.54       322\n",
            "\n"
          ]
        },
        {
          "output_type": "display_data",
          "data": {
            "text/plain": [
              "<Figure size 288x288 with 1 Axes>"
            ],
            "image/png": "[encoded data removed]"
          },
          "metadata": {
            "needs_background": "light"
          }
        }
      ]
    },
    {
      "cell_type": "code",
      "source": [
        "# ROC 커브 그리기\n",
        "plt_roc_curve = ROCAUC(forest_clf) #\n",
        "\n",
        "# Fitting to the training data first then scoring with the test data                                    \n",
        "plt_roc_curve.fit(X_train, y_train)\n",
        "plt_roc_curve.score(X_valid, y_valid)\n",
        "plt_roc_curve.show()\n",
        "\n",
        "print(\"AUC=\", plt_roc_curve.score_)"
      ],
      "metadata": {
        "colab": {
          "base_uri": "https://localhost:8080/",
          "height": 312
        },
        "id": "erIdGlssQ4p1",
        "outputId": "53188bef-8268-4c09-8381-6afeafd197c4"
      },
      "execution_count": 41,
      "outputs": [
        {
          "output_type": "display_data",
          "data": {
            "text/plain": [
              "<Figure size 432x288 with 1 Axes>"
            ],
            "image/png": "[encoded data removed]"
          },
          "metadata": {
            "needs_background": "light"
          }
        },
        {
          "output_type": "stream",
          "name": "stdout",
          "text": [
            "AUC= 0.7299797766626548\n"
          ]
        }
      ]
    },
    {
      "cell_type": "markdown",
      "source": [
        "## 10) 모델 선택 및 튜닝 : GridSearchCV - RandomForestClassifier"
      ],
      "metadata": {
        "id": "HGbIEHB01MJT"
      }
    },
    {
      "cell_type": "code",
      "source": [
        "# 소견\n",
        "# 모델들의 AUC 값을 비교해보면 RandomForestClassifier 성능이 좋음,  RandomForestClassifier 모델을 선택하여 튜닝\n",
        "# True Positive 를 중요하게 생각하여 scoring는 Muticlass용 roc_auc_ovr (OneVsRest) 사용, AUC가 높으면 분류 모델 성능이 좋음"
      ],
      "metadata": {
        "id": "8VB1Z4foDAIw"
      },
      "execution_count": 42,
      "outputs": []
    },
    {
      "cell_type": "code",
      "source": [
        "#GridSearchCV 활용하여 RandomForestClassifier 모델의 하이퍼파라미터 조합을 탐색\n",
        "#param_grid = {\n",
        "#        'n_estimators': # 결정 트리의 수 (기본 10), 클수록 좋은 성능이 나올 수 있으나, 무조건은 아님\n",
        "#        'max_depth':  # 최대 깊이\n",
        "#        'min_samples_leaf': # 리프 노드가 되기 위한 최소한의 샘플 수\n",
        "#        'min_samples_split': # 노드를 분할하기 위한 최소 데이터 수\n",
        "#        'bootstrap': [False, True] # tree가 조금씩 다른 데이터셋으로 만들지\n",
        "#}\n",
        "param_grid = [\n",
        "        {'n_estimators': [3, 10, 50, 100, 200], 'max_features': [5,10,45,70,100,140]},  # n_estimators : (기본 10), 클수록 좋은 성능이 나올 수 있으나, 무조건은 아님, max_features : 최대 선택할 특성의 수량\n",
        "        {'bootstrap': [False], 'n_estimators': [3, 10, 50], 'max_features': [5,10,45]}, # bootstrap : tree가 조금씩 다른 데이터셋으로 만들지\n",
        "    ]\n",
        "#scorers = {\n",
        "#    'precision_score': make_scorer(precision_score),\n",
        "#    'recall_score': make_scorer(recall_score),\n",
        "#    'accuracy_score': make_scorer(accuracy_score),\n",
        "#    'roc_auc_score': make_scorer(roc_auc_score)\n",
        "#    'roc_auc_ovr': make_scorer(roc_auc_score, needs_proba=True, multi_class=ovr) -- (OneVsRest)\n",
        "#    'roc_auc_ovo': make_scorer(roc_auc_score, needs_proba=True, multi_class=ovo)...등\n",
        "#}\n",
        "g_forest_clf = RandomForestClassifier()\n",
        "grid_search = GridSearchCV(g_forest_clf, param_grid, cv=3, \n",
        "                           scoring=\"roc_auc_ovr\", # True Positive 를 중요하게 생각하여 scoring는 roc_auc_ovr 사용, AUC가 높으면 분류 모델 성능이 좋다고 할 수 있음\n",
        "                           return_train_score=True)\n",
        " \n",
        "grid_search.fit(X_train, y_train) # 모델 피팅 : train_data, train_label\n",
        "\n",
        "grid_search.best_params_ # 주어진 조건중에 최적의 파라미터 표시"
      ],
      "metadata": {
        "colab": {
          "base_uri": "https://localhost:8080/"
        },
        "id": "zgnzb8ezEW7i",
        "outputId": "123be16d-39d3-4574-8390-c3d442d910ab"
      },
      "execution_count": 46,
      "outputs": [
        {
          "output_type": "execute_result",
          "data": {
            "text/plain": [
              "{'max_features': 10, 'n_estimators': 100}"
            ]
          },
          "metadata": {},
          "execution_count": 46
        }
      ]
    },
    {
      "cell_type": "code",
      "source": [
        "# grid_search 평가 점수 목록\n",
        "cvres = grid_search.cv_results_\n",
        "#print(cvres)\n",
        "for mean_score, params in zip(cvres[\"mean_test_score\"], cvres[\"params\"]):\n",
        "  print(mean_score, params)\n",
        "\n",
        "#scores_df = pd.DataFrame(grid_search.cv_results_)\n",
        "#scores_df = scores_df[[\"params\", \"mean_test_score\", \"rank_test_score\", \"split0_test_score\", \"split1_test_score\", \"split2_test_score\"]]\n",
        "#print(scores_df)\n",
        "\n",
        "# 최고의 파라미터 저장해줌\n",
        "print(f\"최적의 파라미터: {grid_search.best_params_}\")\n",
        "print(f\"최고 roc_auc_ovr 점수: {grid_search.best_score_}\")"
      ],
      "metadata": {
        "colab": {
          "base_uri": "https://localhost:8080/"
        },
        "id": "6YAEiTqcIXKO",
        "outputId": "3ca808fe-84e2-43a3-8966-4aabafd29069"
      },
      "execution_count": 48,
      "outputs": [
        {
          "output_type": "stream",
          "name": "stdout",
          "text": [
            "0.6106537865605022 {'max_features': 5, 'n_estimators': 3}\n",
            "0.6672627293241725 {'max_features': 5, 'n_estimators': 10}\n",
            "0.6823132856263864 {'max_features': 5, 'n_estimators': 50}\n",
            "0.7079393086054534 {'max_features': 5, 'n_estimators': 100}\n",
            "0.7045371573658133 {'max_features': 5, 'n_estimators': 200}\n",
            "0.5942585928283548 {'max_features': 10, 'n_estimators': 3}\n",
            "0.645843598383638 {'max_features': 10, 'n_estimators': 10}\n",
            "0.6977246597670667 {'max_features': 10, 'n_estimators': 50}\n",
            "0.7123352874509562 {'max_features': 10, 'n_estimators': 100}\n",
            "0.7104201690384278 {'max_features': 10, 'n_estimators': 200}\n",
            "0.6027252869384169 {'max_features': 45, 'n_estimators': 3}\n",
            "0.669153224853487 {'max_features': 45, 'n_estimators': 10}\n",
            "0.6986125766500194 {'max_features': 45, 'n_estimators': 50}\n",
            "0.7114592986489171 {'max_features': 45, 'n_estimators': 100}\n",
            "0.7045077058016148 {'max_features': 45, 'n_estimators': 200}\n",
            "0.6032476369700179 {'max_features': 70, 'n_estimators': 3}\n",
            "0.6574226004050102 {'max_features': 70, 'n_estimators': 10}\n",
            "0.699883714872025 {'max_features': 70, 'n_estimators': 50}\n",
            "0.7035344855337482 {'max_features': 70, 'n_estimators': 100}\n",
            "0.7076300400415209 {'max_features': 70, 'n_estimators': 200}\n",
            "0.6061800128576164 {'max_features': 100, 'n_estimators': 3}\n",
            "0.6593434510982003 {'max_features': 100, 'n_estimators': 10}\n",
            "0.6885188530328067 {'max_features': 100, 'n_estimators': 50}\n",
            "0.7045637055158104 {'max_features': 100, 'n_estimators': 100}\n",
            "0.7062854280530396 {'max_features': 100, 'n_estimators': 200}\n",
            "0.6162095351684007 {'max_features': 140, 'n_estimators': 3}\n",
            "0.6605959862933118 {'max_features': 140, 'n_estimators': 10}\n",
            "0.6968162597514928 {'max_features': 140, 'n_estimators': 50}\n",
            "0.7026504627803455 {'max_features': 140, 'n_estimators': 100}\n",
            "0.7060872609070703 {'max_features': 140, 'n_estimators': 200}\n",
            "0.6073479408010002 {'bootstrap': False, 'max_features': 5, 'n_estimators': 3}\n",
            "0.6701393208026961 {'bootstrap': False, 'max_features': 5, 'n_estimators': 10}\n",
            "0.6944550231042615 {'bootstrap': False, 'max_features': 5, 'n_estimators': 50}\n",
            "0.6197280927889366 {'bootstrap': False, 'max_features': 10, 'n_estimators': 3}\n",
            "0.6584620618018598 {'bootstrap': False, 'max_features': 10, 'n_estimators': 10}\n",
            "0.6994941318983816 {'bootstrap': False, 'max_features': 10, 'n_estimators': 50}\n",
            "0.614506724189363 {'bootstrap': False, 'max_features': 45, 'n_estimators': 3}\n",
            "0.6592405674654044 {'bootstrap': False, 'max_features': 45, 'n_estimators': 10}\n",
            "0.6756257308763668 {'bootstrap': False, 'max_features': 45, 'n_estimators': 50}\n",
            "최적의 파라미터: {'max_features': 10, 'n_estimators': 100}\n",
            "최고 roc_auc_ovr 점수: 0.7123352874509562\n"
          ]
        }
      ]
    },
    {
      "cell_type": "markdown",
      "source": [
        "### GridSearchCV 결과 분석"
      ],
      "metadata": {
        "id": "ZCkuDz9V1csM"
      }
    },
    {
      "cell_type": "code",
      "source": [
        "# bootstrap False 의 성능이 떨어짐\n",
        "# n_estimators=100 은 주어진 탐색 범위의 최댓값(점수가 향상될 수 있음) -> 더 큰값이 성능이 좋을 수 있으며, 검색해볼 필요 있음\n",
        "# 다만, default 값으로 사용했을때가 AUC 가장 높았기 때문에 본 과제에서는 default값으로 사용하기로 결정\n",
        "#  * (기본값 0.729807782453353  >  GridSearchCV 0.7123352874509562)"
      ],
      "metadata": {
        "id": "KRFgpbKzIkKe"
      },
      "execution_count": 43,
      "outputs": []
    },
    {
      "cell_type": "markdown",
      "source": [
        "## 11) 모델 저장 및 PC 다운로드"
      ],
      "metadata": {
        "id": "lEqXaWYR1gsd"
      }
    },
    {
      "cell_type": "code",
      "source": [
        "# 가장 AUC값이 높은 모델 저장 : RandomForestClassifier\n",
        "joblib.dump(forest_clf, 'clf_2020511021.pkl', compress=1)\n",
        "\n",
        "# PC로 다운로드 받기\n",
        "files.download('clf_2020511021.pkl')\n"
      ],
      "metadata": {
        "id": "3JHoGnBf7WYj",
        "colab": {
          "base_uri": "https://localhost:8080/",
          "height": 17
        },
        "outputId": "a059efd8-9c1c-4641-8d73-22b2045cc002"
      },
      "execution_count": 44,
      "outputs": [
        {
          "output_type": "display_data",
          "data": {
            "text/plain": [
              "<IPython.core.display.Javascript object>"
            ],
            "application/javascript": [
              "\n",
              "    async function download(id, filename, size) {\n",
              "      if (!google.colab.kernel.accessAllowed) {\n",
              "        return;\n",
              "      }\n",
              "      const div = document.createElement('div');\n",
              "      const label = document.createElement('label');\n",
              "      label.textContent = `Downloading \"${filename}\": `;\n",
              "      div.appendChild(label);\n",
              "      const progress = document.createElement('progress');\n",
              "      progress.max = size;\n",
              "      div.appendChild(progress);\n",
              "      document.body.appendChild(div);\n",
              "\n",
              "      const buffers = [];\n",
              "      let downloaded = 0;\n",
              "\n",
              "      const channel = await google.colab.kernel.comms.open(id);\n",
              "      // Send a message to notify the kernel that we're ready.\n",
              "      channel.send({})\n",
              "\n",
              "      for await (const message of channel.messages) {\n",
              "        // Send a message to notify the kernel that we're ready.\n",
              "        channel.send({})\n",
              "        if (message.buffers) {\n",
              "          for (const buffer of message.buffers) {\n",
              "            buffers.push(buffer);\n",
              "            downloaded += buffer.byteLength;\n",
              "            progress.value = downloaded;\n",
              "          }\n",
              "        }\n",
              "      }\n",
              "      const blob = new Blob(buffers, {type: 'application/binary'});\n",
              "      const a = document.createElement('a');\n",
              "      a.href = window.URL.createObjectURL(blob);\n",
              "      a.download = filename;\n",
              "      div.appendChild(a);\n",
              "      a.click();\n",
              "      div.remove();\n",
              "    }\n",
              "  "
            ]
          },
          "metadata": {}
        },
        {
          "output_type": "display_data",
          "data": {
            "text/plain": [
              "<IPython.core.display.Javascript object>"
            ],
            "application/javascript": [
              "download(\"download_ff68a6e4-1f20-4eed-b4b7-63eeadb2d380\", \"clf_2020511021.pkl\", 774055)"
            ]
          },
          "metadata": {}
        }
      ]
    },
    {
      "cell_type": "markdown",
      "source": [
        "### 기타1) 저장한 모델 다시 로딩 후 체크"
      ],
      "metadata": {
        "id": "3wku2vEz1o1k"
      }
    },
    {
      "cell_type": "code",
      "source": [
        "######### 파일 로딩 후 튜닝 없이 모델 확인 해보기 #######################################"
      ],
      "metadata": {
        "id": "0zPTRgPqn109"
      },
      "execution_count": 125,
      "outputs": []
    },
    {
      "cell_type": "code",
      "source": [
        "# 나의 과제그룹 : Task 1 (3-class Classification): Predict the diagnosis group of subjects\n",
        "from google.colab import files\n",
        "import joblib\n",
        "\n",
        "import pandas as pd\n",
        "import numpy as np\n",
        "np.random.seed(20220513)\n",
        "\n",
        "# 선정된 모델library import\n",
        "from sklearn.ensemble import RandomForestClassifier\n",
        "\n",
        "from sklearn.preprocessing import MinMaxScaler #sklearn에서 제공하는 Feature Scaling Library\n",
        "\n",
        "model_files = files.upload() # You can upload multiple files at once. If there are any problems uploading, try uploading to Colab directly using the file explorer in the sidebar.\n",
        "\n",
        "# 나의 과제그룹 : Task 1 (3-class Classification): Predict the diagnosis group of subjects\n",
        "my_clf = joblib.load(\"clf_2020511021.pkl\") # 사전에 피팅한 모델 로딩\n",
        "#reg1 = joblib.load(\"reg1.pkl\")\n",
        "#reg2 = joblib.load(\"reg2.pkl\")\n",
        "#reg3 = joblib.load(\"reg3.pkl\")\n",
        "\n"
      ],
      "metadata": {
        "colab": {
          "resources": {
            "http://localhost:8080/nbextensions/google.colab/files.js": {
              "data": "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",
              "ok": true,
              "headers": [
                [
                  "content-type",
                  "application/javascript"
                ]
              ],
              "status": 200,
              "status_text": ""
            }
          },
          "base_uri": "https://localhost:8080/",
          "height": 77
        },
        "id": "Fm78dpMXmPkH",
        "outputId": "f1d6f6fa-33ab-4d42-f7ae-dffa89f1dad9"
      },
      "execution_count": 45,
      "outputs": [
        {
          "output_type": "display_data",
          "data": {
            "text/plain": [
              "<IPython.core.display.HTML object>"
            ],
            "text/html": [
              "\n",
              "     <input type=\"file\" id=\"files-3a7b30ae-9a13-4e5a-84eb-48510137d526\" name=\"files[]\" multiple disabled\n",
              "        style=\"border:none\" />\n",
              "     <output id=\"result-3a7b30ae-9a13-4e5a-84eb-48510137d526\">\n",
              "      Upload widget is only available when the cell has been executed in the\n",
              "      current browser session. Please rerun this cell to enable.\n",
              "      </output>\n",
              "      <script src=\"/nbextensions/google.colab/files.js\"></script> "
            ]
          },
          "metadata": {}
        },
        {
          "output_type": "stream",
          "name": "stdout",
          "text": [
            "Saving clf_2020511021.pkl to clf_2020511021 (1).pkl\n"
          ]
        }
      ]
    },
    {
      "cell_type": "code",
      "source": [
        "my_pred = my_clf.predict(X_valid) # 예측 label 생성\n",
        "my_prob = my_clf.predict_proba(X_valid) # 예측 확률값 생성\n",
        "my_conf_mx =  confusion_matrix(y_valid, my_pred)\n",
        "\n",
        "print( \"y_valid.shape=\",y_valid.shape )\n",
        "print( \"my_prob.shape=\",my_prob.shape )\n",
        "\n",
        "print( \"RandomForestClassifier confusion_matrix\\n\", my_conf_mx )\n",
        "print( \"accuracy=\", accuracy_score(y_valid, my_pred) )# 정확도\n",
        "print('Precision:',precision_score(y_valid, my_pred, average = 'macro'))\n",
        "print('Recall:',recall_score(y_valid, my_pred, average = 'macro'))\n",
        "print('F1 score:',f1_score(y_valid, my_pred, average = 'macro'))\n",
        "print('AUC:',roc_auc_score(y_valid, my_prob, multi_class = 'ovr'))\n",
        "print(classification_report(y_valid, my_pred)) # 각 scores를 보기좋게 table 방식 표시\n",
        "\n",
        "plt.matshow(my_conf_mx, cmap=plt.cm.gray) # matplot의 matshow()함수를 이용해서 시각적으로 확인\n",
        "plt.show()"
      ],
      "metadata": {
        "colab": {
          "base_uri": "https://localhost:8080/",
          "height": 657
        },
        "id": "SkiuuU2qmpKW",
        "outputId": "626fd324-eaff-4116-8be0-410966f13bcc"
      },
      "execution_count": 46,
      "outputs": [
        {
          "output_type": "stream",
          "name": "stdout",
          "text": [
            "y_valid.shape= (322,)\n",
            "my_prob.shape= (322, 3)\n",
            "RandomForestClassifier confusion_matrix\n",
            " [[ 36  66   2]\n",
            " [ 31 113  17]\n",
            " [  0  28  29]]\n",
            "accuracy= 0.5527950310559007\n",
            "Precision: 0.5624579397697502\n",
            "Recall: 0.5189297100052249\n",
            "F1 score: 0.5291880062475027\n",
            "AUC: 0.729807782453353\n",
            "              precision    recall  f1-score   support\n",
            "\n",
            "           0       0.54      0.35      0.42       104\n",
            "           1       0.55      0.70      0.61       161\n",
            "           2       0.60      0.51      0.55        57\n",
            "\n",
            "    accuracy                           0.55       322\n",
            "   macro avg       0.56      0.52      0.53       322\n",
            "weighted avg       0.55      0.55      0.54       322\n",
            "\n"
          ]
        },
        {
          "output_type": "display_data",
          "data": {
            "text/plain": [
              "<Figure size 288x288 with 1 Axes>"
            ],
            "image/png": "[encoded data removed]"
          },
          "metadata": {
            "needs_background": "light"
          }
        }
      ]
    },
    {
      "cell_type": "markdown",
      "source": [
        "### 기타2) 테스트 데이터 체크 : 정확도 의미없으나 생성 확인용"
      ],
      "metadata": {
        "id": "KPDBYqY116Pk"
      }
    },
    {
      "cell_type": "code",
      "source": [
        "########## 정확도는 의미 없음 : 제대로 만들어졌는지 확인용 ###############################"
      ],
      "metadata": {
        "id": "NZsVTgZEnxi1"
      },
      "execution_count": null,
      "outputs": []
    },
    {
      "cell_type": "code",
      "source": [
        "test_files = files.upload() # 테스트 파일 업로드\n",
        "\n",
        "test_data_1 = pd.read_csv('dummy_test_data_1_2020511021.csv') # test_data_1 로딩\n",
        "test_data_2 = pd.read_csv('dummy_test_data_2_2020511021.csv') # test_data_1 로딩\n",
        "test_data_3 = pd.read_csv('dummy_test_data_3_2020511021.csv') # test_data_1 로딩\n",
        "\n",
        "# 데이터 확인\n",
        "print( \"test_data_1.shape=\",test_data_1.shape )\n",
        "print( \"test_data_2.shape=\",test_data_2.shape )\n",
        "print( \"test_data_3.shape=\",test_data_3.shape )"
      ],
      "metadata": {
        "colab": {
          "resources": {
            "http://localhost:8080/nbextensions/google.colab/files.js": {
              "data": "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",
              "ok": true,
              "headers": [
                [
                  "content-type",
                  "application/javascript"
                ]
              ],
              "status": 200,
              "status_text": ""
            }
          },
          "base_uri": "https://localhost:8080/",
          "height": 203
        },
        "id": "41xCtEnKoC9M",
        "outputId": "f99963b1-bf13-474c-9f52-5cd3eba36524"
      },
      "execution_count": 48,
      "outputs": [
        {
          "output_type": "display_data",
          "data": {
            "text/plain": [
              "<IPython.core.display.HTML object>"
            ],
            "text/html": [
              "\n",
              "     <input type=\"file\" id=\"files-b8bfaa12-bd12-47aa-b6bb-0c9110f917f3\" name=\"files[]\" multiple disabled\n",
              "        style=\"border:none\" />\n",
              "     <output id=\"result-b8bfaa12-bd12-47aa-b6bb-0c9110f917f3\">\n",
              "      Upload widget is only available when the cell has been executed in the\n",
              "      current browser session. Please rerun this cell to enable.\n",
              "      </output>\n",
              "      <script src=\"/nbextensions/google.colab/files.js\"></script> "
            ]
          },
          "metadata": {}
        },
        {
          "output_type": "stream",
          "name": "stdout",
          "text": [
            "Saving dummy_test_data_1_2020511021.csv to dummy_test_data_1_2020511021.csv\n",
            "Saving dummy_test_data_2_2020511021.csv to dummy_test_data_2_2020511021.csv\n",
            "Saving dummy_test_data_3_2020511021.csv to dummy_test_data_3_2020511021.csv\n",
            "test_data_1.shape= (10, 147)\n",
            "test_data_2.shape= (50, 147)\n",
            "test_data_3.shape= (100, 147)\n"
          ]
        }
      ]
    },
    {
      "cell_type": "code",
      "source": [
        "# 데이터 전처리 ① : NaN --> 0 --> mean값으로 채움\n",
        "X_test1_0 = test_data_1.fillna(0).copy() # 0을 채운 후 복사하여 사용, 아래에서 mena값을 위해\n",
        "print(\"'test_data_1' contain NaN values ?\",np.any(np.isnan(test_data_1) ) ) # NaN값 있는지 확인\n",
        "print(\"'X_test1_0' contain NaN values ?\",np.any(np.isnan(X_test1_0) ) ) # NaN값 있는지 확인\n",
        "X_test1_m = test_data_1.fillna( X_test1_0.mean() ).copy() # NaN값을 평균값으로 채움, 위에서 0을 채운값으로 평균값 계산\n",
        "print(\"'test_data_1' contain NaN values ?\",np.any(np.isnan(test_data_1) ) ) # NaN값 있는지 확인\n",
        "print(\"'X_test1_m' contain NaN values ?\",np.any(np.isnan(X_test1_m) ) ) # NaN값 있는지 확인\n",
        "\n",
        "X_test2_0 = test_data_2.fillna(0).copy() # 0을 채운 후 복사하여 사용, 아래에서 mena값을 위해\n",
        "print(\"'test_data_2' contain NaN values ?\",np.any(np.isnan(test_data_2) ) ) # NaN값 있는지 확인\n",
        "print(\"'X_test2_0' contain NaN values ?\",np.any(np.isnan(X_test2_0) ) ) # NaN값 있는지 확인\n",
        "X_test2_m = test_data_2.fillna( X_test1_0.mean() ).copy() # NaN값을 평균값으로 채움, 위에서 0을 채운값으로 평균값 계산\n",
        "print(\"'test_data_2' contain NaN values ?\",np.any(np.isnan(test_data_2) ) ) # NaN값 있는지 확인\n",
        "print(\"'X_test2_m' contain NaN values ?\",np.any(np.isnan(X_test2_m) ) ) # NaN값 있는지 확인\n",
        "\n",
        "X_test3_0 = test_data_3.fillna(0).copy() # 0을 채운 후 복사하여 사용, 아래에서 mena값을 위해\n",
        "print(\"'test_data_3' contain NaN values ?\",np.any(np.isnan(test_data_3) ) ) # NaN값 있는지 확인\n",
        "print(\"'X_test3_0' contain NaN values ?\",np.any(np.isnan(X_test3_0) ) ) # NaN값 있는지 확인\n",
        "X_test3_m = test_data_3.fillna( X_test1_0.mean() ).copy() # NaN값을 평균값으로 채움, 위에서 0을 채운값으로 평균값 계산\n",
        "print(\"'test_data_3' contain NaN values ?\",np.any(np.isnan(test_data_3) ) ) # NaN값 있는지 확인\n",
        "print(\"'X_test3_m' contain NaN values ?\",np.any(np.isnan(X_test3_m) ) ) # NaN값 있는지 확인\n"
      ],
      "metadata": {
        "colab": {
          "base_uri": "https://localhost:8080/"
        },
        "id": "gbvxg4ncqO1E",
        "outputId": "14019559-f1ac-4403-a56f-fb433b702d03"
      },
      "execution_count": 57,
      "outputs": [
        {
          "output_type": "stream",
          "name": "stdout",
          "text": [
            "'test_data_1' contain NaN values ? True\n",
            "'X_test1_0' contain NaN values ? False\n",
            "'test_data_1' contain NaN values ? True\n",
            "'X_test1_m' contain NaN values ? False\n",
            "'test_data_2' contain NaN values ? True\n",
            "'X_test2_0' contain NaN values ? False\n",
            "'test_data_2' contain NaN values ? True\n",
            "'X_test2_m' contain NaN values ? False\n",
            "'test_data_3' contain NaN values ? True\n",
            "'X_test3_0' contain NaN values ? False\n",
            "'test_data_3' contain NaN values ? True\n",
            "'X_test3_m' contain NaN values ? False\n"
          ]
        }
      ]
    },
    {
      "cell_type": "code",
      "source": [
        "# 데이터 분리\n",
        "X_test1 = X_test1_m[[c for c in X_test1_m.columns if c not in ['DX_bl', 'ADAS11', 'ADAS13', 'MMSE','DX_bl_0','DX_bl_1','DX_bl_2']]].copy()\n",
        "y_test1 = X_test1_m['DX_bl'].copy()\n",
        "\n",
        "X_test2 = X_test2_m[[c for c in X_test2_m.columns if c not in ['DX_bl', 'ADAS11', 'ADAS13', 'MMSE','DX_bl_0','DX_bl_1','DX_bl_2']]].copy()\n",
        "y_test2 = X_test2_m['DX_bl'].copy()\n",
        "\n",
        "X_test3 = X_test3_m[[c for c in X_test3_m.columns if c not in ['DX_bl', 'ADAS11', 'ADAS13', 'MMSE','DX_bl_0','DX_bl_1','DX_bl_2']]].copy()\n",
        "y_test3 = X_test3_m['DX_bl'].copy()\n",
        "\n",
        "print( \"X_test1.shape=\",X_test1.shape )\n",
        "print( \"y_test1.shape=\",y_test1.shape )\n",
        "print( \"X_test2.shape=\",X_test2.shape )\n",
        "print( \"y_test2.shape=\",y_test2.shape )\n",
        "print( \"X_test3.shape=\",X_test3.shape )\n",
        "print( \"y_test3.shape=\",y_test3.shape )"
      ],
      "metadata": {
        "colab": {
          "base_uri": "https://localhost:8080/"
        },
        "id": "Hvl5GclLoT51",
        "outputId": "baeab547-f52b-48a2-fac8-908ab69eff86"
      },
      "execution_count": 58,
      "outputs": [
        {
          "output_type": "stream",
          "name": "stdout",
          "text": [
            "X_test1.shape= (10, 140)\n",
            "y_test1.shape= (10,)\n",
            "X_test2.shape= (50, 140)\n",
            "y_test2.shape= (50,)\n",
            "X_test3.shape= (100, 140)\n",
            "y_test3.shape= (100,)\n"
          ]
        }
      ]
    },
    {
      "cell_type": "code",
      "source": [
        "# 데이터 전처리 ② : scaling\n",
        "# MinMax scale features into 0~1 (e.g., use MinMaxScaler)\n",
        "scaler_test1 = MinMaxScaler() # 객체 생성\n",
        "scaler_test1.fit(X_test1) # 피팅 : 스케일링에 사용할 최소,최대 값 계산하여 저장\n",
        "X_test1_scaled = scaler_test1.transform(X_test1) # 데이터 변환, 결과는 배열로 반환됨\n",
        "X_test1s = np.round(X_test1_scaled,4) # 결과값들을 소수점 4째자리까지 반올림 (불필요값 제거)\n",
        "print(\"X_test1s data range :\", np.min(X_test1s) , \"~\", np.max(X_test1s) )\n",
        "\n",
        "scaler_test2 = MinMaxScaler() # 객체 생성\n",
        "scaler_test2.fit(X_test2) # 피팅 : 스케일링에 사용할 최소,최대 값 계산하여 저장\n",
        "X_test2_scaled = scaler_test2.transform(X_test2) # 데이터 변환, 결과는 배열로 반환됨\n",
        "X_test2s = np.round(X_test2_scaled,4) # 결과값들을 소수점 4째자리까지 반올림 (불필요값 제거)\n",
        "print(\"X_test2s data range :\", np.min(X_test2s) , \"~\", np.max(X_test2s) )\n",
        "\n",
        "scaler_test3 = MinMaxScaler() # 객체 생성\n",
        "scaler_test3.fit(X_test3) # 피팅 : 스케일링에 사용할 최소,최대 값 계산하여 저장\n",
        "X_test3_scaled = scaler_test3.transform(X_test3) # 데이터 변환, 결과는 배열로 반환됨\n",
        "X_test3s = np.round(X_test3_scaled,4) # 결과값들을 소수점 4째자리까지 반올림 (불필요값 제거)\n",
        "print(\"X_test3s data range :\", np.min(X_test3s) , \"~\", np.max(X_test3s) )\n"
      ],
      "metadata": {
        "colab": {
          "base_uri": "https://localhost:8080/"
        },
        "id": "_SgBghEZpT2e",
        "outputId": "fade535a-6491-47b6-d4b5-79433292ea34"
      },
      "execution_count": 53,
      "outputs": [
        {
          "output_type": "stream",
          "name": "stdout",
          "text": [
            "X_test1s data range : 0.0 ~ 1.0\n",
            "X_test2s data range : 0.0 ~ 1.0\n",
            "X_test3s data range : 0.0 ~ 1.0\n"
          ]
        }
      ]
    },
    {
      "cell_type": "code",
      "source": [
        "my_pred = my_clf.predict(X_test1s) # 예측 label 생성\n",
        "my_prob = my_clf.predict_proba(X_test1s) # 예측 확률값 생성\n",
        "my_conf_mx =  confusion_matrix(y_test1, my_pred)\n",
        "\n",
        "print( \"y_test1.shape=\",y_test1.shape )\n",
        "print( \"my_prob.shape=\",my_prob.shape )\n",
        "\n",
        "print( \"RandomForestClassifier confusion_matrix\\n\", my_conf_mx )\n",
        "print( \"accuracy=\", accuracy_score(y_test1, my_pred) )# 정확도\n",
        "print('Precision:',precision_score(y_test1, my_pred, average = 'macro'))\n",
        "print('Recall:',recall_score(y_test1, my_pred, average = 'macro'))\n",
        "print('F1 score:',f1_score(y_test1, my_pred, average = 'macro'))\n",
        "#print('AUC:',roc_auc_score(y_test1, my_prob, multi_class = 'ovr')) #예측 데이터가 class 두종류만 있어서 에러남, 임의로 추가할수 없어서 test1에서만 주석처리함\n",
        "print( \"y_test1.value_counts=\\n\",y_test1.value_counts() )\n",
        "print(classification_report(y_test1, my_pred)) # 각 scores를 보기좋게 table 방식 표시"
      ],
      "metadata": {
        "colab": {
          "base_uri": "https://localhost:8080/"
        },
        "id": "xfZrFQEDrqY3",
        "outputId": "a5843357-43bf-4990-8da2-152e48607125"
      },
      "execution_count": 54,
      "outputs": [
        {
          "output_type": "stream",
          "name": "stdout",
          "text": [
            "y_test1.shape= (10,)\n",
            "my_prob.shape= (10, 3)\n",
            "RandomForestClassifier confusion_matrix\n",
            " [[8 0]\n",
            " [0 2]]\n",
            "accuracy= 1.0\n",
            "Precision: 1.0\n",
            "Recall: 1.0\n",
            "F1 score: 1.0\n",
            "y_test1.value_counts=\n",
            " 1    8\n",
            "2    2\n",
            "Name: DX_bl, dtype: int64\n",
            "              precision    recall  f1-score   support\n",
            "\n",
            "           1       1.00      1.00      1.00         8\n",
            "           2       1.00      1.00      1.00         2\n",
            "\n",
            "    accuracy                           1.00        10\n",
            "   macro avg       1.00      1.00      1.00        10\n",
            "weighted avg       1.00      1.00      1.00        10\n",
            "\n"
          ]
        }
      ]
    },
    {
      "cell_type": "code",
      "source": [
        "my_pred = my_clf.predict(X_test2s) # 예측 label 생성\n",
        "my_prob = my_clf.predict_proba(X_test2s) # 예측 확률값 생성\n",
        "my_conf_mx =  confusion_matrix(y_test2, my_pred)\n",
        "\n",
        "print( \"RandomForestClassifier confusion_matrix\\n\", my_conf_mx )\n",
        "print( \"accuracy=\", accuracy_score(y_test2, my_pred) )# 정확도\n",
        "print('Precision:',precision_score(y_test2, my_pred, average = 'macro'))\n",
        "print('Recall:',recall_score(y_test2, my_pred, average = 'macro'))\n",
        "print('F1 score:',f1_score(y_test2, my_pred, average = 'macro'))\n",
        "print('AUC:',roc_auc_score(y_test2, my_prob, multi_class = 'ovr'))\n",
        "print(classification_report(y_test2, my_pred)) # 각 scores를 보기좋게 table 방식 표시\n"
      ],
      "metadata": {
        "colab": {
          "base_uri": "https://localhost:8080/"
        },
        "id": "laMeNTPYva-w",
        "outputId": "9a562f20-54cd-4e1e-eb67-67e5375699af"
      },
      "execution_count": 55,
      "outputs": [
        {
          "output_type": "stream",
          "name": "stdout",
          "text": [
            "RandomForestClassifier confusion_matrix\n",
            " [[ 9  0  0]\n",
            " [ 2 31  0]\n",
            " [ 0  1  7]]\n",
            "accuracy= 0.94\n",
            "Precision: 0.9289772727272728\n",
            "Recall: 0.9381313131313131\n",
            "F1 score: 0.929059829059829\n",
            "AUC: 0.981075227578097\n",
            "              precision    recall  f1-score   support\n",
            "\n",
            "           0       0.82      1.00      0.90         9\n",
            "           1       0.97      0.94      0.95        33\n",
            "           2       1.00      0.88      0.93         8\n",
            "\n",
            "    accuracy                           0.94        50\n",
            "   macro avg       0.93      0.94      0.93        50\n",
            "weighted avg       0.95      0.94      0.94        50\n",
            "\n"
          ]
        }
      ]
    },
    {
      "cell_type": "code",
      "source": [
        "my_pred = my_clf.predict(X_test3s) # 예측 label 생성\n",
        "my_prob = my_clf.predict_proba(X_test3s) # 예측 확률값 생성\n",
        "my_conf_mx =  confusion_matrix(y_test3, my_pred)\n",
        "\n",
        "print( \"RandomForestClassifier confusion_matrix\\n\", my_conf_mx )\n",
        "print( \"accuracy=\", accuracy_score(y_test3, my_pred) )# 정확도\n",
        "print('Precision:',precision_score(y_test3, my_pred, average = 'macro'))\n",
        "print('Recall:',recall_score(y_test3, my_pred, average = 'macro'))\n",
        "print('F1 score:',f1_score(y_test3, my_pred, average = 'macro'))\n",
        "print('AUC:',roc_auc_score(y_test3, my_prob, multi_class = 'ovr'))\n",
        "print(classification_report(y_test3, my_pred)) # 각 scores를 보기좋게 table 방식 표시\n"
      ],
      "metadata": {
        "colab": {
          "base_uri": "https://localhost:8080/"
        },
        "id": "Z4Ds0AzGvm_2",
        "outputId": "ebc392d9-e9c6-44d5-c405-b4f353f8406c"
      },
      "execution_count": 56,
      "outputs": [
        {
          "output_type": "stream",
          "name": "stdout",
          "text": [
            "RandomForestClassifier confusion_matrix\n",
            " [[25  0  0]\n",
            " [ 2 55  0]\n",
            " [ 0  1 17]]\n",
            "accuracy= 0.97\n",
            "Precision: 0.9693562610229277\n",
            "Recall: 0.969785575048733\n",
            "F1 score: 0.9688061201335537\n",
            "AUC: 0.9724530574877353\n",
            "              precision    recall  f1-score   support\n",
            "\n",
            "           0       0.93      1.00      0.96        25\n",
            "           1       0.98      0.96      0.97        57\n",
            "           2       1.00      0.94      0.97        18\n",
            "\n",
            "    accuracy                           0.97       100\n",
            "   macro avg       0.97      0.97      0.97       100\n",
            "weighted avg       0.97      0.97      0.97       100\n",
            "\n"
          ]
        }
      ]
    },
    {
      "cell_type": "markdown",
      "source": [
        "### 끝"
      ],
      "metadata": {
        "id": "YM_ladCk2fmY"
      }
    }
  ]
}