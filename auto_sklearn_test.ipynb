{
  "nbformat": 4,
  "nbformat_minor": 0,
  "metadata": {
    "colab": {
      "name": "auto-sklearn_test.ipynb",
      "provenance": [],
      "collapsed_sections": [],
      "authorship_tag": "ABX9TyOQn6CZmZtrMe4vxRAujDy0",
      "include_colab_link": true
    },
    "kernelspec": {
      "name": "python3",
      "display_name": "Python 3"
    },
    "language_info": {
      "name": "python"
    }
  },
  "cells": [
    {
      "cell_type": "markdown",
      "metadata": {
        "id": "view-in-github",
        "colab_type": "text"
      },
      "source": [
        "<a href=\"https://colab.research.google.com/github/MunJinSeo/MachineLearning/blob/main/auto_sklearn_test.ipynb\" target=\"_parent\"><img src=\"https://colab.research.google.com/assets/colab-badge.svg\" alt=\"Open In Colab\"/></a>"
      ]
    },
    {
      "cell_type": "code",
      "source": [
        "!pip3 install --upgrade scikit-learn"
      ],
      "metadata": {
        "colab": {
          "base_uri": "https://localhost:8080/"
        },
        "id": "hcddo90VsfCn",
        "outputId": "08ca5806-d7c0-4c5d-812b-b2b68fa4f3e2"
      },
      "execution_count": 1,
      "outputs": [
        {
          "output_type": "stream",
          "name": "stdout",
          "text": [
            "Looking in indexes: https://pypi.org/simple, https://us-python.pkg.dev/colab-wheels/public/simple/\n",
            "Requirement already satisfied: scikit-learn in /usr/local/lib/python3.7/dist-packages (0.24.2)\n",
            "Collecting scikit-learn\n",
            "  Using cached scikit_learn-1.0.2-cp37-cp37m-manylinux_2_17_x86_64.manylinux2014_x86_64.whl (24.8 MB)\n",
            "Requirement already satisfied: threadpoolctl>=2.0.0 in /usr/local/lib/python3.7/dist-packages (from scikit-learn) (3.1.0)\n",
            "Requirement already satisfied: scipy>=1.1.0 in /usr/local/lib/python3.7/dist-packages (from scikit-learn) (1.7.3)\n",
            "Requirement already satisfied: joblib>=0.11 in /usr/local/lib/python3.7/dist-packages (from scikit-learn) (1.1.0)\n",
            "Requirement already satisfied: numpy>=1.14.6 in /usr/local/lib/python3.7/dist-packages (from scikit-learn) (1.21.6)\n",
            "Installing collected packages: scikit-learn\n",
            "  Attempting uninstall: scikit-learn\n",
            "    Found existing installation: scikit-learn 0.24.2\n",
            "    Uninstalling scikit-learn-0.24.2:\n",
            "      Successfully uninstalled scikit-learn-0.24.2\n",
            "\u001b[31mERROR: pip's dependency resolver does not currently take into account all the packages that are installed. This behaviour is the source of the following dependency conflicts.\n",
            "auto-sklearn 0.14.7 requires scikit-learn<0.25.0,>=0.24.0, but you have scikit-learn 1.0.2 which is incompatible.\u001b[0m\n",
            "Successfully installed scikit-learn-1.0.2\n"
          ]
        }
      ]
    },
    {
      "cell_type": "code",
      "execution_count": 4,
      "metadata": {
        "colab": {
          "base_uri": "https://localhost:8080/"
        },
        "id": "TMBhhiV0rr2r",
        "outputId": "495c2817-fd76-4d81-b2c9-79214ba13713"
      },
      "outputs": [
        {
          "output_type": "stream",
          "name": "stdout",
          "text": [
            "Looking in indexes: https://pypi.org/simple, https://us-python.pkg.dev/colab-wheels/public/simple/\n",
            "Requirement already satisfied: auto-sklearn in /usr/local/lib/python3.7/dist-packages (0.14.7)\n",
            "Requirement already satisfied: smac<1.3,>=1.2 in /usr/local/lib/python3.7/dist-packages (from auto-sklearn) (1.2)\n",
            "Collecting scikit-learn<0.25.0,>=0.24.0\n",
            "  Using cached scikit_learn-0.24.2-cp37-cp37m-manylinux2010_x86_64.whl (22.3 MB)\n",
            "Requirement already satisfied: liac-arff in /usr/local/lib/python3.7/dist-packages (from auto-sklearn) (2.5.0)\n",
            "Requirement already satisfied: joblib in /usr/local/lib/python3.7/dist-packages (from auto-sklearn) (1.1.0)\n",
            "Requirement already satisfied: threadpoolctl in /usr/local/lib/python3.7/dist-packages (from auto-sklearn) (3.1.0)\n",
            "Requirement already satisfied: pyrfr<0.9,>=0.8.1 in /usr/local/lib/python3.7/dist-packages (from auto-sklearn) (0.8.2)\n",
            "Requirement already satisfied: numpy>=1.9.0 in /usr/local/lib/python3.7/dist-packages (from auto-sklearn) (1.21.6)\n",
            "Requirement already satisfied: pandas>=1.0 in /usr/local/lib/python3.7/dist-packages (from auto-sklearn) (1.3.5)\n",
            "Requirement already satisfied: dask>=2021.12 in /usr/local/lib/python3.7/dist-packages (from auto-sklearn) (2022.2.0)\n",
            "Requirement already satisfied: typing-extensions in /usr/local/lib/python3.7/dist-packages (from auto-sklearn) (4.2.0)\n",
            "Requirement already satisfied: scipy>=1.7.0 in /usr/local/lib/python3.7/dist-packages (from auto-sklearn) (1.7.3)\n",
            "Requirement already satisfied: distro in /usr/local/lib/python3.7/dist-packages (from auto-sklearn) (1.7.0)\n",
            "Requirement already satisfied: setuptools in /usr/local/lib/python3.7/dist-packages (from auto-sklearn) (57.4.0)\n",
            "Requirement already satisfied: pyyaml in /usr/local/lib/python3.7/dist-packages (from auto-sklearn) (6.0)\n",
            "Requirement already satisfied: ConfigSpace<0.5,>=0.4.21 in /usr/local/lib/python3.7/dist-packages (from auto-sklearn) (0.4.21)\n",
            "Requirement already satisfied: distributed>=2012.12 in /usr/local/lib/python3.7/dist-packages (from auto-sklearn) (2022.2.0)\n",
            "Requirement already satisfied: pynisher<0.7,>=0.6.3 in /usr/local/lib/python3.7/dist-packages (from auto-sklearn) (0.6.4)\n",
            "Requirement already satisfied: cython in /usr/local/lib/python3.7/dist-packages (from ConfigSpace<0.5,>=0.4.21->auto-sklearn) (0.29.30)\n",
            "Requirement already satisfied: pyparsing in /usr/local/lib/python3.7/dist-packages (from ConfigSpace<0.5,>=0.4.21->auto-sklearn) (3.0.9)\n",
            "Requirement already satisfied: toolz>=0.8.2 in /usr/local/lib/python3.7/dist-packages (from dask>=2021.12->auto-sklearn) (0.11.2)\n",
            "Requirement already satisfied: partd>=0.3.10 in /usr/local/lib/python3.7/dist-packages (from dask>=2021.12->auto-sklearn) (1.2.0)\n",
            "Requirement already satisfied: cloudpickle>=1.1.1 in /usr/local/lib/python3.7/dist-packages (from dask>=2021.12->auto-sklearn) (2.1.0)\n",
            "Requirement already satisfied: fsspec>=0.6.0 in /usr/local/lib/python3.7/dist-packages (from dask>=2021.12->auto-sklearn) (2022.5.0)\n",
            "Requirement already satisfied: packaging>=20.0 in /usr/local/lib/python3.7/dist-packages (from dask>=2021.12->auto-sklearn) (21.3)\n",
            "Requirement already satisfied: psutil>=5.0 in /usr/local/lib/python3.7/dist-packages (from distributed>=2012.12->auto-sklearn) (5.4.8)\n",
            "Requirement already satisfied: zict>=0.1.3 in /usr/local/lib/python3.7/dist-packages (from distributed>=2012.12->auto-sklearn) (2.2.0)\n",
            "Requirement already satisfied: msgpack>=0.6.0 in /usr/local/lib/python3.7/dist-packages (from distributed>=2012.12->auto-sklearn) (1.0.3)\n",
            "Requirement already satisfied: sortedcontainers!=2.0.0,!=2.0.1 in /usr/local/lib/python3.7/dist-packages (from distributed>=2012.12->auto-sklearn) (2.4.0)\n",
            "Requirement already satisfied: jinja2 in /usr/local/lib/python3.7/dist-packages (from distributed>=2012.12->auto-sklearn) (2.11.3)\n",
            "Requirement already satisfied: click>=6.6 in /usr/local/lib/python3.7/dist-packages (from distributed>=2012.12->auto-sklearn) (7.1.2)\n",
            "Requirement already satisfied: tblib>=1.6.0 in /usr/local/lib/python3.7/dist-packages (from distributed>=2012.12->auto-sklearn) (1.7.0)\n",
            "Requirement already satisfied: tornado>=5 in /usr/local/lib/python3.7/dist-packages (from distributed>=2012.12->auto-sklearn) (5.1.1)\n",
            "Requirement already satisfied: pytz>=2017.3 in /usr/local/lib/python3.7/dist-packages (from pandas>=1.0->auto-sklearn) (2022.1)\n",
            "Requirement already satisfied: python-dateutil>=2.7.3 in /usr/local/lib/python3.7/dist-packages (from pandas>=1.0->auto-sklearn) (2.8.2)\n",
            "Requirement already satisfied: locket in /usr/local/lib/python3.7/dist-packages (from partd>=0.3.10->dask>=2021.12->auto-sklearn) (1.0.0)\n",
            "Requirement already satisfied: six>=1.5 in /usr/local/lib/python3.7/dist-packages (from python-dateutil>=2.7.3->pandas>=1.0->auto-sklearn) (1.15.0)\n",
            "Requirement already satisfied: emcee>=3.0.0 in /usr/local/lib/python3.7/dist-packages (from smac<1.3,>=1.2->auto-sklearn) (3.1.2)\n",
            "Requirement already satisfied: heapdict in /usr/local/lib/python3.7/dist-packages (from zict>=0.1.3->distributed>=2012.12->auto-sklearn) (1.0.1)\n",
            "Requirement already satisfied: MarkupSafe>=0.23 in /usr/local/lib/python3.7/dist-packages (from jinja2->distributed>=2012.12->auto-sklearn) (2.0.1)\n",
            "Installing collected packages: scikit-learn\n",
            "  Attempting uninstall: scikit-learn\n",
            "    Found existing installation: scikit-learn 1.0.2\n",
            "    Uninstalling scikit-learn-1.0.2:\n",
            "      Successfully uninstalled scikit-learn-1.0.2\n",
            "\u001b[31mERROR: pip's dependency resolver does not currently take into account all the packages that are installed. This behaviour is the source of the following dependency conflicts.\n",
            "yellowbrick 1.4 requires scikit-learn>=1.0.0, but you have scikit-learn 0.24.2 which is incompatible.\u001b[0m\n",
            "Successfully installed scikit-learn-0.24.2\n"
          ]
        }
      ],
      "source": [
        "!pip3 install --upgrade auto-sklearn\n"
      ]
    },
    {
      "cell_type": "code",
      "source": [
        "!pip3 install --upgrade scipy"
      ],
      "metadata": {
        "colab": {
          "base_uri": "https://localhost:8080/"
        },
        "id": "gIu8MfBxs23f",
        "outputId": "87cc1956-9497-4e35-cf92-1c7eb66f0ed3"
      },
      "execution_count": 6,
      "outputs": [
        {
          "output_type": "stream",
          "name": "stdout",
          "text": [
            "Looking in indexes: https://pypi.org/simple, https://us-python.pkg.dev/colab-wheels/public/simple/\n",
            "Requirement already satisfied: scipy in /usr/local/lib/python3.7/dist-packages (1.7.3)\n",
            "Requirement already satisfied: numpy<1.23.0,>=1.16.5 in /usr/local/lib/python3.7/dist-packages (from scipy) (1.21.6)\n"
          ]
        }
      ]
    },
    {
      "cell_type": "code",
      "source": [
        "# https://automl.github.io/auto-sklearn/master/examples/index.html\n",
        "# https://automl.github.io/auto-sklearn/master/examples/20_basic/example_classification.html#sphx-glr-examples-20-basic-example-classification-py\n",
        "# https://automl.github.io/auto-sklearn/master/api.html#classification\n",
        "\n",
        "from pprint import pprint\n",
        "\n",
        "import sklearn.datasets\n",
        "import sklearn.metrics\n",
        "\n",
        "import autosklearn.classification"
      ],
      "metadata": {
        "id": "2kwtyblYsts6"
      },
      "execution_count": 2,
      "outputs": []
    },
    {
      "cell_type": "code",
      "source": [
        "X, y = sklearn.datasets.load_breast_cancer(return_X_y=True)\n",
        "X_train, X_test, y_train, y_test = \\\n",
        "    sklearn.model_selection.train_test_split(X, y, random_state=1)"
      ],
      "metadata": {
        "id": "8UqMOFV-sx-t"
      },
      "execution_count": 3,
      "outputs": []
    },
    {
      "cell_type": "code",
      "source": [
        "X_train"
      ],
      "metadata": {
        "colab": {
          "base_uri": "https://localhost:8080/"
        },
        "id": "acG50-7F0rBW",
        "outputId": "1de1f2ca-4ff4-44c9-f11a-d2a02ede5586"
      },
      "execution_count": 27,
      "outputs": [
        {
          "output_type": "execute_result",
          "data": {
            "text/plain": [
              "array([[1.522e+01, 3.062e+01, 1.034e+02, ..., 2.356e-01, 4.089e-01,\n",
              "        1.409e-01],\n",
              "       [1.496e+01, 1.910e+01, 9.703e+01, ..., 1.489e-01, 2.962e-01,\n",
              "        8.472e-02],\n",
              "       [1.468e+01, 2.013e+01, 9.474e+01, ..., 1.609e-01, 3.029e-01,\n",
              "        8.216e-02],\n",
              "       ...,\n",
              "       [1.720e+01, 2.452e+01, 1.142e+02, ..., 1.899e-01, 3.313e-01,\n",
              "        1.339e-01],\n",
              "       [1.403e+01, 2.125e+01, 8.979e+01, ..., 7.963e-02, 2.226e-01,\n",
              "        7.617e-02],\n",
              "       [1.303e+01, 1.842e+01, 8.261e+01, ..., 5.013e-02, 1.987e-01,\n",
              "        6.169e-02]])"
            ]
          },
          "metadata": {},
          "execution_count": 27
        }
      ]
    },
    {
      "cell_type": "code",
      "source": [
        "y_train[1]= -1\n",
        "y_train[10]= -1\n",
        "y_train[20]= -1\n",
        "y_train[25]= -1\n",
        "y_train[30]= -1\n",
        "y_train[40]= -1\n",
        "y_train[50]= -1"
      ],
      "metadata": {
        "id": "7GLI_BpEygXo"
      },
      "execution_count": 21,
      "outputs": []
    },
    {
      "cell_type": "code",
      "source": [
        "y_train"
      ],
      "metadata": {
        "colab": {
          "base_uri": "https://localhost:8080/"
        },
        "id": "355-7fFbtutM",
        "outputId": "1582997c-951b-4c35-abe4-cf570147fab7"
      },
      "execution_count": 22,
      "outputs": [
        {
          "output_type": "execute_result",
          "data": {
            "text/plain": [
              "array([ 0, -1,  0,  1,  1,  1,  0,  1,  1,  1, -1,  1,  1,  1,  1,  1,  1,\n",
              "        1,  1,  1, -1,  1,  1,  0,  0, -1,  1,  1,  1,  1, -1,  1,  1,  1,\n",
              "        1,  1,  1,  1,  1,  1, -1,  1,  0,  0,  1,  0,  1,  1,  1,  1, -1,\n",
              "        0,  1,  1,  0,  0,  1,  0,  1,  0,  1,  0,  0,  1,  1,  0,  0,  1,\n",
              "        1,  1,  1,  0,  1,  1,  1,  1,  1,  1,  1,  0,  1,  0,  1,  1,  0,\n",
              "        0,  0,  0,  1,  1,  0,  1,  0,  0,  0,  1,  0,  1,  1,  1,  1,  1,\n",
              "        0,  1,  1,  0,  0,  0,  0,  1,  0,  1,  1,  0,  1,  0,  1,  1,  1,\n",
              "        0,  1,  1,  1,  0,  1,  1,  1,  1,  0,  1,  1,  0,  0,  0,  1,  1,\n",
              "        0,  1,  1,  1,  1,  1,  0,  1,  1,  1,  0,  1,  0,  0,  0,  0,  1,\n",
              "        0,  0,  0,  1,  1,  0,  1,  1,  1,  1,  0,  0,  1,  1,  1,  0,  1,\n",
              "        1,  1,  0,  1,  1,  0,  1,  1,  1,  1,  0,  0,  1,  0,  0,  1,  0,\n",
              "        1,  0,  0,  1,  1,  0,  1,  1,  1,  1,  1,  0,  1,  1,  1,  1,  0,\n",
              "        1,  1,  1,  1,  1,  0,  0,  0,  1,  0,  0,  1,  0,  1,  1,  1,  0,\n",
              "        1,  0,  1,  1,  1,  1,  0,  0,  1,  1,  1,  1,  0,  1,  1,  0,  0,\n",
              "        0,  1,  0,  0,  0,  1,  1,  1,  1,  1,  1,  1,  0,  1,  0,  0,  0,\n",
              "        0,  1,  1,  0,  1,  1,  1,  1,  1,  1,  1,  0,  0,  1,  1,  1,  1,\n",
              "        0,  1,  1,  1,  1,  0,  1,  1,  1,  0,  1,  0,  1,  1,  0,  0,  0,\n",
              "        0,  0,  1,  1,  1,  1,  1,  0,  1,  1,  1,  1,  0,  0,  1,  1,  1,\n",
              "        0,  1,  1,  1,  0,  1,  1,  0,  1,  1,  0,  1,  0,  1,  1,  1,  1,\n",
              "        0,  0,  1,  1,  1,  0,  1,  0,  0,  0,  1,  1,  1,  0,  1,  1,  1,\n",
              "        0,  0,  0,  1,  0,  1,  0,  0,  1,  1,  1,  1,  0,  0,  1,  1,  1,\n",
              "        1,  1,  0,  0,  1,  0,  1,  1,  1,  1,  1,  0,  0,  1,  1,  1,  1,\n",
              "        0,  0,  0,  1,  1,  0,  0,  0,  0,  1,  0,  1,  0,  0,  1,  1,  1,\n",
              "        1,  1,  1,  1,  1,  0,  1,  1,  1,  1,  1,  1,  0,  0,  0,  0,  1,\n",
              "        0,  0,  1,  1,  0,  0,  1,  0,  1,  1,  1,  1,  1,  0,  1,  0,  1,\n",
              "        1])"
            ]
          },
          "metadata": {},
          "execution_count": 22
        }
      ]
    },
    {
      "cell_type": "code",
      "source": [
        "# 파라미터 항목별 상세 내용은 아래 URL 참조\n",
        "# https://automl.github.io/auto-sklearn/master/api.html\n",
        "\n",
        "automl = autosklearn.classification.AutoSklearnClassifier(\n",
        "    time_left_for_this_task=120, # (default=3600) Time limit in seconds for the search of appropriate models\n",
        "    per_run_time_limit=30, #(default=1/10 of time_left_for_this_task) Time limit for a single call to the machine learning model\n",
        "    ensemble_size=20, # (default=50) Number of models added to the ensemble built by Ensemble selection from libraries of models\n",
        "    tmp_folder='autosklearn_classification_example_tmp' # folder to store configuration output and log files, if None automatically use /tmp/autosklearn_tmp_$pid_$random_number\n",
        ")\n",
        "automl.fit(X_train, y_train)"
      ],
      "metadata": {
        "colab": {
          "base_uri": "https://localhost:8080/"
        },
        "id": "HYDCjE9Fwgba",
        "outputId": "ac66f2c6-0e7e-4215-90b1-f1fc0df0df34"
      },
      "execution_count": 23,
      "outputs": [
        {
          "output_type": "execute_result",
          "data": {
            "text/plain": [
              "AutoSklearnClassifier(ensemble_size=20, per_run_time_limit=30,\n",
              "                      time_left_for_this_task=120,\n",
              "                      tmp_folder='autosklearn_classification_example_tmp')"
            ]
          },
          "metadata": {},
          "execution_count": 23
        }
      ]
    },
    {
      "cell_type": "code",
      "source": [
        "print(automl.leaderboard())\n",
        "# 항목별 상세 내용은 아래 URL 참조\n",
        "# https://automl.github.io/auto-sklearn/master/api.html\n",
        "\n",
        "# \"model_id\" - The id given to a model by autosklearn.\n",
        "# \"rank\" - The rank of the model based on it’s \"cost\".\n",
        "# \"ensemble_weight\" - The weight given to the model in the ensemble.\n",
        "# \"type\" - The type of classifier/regressor used.\n",
        "# \"cost\" - The loss of the model on the validation set.\n",
        "# \"duration\" - Length of time the model was optimized for.\n"
      ],
      "metadata": {
        "colab": {
          "base_uri": "https://localhost:8080/"
        },
        "id": "oez-IhLUwxBM",
        "outputId": "c257f89b-9919-4f5c-afed-58fa678088c1"
      },
      "execution_count": 24,
      "outputs": [
        {
          "output_type": "stream",
          "name": "stdout",
          "text": [
            "          rank  ensemble_weight           type      cost   duration\n",
            "model_id                                                           \n",
            "15           1             0.10  random_forest  0.021277  14.558706\n",
            "14           2             0.05            mlp  0.028369   1.373358\n",
            "20           3             0.05       adaboost  0.035461   1.044148\n",
            "21           4             0.05    extra_trees  0.035461   1.840366\n",
            "2            5             0.15  random_forest  0.042553   2.972209\n",
            "17           6             0.05    extra_trees  0.042553   1.733272\n",
            "7            7             0.10  random_forest  0.049645   2.565207\n",
            "19           8             0.05            mlp  0.049645   2.120501\n",
            "10           9             0.05  random_forest  0.056738   2.201415\n",
            "32          10             0.05       adaboost  0.056738   1.094395\n",
            "29          11             0.10   bernoulli_nb  0.063830   1.139622\n",
            "23          12             0.05  random_forest  0.070922   2.163842\n",
            "31          13             0.05  liblinear_svc  0.085106   1.027380\n",
            "25          14             0.10            qda  0.141844   0.887156\n"
          ]
        }
      ]
    },
    {
      "cell_type": "code",
      "source": [
        "pprint(automl.show_models(), indent=4)"
      ],
      "metadata": {
        "id": "GcjfmktUw0n4"
      },
      "execution_count": null,
      "outputs": []
    },
    {
      "cell_type": "code",
      "source": [
        "predictions = automl.predict(X_test)\n",
        "predictions_proba=automl.predict_proba(X_test)\n",
        "print(\"Accuracy score:\", sklearn.metrics.accuracy_score(y_test, predictions))\n",
        "predictions_proba"
      ],
      "metadata": {
        "colab": {
          "base_uri": "https://localhost:8080/"
        },
        "id": "3SIZfXaaw1D-",
        "outputId": "51fc7b16-ea5f-43f9-974a-42102cb14073"
      },
      "execution_count": 26,
      "outputs": [
        {
          "output_type": "stream",
          "name": "stdout",
          "text": [
            "Accuracy score: 0.951048951048951\n"
          ]
        },
        {
          "output_type": "execute_result",
          "data": {
            "text/plain": [
              "array([[0.14445149, 0.40078213, 0.45476639],\n",
              "       [0.11133184, 0.64251023, 0.24615793],\n",
              "       [0.08620716, 0.09002811, 0.82376473],\n",
              "       [0.11330007, 0.70932825, 0.17737168],\n",
              "       [0.14031024, 0.41232788, 0.44736187],\n",
              "       [0.11387179, 0.7518756 , 0.13425261],\n",
              "       [0.10471256, 0.74523121, 0.15005624],\n",
              "       [0.21577299, 0.52851268, 0.25571432],\n",
              "       [0.08294325, 0.10626548, 0.81079127],\n",
              "       [0.09734602, 0.14186941, 0.76078457],\n",
              "       [0.08224229, 0.07858521, 0.8391725 ],\n",
              "       [0.12768565, 0.73859424, 0.13372011],\n",
              "       [0.10665449, 0.77164984, 0.12169567],\n",
              "       [0.08340178, 0.07823518, 0.83836304],\n",
              "       [0.17290606, 0.26035902, 0.56673492],\n",
              "       [0.11471546, 0.19301691, 0.69226763],\n",
              "       [0.08175655, 0.07217613, 0.84606732],\n",
              "       [0.0910032 , 0.0989156 , 0.8100812 ],\n",
              "       [0.11238647, 0.1490461 , 0.73856743],\n",
              "       [0.13027323, 0.75596531, 0.11376147],\n",
              "       [0.08535182, 0.07378027, 0.8408679 ],\n",
              "       [0.0834585 , 0.07938385, 0.83715765],\n",
              "       [0.113062  , 0.77356285, 0.11337516],\n",
              "       [0.08839655, 0.09387839, 0.81772506],\n",
              "       [0.11102825, 0.75929342, 0.12967832],\n",
              "       [0.10246937, 0.13736566, 0.76016497],\n",
              "       [0.12911597, 0.1602291 , 0.71065494],\n",
              "       [0.09307263, 0.81534536, 0.09158201],\n",
              "       [0.08896965, 0.83861682, 0.07241353],\n",
              "       [0.13153598, 0.6451881 , 0.22327592],\n",
              "       [0.09799955, 0.81714702, 0.08485343],\n",
              "       [0.0830163 , 0.07740113, 0.83958257],\n",
              "       [0.09196705, 0.82110393, 0.08692902],\n",
              "       [0.10866721, 0.70690201, 0.18443078],\n",
              "       [0.08162204, 0.08784939, 0.83052857],\n",
              "       [0.08620511, 0.08243401, 0.83136088],\n",
              "       [0.1304704 , 0.69426702, 0.17526258],\n",
              "       [0.11610411, 0.15558499, 0.7283109 ],\n",
              "       [0.10299235, 0.23656348, 0.66044417],\n",
              "       [0.08429764, 0.08201406, 0.8336883 ],\n",
              "       [0.08676767, 0.10708846, 0.80614387],\n",
              "       [0.11144832, 0.15130414, 0.73724754],\n",
              "       [0.09298805, 0.13819813, 0.76881382],\n",
              "       [0.08769341, 0.08079751, 0.83150908],\n",
              "       [0.0899806 , 0.09346222, 0.81655718],\n",
              "       [0.10093875, 0.78765075, 0.11141051],\n",
              "       [0.08849617, 0.11271547, 0.79878837],\n",
              "       [0.0826726 , 0.08201174, 0.83531566],\n",
              "       [0.10223181, 0.12175496, 0.77601323],\n",
              "       [0.11202211, 0.68319891, 0.20477898],\n",
              "       [0.10335043, 0.78418103, 0.11246854],\n",
              "       [0.09418581, 0.78272914, 0.12308505],\n",
              "       [0.09511929, 0.11813637, 0.78674434],\n",
              "       [0.08211201, 0.0728182 , 0.84506979],\n",
              "       [0.08795039, 0.14754664, 0.76450297],\n",
              "       [0.08324737, 0.07887024, 0.83788239],\n",
              "       [0.08348872, 0.07354411, 0.84296717],\n",
              "       [0.12901126, 0.65996366, 0.21102507],\n",
              "       [0.09539597, 0.09378744, 0.81081659],\n",
              "       [0.08272584, 0.08006941, 0.83720475],\n",
              "       [0.08148857, 0.07497609, 0.84353534],\n",
              "       [0.14715605, 0.56838761, 0.28445634],\n",
              "       [0.16730057, 0.21255718, 0.62014225],\n",
              "       [0.10779149, 0.17674106, 0.71546745],\n",
              "       [0.0825067 , 0.07721358, 0.84027972],\n",
              "       [0.09735767, 0.0952858 , 0.80735653],\n",
              "       [0.0820532 , 0.07338488, 0.84456193],\n",
              "       [0.10847645, 0.79742907, 0.09409448],\n",
              "       [0.08201766, 0.07192381, 0.84605852],\n",
              "       [0.08360162, 0.07392948, 0.8424689 ],\n",
              "       [0.08290247, 0.07964987, 0.83744766],\n",
              "       [0.08160675, 0.07888895, 0.8395043 ],\n",
              "       [0.11318379, 0.15161528, 0.73520093],\n",
              "       [0.10532244, 0.80417966, 0.0904979 ],\n",
              "       [0.08474299, 0.0990616 , 0.8161954 ],\n",
              "       [0.09997958, 0.80965626, 0.09036415],\n",
              "       [0.10544966, 0.31584529, 0.57870506],\n",
              "       [0.08815242, 0.10028187, 0.81156571],\n",
              "       [0.08381275, 0.07324406, 0.84294319],\n",
              "       [0.10109472, 0.79048718, 0.1084181 ],\n",
              "       [0.0822544 , 0.07779616, 0.83994944],\n",
              "       [0.09596503, 0.80935517, 0.0946798 ],\n",
              "       [0.08257907, 0.07756042, 0.83986051],\n",
              "       [0.10988586, 0.79002241, 0.10009173],\n",
              "       [0.08292053, 0.07870118, 0.83837828],\n",
              "       [0.08263943, 0.07848068, 0.8388799 ],\n",
              "       [0.12655267, 0.68143786, 0.19200946],\n",
              "       [0.09515448, 0.09405635, 0.81078917],\n",
              "       [0.11729274, 0.76113337, 0.1215739 ],\n",
              "       [0.08292427, 0.07883686, 0.83823887],\n",
              "       [0.08304459, 0.08759179, 0.82936362],\n",
              "       [0.12710849, 0.69469427, 0.17819724],\n",
              "       [0.08385945, 0.10139137, 0.81474918],\n",
              "       [0.08274785, 0.08843038, 0.82882177],\n",
              "       [0.105598  , 0.80333151, 0.09107048],\n",
              "       [0.12915603, 0.53788141, 0.33296256],\n",
              "       [0.08188648, 0.08475666, 0.83335686],\n",
              "       [0.10308248, 0.18102731, 0.71589021],\n",
              "       [0.08168711, 0.07387248, 0.84444041],\n",
              "       [0.0818341 , 0.07792726, 0.84023864],\n",
              "       [0.08732714, 0.11752342, 0.79514945],\n",
              "       [0.08287996, 0.07499771, 0.84212233],\n",
              "       [0.08132478, 0.0761219 , 0.84255332],\n",
              "       [0.12933769, 0.24405027, 0.62661204],\n",
              "       [0.09087015, 0.10365866, 0.80547119],\n",
              "       [0.09149994, 0.11172253, 0.79677752],\n",
              "       [0.08171134, 0.0747873 , 0.84350137],\n",
              "       [0.08263634, 0.07350926, 0.84385439],\n",
              "       [0.1347775 , 0.66663152, 0.19859098],\n",
              "       [0.10274802, 0.7285202 , 0.16873178],\n",
              "       [0.20627081, 0.5135566 , 0.2801726 ],\n",
              "       [0.13499918, 0.23094937, 0.63405145],\n",
              "       [0.13194814, 0.20594331, 0.66210856],\n",
              "       [0.08638629, 0.07857516, 0.83503855],\n",
              "       [0.09894635, 0.79940115, 0.1016525 ],\n",
              "       [0.10849991, 0.74723049, 0.14426959],\n",
              "       [0.08130035, 0.08081713, 0.83788252],\n",
              "       [0.08627054, 0.07695819, 0.83677128],\n",
              "       [0.08321294, 0.07704312, 0.83974394],\n",
              "       [0.09762628, 0.09471757, 0.80765615],\n",
              "       [0.0979245 , 0.12074387, 0.78133163],\n",
              "       [0.09171176, 0.81484487, 0.09344337],\n",
              "       [0.09546573, 0.82281916, 0.08171511],\n",
              "       [0.08947531, 0.10989451, 0.80063018],\n",
              "       [0.08652728, 0.08632003, 0.82715269],\n",
              "       [0.08986108, 0.83897377, 0.07116514],\n",
              "       [0.09839925, 0.79636636, 0.1052344 ],\n",
              "       [0.14506578, 0.47189709, 0.38303713],\n",
              "       [0.08989353, 0.83078574, 0.07932073],\n",
              "       [0.10735664, 0.80678273, 0.08586063],\n",
              "       [0.09432461, 0.0896909 , 0.81598448],\n",
              "       [0.11322727, 0.35331458, 0.53345815],\n",
              "       [0.08139291, 0.07551523, 0.84309186],\n",
              "       [0.09899711, 0.80027035, 0.10073254],\n",
              "       [0.0825011 , 0.09592927, 0.82156963],\n",
              "       [0.10074544, 0.78112273, 0.11813183],\n",
              "       [0.10689288, 0.78414956, 0.10895755],\n",
              "       [0.12987017, 0.30221588, 0.56791395],\n",
              "       [0.08498619, 0.09334332, 0.8216705 ],\n",
              "       [0.27478483, 0.38469438, 0.34052079],\n",
              "       [0.15173348, 0.44823143, 0.40003508],\n",
              "       [0.10217975, 0.80408417, 0.09373608],\n",
              "       [0.08398723, 0.07635468, 0.83965809]])"
            ]
          },
          "metadata": {},
          "execution_count": 26
        }
      ]
    }
  ]
}