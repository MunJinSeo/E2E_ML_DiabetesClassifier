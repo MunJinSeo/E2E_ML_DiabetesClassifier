{
  "nbformat": 4,
  "nbformat_minor": 0,
  "metadata": {
    "colab": {
      "name": "기계학습(AAI107)_Team13_뉴스크롤링_감성분석_20220608(회사2).ipynb",
      "provenance": [],
      "collapsed_sections": [],
      "toc_visible": true,
      "include_colab_link": true
    },
    "kernelspec": {
      "name": "python3",
      "display_name": "Python 3"
    },
    "language_info": {
      "name": "python"
    },
    "accelerator": "GPU"
  },
  "cells": [
    {
      "cell_type": "markdown",
      "metadata": {
        "id": "view-in-github",
        "colab_type": "text"
      },
      "source": [
        "<a href=\"https://colab.research.google.com/github/MunJinSeo/MachineLearning/blob/main/%EA%B8%B0%EA%B3%84%ED%95%99%EC%8A%B5(AAI107)_Team13_%EB%89%B4%EC%8A%A4%ED%81%AC%EB%A1%A4%EB%A7%81_%EA%B0%90%EC%84%B1%EB%B6%84%EC%84%9D_20220608(%ED%9A%8C%EC%82%AC2).ipynb\" target=\"_parent\"><img src=\"https://colab.research.google.com/assets/colab-badge.svg\" alt=\"Open In Colab\"/></a>"
      ]
    },
    {
      "cell_type": "markdown",
      "source": [
        "## 1) 증권 뉴스 크롤링"
      ],
      "metadata": {
        "id": "EJcsfaMpvV44"
      }
    },
    {
      "cell_type": "markdown",
      "source": [
        "- 팍스넷이나 네이버 증권 뉴스는 최근 뉴스를 가져오기 수월하지만\n",
        "과거 특정종목에 대해 검색이 어렵고 2~3년 지난 뉴스자료가 없는 경우도 있음\n",
        "- 따라서 빅카인즈 https://www.bigkinds.or.kr/  사이트를 활용하여 \n",
        "삼성전자 관련 뉴스를 검색하여 감성분석에 사용하기로함\n",
        " (빅카인즈 뉴스 자료는 해당 사이트에서 수작업으로 추출했으며, 해당 파일을 나의 github에 올려 놓은 후 아래 감성분석에 사용함)"
      ],
      "metadata": {
        "id": "TeyVl_Ivtx8R"
      }
    },
    {
      "cell_type": "code",
      "source": [
        "# 팍스넷, 네이버 증권 뉴스 크롤링\n",
        "# https://github.com/CSJ516/Stock_Prediction_project\n",
        "\n",
        "import requests\n",
        "from bs4 import BeautifulSoup\n",
        "import pandas as pd\n",
        "from urllib import parse\n",
        "from datetime import datetime"
      ],
      "metadata": {
        "id": "uiYQ9RWEmH64"
      },
      "execution_count": null,
      "outputs": []
    },
    {
      "cell_type": "code",
      "source": [
        "# all_data 대상일자 추출\n",
        "#target_date =  all_data.index.strftime('%Y%m%d').copy() # pd.DataFrame(all_data.index).copy()\n",
        "target_date = {\"Date\":['20220601','20220602','20220603']}\n",
        "df_target_date = pd.DataFrame(target_date)\n",
        "print(df_target_date)\n",
        "print(type(df_target_date))\n",
        "print(df_target_date[\"Date\"].tail(1))"
      ],
      "metadata": {
        "colab": {
          "base_uri": "https://localhost:8080/"
        },
        "id": "V0VA_wHg6YD-",
        "outputId": "f01f641b-6b6e-4123-8823-731ce14cbbdc"
      },
      "execution_count": null,
      "outputs": [
        {
          "output_type": "stream",
          "name": "stdout",
          "text": [
            "       Date\n",
            "0  20220601\n",
            "1  20220602\n",
            "2  20220603\n",
            "<class 'pandas.core.frame.DataFrame'>\n",
            "2    20220603\n",
            "Name: Date, dtype: object\n"
          ]
        }
      ]
    },
    {
      "cell_type": "markdown",
      "source": [
        "### 팍스넷 > 뉴스 > 많이본뉴스 > 증권"
      ],
      "metadata": {
        "id": "qB9pjXnmv2r_"
      }
    },
    {
      "cell_type": "code",
      "source": [
        "def paxnet_news_title(date_list):\n",
        "  # 팍스넷 > 뉴스 > 많이본뉴스 > 증권\n",
        "  paxnet_url = 'http://www.paxnet.co.kr/news/much?newsSetId=4667&currentPageNo={}&genDate={}&objId=N4667'\n",
        "  #paxnet_url = 'http://www.paxnet.co.kr/news/much?newsSetId=4667&objId=N4667'\n",
        "  \n",
        "  webheader = {\n",
        "      'User-Agent':'Mozilla/5.0 (Windows NT 10.0; Win64; x64) AppleWebKit/537.36 (KHTML, like Gecko) Chrome/84.0.4147.89 Safari/537.36'\n",
        "  }\n",
        "\n",
        "  paxnet_result = []\n",
        "  paxnet_error_cnt = 0\n",
        "  \n",
        "  for t_date in date_list:\n",
        "    for pagecnt in range(1, 2):\n",
        "      target_url = paxnet_url.format(pagecnt, t_date)\n",
        "      print(target_url)\n",
        "      responseData = requests.get(target_url, headers=webheader)\n",
        "      if responseData.status_code == 200:\n",
        "        resParse = BeautifulSoup(responseData.text)\n",
        "        title_list = resParse.select('ul.thumb-list li')\n",
        "        for ttt in title_list:\n",
        "          #print(ttt)\n",
        "          try:\n",
        "            news_title = ttt.select_one('dl.text > dt').text.strip()\n",
        "            paxnet_result.append([news_title])\n",
        "          except:\n",
        "            paxnet_error_cnt += 1\n",
        "  return paxnet_result"
      ],
      "metadata": {
        "id": "VZRplUJs46jA"
      },
      "execution_count": null,
      "outputs": []
    },
    {
      "cell_type": "code",
      "source": [
        "paxnet_news_rs = paxnet_news_title(df_target_date[\"Date\"].tail(1)) # 샘플로 최근 1일자만 추출해봄\n",
        "#paxnet_news_rs = paxnet_news_title(df_target_date[\"Date\"].head(1)) # 샘플로 최초 1일자만 추출해봄\n",
        "print(\"paxnet_news_rs length == \", len( paxnet_news_rs ) )"
      ],
      "metadata": {
        "colab": {
          "base_uri": "https://localhost:8080/"
        },
        "id": "wl2dBPru48sW",
        "outputId": "4c2384ac-d716-44b9-af66-ada901609ee5"
      },
      "execution_count": null,
      "outputs": [
        {
          "output_type": "stream",
          "name": "stdout",
          "text": [
            "http://www.paxnet.co.kr/news/much?newsSetId=4667&currentPageNo=1&genDate=20220603&objId=N4667\n",
            "paxnet_news_rs length ==  20\n"
          ]
        }
      ]
    },
    {
      "cell_type": "code",
      "source": [
        "paxnet_title_df = pd.DataFrame(paxnet_news_rs, columns=['뉴스제목'])\n",
        "#paxnet_title_df['주가변동'] = 0  # all_data[\"Class\"] 값으로 맵핑 필요 (해당 일자에 맞춰 주가 상승, 보합, 하락에 따라 분류)\n",
        "paxnet_title_df"
      ],
      "metadata": {
        "colab": {
          "base_uri": "https://localhost:8080/",
          "height": 677
        },
        "id": "HwzmAsr64_sn",
        "outputId": "ab42ce7d-a791-4337-8097-21ec0cf070ce"
      },
      "execution_count": null,
      "outputs": [
        {
          "output_type": "execute_result",
          "data": {
            "text/plain": [
              "                                               뉴스제목\n",
              "0                                        국내 환율 마감시황\n",
              "1   FTSE100(영국) : Platinum Jubilee Bank Holiday로 휴장\n",
              "2                                    국내 채권금리 동향(마감)\n",
              "3              항셍지수(홍콩) : 단오절(Tuen Ng Festival)로 휴장\n",
              "4                                         뉴욕증시 마감시황\n",
              "5                                 미국 주요기업 주가등락률(마감)\n",
              "6                                     미국 주요 ETF 등락률\n",
              "7                                         미국시장 테마시황\n",
              "8              [뉴욕증시] 테슬라·메타 급등에 일제히 상승…나스닥 2.69% ↑\n",
              "9                                       국내외 주요 마감지수\n",
              "10                      증시요약(9) - 기술적 분석 특징주 A(코스닥)\n",
              "11                                        국제유가 마감시황\n",
              "12                  한국도 'S 공포' 관망세…국내 증시, 힘겹게 상승 마감\n",
              "13                      증시요약(7) - 기술적 분석 특징주 A(코스피)\n",
              "14                     증시요약(10) - 기술적 분석 특징주 B(코스닥)\n",
              "15                      증시요약(8) - 기술적 분석 특징주 B(코스피)\n",
              "16                          증시요약(6) - 특징 상한가 및 급등종목\n",
              "17                                  주요환율 및 반도체/상품동향\n",
              "18              [뉴욕증시]MS 실적 부진 딛고 '깜짝 반등'…나스닥 2.7%↑\n",
              "19            [뉴욕증시]Fed 속도조절 기대감에 기술주 랠리…나스닥 2.69%↑"
            ],
            "text/html": [
              "\n",
              "  <div id=\"df-a7c08b0c-1e63-45c7-a236-2619660de022\">\n",
              "    <div class=\"colab-df-container\">\n",
              "      <div>\n",
              "<style scoped>\n",
              "    .dataframe tbody tr th:only-of-type {\n",
              "        vertical-align: middle;\n",
              "    }\n",
              "\n",
              "    .dataframe tbody tr th {\n",
              "        vertical-align: top;\n",
              "    }\n",
              "\n",
              "    .dataframe thead th {\n",
              "        text-align: right;\n",
              "    }\n",
              "</style>\n",
              "<table border=\"1\" class=\"dataframe\">\n",
              "  <thead>\n",
              "    <tr style=\"text-align: right;\">\n",
              "      <th></th>\n",
              "      <th>뉴스제목</th>\n",
              "    </tr>\n",
              "  </thead>\n",
              "  <tbody>\n",
              "    <tr>\n",
              "      <th>0</th>\n",
              "      <td>국내 환율 마감시황</td>\n",
              "    </tr>\n",
              "    <tr>\n",
              "      <th>1</th>\n",
              "      <td>FTSE100(영국) : Platinum Jubilee Bank Holiday로 휴장</td>\n",
              "    </tr>\n",
              "    <tr>\n",
              "      <th>2</th>\n",
              "      <td>국내 채권금리 동향(마감)</td>\n",
              "    </tr>\n",
              "    <tr>\n",
              "      <th>3</th>\n",
              "      <td>항셍지수(홍콩) : 단오절(Tuen Ng Festival)로 휴장</td>\n",
              "    </tr>\n",
              "    <tr>\n",
              "      <th>4</th>\n",
              "      <td>뉴욕증시 마감시황</td>\n",
              "    </tr>\n",
              "    <tr>\n",
              "      <th>5</th>\n",
              "      <td>미국 주요기업 주가등락률(마감)</td>\n",
              "    </tr>\n",
              "    <tr>\n",
              "      <th>6</th>\n",
              "      <td>미국 주요 ETF 등락률</td>\n",
              "    </tr>\n",
              "    <tr>\n",
              "      <th>7</th>\n",
              "      <td>미국시장 테마시황</td>\n",
              "    </tr>\n",
              "    <tr>\n",
              "      <th>8</th>\n",
              "      <td>[뉴욕증시] 테슬라·메타 급등에 일제히 상승…나스닥 2.69% ↑</td>\n",
              "    </tr>\n",
              "    <tr>\n",
              "      <th>9</th>\n",
              "      <td>국내외 주요 마감지수</td>\n",
              "    </tr>\n",
              "    <tr>\n",
              "      <th>10</th>\n",
              "      <td>증시요약(9) - 기술적 분석 특징주 A(코스닥)</td>\n",
              "    </tr>\n",
              "    <tr>\n",
              "      <th>11</th>\n",
              "      <td>국제유가 마감시황</td>\n",
              "    </tr>\n",
              "    <tr>\n",
              "      <th>12</th>\n",
              "      <td>한국도 'S 공포' 관망세…국내 증시, 힘겹게 상승 마감</td>\n",
              "    </tr>\n",
              "    <tr>\n",
              "      <th>13</th>\n",
              "      <td>증시요약(7) - 기술적 분석 특징주 A(코스피)</td>\n",
              "    </tr>\n",
              "    <tr>\n",
              "      <th>14</th>\n",
              "      <td>증시요약(10) - 기술적 분석 특징주 B(코스닥)</td>\n",
              "    </tr>\n",
              "    <tr>\n",
              "      <th>15</th>\n",
              "      <td>증시요약(8) - 기술적 분석 특징주 B(코스피)</td>\n",
              "    </tr>\n",
              "    <tr>\n",
              "      <th>16</th>\n",
              "      <td>증시요약(6) - 특징 상한가 및 급등종목</td>\n",
              "    </tr>\n",
              "    <tr>\n",
              "      <th>17</th>\n",
              "      <td>주요환율 및 반도체/상품동향</td>\n",
              "    </tr>\n",
              "    <tr>\n",
              "      <th>18</th>\n",
              "      <td>[뉴욕증시]MS 실적 부진 딛고 '깜짝 반등'…나스닥 2.7%↑</td>\n",
              "    </tr>\n",
              "    <tr>\n",
              "      <th>19</th>\n",
              "      <td>[뉴욕증시]Fed 속도조절 기대감에 기술주 랠리…나스닥 2.69%↑</td>\n",
              "    </tr>\n",
              "  </tbody>\n",
              "</table>\n",
              "</div>\n",
              "      <button class=\"colab-df-convert\" onclick=\"convertToInteractive('df-a7c08b0c-1e63-45c7-a236-2619660de022')\"\n",
              "              title=\"Convert this dataframe to an interactive table.\"\n",
              "              style=\"display:none;\">\n",
              "        \n",
              "  <svg xmlns=\"http://www.w3.org/2000/svg\" height=\"24px\"viewBox=\"0 0 24 24\"\n",
              "       width=\"24px\">\n",
              "    <path d=\"M0 0h24v24H0V0z\" fill=\"none\"/>\n",
              "    <path d=\"M18.56 5.44l.94 2.06.94-2.06 2.06-.94-2.06-.94-.94-2.06-.94 2.06-2.06.94zm-11 1L8.5 8.5l.94-2.06 2.06-.94-2.06-.94L8.5 2.5l-.94 2.06-2.06.94zm10 10l.94 2.06.94-2.06 2.06-.94-2.06-.94-.94-2.06-.94 2.06-2.06.94z\"/><path d=\"M17.41 7.96l-1.37-1.37c-.4-.4-.92-.59-1.43-.59-.52 0-1.04.2-1.43.59L10.3 9.45l-7.72 7.72c-.78.78-.78 2.05 0 2.83L4 21.41c.39.39.9.59 1.41.59.51 0 1.02-.2 1.41-.59l7.78-7.78 2.81-2.81c.8-.78.8-2.07 0-2.86zM5.41 20L4 18.59l7.72-7.72 1.47 1.35L5.41 20z\"/>\n",
              "  </svg>\n",
              "      </button>\n",
              "      \n",
              "  <style>\n",
              "    .colab-df-container {\n",
              "      display:flex;\n",
              "      flex-wrap:wrap;\n",
              "      gap: 12px;\n",
              "    }\n",
              "\n",
              "    .colab-df-convert {\n",
              "      background-color: #E8F0FE;\n",
              "      border: none;\n",
              "      border-radius: 50%;\n",
              "      cursor: pointer;\n",
              "      display: none;\n",
              "      fill: #1967D2;\n",
              "      height: 32px;\n",
              "      padding: 0 0 0 0;\n",
              "      width: 32px;\n",
              "    }\n",
              "\n",
              "    .colab-df-convert:hover {\n",
              "      background-color: #E2EBFA;\n",
              "      box-shadow: 0px 1px 2px rgba(60, 64, 67, 0.3), 0px 1px 3px 1px rgba(60, 64, 67, 0.15);\n",
              "      fill: #174EA6;\n",
              "    }\n",
              "\n",
              "    [theme=dark] .colab-df-convert {\n",
              "      background-color: #3B4455;\n",
              "      fill: #D2E3FC;\n",
              "    }\n",
              "\n",
              "    [theme=dark] .colab-df-convert:hover {\n",
              "      background-color: #434B5C;\n",
              "      box-shadow: 0px 1px 3px 1px rgba(0, 0, 0, 0.15);\n",
              "      filter: drop-shadow(0px 1px 2px rgba(0, 0, 0, 0.3));\n",
              "      fill: #FFFFFF;\n",
              "    }\n",
              "  </style>\n",
              "\n",
              "      <script>\n",
              "        const buttonEl =\n",
              "          document.querySelector('#df-a7c08b0c-1e63-45c7-a236-2619660de022 button.colab-df-convert');\n",
              "        buttonEl.style.display =\n",
              "          google.colab.kernel.accessAllowed ? 'block' : 'none';\n",
              "\n",
              "        async function convertToInteractive(key) {\n",
              "          const element = document.querySelector('#df-a7c08b0c-1e63-45c7-a236-2619660de022');\n",
              "          const dataTable =\n",
              "            await google.colab.kernel.invokeFunction('convertToInteractive',\n",
              "                                                     [key], {});\n",
              "          if (!dataTable) return;\n",
              "\n",
              "          const docLinkHtml = 'Like what you see? Visit the ' +\n",
              "            '<a target=\"_blank\" href=https://colab.research.google.com/notebooks/data_table.ipynb>data table notebook</a>'\n",
              "            + ' to learn more about interactive tables.';\n",
              "          element.innerHTML = '';\n",
              "          dataTable['output_type'] = 'display_data';\n",
              "          await google.colab.output.renderOutput(dataTable, element);\n",
              "          const docLink = document.createElement('div');\n",
              "          docLink.innerHTML = docLinkHtml;\n",
              "          element.appendChild(docLink);\n",
              "        }\n",
              "      </script>\n",
              "    </div>\n",
              "  </div>\n",
              "  "
            ]
          },
          "metadata": {},
          "execution_count": 57
        }
      ]
    },
    {
      "cell_type": "markdown",
      "source": [
        "###네이버 > 금융 > 많이본뉴스"
      ],
      "metadata": {
        "id": "xrR8M7IivzRP"
      }
    },
    {
      "cell_type": "code",
      "source": [
        "def naver_news_title(date_list):\n",
        "  # 네이버 > 금융 > 많이본뉴스\n",
        "  naver_url = 'https://finance.naver.com/news/news_list.naver?mode=RANK&page={}&date={}'\n",
        "  \n",
        "  webheader = {\n",
        "      'User-Agent':'Mozilla/5.0 (Windows NT 10.0; Win64; x64) AppleWebKit/537.36 (KHTML, like Gecko) Chrome/84.0.4147.89 Safari/537.36'\n",
        "  }\n",
        "\n",
        "  naver_result = []\n",
        "  naver_error_cnt = 0\n",
        "\n",
        "  for t_date in date_list:\n",
        "    for pagecnt in range(1, 2):\n",
        "      target_url = naver_url.format(pagecnt, t_date)\n",
        "      print(target_url)\n",
        "      responseData = requests.get(target_url, headers=webheader)\n",
        "      if responseData.status_code == 200:\n",
        "        resParse = BeautifulSoup(responseData.text)\n",
        "        title_list = resParse.select('ul.simpleNewsList li')\n",
        "        for ttt in title_list:\n",
        "          #print(\"-----------------\\n\")\n",
        "          #print(ttt)\n",
        "          try:\n",
        "            #news_title = ttt.select_one('li').text.strip()\n",
        "            news_title = ttt.select_one('a').text.strip()\n",
        "            #print(\"news_title==\",news_title)\n",
        "            naver_result.append([news_title])\n",
        "          except:\n",
        "            naver_error_cnt += 1\n",
        "  return naver_result"
      ],
      "metadata": {
        "id": "3j9VMl43Ez99"
      },
      "execution_count": null,
      "outputs": []
    },
    {
      "cell_type": "code",
      "source": [
        "naver_news_rs = naver_news_title(df_target_date[\"Date\"].tail(1)) # 샘플로 최근 1일자만 추출해봄\n",
        "print(\"naver_news_rs length == \", len( naver_news_rs ) )"
      ],
      "metadata": {
        "colab": {
          "base_uri": "https://localhost:8080/"
        },
        "id": "qrn8JI-XGuCF",
        "outputId": "f4b9620c-53c3-408e-e551-6ebc456a1ba6"
      },
      "execution_count": null,
      "outputs": [
        {
          "output_type": "stream",
          "name": "stdout",
          "text": [
            "https://finance.naver.com/news/news_list.naver?mode=RANK&page=1&date=20220603\n",
            "naver_news_rs length ==  25\n"
          ]
        }
      ]
    },
    {
      "cell_type": "code",
      "source": [
        "naver_title_df = pd.DataFrame(naver_news_rs, columns=['뉴스제목'])\n",
        "#naver_title_df['주가변동'] = 0  # all_data[\"Class\"] 값으로 맵핑 필요 (해당 일자에 맞춰 주가 상승, 보합, 하락에 따라 분류)\n",
        "naver_title_df"
      ],
      "metadata": {
        "colab": {
          "base_uri": "https://localhost:8080/",
          "height": 833
        },
        "id": "t6B8aN01GxgN",
        "outputId": "1511784c-b21a-4d9a-c50d-ab58d56ad47e"
      },
      "execution_count": null,
      "outputs": [
        {
          "output_type": "execute_result",
          "data": {
            "text/plain": [
              "                                     뉴스제목\n",
              "0   델리오, 첫 콜라보 NFT ‘클레이다이노 블루베이 에디션’ 경매..\n",
              "1     [특징주] 한국조선해양, 수주 계약 취소에도… 주가는 2% 상승\n",
              "2            거래소, ITX-AI 상장적격성 실질심사 사유 추가\n",
              "3              [특징주] 인천공항 국제선 정상화에 항공주 강세\n",
              "4   [특징주] 우크라 외교차관 방한에 재건주 '강세'… 서암기계공업..\n",
              "5   [특징주] 청담글로벌, 코스닥 상장 첫날 공모가 대비 27%↑(..\n",
              "6          금융위, 중기 특화 증권사 7곳 지정…케이프·DS 포함\n",
              "7                  에스티아이, 잉크젯 장비 수주 계약 체결\n",
              "8   [특징주]디와이파워, 재건 중장비 '근육' 담당…우크라이나 재건..\n",
              "9      상승장서 소외된 건설주, 선거 뒤 탄력받을까…증권가는 \"사라\"\n",
              "10                      금리 인상에…4대 금융주 기지개\n",
              "11                  피치, 에버그란데 자회사 신용등급 철회\n",
              "12  [특징주] 두산에너빌리티, 두산메카텍 1000억에 매각… 두산,..\n",
              "13  [특징주]자연과환경, 주한미군 용산부지 반환...'尹공약' 공원..\n",
              "14           [속보] 테슬라 4.68% 급등한 775달러에 마감\n",
              "15  [기업공시 6월 2일]티움바이오, 미국 MSD와 공동 임상·의약..\n",
              "16         [특징주]카카오, 나스닥 상승세·저점매수세에 4%대 ↑\n",
              "17  [특징주] 씨아이에스, 노스볼트와 2차전지 전극공정 장비 공급계..\n",
              "18  \"자식 배만 불리냐\"…뿔난 한화 주주들, 김승연 회장 집에 '우..\n",
              "19        [마켓인]엔데믹에 들썩이는 여행업계…기관은 심드렁한 이유\n",
              "20          금융주, 금리인상 대목 왔다…외국인 장바구니에 '쏙'\n",
              "21  美5월 고용보고서 \"일자리 323,000개 창출, 실업률 3.5..\n",
              "22       물가 상승 둔화되니 경기 우려…2Q 어닝쇼크 예상 종목은?\n",
              "23                      [e공시 눈에 띄네]코스닥-2일\n",
              "24  한국조선해양 자회사 현대삼호중공업, 5724억에 LNGC 2척 .."
            ],
            "text/html": [
              "\n",
              "  <div id=\"df-b66e9e14-0c74-4647-9e3f-e3da53817d8e\">\n",
              "    <div class=\"colab-df-container\">\n",
              "      <div>\n",
              "<style scoped>\n",
              "    .dataframe tbody tr th:only-of-type {\n",
              "        vertical-align: middle;\n",
              "    }\n",
              "\n",
              "    .dataframe tbody tr th {\n",
              "        vertical-align: top;\n",
              "    }\n",
              "\n",
              "    .dataframe thead th {\n",
              "        text-align: right;\n",
              "    }\n",
              "</style>\n",
              "<table border=\"1\" class=\"dataframe\">\n",
              "  <thead>\n",
              "    <tr style=\"text-align: right;\">\n",
              "      <th></th>\n",
              "      <th>뉴스제목</th>\n",
              "    </tr>\n",
              "  </thead>\n",
              "  <tbody>\n",
              "    <tr>\n",
              "      <th>0</th>\n",
              "      <td>델리오, 첫 콜라보 NFT ‘클레이다이노 블루베이 에디션’ 경매..</td>\n",
              "    </tr>\n",
              "    <tr>\n",
              "      <th>1</th>\n",
              "      <td>[특징주] 한국조선해양, 수주 계약 취소에도… 주가는 2% 상승</td>\n",
              "    </tr>\n",
              "    <tr>\n",
              "      <th>2</th>\n",
              "      <td>거래소, ITX-AI 상장적격성 실질심사 사유 추가</td>\n",
              "    </tr>\n",
              "    <tr>\n",
              "      <th>3</th>\n",
              "      <td>[특징주] 인천공항 국제선 정상화에 항공주 강세</td>\n",
              "    </tr>\n",
              "    <tr>\n",
              "      <th>4</th>\n",
              "      <td>[특징주] 우크라 외교차관 방한에 재건주 '강세'… 서암기계공업..</td>\n",
              "    </tr>\n",
              "    <tr>\n",
              "      <th>5</th>\n",
              "      <td>[특징주] 청담글로벌, 코스닥 상장 첫날 공모가 대비 27%↑(..</td>\n",
              "    </tr>\n",
              "    <tr>\n",
              "      <th>6</th>\n",
              "      <td>금융위, 중기 특화 증권사 7곳 지정…케이프·DS 포함</td>\n",
              "    </tr>\n",
              "    <tr>\n",
              "      <th>7</th>\n",
              "      <td>에스티아이, 잉크젯 장비 수주 계약 체결</td>\n",
              "    </tr>\n",
              "    <tr>\n",
              "      <th>8</th>\n",
              "      <td>[특징주]디와이파워, 재건 중장비 '근육' 담당…우크라이나 재건..</td>\n",
              "    </tr>\n",
              "    <tr>\n",
              "      <th>9</th>\n",
              "      <td>상승장서 소외된 건설주, 선거 뒤 탄력받을까…증권가는 \"사라\"</td>\n",
              "    </tr>\n",
              "    <tr>\n",
              "      <th>10</th>\n",
              "      <td>금리 인상에…4대 금융주 기지개</td>\n",
              "    </tr>\n",
              "    <tr>\n",
              "      <th>11</th>\n",
              "      <td>피치, 에버그란데 자회사 신용등급 철회</td>\n",
              "    </tr>\n",
              "    <tr>\n",
              "      <th>12</th>\n",
              "      <td>[특징주] 두산에너빌리티, 두산메카텍 1000억에 매각… 두산,..</td>\n",
              "    </tr>\n",
              "    <tr>\n",
              "      <th>13</th>\n",
              "      <td>[특징주]자연과환경, 주한미군 용산부지 반환...'尹공약' 공원..</td>\n",
              "    </tr>\n",
              "    <tr>\n",
              "      <th>14</th>\n",
              "      <td>[속보] 테슬라 4.68% 급등한 775달러에 마감</td>\n",
              "    </tr>\n",
              "    <tr>\n",
              "      <th>15</th>\n",
              "      <td>[기업공시 6월 2일]티움바이오, 미국 MSD와 공동 임상·의약..</td>\n",
              "    </tr>\n",
              "    <tr>\n",
              "      <th>16</th>\n",
              "      <td>[특징주]카카오, 나스닥 상승세·저점매수세에 4%대 ↑</td>\n",
              "    </tr>\n",
              "    <tr>\n",
              "      <th>17</th>\n",
              "      <td>[특징주] 씨아이에스, 노스볼트와 2차전지 전극공정 장비 공급계..</td>\n",
              "    </tr>\n",
              "    <tr>\n",
              "      <th>18</th>\n",
              "      <td>\"자식 배만 불리냐\"…뿔난 한화 주주들, 김승연 회장 집에 '우..</td>\n",
              "    </tr>\n",
              "    <tr>\n",
              "      <th>19</th>\n",
              "      <td>[마켓인]엔데믹에 들썩이는 여행업계…기관은 심드렁한 이유</td>\n",
              "    </tr>\n",
              "    <tr>\n",
              "      <th>20</th>\n",
              "      <td>금융주, 금리인상 대목 왔다…외국인 장바구니에 '쏙'</td>\n",
              "    </tr>\n",
              "    <tr>\n",
              "      <th>21</th>\n",
              "      <td>美5월 고용보고서 \"일자리 323,000개 창출, 실업률 3.5..</td>\n",
              "    </tr>\n",
              "    <tr>\n",
              "      <th>22</th>\n",
              "      <td>물가 상승 둔화되니 경기 우려…2Q 어닝쇼크 예상 종목은?</td>\n",
              "    </tr>\n",
              "    <tr>\n",
              "      <th>23</th>\n",
              "      <td>[e공시 눈에 띄네]코스닥-2일</td>\n",
              "    </tr>\n",
              "    <tr>\n",
              "      <th>24</th>\n",
              "      <td>한국조선해양 자회사 현대삼호중공업, 5724억에 LNGC 2척 ..</td>\n",
              "    </tr>\n",
              "  </tbody>\n",
              "</table>\n",
              "</div>\n",
              "      <button class=\"colab-df-convert\" onclick=\"convertToInteractive('df-b66e9e14-0c74-4647-9e3f-e3da53817d8e')\"\n",
              "              title=\"Convert this dataframe to an interactive table.\"\n",
              "              style=\"display:none;\">\n",
              "        \n",
              "  <svg xmlns=\"http://www.w3.org/2000/svg\" height=\"24px\"viewBox=\"0 0 24 24\"\n",
              "       width=\"24px\">\n",
              "    <path d=\"M0 0h24v24H0V0z\" fill=\"none\"/>\n",
              "    <path d=\"M18.56 5.44l.94 2.06.94-2.06 2.06-.94-2.06-.94-.94-2.06-.94 2.06-2.06.94zm-11 1L8.5 8.5l.94-2.06 2.06-.94-2.06-.94L8.5 2.5l-.94 2.06-2.06.94zm10 10l.94 2.06.94-2.06 2.06-.94-2.06-.94-.94-2.06-.94 2.06-2.06.94z\"/><path d=\"M17.41 7.96l-1.37-1.37c-.4-.4-.92-.59-1.43-.59-.52 0-1.04.2-1.43.59L10.3 9.45l-7.72 7.72c-.78.78-.78 2.05 0 2.83L4 21.41c.39.39.9.59 1.41.59.51 0 1.02-.2 1.41-.59l7.78-7.78 2.81-2.81c.8-.78.8-2.07 0-2.86zM5.41 20L4 18.59l7.72-7.72 1.47 1.35L5.41 20z\"/>\n",
              "  </svg>\n",
              "      </button>\n",
              "      \n",
              "  <style>\n",
              "    .colab-df-container {\n",
              "      display:flex;\n",
              "      flex-wrap:wrap;\n",
              "      gap: 12px;\n",
              "    }\n",
              "\n",
              "    .colab-df-convert {\n",
              "      background-color: #E8F0FE;\n",
              "      border: none;\n",
              "      border-radius: 50%;\n",
              "      cursor: pointer;\n",
              "      display: none;\n",
              "      fill: #1967D2;\n",
              "      height: 32px;\n",
              "      padding: 0 0 0 0;\n",
              "      width: 32px;\n",
              "    }\n",
              "\n",
              "    .colab-df-convert:hover {\n",
              "      background-color: #E2EBFA;\n",
              "      box-shadow: 0px 1px 2px rgba(60, 64, 67, 0.3), 0px 1px 3px 1px rgba(60, 64, 67, 0.15);\n",
              "      fill: #174EA6;\n",
              "    }\n",
              "\n",
              "    [theme=dark] .colab-df-convert {\n",
              "      background-color: #3B4455;\n",
              "      fill: #D2E3FC;\n",
              "    }\n",
              "\n",
              "    [theme=dark] .colab-df-convert:hover {\n",
              "      background-color: #434B5C;\n",
              "      box-shadow: 0px 1px 3px 1px rgba(0, 0, 0, 0.15);\n",
              "      filter: drop-shadow(0px 1px 2px rgba(0, 0, 0, 0.3));\n",
              "      fill: #FFFFFF;\n",
              "    }\n",
              "  </style>\n",
              "\n",
              "      <script>\n",
              "        const buttonEl =\n",
              "          document.querySelector('#df-b66e9e14-0c74-4647-9e3f-e3da53817d8e button.colab-df-convert');\n",
              "        buttonEl.style.display =\n",
              "          google.colab.kernel.accessAllowed ? 'block' : 'none';\n",
              "\n",
              "        async function convertToInteractive(key) {\n",
              "          const element = document.querySelector('#df-b66e9e14-0c74-4647-9e3f-e3da53817d8e');\n",
              "          const dataTable =\n",
              "            await google.colab.kernel.invokeFunction('convertToInteractive',\n",
              "                                                     [key], {});\n",
              "          if (!dataTable) return;\n",
              "\n",
              "          const docLinkHtml = 'Like what you see? Visit the ' +\n",
              "            '<a target=\"_blank\" href=https://colab.research.google.com/notebooks/data_table.ipynb>data table notebook</a>'\n",
              "            + ' to learn more about interactive tables.';\n",
              "          element.innerHTML = '';\n",
              "          dataTable['output_type'] = 'display_data';\n",
              "          await google.colab.output.renderOutput(dataTable, element);\n",
              "          const docLink = document.createElement('div');\n",
              "          docLink.innerHTML = docLinkHtml;\n",
              "          element.appendChild(docLink);\n",
              "        }\n",
              "      </script>\n",
              "    </div>\n",
              "  </div>\n",
              "  "
            ]
          },
          "metadata": {},
          "execution_count": 60
        }
      ]
    },
    {
      "cell_type": "markdown",
      "source": [
        "### 네이버 > 금융 > 뉴스포커스(시황/전망)"
      ],
      "metadata": {
        "id": "f9XgHwF8vvy3"
      }
    },
    {
      "cell_type": "code",
      "source": [
        "def naver_market_news_title(date_list):\n",
        "  # 네이버 > 금융 > 뉴스포커스(시황/전망)\n",
        "  naver_market_url = 'https://finance.naver.com/news/news_list.naver?mode=LSS3D&section_id=101&section_id2=258&section_id3=401&page={}&date={}'\n",
        "  \n",
        "  webheader = {\n",
        "      'User-Agent':'Mozilla/5.0 (Windows NT 10.0; Win64; x64) AppleWebKit/537.36 (KHTML, like Gecko) Chrome/84.0.4147.89 Safari/537.36'\n",
        "  }\n",
        "\n",
        "  naver_market_result = []\n",
        "  naver_market_error_cnt = 0\n",
        "\n",
        "  for t_date in date_list:\n",
        "    for pagecnt in range(1, 2):\n",
        "      target_url = naver_market_url.format(pagecnt, t_date)\n",
        "      print(target_url)\n",
        "      responseData = requests.get(target_url, headers=webheader)\n",
        "      if responseData.status_code == 200:\n",
        "        resParse = BeautifulSoup(responseData.text)\n",
        "        title_list = resParse.select('dd.articleSubject')\n",
        "        for ttt in title_list:\n",
        "          #print(\"-----------------\\n\")\n",
        "          #print(ttt)\n",
        "          try:\n",
        "            #news_title = ttt.select_one('li').text.strip()\n",
        "            news_title = ttt.select_one('a').text.strip()\n",
        "            #print(\"news_title==\",news_title)\n",
        "            naver_market_result.append([news_title])\n",
        "          except:\n",
        "            naver_market_error_cnt += 1\n",
        "  return naver_market_result"
      ],
      "metadata": {
        "id": "-yBzCV6xPeG8"
      },
      "execution_count": null,
      "outputs": []
    },
    {
      "cell_type": "code",
      "source": [
        "naver_market_news_rs = naver_market_news_title(df_target_date[\"Date\"].tail(1)) # 샘플로 최근 1일자만 추출해봄\n",
        "print(\"naver_market_news_rs length == \", len( naver_market_news_rs ) )"
      ],
      "metadata": {
        "colab": {
          "base_uri": "https://localhost:8080/"
        },
        "id": "mxmDRkPqP96T",
        "outputId": "fb616368-49fc-46ee-8272-ab0fb612c1da"
      },
      "execution_count": null,
      "outputs": [
        {
          "output_type": "stream",
          "name": "stdout",
          "text": [
            "https://finance.naver.com/news/news_list.naver?mode=LSS3D&section_id=101&section_id2=258&section_id3=401&page=1&date=20220603\n",
            "naver_market_news_rs length ==  18\n"
          ]
        }
      ]
    },
    {
      "cell_type": "code",
      "source": [
        "naver_market_title_df = pd.DataFrame(naver_market_news_rs, columns=['뉴스제목'])\n",
        "#naver_market_title_df['주가변동'] = 0  # all_data[\"Class\"] 값으로 맵핑 필요 (해당 일자에 맞춰 주가 상승, 보합, 하락에 따라 분류)\n",
        "naver_market_title_df"
      ],
      "metadata": {
        "colab": {
          "base_uri": "https://localhost:8080/",
          "height": 614
        },
        "id": "1M8dzIUYP_Wz",
        "outputId": "9e493dcc-70ae-4116-b9fb-25f4ff6612ce"
      },
      "execution_count": null,
      "outputs": [
        {
          "output_type": "execute_result",
          "data": {
            "text/plain": [
              "                                        뉴스제목\n",
              "0                 한국투자증권, 미국 부동산 투자자문 서비스 개시\n",
              "1         [표]유가증권·코스닥 투자주체별 매매동향(5월 31일-최종치)\n",
              "2   '목표가 93만원→48만원'…삼성SDI 혹평한 씨티증권에 '소나기 반박'\n",
              "3                         [표] 주간 수익률 베스트&워스트\n",
              "4                       [표] 주요 증시 지표 (6월 3일)\n",
              "5          [ETF줌인] 명품 투자 ETF…면세점 매출 회복 수혜 기대\n",
              "6                  대신증권, '비상장주식 안심거래 서비스' 실시\n",
              "7                     [장외주식] 쓰리디팩토리 나흘 연속 상승\n",
              "8                   [표]코스피200지수 옵션 시세(6월 3일)\n",
              "9             [표]코스피200지수·국채·달러 선물 시세(6월 3일)\n",
              "10                       [표]채권 수익률 현황(6월 3일)\n",
              "11                             코스피 2,670선 마감\n",
              "12         \"주식에 관심 끄려고요\"…박스피에 질린 개미들, 증시 떠났다\n",
              "13          \"배당주에도 '옥석 가리기' 필요\"…돈 몰리는 펀드 봤더니\n",
              "14           한국도 'S 공포' 관망세…국내 증시, 힘겹게 상승 마감\n",
              "15       코스피, 기관 매수에 0.44% 상승…2,670대 턱걸이(종합)\n",
              "16                                 코스피 상승 마감\n",
              "17                                 코스피 상승 마감"
            ],
            "text/html": [
              "\n",
              "  <div id=\"df-54a5ebcf-dcfe-439b-bcc7-cea12117e3d3\">\n",
              "    <div class=\"colab-df-container\">\n",
              "      <div>\n",
              "<style scoped>\n",
              "    .dataframe tbody tr th:only-of-type {\n",
              "        vertical-align: middle;\n",
              "    }\n",
              "\n",
              "    .dataframe tbody tr th {\n",
              "        vertical-align: top;\n",
              "    }\n",
              "\n",
              "    .dataframe thead th {\n",
              "        text-align: right;\n",
              "    }\n",
              "</style>\n",
              "<table border=\"1\" class=\"dataframe\">\n",
              "  <thead>\n",
              "    <tr style=\"text-align: right;\">\n",
              "      <th></th>\n",
              "      <th>뉴스제목</th>\n",
              "    </tr>\n",
              "  </thead>\n",
              "  <tbody>\n",
              "    <tr>\n",
              "      <th>0</th>\n",
              "      <td>한국투자증권, 미국 부동산 투자자문 서비스 개시</td>\n",
              "    </tr>\n",
              "    <tr>\n",
              "      <th>1</th>\n",
              "      <td>[표]유가증권·코스닥 투자주체별 매매동향(5월 31일-최종치)</td>\n",
              "    </tr>\n",
              "    <tr>\n",
              "      <th>2</th>\n",
              "      <td>'목표가 93만원→48만원'…삼성SDI 혹평한 씨티증권에 '소나기 반박'</td>\n",
              "    </tr>\n",
              "    <tr>\n",
              "      <th>3</th>\n",
              "      <td>[표] 주간 수익률 베스트&amp;워스트</td>\n",
              "    </tr>\n",
              "    <tr>\n",
              "      <th>4</th>\n",
              "      <td>[표] 주요 증시 지표 (6월 3일)</td>\n",
              "    </tr>\n",
              "    <tr>\n",
              "      <th>5</th>\n",
              "      <td>[ETF줌인] 명품 투자 ETF…면세점 매출 회복 수혜 기대</td>\n",
              "    </tr>\n",
              "    <tr>\n",
              "      <th>6</th>\n",
              "      <td>대신증권, '비상장주식 안심거래 서비스' 실시</td>\n",
              "    </tr>\n",
              "    <tr>\n",
              "      <th>7</th>\n",
              "      <td>[장외주식] 쓰리디팩토리 나흘 연속 상승</td>\n",
              "    </tr>\n",
              "    <tr>\n",
              "      <th>8</th>\n",
              "      <td>[표]코스피200지수 옵션 시세(6월 3일)</td>\n",
              "    </tr>\n",
              "    <tr>\n",
              "      <th>9</th>\n",
              "      <td>[표]코스피200지수·국채·달러 선물 시세(6월 3일)</td>\n",
              "    </tr>\n",
              "    <tr>\n",
              "      <th>10</th>\n",
              "      <td>[표]채권 수익률 현황(6월 3일)</td>\n",
              "    </tr>\n",
              "    <tr>\n",
              "      <th>11</th>\n",
              "      <td>코스피 2,670선 마감</td>\n",
              "    </tr>\n",
              "    <tr>\n",
              "      <th>12</th>\n",
              "      <td>\"주식에 관심 끄려고요\"…박스피에 질린 개미들, 증시 떠났다</td>\n",
              "    </tr>\n",
              "    <tr>\n",
              "      <th>13</th>\n",
              "      <td>\"배당주에도 '옥석 가리기' 필요\"…돈 몰리는 펀드 봤더니</td>\n",
              "    </tr>\n",
              "    <tr>\n",
              "      <th>14</th>\n",
              "      <td>한국도 'S 공포' 관망세…국내 증시, 힘겹게 상승 마감</td>\n",
              "    </tr>\n",
              "    <tr>\n",
              "      <th>15</th>\n",
              "      <td>코스피, 기관 매수에 0.44% 상승…2,670대 턱걸이(종합)</td>\n",
              "    </tr>\n",
              "    <tr>\n",
              "      <th>16</th>\n",
              "      <td>코스피 상승 마감</td>\n",
              "    </tr>\n",
              "    <tr>\n",
              "      <th>17</th>\n",
              "      <td>코스피 상승 마감</td>\n",
              "    </tr>\n",
              "  </tbody>\n",
              "</table>\n",
              "</div>\n",
              "      <button class=\"colab-df-convert\" onclick=\"convertToInteractive('df-54a5ebcf-dcfe-439b-bcc7-cea12117e3d3')\"\n",
              "              title=\"Convert this dataframe to an interactive table.\"\n",
              "              style=\"display:none;\">\n",
              "        \n",
              "  <svg xmlns=\"http://www.w3.org/2000/svg\" height=\"24px\"viewBox=\"0 0 24 24\"\n",
              "       width=\"24px\">\n",
              "    <path d=\"M0 0h24v24H0V0z\" fill=\"none\"/>\n",
              "    <path d=\"M18.56 5.44l.94 2.06.94-2.06 2.06-.94-2.06-.94-.94-2.06-.94 2.06-2.06.94zm-11 1L8.5 8.5l.94-2.06 2.06-.94-2.06-.94L8.5 2.5l-.94 2.06-2.06.94zm10 10l.94 2.06.94-2.06 2.06-.94-2.06-.94-.94-2.06-.94 2.06-2.06.94z\"/><path d=\"M17.41 7.96l-1.37-1.37c-.4-.4-.92-.59-1.43-.59-.52 0-1.04.2-1.43.59L10.3 9.45l-7.72 7.72c-.78.78-.78 2.05 0 2.83L4 21.41c.39.39.9.59 1.41.59.51 0 1.02-.2 1.41-.59l7.78-7.78 2.81-2.81c.8-.78.8-2.07 0-2.86zM5.41 20L4 18.59l7.72-7.72 1.47 1.35L5.41 20z\"/>\n",
              "  </svg>\n",
              "      </button>\n",
              "      \n",
              "  <style>\n",
              "    .colab-df-container {\n",
              "      display:flex;\n",
              "      flex-wrap:wrap;\n",
              "      gap: 12px;\n",
              "    }\n",
              "\n",
              "    .colab-df-convert {\n",
              "      background-color: #E8F0FE;\n",
              "      border: none;\n",
              "      border-radius: 50%;\n",
              "      cursor: pointer;\n",
              "      display: none;\n",
              "      fill: #1967D2;\n",
              "      height: 32px;\n",
              "      padding: 0 0 0 0;\n",
              "      width: 32px;\n",
              "    }\n",
              "\n",
              "    .colab-df-convert:hover {\n",
              "      background-color: #E2EBFA;\n",
              "      box-shadow: 0px 1px 2px rgba(60, 64, 67, 0.3), 0px 1px 3px 1px rgba(60, 64, 67, 0.15);\n",
              "      fill: #174EA6;\n",
              "    }\n",
              "\n",
              "    [theme=dark] .colab-df-convert {\n",
              "      background-color: #3B4455;\n",
              "      fill: #D2E3FC;\n",
              "    }\n",
              "\n",
              "    [theme=dark] .colab-df-convert:hover {\n",
              "      background-color: #434B5C;\n",
              "      box-shadow: 0px 1px 3px 1px rgba(0, 0, 0, 0.15);\n",
              "      filter: drop-shadow(0px 1px 2px rgba(0, 0, 0, 0.3));\n",
              "      fill: #FFFFFF;\n",
              "    }\n",
              "  </style>\n",
              "\n",
              "      <script>\n",
              "        const buttonEl =\n",
              "          document.querySelector('#df-54a5ebcf-dcfe-439b-bcc7-cea12117e3d3 button.colab-df-convert');\n",
              "        buttonEl.style.display =\n",
              "          google.colab.kernel.accessAllowed ? 'block' : 'none';\n",
              "\n",
              "        async function convertToInteractive(key) {\n",
              "          const element = document.querySelector('#df-54a5ebcf-dcfe-439b-bcc7-cea12117e3d3');\n",
              "          const dataTable =\n",
              "            await google.colab.kernel.invokeFunction('convertToInteractive',\n",
              "                                                     [key], {});\n",
              "          if (!dataTable) return;\n",
              "\n",
              "          const docLinkHtml = 'Like what you see? Visit the ' +\n",
              "            '<a target=\"_blank\" href=https://colab.research.google.com/notebooks/data_table.ipynb>data table notebook</a>'\n",
              "            + ' to learn more about interactive tables.';\n",
              "          element.innerHTML = '';\n",
              "          dataTable['output_type'] = 'display_data';\n",
              "          await google.colab.output.renderOutput(dataTable, element);\n",
              "          const docLink = document.createElement('div');\n",
              "          docLink.innerHTML = docLinkHtml;\n",
              "          element.appendChild(docLink);\n",
              "        }\n",
              "      </script>\n",
              "    </div>\n",
              "  </div>\n",
              "  "
            ]
          },
          "metadata": {},
          "execution_count": 63
        }
      ]
    },
    {
      "cell_type": "markdown",
      "source": [
        "## 2) 금융 뉴스 감정 분석 : 삼성전자 뉴스\n",
        "- 사용 모델: snunlp/KR-FinBert-SC\n",
        "- https://huggingface.co/snunlp/KR-FinBert-SC\n",
        "- https://github.com/snunlp/KR-FinBert-SC"
      ],
      "metadata": {
        "id": "AWpNPgQNiYQv"
      }
    },
    {
      "cell_type": "markdown",
      "source": [
        "### 기본 환경 설치"
      ],
      "metadata": {
        "id": "aN5C-EPRwCzG"
      }
    },
    {
      "cell_type": "code",
      "source": [
        "!pip install transformers"
      ],
      "metadata": {
        "colab": {
          "base_uri": "https://localhost:8080/"
        },
        "id": "4yInx6XCD3xq",
        "outputId": "70bb162d-f885-4294-8eca-be2266550691"
      },
      "execution_count": null,
      "outputs": [
        {
          "output_type": "stream",
          "name": "stdout",
          "text": [
            "Looking in indexes: https://pypi.org/simple, https://us-python.pkg.dev/colab-wheels/public/simple/\n",
            "Collecting transformers\n",
            "  Downloading transformers-4.19.2-py3-none-any.whl (4.2 MB)\n",
            "\u001b[K     |████████████████████████████████| 4.2 MB 31.8 MB/s \n",
            "\u001b[?25hRequirement already satisfied: filelock in /usr/local/lib/python3.7/dist-packages (from transformers) (3.7.0)\n",
            "Requirement already satisfied: importlib-metadata in /usr/local/lib/python3.7/dist-packages (from transformers) (4.11.4)\n",
            "Requirement already satisfied: regex!=2019.12.17 in /usr/local/lib/python3.7/dist-packages (from transformers) (2019.12.20)\n",
            "Requirement already satisfied: requests in /usr/local/lib/python3.7/dist-packages (from transformers) (2.23.0)\n",
            "Collecting pyyaml>=5.1\n",
            "  Downloading PyYAML-6.0-cp37-cp37m-manylinux_2_5_x86_64.manylinux1_x86_64.manylinux_2_12_x86_64.manylinux2010_x86_64.whl (596 kB)\n",
            "\u001b[K     |████████████████████████████████| 596 kB 21.7 MB/s \n",
            "\u001b[?25hCollecting huggingface-hub<1.0,>=0.1.0\n",
            "  Downloading huggingface_hub-0.7.0-py3-none-any.whl (86 kB)\n",
            "\u001b[K     |████████████████████████████████| 86 kB 6.3 MB/s \n",
            "\u001b[?25hCollecting tokenizers!=0.11.3,<0.13,>=0.11.1\n",
            "  Downloading tokenizers-0.12.1-cp37-cp37m-manylinux_2_12_x86_64.manylinux2010_x86_64.whl (6.6 MB)\n",
            "\u001b[K     |████████████████████████████████| 6.6 MB 62.0 MB/s \n",
            "\u001b[?25hRequirement already satisfied: packaging>=20.0 in /usr/local/lib/python3.7/dist-packages (from transformers) (21.3)\n",
            "Requirement already satisfied: numpy>=1.17 in /usr/local/lib/python3.7/dist-packages (from transformers) (1.21.6)\n",
            "Requirement already satisfied: tqdm>=4.27 in /usr/local/lib/python3.7/dist-packages (from transformers) (4.64.0)\n",
            "Requirement already satisfied: typing-extensions>=3.7.4.3 in /usr/local/lib/python3.7/dist-packages (from huggingface-hub<1.0,>=0.1.0->transformers) (4.2.0)\n",
            "Requirement already satisfied: pyparsing!=3.0.5,>=2.0.2 in /usr/local/lib/python3.7/dist-packages (from packaging>=20.0->transformers) (3.0.9)\n",
            "Requirement already satisfied: zipp>=0.5 in /usr/local/lib/python3.7/dist-packages (from importlib-metadata->transformers) (3.8.0)\n",
            "Requirement already satisfied: chardet<4,>=3.0.2 in /usr/local/lib/python3.7/dist-packages (from requests->transformers) (3.0.4)\n",
            "Requirement already satisfied: urllib3!=1.25.0,!=1.25.1,<1.26,>=1.21.1 in /usr/local/lib/python3.7/dist-packages (from requests->transformers) (1.24.3)\n",
            "Requirement already satisfied: certifi>=2017.4.17 in /usr/local/lib/python3.7/dist-packages (from requests->transformers) (2022.5.18.1)\n",
            "Requirement already satisfied: idna<3,>=2.5 in /usr/local/lib/python3.7/dist-packages (from requests->transformers) (2.10)\n",
            "Installing collected packages: pyyaml, tokenizers, huggingface-hub, transformers\n",
            "  Attempting uninstall: pyyaml\n",
            "    Found existing installation: PyYAML 3.13\n",
            "    Uninstalling PyYAML-3.13:\n",
            "      Successfully uninstalled PyYAML-3.13\n",
            "Successfully installed huggingface-hub-0.7.0 pyyaml-6.0 tokenizers-0.12.1 transformers-4.19.2\n"
          ]
        }
      ]
    },
    {
      "cell_type": "code",
      "source": [
        "import pandas as pd\n",
        "import numpy as np\n",
        "from transformers import AutoTokenizer, AutoModelForSequenceClassification # pre-trained된 모델 로딩\n",
        "import torch\n",
        "\n",
        "import urllib.request # 데이터 파일 URL다운로드\n",
        "from tqdm import tqdm #모델 예측시 계산 진행상태를 보여줌\n",
        "\n",
        "#from torch.nn import functional as F\n",
        "from torch.utils.data import DataLoader, Dataset # 데이터셋을 분할하여 사용\n",
        "\n",
        "import gc #GPU 캐쉬 초기화"
      ],
      "metadata": {
        "id": "z40lyiYDELqq"
      },
      "execution_count": null,
      "outputs": []
    },
    {
      "cell_type": "code",
      "source": [
        "print(torch.cuda.is_available() ) # GPU가용성 확인\n",
        "print(torch.cuda.current_device() ) #현재 선택한 장치의 인덱스 \n",
        "print(torch.cuda.device_count() ) #사용할 수 있는 GPU 수\n",
        "print(torch.cuda.get_device_name(0) ) #장치 이름"
      ],
      "metadata": {
        "colab": {
          "base_uri": "https://localhost:8080/"
        },
        "id": "CElqgDgpr9Mj",
        "outputId": "894b926e-d75d-4a05-94bf-fd18fabd1420"
      },
      "execution_count": null,
      "outputs": [
        {
          "output_type": "stream",
          "name": "stdout",
          "text": [
            "True\n",
            "0\n",
            "1\n",
            "Tesla T4\n"
          ]
        }
      ]
    },
    {
      "cell_type": "code",
      "source": [
        "# GPU or CPU\n",
        "if torch.cuda.is_available():\n",
        "  device = torch.device(\"cuda\")\n",
        "  print('There are %d GPU(s) available.' % torch.cuda.device_count())\n",
        "  print('We will use the GPU:', torch.cuda.get_device_name(0))\n",
        "else:\n",
        "  device = torch.device(\"cpu\")\n",
        "  print('No GPU available, using the CPU instead.')"
      ],
      "metadata": {
        "colab": {
          "base_uri": "https://localhost:8080/"
        },
        "id": "q1h5G1qMuJQn",
        "outputId": "9b58101c-0ede-4373-e0d9-3f6528ed427e"
      },
      "execution_count": null,
      "outputs": [
        {
          "output_type": "stream",
          "name": "stdout",
          "text": [
            "There are 1 GPU(s) available.\n",
            "We will use the GPU: Tesla T4\n"
          ]
        }
      ]
    },
    {
      "cell_type": "code",
      "source": [
        "# GPU 캐쉬 비워줌\n",
        "gc.collect()\n",
        "torch.cuda.empty_cache()"
      ],
      "metadata": {
        "id": "G7IAhrdfwpjj"
      },
      "execution_count": null,
      "outputs": []
    },
    {
      "cell_type": "markdown",
      "source": [
        "### 데이터 준비: 금융 감성분석 샘플 - 모델 초기 확인용"
      ],
      "metadata": {
        "id": "zQm06FNWwJkp"
      }
    },
    {
      "cell_type": "code",
      "source": [
        "class Dataset_finance_emoton_csv(Dataset):\n",
        "  def __init__(self, file_name):\n",
        "    # --- 전처리 1 start ------------------------\n",
        "    urllib.request.urlretrieve(\"https://raw.githubusercontent.com/ukairia777/finance_sentiment_corpus/main/finance_data.csv\", filename=\"finance_emoton_data.csv\")\n",
        "    self.dataset = pd.read_csv('finance_emoton_data.csv')\n",
        "    #self.dataset = pd.read_csv(file_name, sep=',')\n",
        "\n",
        "    # tokenizer\n",
        "    self.tokenizer = AutoTokenizer.from_pretrained(\"snunlp/KR-FinBert-SC\")\n",
        "    \n",
        "    # --- 전처리 1 end ------------------------\n",
        "  \n",
        "  def __len__(self):\n",
        "    return len(self.dataset)\n",
        "  \n",
        "  def clean_text(self, txt):\n",
        "    # --- 전처리 2 start ----------------------\n",
        "    cleaned = self.sub1.sub('', txt.strip())  # .strip()은 문장의 앞뒤 공백제거함\n",
        "    cleaned = self.sub2.sub(' ', cleaned)\n",
        "    cleaned = self.sub3.sub('.', cleaned)\n",
        "    #cleaned = emoticon_normalize(cleaned, num_repeats=3) # 감정 반복 단순화\n",
        "    #cleaned = repeat_normalize(cleaned, num_repeats=2) # 중복 글자 단순화\n",
        "    #cleaned = only_text(cleaned) # text만 추출\n",
        "    #cleaned = only_hangle(cleaned) # 한글만 추출\n",
        "    #cleaned = only_hangle_number(cleaned) # 한글/숫자만 추출\n",
        "\n",
        "    #if len(ssStr) > 1:\n",
        "    cleaned = \"[CLS] \" + cleaned + \" [SEP]\"\n",
        "    # --- 전처리 2 end ------------------------\n",
        "    return cleaned\n",
        "\n",
        "  \n",
        "  def __getitem__(self, idx):\n",
        "\n",
        "    text = self.dataset['kor_sentence'][idx]\n",
        "\n",
        "    inputs = self.tokenizer(\n",
        "        text, \n",
        "        return_tensors='pt',\n",
        "        truncation=True,\n",
        "        max_length=256,\n",
        "        pad_to_max_length=True,\n",
        "        add_special_tokens=True\n",
        "        )\n",
        "\n",
        "    input_ids = inputs['input_ids'][0]\n",
        "    attention_mask = inputs['attention_mask'][0]\n",
        "\n",
        "    return input_ids, attention_mask"
      ],
      "metadata": {
        "id": "x_iEGvU13SCB"
      },
      "execution_count": null,
      "outputs": []
    },
    {
      "cell_type": "markdown",
      "source": [
        "### 데이터 준비: 삼성전자 뉴스 2018년~최근"
      ],
      "metadata": {
        "id": "HS5GzgQVwSlY"
      }
    },
    {
      "cell_type": "code",
      "source": [
        "class Dataset_samsung_news(Dataset):\n",
        "  def __init__(self, file_name):\n",
        "    # --- 전처리 1 start ------------------------\n",
        "    # 자료 출처 : 빅카인즈 https://www.bigkinds.or.kr/\n",
        "    #  빅카인즈 뉴스 자료는 해당 사이트에서 수작업으로 추출했으며, 해당 파일을 나의 github에 올려 놓은 후 아래 감성분석에 사용함)\n",
        "    urllib.request.urlretrieve(\"https://raw.githubusercontent.com/MunJinSeo/MachineLearning/main/samsung_news_20180101-20181231.xlsx\", filename=\"samsung_news_2018.xlsx\")\n",
        "    urllib.request.urlretrieve(\"https://raw.githubusercontent.com/MunJinSeo/MachineLearning/main/samsung_news_20190101-20191231.xlsx\", filename=\"samsung_news_2019.xlsx\")\n",
        "    urllib.request.urlretrieve(\"https://raw.githubusercontent.com/MunJinSeo/MachineLearning/main/samsung_news_20200101-20201231.xlsx\", filename=\"samsung_news_2020.xlsx\")\n",
        "    urllib.request.urlretrieve(\"https://raw.githubusercontent.com/MunJinSeo/MachineLearning/main/samsung_news_20210101-20211231.xlsx\", filename=\"samsung_news_2021.xlsx\")\n",
        "    urllib.request.urlretrieve(\"https://raw.githubusercontent.com/MunJinSeo/MachineLearning/main/samsung_news_20220101-20220607.xlsx\", filename=\"samsung_news_2022.xlsx\")\n",
        "    \n",
        "    #self.dataset = pd.read_csv(file_name, sep=',')\n",
        "    self.dataset = pd.read_excel('samsung_news_2018.xlsx', sheet_name=0, usecols=['일자','언론사','제목','본문'] )\n",
        "    self.dataset = self.dataset.append(pd.read_excel('samsung_news_2019.xlsx', sheet_name=0, usecols=['일자','언론사','제목','본문'] ), ignore_index = True)\n",
        "    self.dataset = self.dataset.append(pd.read_excel('samsung_news_2020.xlsx', sheet_name=0, usecols=['일자','언론사','제목','본문'] ), ignore_index = True)\n",
        "    self.dataset = self.dataset.append(pd.read_excel('samsung_news_2021.xlsx', sheet_name=0, usecols=['일자','언론사','제목','본문'] ), ignore_index = True)\n",
        "    self.dataset = self.dataset.append(pd.read_excel('samsung_news_2022.xlsx', sheet_name=0, usecols=['일자','언론사','제목','본문'] ), ignore_index = True)\n",
        "\n",
        "    # tokenizer\n",
        "    self.tokenizer = AutoTokenizer.from_pretrained(\"snunlp/KR-FinBert-SC\")\n",
        "    \n",
        "    # --- 전처리 1 end ------------------------\n",
        "  \n",
        "  def __len__(self):\n",
        "    return len(self.dataset)\n",
        "  \n",
        "  def clean_text(self, txt):\n",
        "    # --- 전처리 2 start ----------------------\n",
        "    cleaned = self.sub1.sub('', txt.strip())  # .strip()은 문장의 앞뒤 공백제거함\n",
        "    cleaned = self.sub2.sub(' ', cleaned)\n",
        "    cleaned = self.sub3.sub('.', cleaned)\n",
        "    #cleaned = emoticon_normalize(cleaned, num_repeats=3) # 감정 반복 단순화\n",
        "    #cleaned = repeat_normalize(cleaned, num_repeats=2) # 중복 글자 단순화\n",
        "    #cleaned = only_text(cleaned) # text만 추출\n",
        "    #cleaned = only_hangle(cleaned) # 한글만 추출\n",
        "    #cleaned = only_hangle_number(cleaned) # 한글/숫자만 추출\n",
        "\n",
        "    #if len(ssStr) > 1:\n",
        "    cleaned = \"[CLS] \" + cleaned + \" [SEP]\"\n",
        "    # --- 전처리 2 end ------------------------\n",
        "    return cleaned\n",
        "\n",
        "  \n",
        "  def __getitem__(self, idx):\n",
        "\n",
        "    text = self.dataset['제목'][idx] #제목, 본문 각각 해봐야할듯함\n",
        "\n",
        "    inputs = self.tokenizer(\n",
        "        text, \n",
        "        return_tensors='pt',\n",
        "        truncation=True,\n",
        "        max_length=256,\n",
        "        pad_to_max_length=True, #`pad_to_max_length` 인수는 더 이상 사용되지 않으며 향후 버전에서 제거. 일괄 처리에서 가장 긴 시퀀스로 채우려면 `padding=True` 또는 `padding='longest'`를 사용하거나 `padding='max_length'를 사용하세요. ` 최대 길이로 채웁니다. 이 경우 `max_length`로 특정 길이를 지정하거나(예: `max_length=45`) max_length를 None으로 두어 모델의 최대 입력 크기(예: Bert의 경우 512)로 채울 수 있습니다.\n",
        "        #padding=True ,\n",
        "        add_special_tokens=True\n",
        "        )\n",
        "\n",
        "    input_ids = inputs['input_ids'][0]\n",
        "    attention_mask = inputs['attention_mask'][0]\n",
        "\n",
        "    return input_ids, attention_mask"
      ],
      "metadata": {
        "id": "TSvkpBXVT6HH"
      },
      "execution_count": null,
      "outputs": []
    },
    {
      "cell_type": "code",
      "source": [
        "#sample_dataset = Dataset_finance_emoton_csv(\"\") #모델 테스트용\n",
        "sample_dataset = Dataset_samsung_news(\"\")\n",
        "sample_dataset.dataset"
      ],
      "metadata": {
        "colab": {
          "base_uri": "https://localhost:8080/",
          "height": 715
        },
        "id": "gIqFy1aE7NhT",
        "outputId": "8267606b-9cc8-4ab3-9ce5-3bbe579cb0dd"
      },
      "execution_count": null,
      "outputs": [
        {
          "output_type": "stream",
          "name": "stderr",
          "text": [
            "/usr/local/lib/python3.7/dist-packages/openpyxl/styles/stylesheet.py:226: UserWarning: Workbook contains no default style, apply openpyxl's default\n",
            "  warn(\"Workbook contains no default style, apply openpyxl's default\")\n"
          ]
        },
        {
          "output_type": "execute_result",
          "data": {
            "text/plain": [
              "             일자   언론사                                                 제목  \\\n",
              "0      20181231  한국일보              화웨이, 글로벌 판매량 힘입어 프리미엄 스마트폰 첫 10%대 점유율   \n",
              "1      20181231  한국일보                   증시 주저앉으며... 주식 100대 부자 자산 25조 증발   \n",
              "2      20181231  한국경제          5G 보급 본격화, 헬스케어도 高성장 클라우드 엔터 자율車 바이오 '유망'   \n",
              "3      20181231  서울경제                               여명-눈물 닦아주는 기해년을 기대하며   \n",
              "4      20181231  서울경제                               2019 증시 키워드 GOLD PIG   \n",
              "...         ...   ...                                                ...   \n",
              "70332  20220101  매일경제                  \"반도체부터 리츠까지\" 증권사가 '이구동성' 추천한 주식은?   \n",
              "70333  20220101  세계일보                    주식부호 톱 5위에 ‘이재용 홍라희 이부진 이서현’ 올라   \n",
              "70334  20220101  서울경제             연말 효과 무색 코스피 '1월 효과'로 다시 날까 [다음주 증시전망]   \n",
              "70335  20220101  한국경제  \"올 한국증시, 미국보다 나을 수도\" 펀드매니저들 입 모았다 [다시 열자! 3000시대]   \n",
              "70336  20220101  아주경제                     삼성 LG전자, 새해 경영 좌표는 \"혁신적인 고객경험\"   \n",
              "\n",
              "                                                      본문  \n",
              "0      중국 화웨이가 3분기 프리미엄 스마트폰 시장에서 처음으로 10% 이상 점유율을 기록...  \n",
              "1      2018년 국내 증시가 주저 앉으면서 상장 주식 100대 부자의 자산이 한해 동안 ...  \n",
              "2      도전 2019 - 주식 시장 \\n \\n성장세 뚜렷한 테마는 \\n \\n \\n[ 오형주...  \n",
              "3      홍준석 증권부장 \\n \\n연기자가 울고 예능인도 운다. 주말 내내 이어진 눈물의 시...  \n",
              "4      지난해 천당과 지옥을 오갔던 국내 주식시장이 기해년 새해를 맞아 힘찬 도약을 준비하...  \n",
              "...                                                  ...  \n",
              "70332  올해 증권시장에서 코스피와 코스닥이 박스권으로 한 해의 거래를 마감해 아쉬움을 남기...  \n",
              "70333  지난해 국내 증시 시가총액이 2020년에 비해 283조원 가까이 늘어난 가운데, 주...  \n",
              "70334  12월의 마지막 주 ‘연말 랠리’를 바라봤던 투자자들의 심경이 무색하게도 코스피는 ...  \n",
              "70335  지겨운 ‘코로나19’라는 단어에서 조금이라도 벗어나길 바랐지만, 여전히 주식시장에 ...  \n",
              "70336  삼성전자와 LG전자가 새해 경영 좌표를 ‘고객경험’으로 잡고, 다각적인 혁신을 꾀하...  \n",
              "\n",
              "[70337 rows x 4 columns]"
            ],
            "text/html": [
              "\n",
              "  <div id=\"df-6d767ca6-046b-4ff7-b3ac-ffccaaac5a79\">\n",
              "    <div class=\"colab-df-container\">\n",
              "      <div>\n",
              "<style scoped>\n",
              "    .dataframe tbody tr th:only-of-type {\n",
              "        vertical-align: middle;\n",
              "    }\n",
              "\n",
              "    .dataframe tbody tr th {\n",
              "        vertical-align: top;\n",
              "    }\n",
              "\n",
              "    .dataframe thead th {\n",
              "        text-align: right;\n",
              "    }\n",
              "</style>\n",
              "<table border=\"1\" class=\"dataframe\">\n",
              "  <thead>\n",
              "    <tr style=\"text-align: right;\">\n",
              "      <th></th>\n",
              "      <th>일자</th>\n",
              "      <th>언론사</th>\n",
              "      <th>제목</th>\n",
              "      <th>본문</th>\n",
              "    </tr>\n",
              "  </thead>\n",
              "  <tbody>\n",
              "    <tr>\n",
              "      <th>0</th>\n",
              "      <td>20181231</td>\n",
              "      <td>한국일보</td>\n",
              "      <td>화웨이, 글로벌 판매량 힘입어 프리미엄 스마트폰 첫 10%대 점유율</td>\n",
              "      <td>중국 화웨이가 3분기 프리미엄 스마트폰 시장에서 처음으로 10% 이상 점유율을 기록...</td>\n",
              "    </tr>\n",
              "    <tr>\n",
              "      <th>1</th>\n",
              "      <td>20181231</td>\n",
              "      <td>한국일보</td>\n",
              "      <td>증시 주저앉으며... 주식 100대 부자 자산 25조 증발</td>\n",
              "      <td>2018년 국내 증시가 주저 앉으면서 상장 주식 100대 부자의 자산이 한해 동안 ...</td>\n",
              "    </tr>\n",
              "    <tr>\n",
              "      <th>2</th>\n",
              "      <td>20181231</td>\n",
              "      <td>한국경제</td>\n",
              "      <td>5G 보급 본격화, 헬스케어도 高성장 클라우드 엔터 자율車 바이오 '유망'</td>\n",
              "      <td>도전 2019 - 주식 시장 \\n \\n성장세 뚜렷한 테마는 \\n \\n \\n[ 오형주...</td>\n",
              "    </tr>\n",
              "    <tr>\n",
              "      <th>3</th>\n",
              "      <td>20181231</td>\n",
              "      <td>서울경제</td>\n",
              "      <td>여명-눈물 닦아주는 기해년을 기대하며</td>\n",
              "      <td>홍준석 증권부장 \\n \\n연기자가 울고 예능인도 운다. 주말 내내 이어진 눈물의 시...</td>\n",
              "    </tr>\n",
              "    <tr>\n",
              "      <th>4</th>\n",
              "      <td>20181231</td>\n",
              "      <td>서울경제</td>\n",
              "      <td>2019 증시 키워드 GOLD PIG</td>\n",
              "      <td>지난해 천당과 지옥을 오갔던 국내 주식시장이 기해년 새해를 맞아 힘찬 도약을 준비하...</td>\n",
              "    </tr>\n",
              "    <tr>\n",
              "      <th>...</th>\n",
              "      <td>...</td>\n",
              "      <td>...</td>\n",
              "      <td>...</td>\n",
              "      <td>...</td>\n",
              "    </tr>\n",
              "    <tr>\n",
              "      <th>70332</th>\n",
              "      <td>20220101</td>\n",
              "      <td>매일경제</td>\n",
              "      <td>\"반도체부터 리츠까지\" 증권사가 '이구동성' 추천한 주식은?</td>\n",
              "      <td>올해 증권시장에서 코스피와 코스닥이 박스권으로 한 해의 거래를 마감해 아쉬움을 남기...</td>\n",
              "    </tr>\n",
              "    <tr>\n",
              "      <th>70333</th>\n",
              "      <td>20220101</td>\n",
              "      <td>세계일보</td>\n",
              "      <td>주식부호 톱 5위에 ‘이재용 홍라희 이부진 이서현’ 올라</td>\n",
              "      <td>지난해 국내 증시 시가총액이 2020년에 비해 283조원 가까이 늘어난 가운데, 주...</td>\n",
              "    </tr>\n",
              "    <tr>\n",
              "      <th>70334</th>\n",
              "      <td>20220101</td>\n",
              "      <td>서울경제</td>\n",
              "      <td>연말 효과 무색 코스피 '1월 효과'로 다시 날까 [다음주 증시전망]</td>\n",
              "      <td>12월의 마지막 주 ‘연말 랠리’를 바라봤던 투자자들의 심경이 무색하게도 코스피는 ...</td>\n",
              "    </tr>\n",
              "    <tr>\n",
              "      <th>70335</th>\n",
              "      <td>20220101</td>\n",
              "      <td>한국경제</td>\n",
              "      <td>\"올 한국증시, 미국보다 나을 수도\" 펀드매니저들 입 모았다 [다시 열자! 3000시대]</td>\n",
              "      <td>지겨운 ‘코로나19’라는 단어에서 조금이라도 벗어나길 바랐지만, 여전히 주식시장에 ...</td>\n",
              "    </tr>\n",
              "    <tr>\n",
              "      <th>70336</th>\n",
              "      <td>20220101</td>\n",
              "      <td>아주경제</td>\n",
              "      <td>삼성 LG전자, 새해 경영 좌표는 \"혁신적인 고객경험\"</td>\n",
              "      <td>삼성전자와 LG전자가 새해 경영 좌표를 ‘고객경험’으로 잡고, 다각적인 혁신을 꾀하...</td>\n",
              "    </tr>\n",
              "  </tbody>\n",
              "</table>\n",
              "<p>70337 rows × 4 columns</p>\n",
              "</div>\n",
              "      <button class=\"colab-df-convert\" onclick=\"convertToInteractive('df-6d767ca6-046b-4ff7-b3ac-ffccaaac5a79')\"\n",
              "              title=\"Convert this dataframe to an interactive table.\"\n",
              "              style=\"display:none;\">\n",
              "        \n",
              "  <svg xmlns=\"http://www.w3.org/2000/svg\" height=\"24px\"viewBox=\"0 0 24 24\"\n",
              "       width=\"24px\">\n",
              "    <path d=\"M0 0h24v24H0V0z\" fill=\"none\"/>\n",
              "    <path d=\"M18.56 5.44l.94 2.06.94-2.06 2.06-.94-2.06-.94-.94-2.06-.94 2.06-2.06.94zm-11 1L8.5 8.5l.94-2.06 2.06-.94-2.06-.94L8.5 2.5l-.94 2.06-2.06.94zm10 10l.94 2.06.94-2.06 2.06-.94-2.06-.94-.94-2.06-.94 2.06-2.06.94z\"/><path d=\"M17.41 7.96l-1.37-1.37c-.4-.4-.92-.59-1.43-.59-.52 0-1.04.2-1.43.59L10.3 9.45l-7.72 7.72c-.78.78-.78 2.05 0 2.83L4 21.41c.39.39.9.59 1.41.59.51 0 1.02-.2 1.41-.59l7.78-7.78 2.81-2.81c.8-.78.8-2.07 0-2.86zM5.41 20L4 18.59l7.72-7.72 1.47 1.35L5.41 20z\"/>\n",
              "  </svg>\n",
              "      </button>\n",
              "      \n",
              "  <style>\n",
              "    .colab-df-container {\n",
              "      display:flex;\n",
              "      flex-wrap:wrap;\n",
              "      gap: 12px;\n",
              "    }\n",
              "\n",
              "    .colab-df-convert {\n",
              "      background-color: #E8F0FE;\n",
              "      border: none;\n",
              "      border-radius: 50%;\n",
              "      cursor: pointer;\n",
              "      display: none;\n",
              "      fill: #1967D2;\n",
              "      height: 32px;\n",
              "      padding: 0 0 0 0;\n",
              "      width: 32px;\n",
              "    }\n",
              "\n",
              "    .colab-df-convert:hover {\n",
              "      background-color: #E2EBFA;\n",
              "      box-shadow: 0px 1px 2px rgba(60, 64, 67, 0.3), 0px 1px 3px 1px rgba(60, 64, 67, 0.15);\n",
              "      fill: #174EA6;\n",
              "    }\n",
              "\n",
              "    [theme=dark] .colab-df-convert {\n",
              "      background-color: #3B4455;\n",
              "      fill: #D2E3FC;\n",
              "    }\n",
              "\n",
              "    [theme=dark] .colab-df-convert:hover {\n",
              "      background-color: #434B5C;\n",
              "      box-shadow: 0px 1px 3px 1px rgba(0, 0, 0, 0.15);\n",
              "      filter: drop-shadow(0px 1px 2px rgba(0, 0, 0, 0.3));\n",
              "      fill: #FFFFFF;\n",
              "    }\n",
              "  </style>\n",
              "\n",
              "      <script>\n",
              "        const buttonEl =\n",
              "          document.querySelector('#df-6d767ca6-046b-4ff7-b3ac-ffccaaac5a79 button.colab-df-convert');\n",
              "        buttonEl.style.display =\n",
              "          google.colab.kernel.accessAllowed ? 'block' : 'none';\n",
              "\n",
              "        async function convertToInteractive(key) {\n",
              "          const element = document.querySelector('#df-6d767ca6-046b-4ff7-b3ac-ffccaaac5a79');\n",
              "          const dataTable =\n",
              "            await google.colab.kernel.invokeFunction('convertToInteractive',\n",
              "                                                     [key], {});\n",
              "          if (!dataTable) return;\n",
              "\n",
              "          const docLinkHtml = 'Like what you see? Visit the ' +\n",
              "            '<a target=\"_blank\" href=https://colab.research.google.com/notebooks/data_table.ipynb>data table notebook</a>'\n",
              "            + ' to learn more about interactive tables.';\n",
              "          element.innerHTML = '';\n",
              "          dataTable['output_type'] = 'display_data';\n",
              "          await google.colab.output.renderOutput(dataTable, element);\n",
              "          const docLink = document.createElement('div');\n",
              "          docLink.innerHTML = docLinkHtml;\n",
              "          element.appendChild(docLink);\n",
              "        }\n",
              "      </script>\n",
              "    </div>\n",
              "  </div>\n",
              "  "
            ]
          },
          "metadata": {},
          "execution_count": 47
        }
      ]
    },
    {
      "cell_type": "markdown",
      "source": [
        "### 모델 생성 : snunlp/KR-FinBert-SC"
      ],
      "metadata": {
        "id": "krPmK475w3QB"
      }
    },
    {
      "cell_type": "code",
      "source": [
        "# 모델 생성 : snunlp/KR-FinBert-SC\n",
        "# https://huggingface.co/snunlp/KR-FinBert-SC\n",
        "# https://github.com/snunlp/KR-FinBert-SC\n",
        "\n",
        "model = AutoModelForSequenceClassification.from_pretrained(\"snunlp/KR-FinBert-SC\",num_labels=3).to(device)\n",
        "#model = AutoModelForSequenceClassification.from_pretrained(\"snunlp/KR-FinBert\",num_labels=3)\n",
        "#model.cuda()"
      ],
      "metadata": {
        "id": "XoLf3wpf7mJP"
      },
      "execution_count": null,
      "outputs": []
    },
    {
      "cell_type": "markdown",
      "source": [
        "### 데이터 로딩 및 배치사이즈 정의"
      ],
      "metadata": {
        "id": "ps0MkY32xYIK"
      }
    },
    {
      "cell_type": "code",
      "source": [
        "# 데이터 로딩\n",
        "batchSize = 30 # GPU 메모리 부족 오류나면 수치를 줄일것\n",
        "\n",
        "sample_loader = DataLoader(sample_dataset, batch_size=batchSize, shuffle=False)\n",
        "\n",
        "sample_result = sample_dataset.dataset.copy(deep=True)\n",
        "print(sample_result)"
      ],
      "metadata": {
        "colab": {
          "base_uri": "https://localhost:8080/"
        },
        "id": "W6QaiNJt74vk",
        "outputId": "12971d30-564d-445c-c964-e44d51ebae4d"
      },
      "execution_count": null,
      "outputs": [
        {
          "output_type": "stream",
          "name": "stdout",
          "text": [
            "             일자   언론사                                                 제목  \\\n",
            "0      20181231  한국일보              화웨이, 글로벌 판매량 힘입어 프리미엄 스마트폰 첫 10%대 점유율   \n",
            "1      20181231  한국일보                   증시 주저앉으며... 주식 100대 부자 자산 25조 증발   \n",
            "2      20181231  한국경제          5G 보급 본격화, 헬스케어도 高성장 클라우드 엔터 자율車 바이오 '유망'   \n",
            "3      20181231  서울경제                               여명-눈물 닦아주는 기해년을 기대하며   \n",
            "4      20181231  서울경제                               2019 증시 키워드 GOLD PIG   \n",
            "...         ...   ...                                                ...   \n",
            "70332  20220101  매일경제                  \"반도체부터 리츠까지\" 증권사가 '이구동성' 추천한 주식은?   \n",
            "70333  20220101  세계일보                    주식부호 톱 5위에 ‘이재용 홍라희 이부진 이서현’ 올라   \n",
            "70334  20220101  서울경제             연말 효과 무색 코스피 '1월 효과'로 다시 날까 [다음주 증시전망]   \n",
            "70335  20220101  한국경제  \"올 한국증시, 미국보다 나을 수도\" 펀드매니저들 입 모았다 [다시 열자! 3000시대]   \n",
            "70336  20220101  아주경제                     삼성 LG전자, 새해 경영 좌표는 \"혁신적인 고객경험\"   \n",
            "\n",
            "                                                      본문  \n",
            "0      중국 화웨이가 3분기 프리미엄 스마트폰 시장에서 처음으로 10% 이상 점유율을 기록...  \n",
            "1      2018년 국내 증시가 주저 앉으면서 상장 주식 100대 부자의 자산이 한해 동안 ...  \n",
            "2      도전 2019 - 주식 시장 \\n \\n성장세 뚜렷한 테마는 \\n \\n \\n[ 오형주...  \n",
            "3      홍준석 증권부장 \\n \\n연기자가 울고 예능인도 운다. 주말 내내 이어진 눈물의 시...  \n",
            "4      지난해 천당과 지옥을 오갔던 국내 주식시장이 기해년 새해를 맞아 힘찬 도약을 준비하...  \n",
            "...                                                  ...  \n",
            "70332  올해 증권시장에서 코스피와 코스닥이 박스권으로 한 해의 거래를 마감해 아쉬움을 남기...  \n",
            "70333  지난해 국내 증시 시가총액이 2020년에 비해 283조원 가까이 늘어난 가운데, 주...  \n",
            "70334  12월의 마지막 주 ‘연말 랠리’를 바라봤던 투자자들의 심경이 무색하게도 코스피는 ...  \n",
            "70335  지겨운 ‘코로나19’라는 단어에서 조금이라도 벗어나길 바랐지만, 여전히 주식시장에 ...  \n",
            "70336  삼성전자와 LG전자가 새해 경영 좌표를 ‘고객경험’으로 잡고, 다각적인 혁신을 꾀하...  \n",
            "\n",
            "[70337 rows x 4 columns]\n"
          ]
        }
      ]
    },
    {
      "cell_type": "markdown",
      "source": [
        "### 모델 실행 및 감성예측"
      ],
      "metadata": {
        "id": "oVn5QreTxeQo"
      }
    },
    {
      "cell_type": "code",
      "source": [
        "model.eval() #모델 평가모드로 변경\n",
        "\n",
        "# GPU 캐쉬 비워줌\n",
        "gc.collect()\n",
        "torch.cuda.empty_cache()\n",
        "\n",
        "idx_s = 0\n",
        "idx_e = 0\n",
        "\n",
        "#label_dict = {0: 'negative', 1: 'neutral', 2: 'positive'}\n",
        "print(model.config.id2label) # 모델의 분류 종류 보기\n",
        "\n",
        "#예측 결과 초기화\n",
        "sample_result['pred_label'] = 0 # 예측 분류값\n",
        "sample_result['negative'] = 0 # 부정적 감성 확률\n",
        "sample_result['neutral'] = 0 # 보통 확률\n",
        "sample_result['positive'] = 0 # 긍정적 감성 확률\n",
        "\n",
        "# 배치 사이즈별 예측 실행\n",
        "# tqdm은 진행상황을 표시해줌\n",
        "#for input_ids_batch, attention_masks_batch,y_batch in tqdm(sample_loader):\n",
        "for input_ids_batch, attention_masks_batch in tqdm(sample_loader):\n",
        "  #y_batch = y_batch.to(device)\n",
        "  y_pred = model(input_ids_batch.to(device), attention_mask=attention_masks_batch.to(device))[0]\n",
        "  _, predicted = torch.max(y_pred, 1) #예측한 원소중 max값 1개만 반환\n",
        "  predictions = torch.nn.functional.softmax(y_pred, dim=-1) # 예측한 원소의 값이 0과 1사이의 값으로 변환 (원소 합은 1)\n",
        "  #print(predictions)\n",
        "  \n",
        "  rsList = list(map(int, predicted)) # 결과를 한번에 저장하기 위해 LIST로 변환 처리\n",
        "  rs_negative = predictions[:, 0].tolist() #부정\n",
        "  rs_neutral = predictions[:, 1].tolist() #보통\n",
        "  rs_positive = predictions[:, 2].tolist() #긍정\n",
        "\n",
        "  print(rsList)\n",
        "  idx_e += len(rsList) #해당 배치구간내에 index 끝값 계산\n",
        "  idx_s = idx_e - len(rsList)\n",
        "  print(\"index==\", idx_s, idx_e)\n",
        "\n",
        "  sample_result['pred_label'][idx_s : idx_e] = rsList #배치사이즈 만큼 예측된 값 일괄 저장\n",
        "  sample_result['negative'][idx_s : idx_e] = rs_negative\n",
        "  sample_result['neutral'][idx_s : idx_e] = rs_neutral\n",
        "  sample_result['positive'][idx_s : idx_e] = rs_positive\n"
      ],
      "metadata": {
        "colab": {
          "base_uri": "https://localhost:8080/"
        },
        "id": "SFIQlQrN8FoB",
        "outputId": "e0624bff-79a2-4c72-bfe6-ec68256633b8"
      },
      "execution_count": null,
      "outputs": [
        {
          "output_type": "stream",
          "name": "stdout",
          "text": [
            "{0: 'negative', 1: 'neutral', 2: 'positive'}\n"
          ]
        },
        {
          "output_type": "stream",
          "name": "stderr",
          "text": [
            "\r  0%|          | 0/2345 [00:00<?, ?it/s]/usr/local/lib/python3.7/dist-packages/transformers/tokenization_utils_base.py:2291: FutureWarning: The `pad_to_max_length` argument is deprecated and will be removed in a future version, use `padding=True` or `padding='longest'` to pad to the longest sequence in the batch, or use `padding='max_length'` to pad to a max length. In this case, you can give a specific length with `max_length` (e.g. `max_length=45`) or leave max_length to None to pad to the maximal input size of the model (e.g. 512 for Bert).\n",
            "  FutureWarning,\n",
            "/usr/local/lib/python3.7/dist-packages/ipykernel_launcher.py:39: SettingWithCopyWarning: \n",
            "A value is trying to be set on a copy of a slice from a DataFrame\n",
            "\n",
            "See the caveats in the documentation: https://pandas.pydata.org/pandas-docs/stable/user_guide/indexing.html#returning-a-view-versus-a-copy\n",
            "/usr/local/lib/python3.7/dist-packages/ipykernel_launcher.py:40: SettingWithCopyWarning: \n",
            "A value is trying to be set on a copy of a slice from a DataFrame\n",
            "\n",
            "See the caveats in the documentation: https://pandas.pydata.org/pandas-docs/stable/user_guide/indexing.html#returning-a-view-versus-a-copy\n",
            "/usr/local/lib/python3.7/dist-packages/ipykernel_launcher.py:41: SettingWithCopyWarning: \n",
            "A value is trying to be set on a copy of a slice from a DataFrame\n",
            "\n",
            "See the caveats in the documentation: https://pandas.pydata.org/pandas-docs/stable/user_guide/indexing.html#returning-a-view-versus-a-copy\n",
            "/usr/local/lib/python3.7/dist-packages/ipykernel_launcher.py:42: SettingWithCopyWarning: \n",
            "A value is trying to be set on a copy of a slice from a DataFrame\n",
            "\n",
            "See the caveats in the documentation: https://pandas.pydata.org/pandas-docs/stable/user_guide/indexing.html#returning-a-view-versus-a-copy\n",
            "  0%|          | 1/2345 [00:00<15:46,  2.48it/s]"
          ]
        },
        {
          "output_type": "stream",
          "name": "stdout",
          "text": [
            "[2, 1, 2, 1, 1, 1, 1, 0, 0, 2, 1, 1, 0, 1, 2, 2, 1, 1, 1, 1, 1, 1, 0, 1, 0, 1, 1, 1, 2, 1]\n",
            "index== 0 30\n"
          ]
        },
        {
          "output_type": "stream",
          "name": "stderr",
          "text": [
            "\r  0%|          | 2/2345 [00:00<15:20,  2.54it/s]"
          ]
        },
        {
          "output_type": "stream",
          "name": "stdout",
          "text": [
            "[1, 1, 1, 1, 1, 1, 0, 1, 0, 0, 2, 1, 0, 1, 1, 1, 1, 1, 1, 1, 1, 0, 1, 0, 1, 1, 1, 1, 0, 0]\n",
            "index== 30 60\n"
          ]
        },
        {
          "output_type": "stream",
          "name": "stderr",
          "text": [
            "\r  0%|          | 3/2345 [00:01<15:40,  2.49it/s]"
          ]
        },
        {
          "output_type": "stream",
          "name": "stdout",
          "text": [
            "[0, 1, 0, 1, 1, 1, 1, 0, 2, 0, 2, 0, 1, 1, 1, 1, 1, 1, 1, 1, 1, 1, 1, 1, 2, 1, 1, 2, 2, 1]\n",
            "index== 60 90\n"
          ]
        },
        {
          "output_type": "stream",
          "name": "stderr",
          "text": [
            "\r  0%|          | 4/2345 [00:01<15:32,  2.51it/s]"
          ]
        },
        {
          "output_type": "stream",
          "name": "stdout",
          "text": [
            "[1, 1, 1, 1, 1, 1, 1, 1, 2, 1, 1, 2, 1, 1, 1, 1, 1, 0, 1, 1, 0, 0, 1, 1, 1, 1, 1, 0, 1, 1]\n",
            "index== 90 120\n"
          ]
        },
        {
          "output_type": "stream",
          "name": "stderr",
          "text": [
            "\r  0%|          | 5/2345 [00:01<15:30,  2.51it/s]"
          ]
        },
        {
          "output_type": "stream",
          "name": "stdout",
          "text": [
            "[1, 1, 1, 1, 2, 1, 1, 1, 1, 2, 1, 1, 2, 2, 0, 1, 2, 1, 0, 2, 2, 1, 2, 1, 0, 2, 1, 1, 1, 2]\n",
            "index== 120 150\n"
          ]
        },
        {
          "output_type": "stream",
          "name": "stderr",
          "text": [
            "\r  0%|          | 6/2345 [00:02<15:30,  2.51it/s]"
          ]
        },
        {
          "output_type": "stream",
          "name": "stdout",
          "text": [
            "[0, 1, 2, 1, 1, 2, 1, 1, 0, 1, 1, 0, 2, 2, 2, 0, 0, 1, 0, 1, 0, 1, 1, 1, 1, 2, 1, 1, 1, 1]\n",
            "index== 150 180\n"
          ]
        },
        {
          "output_type": "stream",
          "name": "stderr",
          "text": [
            "\r  0%|          | 7/2345 [00:02<15:26,  2.52it/s]"
          ]
        },
        {
          "output_type": "stream",
          "name": "stdout",
          "text": [
            "[1, 1, 1, 1, 1, 0, 1, 0, 0, 1, 0, 1, 1, 0, 1, 1, 1, 1, 2, 0, 1, 0, 1, 0, 1, 1, 1, 1, 2, 0]\n",
            "index== 180 210\n"
          ]
        },
        {
          "output_type": "stream",
          "name": "stderr",
          "text": [
            "\r  0%|          | 8/2345 [00:03<15:31,  2.51it/s]"
          ]
        },
        {
          "output_type": "stream",
          "name": "stdout",
          "text": [
            "[1, 0, 1, 0, 1, 1, 2, 1, 1, 2, 1, 2, 1, 1, 1, 2, 1, 1, 1, 1, 2, 0, 2, 1, 2, 0, 1, 2, 1, 1]\n",
            "index== 210 240\n"
          ]
        },
        {
          "output_type": "stream",
          "name": "stderr",
          "text": [
            "\r  0%|          | 9/2345 [00:03<15:29,  2.51it/s]"
          ]
        },
        {
          "output_type": "stream",
          "name": "stdout",
          "text": [
            "[1, 0, 2, 1, 2, 1, 2, 2, 0, 1, 1, 2, 1, 0, 2, 0, 1, 1, 0, 1, 2, 1, 2, 1, 0, 2, 2, 2, 1, 0]\n",
            "index== 240 270\n"
          ]
        },
        {
          "output_type": "stream",
          "name": "stderr",
          "text": [
            "\r  0%|          | 10/2345 [00:03<15:29,  2.51it/s]"
          ]
        },
        {
          "output_type": "stream",
          "name": "stdout",
          "text": [
            "[1, 0, 2, 1, 1, 0, 0, 0, 2, 1, 1, 1, 1, 2, 1, 2, 0, 1, 0, 1, 2, 2, 0, 0, 0, 0, 0, 0, 0, 1]\n",
            "index== 270 300\n"
          ]
        },
        {
          "output_type": "stream",
          "name": "stderr",
          "text": [
            "\r  0%|          | 11/2345 [00:04<15:30,  2.51it/s]"
          ]
        },
        {
          "output_type": "stream",
          "name": "stdout",
          "text": [
            "[0, 1, 0, 1, 0, 0, 2, 2, 0, 1, 2, 1, 1, 0, 0, 0, 1, 1, 1, 2, 1, 1, 1, 0, 0, 1, 0, 1, 1, 2]\n",
            "index== 300 330\n"
          ]
        },
        {
          "output_type": "stream",
          "name": "stderr",
          "text": [
            "\r  1%|          | 12/2345 [00:04<15:26,  2.52it/s]"
          ]
        },
        {
          "output_type": "stream",
          "name": "stdout",
          "text": [
            "[0, 2, 0, 0, 1, 1, 1, 0, 1, 1, 1, 1, 1, 2, 1, 1, 1, 1, 1, 1, 1, 1, 1, 1, 1, 1, 1, 1, 1, 1]\n",
            "index== 330 360\n"
          ]
        },
        {
          "output_type": "stream",
          "name": "stderr",
          "text": [
            "\r  1%|          | 13/2345 [00:05<15:27,  2.51it/s]"
          ]
        },
        {
          "output_type": "stream",
          "name": "stdout",
          "text": [
            "[2, 1, 2, 1, 0, 1, 0, 0, 1, 2, 0, 0, 0, 0, 1, 1, 1, 1, 0, 0, 2, 1, 1, 1, 0, 2, 0, 0, 0, 0]\n",
            "index== 360 390\n"
          ]
        },
        {
          "output_type": "stream",
          "name": "stderr",
          "text": [
            "\r  1%|          | 14/2345 [00:05<15:30,  2.51it/s]"
          ]
        },
        {
          "output_type": "stream",
          "name": "stdout",
          "text": [
            "[1, 0, 1, 0, 0, 0, 1, 1, 0, 1, 2, 1, 1, 1, 0, 0, 1, 2, 1, 1, 1, 1, 1, 1, 1, 1, 0, 1, 0, 1]\n",
            "index== 390 420\n"
          ]
        },
        {
          "output_type": "stream",
          "name": "stderr",
          "text": [
            "\r  1%|          | 15/2345 [00:05<15:28,  2.51it/s]"
          ]
        },
        {
          "output_type": "stream",
          "name": "stdout",
          "text": [
            "[1, 1, 2, 1, 1, 0, 1, 0, 0, 1, 0, 1, 0, 0, 0, 1, 1, 1, 0, 2, 0, 0, 1, 0, 0, 1, 1, 0, 2, 0]\n",
            "index== 420 450\n"
          ]
        },
        {
          "output_type": "stream",
          "name": "stderr",
          "text": [
            "\r  1%|          | 16/2345 [00:06<15:28,  2.51it/s]"
          ]
        },
        {
          "output_type": "stream",
          "name": "stdout",
          "text": [
            "[1, 0, 0, 0, 0, 1, 2, 0, 0, 1, 0, 0, 2, 2, 2, 2, 0, 1, 0, 0, 2, 1, 1, 1, 1, 1, 2, 2, 1, 0]\n",
            "index== 450 480\n"
          ]
        },
        {
          "output_type": "stream",
          "name": "stderr",
          "text": [
            "\r  1%|          | 17/2345 [00:06<15:29,  2.51it/s]"
          ]
        },
        {
          "output_type": "stream",
          "name": "stdout",
          "text": [
            "[2, 1, 2, 1, 1, 1, 1, 2, 1, 2, 1, 1, 1, 1, 1, 1, 1, 1, 1, 0, 2, 1, 2, 1, 1, 1, 0, 1, 0, 1]\n",
            "index== 480 510\n"
          ]
        },
        {
          "output_type": "stream",
          "name": "stderr",
          "text": [
            "\r  1%|          | 18/2345 [00:07<15:50,  2.45it/s]"
          ]
        },
        {
          "output_type": "stream",
          "name": "stdout",
          "text": [
            "[2, 2, 1, 2, 0, 1, 2, 1, 1, 1, 1, 1, 1, 0, 1, 1, 1, 1, 1, 1, 0, 0, 1, 1, 1, 1, 2, 1, 1, 2]\n",
            "index== 510 540\n"
          ]
        },
        {
          "output_type": "stream",
          "name": "stderr",
          "text": [
            "\r  1%|          | 19/2345 [00:07<15:51,  2.44it/s]"
          ]
        },
        {
          "output_type": "stream",
          "name": "stdout",
          "text": [
            "[2, 0, 1, 1, 0, 1, 1, 0, 0, 1, 0, 2, 2, 0, 0, 1, 1, 1, 0, 0, 0, 0, 0, 0, 1, 0, 1, 0, 1, 0]\n",
            "index== 540 570\n"
          ]
        },
        {
          "output_type": "stream",
          "name": "stderr",
          "text": [
            "\r  1%|          | 20/2345 [00:08<15:47,  2.45it/s]"
          ]
        },
        {
          "output_type": "stream",
          "name": "stdout",
          "text": [
            "[0, 0, 0, 1, 0, 0, 0, 1, 0, 2, 0, 0, 0, 2, 1, 1, 2, 0, 1, 1, 0, 1, 2, 1, 1, 1, 2, 1, 2, 0]\n",
            "index== 570 600\n"
          ]
        },
        {
          "output_type": "stream",
          "name": "stderr",
          "text": [
            "\r  1%|          | 21/2345 [00:08<15:47,  2.45it/s]"
          ]
        },
        {
          "output_type": "stream",
          "name": "stdout",
          "text": [
            "[0, 1, 1, 2, 1, 1, 0, 1, 1, 2, 1, 2, 1, 0, 1, 1, 1, 0, 0, 1, 1, 1, 1, 1, 0, 1, 1, 1, 2, 1]\n",
            "index== 600 630\n"
          ]
        },
        {
          "output_type": "stream",
          "name": "stderr",
          "text": [
            "\r  1%|          | 22/2345 [00:08<15:42,  2.46it/s]"
          ]
        },
        {
          "output_type": "stream",
          "name": "stdout",
          "text": [
            "[1, 1, 1, 1, 2, 1, 1, 1, 0, 0, 1, 1, 1, 0, 1, 1, 2, 2, 1, 1, 1, 0, 1, 2, 2, 1, 2, 0, 0, 0]\n",
            "index== 630 660\n"
          ]
        },
        {
          "output_type": "stream",
          "name": "stderr",
          "text": [
            "\r  1%|          | 23/2345 [00:09<15:40,  2.47it/s]"
          ]
        },
        {
          "output_type": "stream",
          "name": "stdout",
          "text": [
            "[0, 2, 2, 0, 2, 0, 0, 1, 0, 1, 1, 0, 1, 0, 1, 2, 1, 1, 1, 0, 1, 0, 1, 1, 1, 2, 0, 0, 0, 1]\n",
            "index== 660 690\n"
          ]
        },
        {
          "output_type": "stream",
          "name": "stderr",
          "text": [
            "\r  1%|          | 24/2345 [00:09<15:37,  2.48it/s]"
          ]
        },
        {
          "output_type": "stream",
          "name": "stdout",
          "text": [
            "[1, 1, 1, 1, 0, 1, 0, 1, 1, 1, 0, 1, 0, 0, 2, 2, 1, 0, 0, 2, 1, 1, 0, 0, 0, 1, 0, 1, 0, 0]\n",
            "index== 690 720\n"
          ]
        },
        {
          "output_type": "stream",
          "name": "stderr",
          "text": [
            "\r  1%|          | 25/2345 [00:10<15:32,  2.49it/s]"
          ]
        },
        {
          "output_type": "stream",
          "name": "stdout",
          "text": [
            "[1, 0, 0, 0, 0, 0, 1, 1, 1, 1, 1, 1, 2, 0, 2, 0, 0, 1, 0, 2, 0, 1, 2, 1, 1, 0, 1, 1, 1, 1]\n",
            "index== 720 750\n"
          ]
        },
        {
          "output_type": "stream",
          "name": "stderr",
          "text": [
            "\r  1%|          | 26/2345 [00:10<15:32,  2.49it/s]"
          ]
        },
        {
          "output_type": "stream",
          "name": "stdout",
          "text": [
            "[0, 1, 0, 1, 2, 0, 1, 2, 0, 0, 0, 2, 0, 0, 0, 2, 0, 1, 2, 0, 1, 0, 1, 0, 0, 0, 0, 0, 1, 2]\n",
            "index== 750 780\n"
          ]
        },
        {
          "output_type": "stream",
          "name": "stderr",
          "text": [
            "\r  1%|          | 27/2345 [00:10<15:31,  2.49it/s]"
          ]
        },
        {
          "output_type": "stream",
          "name": "stdout",
          "text": [
            "[2, 0, 0, 2, 0, 0, 0, 1, 2, 0, 1, 2, 2, 2, 0, 2, 2, 1, 1, 1, 1, 0, 1, 0, 1, 0, 0, 0, 1, 1]\n",
            "index== 780 810\n"
          ]
        },
        {
          "output_type": "stream",
          "name": "stderr",
          "text": [
            "\r  1%|          | 28/2345 [00:11<15:34,  2.48it/s]"
          ]
        },
        {
          "output_type": "stream",
          "name": "stdout",
          "text": [
            "[0, 1, 0, 0, 2, 2, 2, 0, 1, 1, 1, 1, 1, 1, 1, 1, 1, 0, 2, 0, 0, 1, 0, 1, 1, 0, 1, 2, 0, 1]\n",
            "index== 810 840\n"
          ]
        },
        {
          "output_type": "stream",
          "name": "stderr",
          "text": [
            "\r  1%|          | 29/2345 [00:11<15:33,  2.48it/s]"
          ]
        },
        {
          "output_type": "stream",
          "name": "stdout",
          "text": [
            "[1, 0, 0, 1, 2, 1, 1, 1, 2, 1, 1, 0, 0, 2, 0, 2, 0, 1, 0, 1, 1, 1, 1, 1, 1, 0, 0, 1, 1, 1]\n",
            "index== 840 870\n"
          ]
        },
        {
          "output_type": "stream",
          "name": "stderr",
          "text": [
            "\r  1%|▏         | 30/2345 [00:12<15:32,  2.48it/s]"
          ]
        },
        {
          "output_type": "stream",
          "name": "stdout",
          "text": [
            "[2, 0, 2, 1, 1, 0, 1, 0, 1, 1, 1, 1, 2, 1, 2, 1, 1, 1, 1, 0, 1, 2, 1, 2, 0, 1, 1, 1, 1, 1]\n",
            "index== 870 900\n"
          ]
        },
        {
          "output_type": "stream",
          "name": "stderr",
          "text": [
            "\r  1%|▏         | 31/2345 [00:12<15:32,  2.48it/s]"
          ]
        },
        {
          "output_type": "stream",
          "name": "stdout",
          "text": [
            "[1, 1, 1, 1, 2, 2, 0, 1, 0, 0, 1, 2, 1, 1, 2, 1, 2, 1, 0, 1, 1, 0, 0, 1, 1, 1, 0, 1, 0, 0]\n",
            "index== 900 930\n"
          ]
        },
        {
          "output_type": "stream",
          "name": "stderr",
          "text": [
            "\r  1%|▏         | 32/2345 [00:12<15:29,  2.49it/s]"
          ]
        },
        {
          "output_type": "stream",
          "name": "stdout",
          "text": [
            "[0, 1, 2, 0, 1, 0, 1, 1, 1, 1, 1, 1, 0, 1, 1, 1, 1, 1, 1, 2, 2, 0, 0, 0, 0, 1, 0, 2, 2, 2]\n",
            "index== 930 960\n"
          ]
        },
        {
          "output_type": "stream",
          "name": "stderr",
          "text": [
            "\r  1%|▏         | 33/2345 [00:13<15:28,  2.49it/s]"
          ]
        },
        {
          "output_type": "stream",
          "name": "stdout",
          "text": [
            "[2, 1, 1, 1, 1, 2, 1, 0, 1, 2, 2, 1, 2, 0, 0, 0, 2, 2, 1, 2, 0, 1, 1, 1, 1, 1, 1, 1, 0, 1]\n",
            "index== 960 990\n"
          ]
        },
        {
          "output_type": "stream",
          "name": "stderr",
          "text": [
            "\r  1%|▏         | 34/2345 [00:13<15:28,  2.49it/s]"
          ]
        },
        {
          "output_type": "stream",
          "name": "stdout",
          "text": [
            "[0, 1, 1, 0, 0, 2, 0, 0, 1, 1, 0, 1, 1, 0, 1, 0, 0, 1, 1, 0, 2, 1, 1, 1, 2, 1, 1, 1, 1, 1]\n",
            "index== 990 1020\n"
          ]
        },
        {
          "output_type": "stream",
          "name": "stderr",
          "text": [
            "\r  1%|▏         | 35/2345 [00:14<15:26,  2.49it/s]"
          ]
        },
        {
          "output_type": "stream",
          "name": "stdout",
          "text": [
            "[0, 1, 1, 1, 0, 0, 0, 1, 0, 2, 0, 0, 0, 2, 1, 2, 0, 2, 0, 1, 0, 1, 1, 1, 2, 1, 0, 0, 0, 2]\n",
            "index== 1020 1050\n"
          ]
        },
        {
          "output_type": "stream",
          "name": "stderr",
          "text": [
            "\r  2%|▏         | 36/2345 [00:14<15:26,  2.49it/s]"
          ]
        },
        {
          "output_type": "stream",
          "name": "stdout",
          "text": [
            "[0, 0, 0, 0, 1, 1, 0, 1, 2, 0, 2, 1, 1, 1, 2, 0, 1, 0, 0, 1, 0, 1, 0, 0, 1, 1, 1, 1, 0, 2]\n",
            "index== 1050 1080\n"
          ]
        },
        {
          "output_type": "stream",
          "name": "stderr",
          "text": [
            "\r  2%|▏         | 37/2345 [00:14<15:25,  2.49it/s]"
          ]
        },
        {
          "output_type": "stream",
          "name": "stdout",
          "text": [
            "[1, 1, 2, 1, 1, 1, 1, 1, 1, 1, 1, 1, 2, 1, 1, 2, 1, 1, 2, 1, 0, 1, 1, 2, 0, 1, 1, 0, 0, 1]\n",
            "index== 1080 1110\n"
          ]
        },
        {
          "output_type": "stream",
          "name": "stderr",
          "text": [
            "\r  2%|▏         | 38/2345 [00:15<15:26,  2.49it/s]"
          ]
        },
        {
          "output_type": "stream",
          "name": "stdout",
          "text": [
            "[1, 1, 1, 0, 2, 2, 2, 2, 2, 0, 2, 2, 2, 1, 1, 1, 2, 1, 1, 0, 2, 0, 0, 1, 0, 1, 1, 1, 0, 1]\n",
            "index== 1110 1140\n"
          ]
        },
        {
          "output_type": "stream",
          "name": "stderr",
          "text": [
            "\r  2%|▏         | 39/2345 [00:15<15:24,  2.49it/s]"
          ]
        },
        {
          "output_type": "stream",
          "name": "stdout",
          "text": [
            "[1, 1, 1, 2, 0, 1, 1, 2, 1, 1, 0, 0, 0, 2, 1, 0, 1, 1, 1, 0, 1, 1, 1, 1, 0, 1, 1, 2, 1, 0]\n",
            "index== 1140 1170\n"
          ]
        },
        {
          "output_type": "stream",
          "name": "stderr",
          "text": [
            "\r  2%|▏         | 40/2345 [00:16<15:26,  2.49it/s]"
          ]
        },
        {
          "output_type": "stream",
          "name": "stdout",
          "text": [
            "[1, 1, 0, 1, 2, 2, 2, 1, 1, 0, 1, 1, 0, 2, 0, 0, 1, 0, 1, 0, 1, 0, 0, 1, 2, 1, 2, 1, 1, 1]\n",
            "index== 1170 1200\n"
          ]
        },
        {
          "output_type": "stream",
          "name": "stderr",
          "text": [
            "\r  2%|▏         | 41/2345 [00:16<15:26,  2.49it/s]"
          ]
        },
        {
          "output_type": "stream",
          "name": "stdout",
          "text": [
            "[2, 0, 1, 2, 1, 0, 0, 1, 1, 1, 0, 2, 1, 2, 1, 1, 1, 0, 1, 1, 1, 2, 1, 0, 1, 0, 0, 2, 0, 1]\n",
            "index== 1200 1230\n"
          ]
        },
        {
          "output_type": "stream",
          "name": "stderr",
          "text": [
            "\r  2%|▏         | 42/2345 [00:16<15:26,  2.49it/s]"
          ]
        },
        {
          "output_type": "stream",
          "name": "stdout",
          "text": [
            "[1, 1, 2, 1, 2, 1, 1, 1, 1, 0, 2, 1, 1, 0, 0, 1, 0, 1, 0, 0, 0, 2, 2, 1, 1, 1, 1, 2, 2, 1]\n",
            "index== 1230 1260\n"
          ]
        },
        {
          "output_type": "stream",
          "name": "stderr",
          "text": [
            "\r  2%|▏         | 43/2345 [00:17<15:23,  2.49it/s]"
          ]
        },
        {
          "output_type": "stream",
          "name": "stdout",
          "text": [
            "[2, 2, 2, 2, 1, 2, 2, 2, 2, 1, 2, 1, 1, 1, 0, 0, 2, 1, 0, 1, 1, 2, 1, 2, 2, 1, 0, 0, 1, 1]\n",
            "index== 1260 1290\n"
          ]
        },
        {
          "output_type": "stream",
          "name": "stderr",
          "text": [
            "\r  2%|▏         | 44/2345 [00:17<15:25,  2.49it/s]"
          ]
        },
        {
          "output_type": "stream",
          "name": "stdout",
          "text": [
            "[2, 2, 1, 2, 1, 2, 1, 1, 2, 1, 0, 2, 0, 1, 1, 0, 1, 2, 0, 1, 1, 2, 0, 1, 0, 2, 1, 0, 1, 2]\n",
            "index== 1290 1320\n"
          ]
        },
        {
          "output_type": "stream",
          "name": "stderr",
          "text": [
            "\r  2%|▏         | 45/2345 [00:18<15:25,  2.49it/s]"
          ]
        },
        {
          "output_type": "stream",
          "name": "stdout",
          "text": [
            "[2, 1, 2, 1, 2, 1, 1, 2, 1, 1, 1, 1, 0, 1, 1, 1, 1, 1, 1, 1, 1, 1, 1, 1, 1, 2, 1, 2, 1, 1]\n",
            "index== 1320 1350\n"
          ]
        },
        {
          "output_type": "stream",
          "name": "stderr",
          "text": [
            "\r  2%|▏         | 46/2345 [00:18<15:26,  2.48it/s]"
          ]
        },
        {
          "output_type": "stream",
          "name": "stdout",
          "text": [
            "[0, 1, 1, 0, 2, 1, 1, 1, 2, 2, 1, 2, 1, 0, 1, 2, 1, 2, 1, 1, 1, 1, 2, 1, 1, 2, 1, 1, 1, 1]\n",
            "index== 1350 1380\n"
          ]
        },
        {
          "output_type": "stream",
          "name": "stderr",
          "text": [
            "\r  2%|▏         | 47/2345 [00:18<15:26,  2.48it/s]"
          ]
        },
        {
          "output_type": "stream",
          "name": "stdout",
          "text": [
            "[0, 0, 0, 0, 1, 1, 0, 1, 1, 1, 2, 2, 2, 1, 2, 0, 1, 1, 1, 2, 1, 1, 1, 1, 0, 1, 2, 1, 1, 1]\n",
            "index== 1380 1410\n"
          ]
        },
        {
          "output_type": "stream",
          "name": "stderr",
          "text": [
            "\r  2%|▏         | 48/2345 [00:19<15:24,  2.49it/s]"
          ]
        },
        {
          "output_type": "stream",
          "name": "stdout",
          "text": [
            "[0, 2, 2, 1, 0, 2, 0, 0, 2, 2, 2, 0, 1, 1, 2, 0, 0, 1, 0, 1, 1, 1, 1, 1, 0, 1, 2, 1, 2, 1]\n",
            "index== 1410 1440\n"
          ]
        },
        {
          "output_type": "stream",
          "name": "stderr",
          "text": [
            "\r  2%|▏         | 49/2345 [00:19<15:25,  2.48it/s]"
          ]
        },
        {
          "output_type": "stream",
          "name": "stdout",
          "text": [
            "[2, 1, 2, 1, 2, 1, 2, 2, 2, 1, 1, 1, 2, 2, 1, 1, 2, 2, 2, 2, 1, 2, 2, 1, 1, 1, 2, 1, 2, 2]\n",
            "index== 1440 1470\n"
          ]
        },
        {
          "output_type": "stream",
          "name": "stderr",
          "text": [
            "\r  2%|▏         | 50/2345 [00:20<15:26,  2.48it/s]"
          ]
        },
        {
          "output_type": "stream",
          "name": "stdout",
          "text": [
            "[2, 1, 2, 2, 2, 2, 2, 2, 2, 2, 2, 2, 1, 1, 1, 0, 0, 2, 2, 2, 2, 1, 1, 2, 2, 1, 1, 1, 0, 2]\n",
            "index== 1470 1500\n"
          ]
        },
        {
          "output_type": "stream",
          "name": "stderr",
          "text": [
            "\r  2%|▏         | 51/2345 [00:20<15:25,  2.48it/s]"
          ]
        },
        {
          "output_type": "stream",
          "name": "stdout",
          "text": [
            "[1, 0, 0, 1, 1, 0, 1, 1, 0, 0, 0, 2, 0, 1, 0, 0, 1, 0, 1, 2, 2, 1, 1, 1, 2, 0, 0, 1, 1, 1]\n",
            "index== 1500 1530\n"
          ]
        },
        {
          "output_type": "stream",
          "name": "stderr",
          "text": [
            "\r  2%|▏         | 52/2345 [00:20<15:23,  2.48it/s]"
          ]
        },
        {
          "output_type": "stream",
          "name": "stdout",
          "text": [
            "[1, 2, 0, 1, 0, 1, 1, 1, 0, 1, 1, 1, 2, 1, 1, 1, 2, 2, 1, 1, 1, 1, 0, 1, 1, 1, 1, 1, 2, 2]\n",
            "index== 1530 1560\n"
          ]
        },
        {
          "output_type": "stream",
          "name": "stderr",
          "text": [
            "\r  2%|▏         | 53/2345 [00:21<15:28,  2.47it/s]"
          ]
        },
        {
          "output_type": "stream",
          "name": "stdout",
          "text": [
            "[0, 1, 1, 1, 1, 1, 1, 1, 2, 1, 1, 2, 2, 2, 1, 0, 0, 2, 0, 1, 1, 2, 2, 1, 1, 0, 1, 1, 1, 1]\n",
            "index== 1560 1590\n"
          ]
        },
        {
          "output_type": "stream",
          "name": "stderr",
          "text": [
            "\r  2%|▏         | 54/2345 [00:21<15:33,  2.45it/s]"
          ]
        },
        {
          "output_type": "stream",
          "name": "stdout",
          "text": [
            "[0, 0, 1, 1, 1, 1, 2, 1, 0, 1, 2, 2, 1, 2, 0, 0, 2, 1, 1, 1, 0, 1, 1, 1, 1, 1, 1, 1, 1, 1]\n",
            "index== 1590 1620\n"
          ]
        },
        {
          "output_type": "stream",
          "name": "stderr",
          "text": [
            "\r  2%|▏         | 55/2345 [00:22<15:35,  2.45it/s]"
          ]
        },
        {
          "output_type": "stream",
          "name": "stdout",
          "text": [
            "[1, 2, 1, 1, 0, 1, 0, 1, 1, 1, 1, 2, 1, 1, 1, 1, 0, 1, 1, 1, 2, 0, 2, 0, 0, 0, 1, 2, 0, 1]\n",
            "index== 1620 1650\n"
          ]
        },
        {
          "output_type": "stream",
          "name": "stderr",
          "text": [
            "\r  2%|▏         | 56/2345 [00:22<15:36,  2.44it/s]"
          ]
        },
        {
          "output_type": "stream",
          "name": "stdout",
          "text": [
            "[1, 0, 1, 1, 0, 1, 1, 0, 0, 1, 1, 2, 1, 1, 1, 1, 1, 1, 2, 1, 0, 2, 0, 0, 0, 0, 1, 2, 0, 1]\n",
            "index== 1650 1680\n"
          ]
        },
        {
          "output_type": "stream",
          "name": "stderr",
          "text": [
            "\r  2%|▏         | 57/2345 [00:22<15:45,  2.42it/s]"
          ]
        },
        {
          "output_type": "stream",
          "name": "stdout",
          "text": [
            "[0, 0, 1, 1, 1, 1, 2, 1, 1, 0, 0, 0, 1, 1, 1, 2, 0, 1, 1, 1, 1, 0, 0, 1, 0, 1, 2, 1, 1, 1]\n",
            "index== 1680 1710\n"
          ]
        },
        {
          "output_type": "stream",
          "name": "stderr",
          "text": [
            "\r  2%|▏         | 58/2345 [00:23<15:42,  2.43it/s]"
          ]
        },
        {
          "output_type": "stream",
          "name": "stdout",
          "text": [
            "[2, 1, 0, 1, 1, 2, 0, 1, 1, 2, 2, 1, 1, 0, 1, 1, 2, 2, 0, 0, 1, 1, 0, 1, 0, 0, 1, 1, 1, 1]\n",
            "index== 1710 1740\n"
          ]
        },
        {
          "output_type": "stream",
          "name": "stderr",
          "text": [
            "\r  3%|▎         | 59/2345 [00:23<15:47,  2.41it/s]"
          ]
        },
        {
          "output_type": "stream",
          "name": "stdout",
          "text": [
            "[1, 1, 2, 2, 2, 2, 2, 0, 0, 2, 0, 1, 0, 0, 1, 2, 2, 1, 0, 0, 2, 0, 1, 0, 0, 0, 1, 0, 1, 1]\n",
            "index== 1740 1770\n"
          ]
        },
        {
          "output_type": "stream",
          "name": "stderr",
          "text": [
            "\r  3%|▎         | 60/2345 [00:24<15:46,  2.41it/s]"
          ]
        },
        {
          "output_type": "stream",
          "name": "stdout",
          "text": [
            "[1, 1, 1, 1, 2, 1, 1, 1, 0, 1, 1, 1, 1, 2, 2, 1, 1, 0, 1, 2, 0, 1, 0, 1, 2, 1, 0, 0, 0, 2]\n",
            "index== 1770 1800\n"
          ]
        },
        {
          "output_type": "stream",
          "name": "stderr",
          "text": [
            "\r  3%|▎         | 61/2345 [00:24<15:48,  2.41it/s]"
          ]
        },
        {
          "output_type": "stream",
          "name": "stdout",
          "text": [
            "[2, 2, 0, 0, 2, 1, 1, 2, 1, 1, 1, 1, 1, 2, 1, 1, 0, 1, 1, 1, 1, 0, 0, 1, 1, 1, 1, 1, 1, 1]\n",
            "index== 1800 1830\n"
          ]
        },
        {
          "output_type": "stream",
          "name": "stderr",
          "text": [
            "\r  3%|▎         | 62/2345 [00:25<15:49,  2.41it/s]"
          ]
        },
        {
          "output_type": "stream",
          "name": "stdout",
          "text": [
            "[0, 0, 1, 1, 1, 1, 1, 2, 1, 1, 2, 0, 1, 2, 2, 0, 1, 1, 0, 1, 0, 0, 1, 0, 0, 1, 1, 0, 0, 0]\n",
            "index== 1830 1860\n"
          ]
        },
        {
          "output_type": "stream",
          "name": "stderr",
          "text": [
            "\r  3%|▎         | 63/2345 [00:25<15:55,  2.39it/s]"
          ]
        },
        {
          "output_type": "stream",
          "name": "stdout",
          "text": [
            "[0, 0, 1, 1, 2, 2, 0, 2, 1, 1, 2, 0, 0, 2, 1, 0, 1, 1, 0, 0, 1, 0, 1, 1, 1, 0, 1, 1, 0, 2]\n",
            "index== 1860 1890\n"
          ]
        },
        {
          "output_type": "stream",
          "name": "stderr",
          "text": [
            "\r  3%|▎         | 64/2345 [00:25<15:54,  2.39it/s]"
          ]
        },
        {
          "output_type": "stream",
          "name": "stdout",
          "text": [
            "[0, 0, 1, 1, 1, 1, 1, 0, 1, 1, 1, 2, 2, 1, 1, 1, 1, 1, 0, 1, 0, 1, 1, 1, 0, 0, 0, 1, 1, 1]\n",
            "index== 1890 1920\n"
          ]
        },
        {
          "output_type": "stream",
          "name": "stderr",
          "text": [
            "\r  3%|▎         | 65/2345 [00:26<15:54,  2.39it/s]"
          ]
        },
        {
          "output_type": "stream",
          "name": "stdout",
          "text": [
            "[1, 2, 1, 1, 1, 0, 1, 1, 0, 1, 0, 2, 1, 1, 1, 2, 1, 1, 1, 1, 1, 1, 0, 0, 2, 2, 0, 1, 0, 1]\n",
            "index== 1920 1950\n"
          ]
        },
        {
          "output_type": "stream",
          "name": "stderr",
          "text": [
            "\r  3%|▎         | 66/2345 [00:26<15:48,  2.40it/s]"
          ]
        },
        {
          "output_type": "stream",
          "name": "stdout",
          "text": [
            "[0, 1, 0, 1, 0, 1, 0, 1, 0, 2, 1, 2, 1, 1, 1, 0, 0, 0, 0, 1, 1, 1, 0, 0, 1, 2, 2, 1, 1, 0]\n",
            "index== 1950 1980\n"
          ]
        },
        {
          "output_type": "stream",
          "name": "stderr",
          "text": [
            "\r  3%|▎         | 67/2345 [00:27<15:47,  2.40it/s]"
          ]
        },
        {
          "output_type": "stream",
          "name": "stdout",
          "text": [
            "[1, 2, 1, 1, 0, 0, 0, 1, 1, 1, 1, 0, 2, 1, 1, 1, 1, 1, 1, 1, 1, 1, 2, 1, 1, 1, 2, 0, 1, 1]\n",
            "index== 1980 2010\n"
          ]
        },
        {
          "output_type": "stream",
          "name": "stderr",
          "text": [
            "\r  3%|▎         | 68/2345 [00:27<15:45,  2.41it/s]"
          ]
        },
        {
          "output_type": "stream",
          "name": "stdout",
          "text": [
            "[1, 1, 1, 0, 2, 2, 1, 1, 2, 1, 2, 1, 2, 2, 0, 1, 1, 0, 2, 1, 1, 1, 0, 1, 2, 1, 1, 1, 1, 0]\n",
            "index== 2010 2040\n"
          ]
        },
        {
          "output_type": "stream",
          "name": "stderr",
          "text": [
            "\r  3%|▎         | 69/2345 [00:27<15:42,  2.42it/s]"
          ]
        },
        {
          "output_type": "stream",
          "name": "stdout",
          "text": [
            "[1, 1, 1, 0, 1, 0, 1, 1, 2, 1, 2, 1, 0, 2, 2, 0, 2, 2, 0, 0, 2, 1, 1, 2, 2, 1, 1, 1, 1, 0]\n",
            "index== 2040 2070\n"
          ]
        },
        {
          "output_type": "stream",
          "name": "stderr",
          "text": [
            "\r  3%|▎         | 70/2345 [00:28<15:43,  2.41it/s]"
          ]
        },
        {
          "output_type": "stream",
          "name": "stdout",
          "text": [
            "[0, 1, 0, 2, 2, 1, 0, 0, 1, 1, 1, 0, 1, 1, 2, 1, 1, 1, 1, 1, 0, 2, 1, 0, 2, 2, 1, 1, 2, 1]\n",
            "index== 2070 2100\n"
          ]
        },
        {
          "output_type": "stream",
          "name": "stderr",
          "text": [
            "\r  3%|▎         | 71/2345 [00:28<15:40,  2.42it/s]"
          ]
        },
        {
          "output_type": "stream",
          "name": "stdout",
          "text": [
            "[2, 1, 2, 1, 1, 1, 0, 1, 1, 2, 2, 1, 0, 1, 1, 2, 0, 1, 0, 1, 2, 1, 1, 0, 2, 2, 1, 0, 0, 2]\n",
            "index== 2100 2130\n"
          ]
        },
        {
          "output_type": "stream",
          "name": "stderr",
          "text": [
            "\r  3%|▎         | 72/2345 [00:29<15:38,  2.42it/s]"
          ]
        },
        {
          "output_type": "stream",
          "name": "stdout",
          "text": [
            "[0, 1, 1, 0, 0, 1, 0, 2, 1, 1, 0, 2, 0, 0, 0, 0, 0, 1, 1, 0, 1, 2, 1, 0, 0, 1, 0, 1, 1, 1]\n",
            "index== 2130 2160\n"
          ]
        },
        {
          "output_type": "stream",
          "name": "stderr",
          "text": [
            "\r  3%|▎         | 73/2345 [00:29<15:38,  2.42it/s]"
          ]
        },
        {
          "output_type": "stream",
          "name": "stdout",
          "text": [
            "[0, 1, 1, 0, 1, 2, 0, 1, 2, 1, 0, 0, 0, 0, 0, 1, 2, 1, 1, 1, 1, 1, 1, 0, 1, 0, 0, 1, 0, 0]\n",
            "index== 2160 2190\n"
          ]
        },
        {
          "output_type": "stream",
          "name": "stderr",
          "text": [
            "\r  3%|▎         | 74/2345 [00:30<15:36,  2.43it/s]"
          ]
        },
        {
          "output_type": "stream",
          "name": "stdout",
          "text": [
            "[0, 2, 1, 2, 0, 0, 0, 0, 1, 0, 0, 0, 2, 1, 2, 0, 0, 1, 1, 0, 1, 1, 1, 1, 1, 2, 1, 0, 1, 0]\n",
            "index== 2190 2220\n"
          ]
        },
        {
          "output_type": "stream",
          "name": "stderr",
          "text": [
            "\r  3%|▎         | 75/2345 [00:30<15:38,  2.42it/s]"
          ]
        },
        {
          "output_type": "stream",
          "name": "stdout",
          "text": [
            "[0, 1, 1, 2, 0, 0, 0, 0, 0, 1, 1, 0, 2, 2, 0, 0, 1, 0, 0, 1, 1, 2, 2, 2, 0, 0, 1, 1, 0, 0]\n",
            "index== 2220 2250\n"
          ]
        },
        {
          "output_type": "stream",
          "name": "stderr",
          "text": [
            "\r  3%|▎         | 76/2345 [00:30<15:39,  2.42it/s]"
          ]
        },
        {
          "output_type": "stream",
          "name": "stdout",
          "text": [
            "[0, 2, 0, 0, 0, 1, 0, 0, 2, 1, 0, 1, 2, 1, 2, 1, 1, 1, 2, 1, 0, 0, 2, 2, 1, 0, 2, 0, 0, 0]\n",
            "index== 2250 2280\n"
          ]
        },
        {
          "output_type": "stream",
          "name": "stderr",
          "text": [
            "\r  3%|▎         | 77/2345 [00:31<15:36,  2.42it/s]"
          ]
        },
        {
          "output_type": "stream",
          "name": "stdout",
          "text": [
            "[1, 1, 1, 0, 1, 0, 0, 1, 1, 1, 1, 1, 1, 1, 0, 1, 0, 2, 1, 0, 0, 2, 0, 0, 1, 1, 0, 1, 2, 0]\n",
            "index== 2280 2310\n"
          ]
        },
        {
          "output_type": "stream",
          "name": "stderr",
          "text": [
            "\r  3%|▎         | 78/2345 [00:31<15:39,  2.41it/s]"
          ]
        },
        {
          "output_type": "stream",
          "name": "stdout",
          "text": [
            "[0, 1, 0, 0, 0, 0, 0, 0, 1, 0, 1, 0, 1, 2, 0, 2, 0, 0, 1, 1, 1, 0, 1, 1, 1, 1, 1, 1, 0, 0]\n",
            "index== 2310 2340\n"
          ]
        },
        {
          "output_type": "stream",
          "name": "stderr",
          "text": [
            "\r  3%|▎         | 79/2345 [00:32<15:32,  2.43it/s]"
          ]
        },
        {
          "output_type": "stream",
          "name": "stdout",
          "text": [
            "[0, 0, 1, 0, 0, 1, 0, 1, 0, 0, 2, 1, 1, 2, 1, 0, 0, 2, 1, 1, 2, 0, 0, 0, 0, 1, 0, 0, 0, 1]\n",
            "index== 2340 2370\n"
          ]
        },
        {
          "output_type": "stream",
          "name": "stderr",
          "text": [
            "\r  3%|▎         | 80/2345 [00:32<15:30,  2.43it/s]"
          ]
        },
        {
          "output_type": "stream",
          "name": "stdout",
          "text": [
            "[1, 0, 0, 1, 0, 1, 1, 1, 1, 0, 0, 1, 1, 1, 0, 0, 0, 0, 1, 0, 0, 1, 2, 1, 0, 2, 0, 1, 0, 1]\n",
            "index== 2370 2400\n"
          ]
        },
        {
          "output_type": "stream",
          "name": "stderr",
          "text": [
            "\r  3%|▎         | 81/2345 [00:32<15:31,  2.43it/s]"
          ]
        },
        {
          "output_type": "stream",
          "name": "stdout",
          "text": [
            "[1, 1, 2, 1, 1, 0, 1, 2, 1, 1, 2, 0, 2, 0, 0, 0, 0, 2, 1, 1, 1, 0, 1, 2, 1, 2, 1, 2, 1, 2]\n",
            "index== 2400 2430\n"
          ]
        },
        {
          "output_type": "stream",
          "name": "stderr",
          "text": [
            "\r  3%|▎         | 82/2345 [00:33<15:37,  2.41it/s]"
          ]
        },
        {
          "output_type": "stream",
          "name": "stdout",
          "text": [
            "[1, 2, 1, 1, 1, 1, 0, 0, 1, 2, 0, 0, 0, 2, 0, 0, 1, 0, 2, 1, 2, 2, 1, 1, 2, 1, 2, 1, 2, 1]\n",
            "index== 2430 2460\n"
          ]
        },
        {
          "output_type": "stream",
          "name": "stderr",
          "text": [
            "\r  4%|▎         | 83/2345 [00:33<15:36,  2.41it/s]"
          ]
        },
        {
          "output_type": "stream",
          "name": "stdout",
          "text": [
            "[1, 0, 1, 1, 1, 0, 0, 0, 0, 1, 0, 2, 2, 1, 0, 1, 2, 1, 1, 2, 0, 0, 2, 0, 1, 0, 1, 1, 1, 1]\n",
            "index== 2460 2490\n"
          ]
        },
        {
          "output_type": "stream",
          "name": "stderr",
          "text": [
            "\r  4%|▎         | 84/2345 [00:34<15:43,  2.40it/s]"
          ]
        },
        {
          "output_type": "stream",
          "name": "stdout",
          "text": [
            "[1, 2, 1, 2, 1, 0, 1, 1, 1, 2, 1, 1, 2, 1, 1, 1, 1, 1, 1, 1, 2, 1, 1, 1, 2, 2, 2, 2, 1, 1]\n",
            "index== 2490 2520\n"
          ]
        },
        {
          "output_type": "stream",
          "name": "stderr",
          "text": [
            "\r  4%|▎         | 85/2345 [00:34<15:42,  2.40it/s]"
          ]
        },
        {
          "output_type": "stream",
          "name": "stdout",
          "text": [
            "[1, 2, 1, 1, 2, 1, 1, 1, 1, 2, 2, 2, 1, 1, 2, 0, 1, 2, 2, 1, 0, 1, 1, 1, 1, 1, 1, 1, 0, 2]\n",
            "index== 2520 2550\n"
          ]
        },
        {
          "output_type": "stream",
          "name": "stderr",
          "text": [
            "\r  4%|▎         | 86/2345 [00:34<15:41,  2.40it/s]"
          ]
        },
        {
          "output_type": "stream",
          "name": "stdout",
          "text": [
            "[0, 1, 2, 2, 2, 1, 1, 1, 2, 2, 1, 1, 1, 1, 1, 1, 1, 1, 1, 2, 1, 0, 1, 1, 2, 1, 1, 2, 0, 1]\n",
            "index== 2550 2580\n"
          ]
        },
        {
          "output_type": "stream",
          "name": "stderr",
          "text": [
            "\r  4%|▎         | 87/2345 [00:35<15:38,  2.41it/s]"
          ]
        },
        {
          "output_type": "stream",
          "name": "stdout",
          "text": [
            "[1, 1, 0, 2, 1, 1, 1, 2, 2, 2, 1, 1, 1, 0, 1, 1, 2, 1, 1, 2, 1, 2, 0, 1, 1, 0, 0, 2, 1, 1]\n",
            "index== 2580 2610\n"
          ]
        },
        {
          "output_type": "stream",
          "name": "stderr",
          "text": [
            "\r  4%|▍         | 88/2345 [00:35<15:44,  2.39it/s]"
          ]
        },
        {
          "output_type": "stream",
          "name": "stdout",
          "text": [
            "[1, 2, 0, 2, 0, 0, 1, 0, 1, 2, 2, 0, 2, 1, 0, 1, 1, 1, 1, 1, 1, 1, 1, 0, 1, 1, 1, 2, 1, 1]\n",
            "index== 2610 2640\n"
          ]
        },
        {
          "output_type": "stream",
          "name": "stderr",
          "text": [
            "\r  4%|▍         | 89/2345 [00:36<15:44,  2.39it/s]"
          ]
        },
        {
          "output_type": "stream",
          "name": "stdout",
          "text": [
            "[1, 1, 0, 1, 0, 2, 1, 1, 2, 2, 0, 2, 1, 1, 2, 1, 2, 1, 2, 1, 2, 1, 1, 1, 1, 1, 1, 1, 1, 2]\n",
            "index== 2640 2670\n"
          ]
        },
        {
          "output_type": "stream",
          "name": "stderr",
          "text": [
            "\r  4%|▍         | 90/2345 [00:36<15:42,  2.39it/s]"
          ]
        },
        {
          "output_type": "stream",
          "name": "stdout",
          "text": [
            "[0, 1, 2, 1, 2, 2, 1, 0, 1, 1, 1, 1, 0, 1, 1, 1, 1, 1, 1, 2, 0, 0, 1, 1, 1, 1, 1, 1, 1, 1]\n",
            "index== 2670 2700\n"
          ]
        },
        {
          "output_type": "stream",
          "name": "stderr",
          "text": [
            "\r  4%|▍         | 91/2345 [00:37<15:41,  2.39it/s]"
          ]
        },
        {
          "output_type": "stream",
          "name": "stdout",
          "text": [
            "[0, 2, 1, 1, 0, 0, 1, 1, 0, 1, 2, 1, 1, 0, 1, 0, 0, 0, 0, 1, 1, 1, 1, 2, 1, 1, 1, 0, 1, 1]\n",
            "index== 2700 2730\n"
          ]
        },
        {
          "output_type": "stream",
          "name": "stderr",
          "text": [
            "\r  4%|▍         | 92/2345 [00:37<15:40,  2.40it/s]"
          ]
        },
        {
          "output_type": "stream",
          "name": "stdout",
          "text": [
            "[1, 1, 1, 1, 1, 1, 0, 1, 0, 2, 0, 0, 1, 1, 1, 0, 0, 0, 2, 0, 1, 0, 2, 2, 2, 0, 1, 0, 0, 2]\n",
            "index== 2730 2760\n"
          ]
        },
        {
          "output_type": "stream",
          "name": "stderr",
          "text": [
            "\r  4%|▍         | 93/2345 [00:37<15:37,  2.40it/s]"
          ]
        },
        {
          "output_type": "stream",
          "name": "stdout",
          "text": [
            "[1, 1, 1, 1, 1, 1, 1, 1, 1, 1, 0, 1, 1, 0, 2, 1, 2, 1, 0, 1, 2, 0, 1, 2, 1, 1, 0, 2, 1, 2]\n",
            "index== 2760 2790\n"
          ]
        },
        {
          "output_type": "stream",
          "name": "stderr",
          "text": [
            "\r  4%|▍         | 94/2345 [00:38<15:40,  2.39it/s]"
          ]
        },
        {
          "output_type": "stream",
          "name": "stdout",
          "text": [
            "[1, 1, 1, 2, 1, 1, 0, 2, 2, 1, 1, 2, 1, 1, 2, 2, 1, 1, 1, 1, 1, 1, 1, 1, 1, 1, 2, 1, 2, 1]\n",
            "index== 2790 2820\n"
          ]
        },
        {
          "output_type": "stream",
          "name": "stderr",
          "text": [
            "\r  4%|▍         | 95/2345 [00:38<15:38,  2.40it/s]"
          ]
        },
        {
          "output_type": "stream",
          "name": "stdout",
          "text": [
            "[1, 1, 1, 1, 2, 2, 2, 1, 1, 1, 2, 0, 0, 2, 1, 2, 0, 2, 1, 0, 1, 1, 1, 2, 2, 2, 1, 1, 2, 1]\n",
            "index== 2820 2850\n"
          ]
        },
        {
          "output_type": "stream",
          "name": "stderr",
          "text": [
            "\r  4%|▍         | 96/2345 [00:39<15:37,  2.40it/s]"
          ]
        },
        {
          "output_type": "stream",
          "name": "stdout",
          "text": [
            "[2, 2, 2, 1, 0, 2, 1, 1, 0, 1, 1, 1, 2, 2, 0, 2, 2, 2, 0, 1, 1, 1, 1, 1, 1, 1, 1, 0, 1, 2]\n",
            "index== 2850 2880\n"
          ]
        },
        {
          "output_type": "stream",
          "name": "stderr",
          "text": [
            "\r  4%|▍         | 97/2345 [00:39<15:36,  2.40it/s]"
          ]
        },
        {
          "output_type": "stream",
          "name": "stdout",
          "text": [
            "[1, 1, 2, 1, 1, 1, 0, 2, 2, 2, 2, 1, 2, 1, 2, 2, 0, 1, 1, 2, 2, 1, 2, 2, 1, 2, 0, 0, 1, 2]\n",
            "index== 2880 2910\n"
          ]
        },
        {
          "output_type": "stream",
          "name": "stderr",
          "text": [
            "\r  4%|▍         | 98/2345 [00:39<15:32,  2.41it/s]"
          ]
        },
        {
          "output_type": "stream",
          "name": "stdout",
          "text": [
            "[1, 0, 1, 1, 0, 2, 2, 2, 1, 1, 2, 1, 1, 2, 2, 1, 1, 1, 1, 2, 2, 0, 1, 0, 2, 0, 0, 2, 2, 2]\n",
            "index== 2910 2940\n"
          ]
        },
        {
          "output_type": "stream",
          "name": "stderr",
          "text": [
            "\r  4%|▍         | 99/2345 [00:40<15:30,  2.41it/s]"
          ]
        },
        {
          "output_type": "stream",
          "name": "stdout",
          "text": [
            "[0, 2, 0, 1, 1, 1, 1, 1, 0, 2, 2, 2, 2, 0, 1, 0, 2, 2, 2, 2, 0, 1, 2, 1, 2, 2, 1, 1, 0, 1]\n",
            "index== 2940 2970\n"
          ]
        },
        {
          "output_type": "stream",
          "name": "stderr",
          "text": [
            "\r  4%|▍         | 100/2345 [00:40<15:28,  2.42it/s]"
          ]
        },
        {
          "output_type": "stream",
          "name": "stdout",
          "text": [
            "[0, 0, 2, 0, 2, 0, 1, 1, 1, 2, 2, 0, 2, 1, 1, 2, 2, 1, 2, 1, 0, 1, 1, 1, 1, 2, 2, 2, 1, 0]\n",
            "index== 2970 3000\n"
          ]
        },
        {
          "output_type": "stream",
          "name": "stderr",
          "text": [
            "\r  4%|▍         | 101/2345 [00:41<15:26,  2.42it/s]"
          ]
        },
        {
          "output_type": "stream",
          "name": "stdout",
          "text": [
            "[0, 1, 1, 1, 0, 2, 0, 1, 2, 0, 2, 2, 2, 2, 2, 1, 1, 1, 2, 1, 1, 1, 2, 2, 2, 2, 2, 1, 1, 1]\n",
            "index== 3000 3030\n"
          ]
        },
        {
          "output_type": "stream",
          "name": "stderr",
          "text": [
            "\r  4%|▍         | 102/2345 [00:41<15:25,  2.42it/s]"
          ]
        },
        {
          "output_type": "stream",
          "name": "stdout",
          "text": [
            "[2, 2, 2, 1, 0, 2, 0, 1, 2, 2, 2, 0, 1, 2, 2, 2, 2, 2, 2, 2, 1, 1, 1, 1, 0, 2, 1, 1, 2, 2]\n",
            "index== 3030 3060\n"
          ]
        },
        {
          "output_type": "stream",
          "name": "stderr",
          "text": [
            "\r  4%|▍         | 103/2345 [00:42<15:24,  2.43it/s]"
          ]
        },
        {
          "output_type": "stream",
          "name": "stdout",
          "text": [
            "[2, 2, 2, 1, 2, 2, 1, 2, 2, 0, 1, 2, 2, 2, 0, 2, 1, 2, 2, 2, 0, 0, 2, 2, 2, 1, 2, 2, 1, 2]\n",
            "index== 3060 3090\n"
          ]
        },
        {
          "output_type": "stream",
          "name": "stderr",
          "text": [
            "\r  4%|▍         | 104/2345 [00:42<15:21,  2.43it/s]"
          ]
        },
        {
          "output_type": "stream",
          "name": "stdout",
          "text": [
            "[2, 0, 2, 2, 2, 2, 2, 0, 2, 2, 2, 2, 2, 2, 2, 1, 2, 2, 2, 0, 2, 2, 2, 2, 2, 2, 0, 2, 2, 2]\n",
            "index== 3090 3120\n"
          ]
        },
        {
          "output_type": "stream",
          "name": "stderr",
          "text": [
            "\r  4%|▍         | 105/2345 [00:42<15:21,  2.43it/s]"
          ]
        },
        {
          "output_type": "stream",
          "name": "stdout",
          "text": [
            "[1, 1, 1, 0, 1, 1, 1, 1, 1, 0, 1, 1, 1, 1, 1, 1, 2, 2, 1, 1, 2, 1, 2, 1, 1, 2, 1, 2, 1, 1]\n",
            "index== 3120 3150\n"
          ]
        },
        {
          "output_type": "stream",
          "name": "stderr",
          "text": [
            "\r  5%|▍         | 106/2345 [00:43<15:22,  2.43it/s]"
          ]
        },
        {
          "output_type": "stream",
          "name": "stdout",
          "text": [
            "[1, 0, 1, 2, 1, 1, 1, 2, 1, 2, 1, 1, 1, 1, 1, 1, 1, 2, 1, 2, 1, 1, 1, 1, 1, 1, 1, 1, 2, 2]\n",
            "index== 3150 3180\n"
          ]
        },
        {
          "output_type": "stream",
          "name": "stderr",
          "text": [
            "\r  5%|▍         | 107/2345 [00:43<15:21,  2.43it/s]"
          ]
        },
        {
          "output_type": "stream",
          "name": "stdout",
          "text": [
            "[1, 1, 1, 2, 2, 1, 1, 1, 0, 1, 1, 0, 1, 1, 1, 2, 2, 0, 2, 1, 0, 0, 1, 1, 1, 2, 1, 2, 0, 2]\n",
            "index== 3180 3210\n"
          ]
        },
        {
          "output_type": "stream",
          "name": "stderr",
          "text": [
            "\r  5%|▍         | 108/2345 [00:44<15:21,  2.43it/s]"
          ]
        },
        {
          "output_type": "stream",
          "name": "stdout",
          "text": [
            "[2, 1, 1, 1, 0, 1, 2, 1, 1, 1, 1, 1, 0, 1, 0, 2, 2, 2, 0, 1, 1, 2, 0, 1, 1, 0, 2, 1, 0, 1]\n",
            "index== 3210 3240\n"
          ]
        },
        {
          "output_type": "stream",
          "name": "stderr",
          "text": [
            "\r  5%|▍         | 109/2345 [00:44<15:20,  2.43it/s]"
          ]
        },
        {
          "output_type": "stream",
          "name": "stdout",
          "text": [
            "[1, 1, 1, 0, 1, 0, 1, 1, 2, 1, 1, 1, 1, 0, 2, 1, 1, 2, 1, 2, 1, 2, 1, 1, 1, 1, 0, 2, 1, 1]\n",
            "index== 3240 3270\n"
          ]
        },
        {
          "output_type": "stream",
          "name": "stderr",
          "text": [
            "\r  5%|▍         | 110/2345 [00:44<15:21,  2.43it/s]"
          ]
        },
        {
          "output_type": "stream",
          "name": "stdout",
          "text": [
            "[1, 1, 2, 1, 0, 2, 1, 1, 1, 1, 0, 0, 1, 1, 1, 0, 0, 1, 1, 1, 1, 2, 1, 0, 0, 1, 0, 0, 1, 1]\n",
            "index== 3270 3300\n"
          ]
        },
        {
          "output_type": "stream",
          "name": "stderr",
          "text": [
            "\r  5%|▍         | 111/2345 [00:45<15:20,  2.43it/s]"
          ]
        },
        {
          "output_type": "stream",
          "name": "stdout",
          "text": [
            "[0, 0, 0, 1, 0, 1, 1, 2, 1, 1, 1, 0, 1, 1, 0, 1, 1, 2, 2, 1, 1, 1, 1, 0, 1, 0, 0, 2, 0, 1]\n",
            "index== 3300 3330\n"
          ]
        },
        {
          "output_type": "stream",
          "name": "stderr",
          "text": [
            "\r  5%|▍         | 112/2345 [00:45<15:20,  2.43it/s]"
          ]
        },
        {
          "output_type": "stream",
          "name": "stdout",
          "text": [
            "[1, 1, 0, 0, 1, 2, 1, 1, 2, 1, 1, 0, 0, 1, 2, 1, 1, 1, 1, 0, 0, 2, 1, 2, 0, 0, 2, 2, 2, 1]\n",
            "index== 3330 3360\n"
          ]
        },
        {
          "output_type": "stream",
          "name": "stderr",
          "text": [
            "\r  5%|▍         | 113/2345 [00:46<15:21,  2.42it/s]"
          ]
        },
        {
          "output_type": "stream",
          "name": "stdout",
          "text": [
            "[1, 2, 1, 0, 0, 2, 2, 0, 0, 0, 0, 1, 0, 1, 0, 1, 2, 1, 1, 0, 2, 1, 1, 2, 0, 1, 2, 0, 2, 1]\n",
            "index== 3360 3390\n"
          ]
        },
        {
          "output_type": "stream",
          "name": "stderr",
          "text": [
            "\r  5%|▍         | 114/2345 [00:46<15:21,  2.42it/s]"
          ]
        },
        {
          "output_type": "stream",
          "name": "stdout",
          "text": [
            "[2, 1, 2, 0, 1, 0, 1, 1, 2, 0, 1, 1, 2, 0, 1, 2, 2, 0, 0, 0, 2, 1, 0, 1, 0, 1, 2, 0, 1, 1]\n",
            "index== 3390 3420\n"
          ]
        },
        {
          "output_type": "stream",
          "name": "stderr",
          "text": [
            "\r  5%|▍         | 115/2345 [00:47<15:21,  2.42it/s]"
          ]
        },
        {
          "output_type": "stream",
          "name": "stdout",
          "text": [
            "[2, 1, 1, 1, 1, 0, 1, 1, 2, 0, 1, 1, 1, 2, 1, 1, 1, 0, 0, 0, 0, 0, 0, 1, 1, 1, 1, 2, 0, 1]\n",
            "index== 3420 3450\n"
          ]
        },
        {
          "output_type": "stream",
          "name": "stderr",
          "text": [
            "\r  5%|▍         | 116/2345 [00:47<15:21,  2.42it/s]"
          ]
        },
        {
          "output_type": "stream",
          "name": "stdout",
          "text": [
            "[1, 0, 1, 1, 1, 1, 0, 0, 1, 1, 0, 0, 1, 0, 0, 0, 1, 0, 1, 1, 0, 0, 2, 1, 0, 0, 0, 0, 1, 1]\n",
            "index== 3450 3480\n"
          ]
        },
        {
          "output_type": "stream",
          "name": "stderr",
          "text": [
            "\r  5%|▍         | 117/2345 [00:47<15:19,  2.42it/s]"
          ]
        },
        {
          "output_type": "stream",
          "name": "stdout",
          "text": [
            "[2, 1, 0, 0, 1, 1, 0, 0, 0, 1, 1, 1, 2, 1, 1, 1, 1, 1, 1, 0, 0, 0, 0, 1, 1, 1, 1, 0, 1, 1]\n",
            "index== 3480 3510\n"
          ]
        },
        {
          "output_type": "stream",
          "name": "stderr",
          "text": [
            "\r  5%|▌         | 118/2345 [00:48<15:18,  2.42it/s]"
          ]
        },
        {
          "output_type": "stream",
          "name": "stdout",
          "text": [
            "[0, 1, 1, 0, 0, 0, 1, 0, 1, 1, 1, 1, 1, 0, 1, 2, 1, 1, 2, 1, 0, 1, 0, 2, 1, 1, 1, 2, 2, 0]\n",
            "index== 3510 3540\n"
          ]
        },
        {
          "output_type": "stream",
          "name": "stderr",
          "text": [
            "\r  5%|▌         | 119/2345 [00:48<15:18,  2.42it/s]"
          ]
        },
        {
          "output_type": "stream",
          "name": "stdout",
          "text": [
            "[2, 0, 1, 2, 0, 1, 2, 0, 0, 2, 1, 0, 0, 0, 1, 1, 0, 0, 1, 0, 1, 2, 1, 0, 1, 1, 1, 1, 0, 1]\n",
            "index== 3540 3570\n"
          ]
        },
        {
          "output_type": "stream",
          "name": "stderr",
          "text": [
            "\r  5%|▌         | 120/2345 [00:49<15:19,  2.42it/s]"
          ]
        },
        {
          "output_type": "stream",
          "name": "stdout",
          "text": [
            "[1, 1, 1, 1, 1, 0, 1, 1, 1, 1, 1, 1, 0, 0, 1, 0, 1, 1, 2, 0, 1, 1, 1, 1, 0, 0, 1, 1, 1, 1]\n",
            "index== 3570 3600\n"
          ]
        },
        {
          "output_type": "stream",
          "name": "stderr",
          "text": [
            "\r  5%|▌         | 121/2345 [00:49<15:19,  2.42it/s]"
          ]
        },
        {
          "output_type": "stream",
          "name": "stdout",
          "text": [
            "[0, 0, 1, 1, 0, 0, 1, 1, 1, 1, 2, 0, 0, 1, 1, 0, 1, 1, 0, 0, 0, 1, 0, 0, 1, 0, 1, 2, 0, 2]\n",
            "index== 3600 3630\n"
          ]
        },
        {
          "output_type": "stream",
          "name": "stderr",
          "text": [
            "\r  5%|▌         | 122/2345 [00:49<15:18,  2.42it/s]"
          ]
        },
        {
          "output_type": "stream",
          "name": "stdout",
          "text": [
            "[1, 1, 2, 0, 2, 2, 2, 0, 0, 1, 1, 1, 1, 1, 1, 0, 0, 2, 0, 2, 2, 2, 0, 1, 1, 1, 0, 1, 1, 1]\n",
            "index== 3630 3660\n"
          ]
        },
        {
          "output_type": "stream",
          "name": "stderr",
          "text": [
            "\r  5%|▌         | 123/2345 [00:50<15:17,  2.42it/s]"
          ]
        },
        {
          "output_type": "stream",
          "name": "stdout",
          "text": [
            "[2, 1, 1, 0, 1, 1, 1, 1, 1, 2, 2, 2, 2, 0, 1, 2, 0, 1, 0, 2, 2, 0, 0, 0, 0, 2, 0, 1, 1, 0]\n",
            "index== 3660 3690\n"
          ]
        },
        {
          "output_type": "stream",
          "name": "stderr",
          "text": [
            "\r  5%|▌         | 124/2345 [00:50<15:19,  2.41it/s]"
          ]
        },
        {
          "output_type": "stream",
          "name": "stdout",
          "text": [
            "[2, 0, 0, 1, 2, 1, 0, 1, 2, 1, 1, 1, 0, 1, 1, 2, 0, 1, 2, 2, 0, 1, 1, 1, 1, 0, 1, 1, 1, 1]\n",
            "index== 3690 3720\n"
          ]
        },
        {
          "output_type": "stream",
          "name": "stderr",
          "text": [
            "\r  5%|▌         | 125/2345 [00:51<15:18,  2.42it/s]"
          ]
        },
        {
          "output_type": "stream",
          "name": "stdout",
          "text": [
            "[1, 1, 2, 1, 1, 1, 1, 0, 1, 1, 1, 1, 1, 1, 1, 1, 2, 1, 1, 1, 1, 1, 1, 1, 1, 2, 1, 1, 1, 1]\n",
            "index== 3720 3750\n"
          ]
        },
        {
          "output_type": "stream",
          "name": "stderr",
          "text": [
            "\r  5%|▌         | 126/2345 [00:51<15:19,  2.41it/s]"
          ]
        },
        {
          "output_type": "stream",
          "name": "stdout",
          "text": [
            "[1, 1, 0, 2, 1, 1, 1, 1, 1, 0, 1, 2, 1, 0, 1, 1, 1, 1, 1, 1, 0, 0, 0, 1, 0, 2, 1, 1, 2, 2]\n",
            "index== 3750 3780\n"
          ]
        },
        {
          "output_type": "stream",
          "name": "stderr",
          "text": [
            "\r  5%|▌         | 127/2345 [00:51<15:20,  2.41it/s]"
          ]
        },
        {
          "output_type": "stream",
          "name": "stdout",
          "text": [
            "[2, 2, 0, 0, 1, 1, 1, 1, 0, 1, 1, 1, 1, 1, 1, 1, 1, 1, 0, 1, 1, 1, 1, 0, 0, 1, 1, 1, 0, 0]\n",
            "index== 3780 3810\n"
          ]
        },
        {
          "output_type": "stream",
          "name": "stderr",
          "text": [
            "\r  5%|▌         | 128/2345 [00:52<15:22,  2.40it/s]"
          ]
        },
        {
          "output_type": "stream",
          "name": "stdout",
          "text": [
            "[1, 1, 0, 2, 1, 1, 0, 1, 0, 0, 0, 0, 2, 1, 1, 1, 1, 1, 1, 1, 1, 1, 1, 1, 1, 1, 2, 1, 1, 1]\n",
            "index== 3810 3840\n"
          ]
        },
        {
          "output_type": "stream",
          "name": "stderr",
          "text": [
            "\r  6%|▌         | 129/2345 [00:52<15:22,  2.40it/s]"
          ]
        },
        {
          "output_type": "stream",
          "name": "stdout",
          "text": [
            "[1, 1, 0, 2, 0, 2, 2, 1, 1, 1, 0, 2, 1, 1, 1, 2, 1, 1, 2, 1, 1, 1, 2, 0, 1, 1, 1, 2, 1, 0]\n",
            "index== 3840 3870\n"
          ]
        },
        {
          "output_type": "stream",
          "name": "stderr",
          "text": [
            "\r  6%|▌         | 130/2345 [00:53<15:22,  2.40it/s]"
          ]
        },
        {
          "output_type": "stream",
          "name": "stdout",
          "text": [
            "[1, 2, 2, 2, 1, 2, 0, 2, 2, 2, 1, 1, 1, 1, 1, 1, 2, 1, 1, 2, 1, 1, 2, 2, 2, 1, 1, 0, 2, 1]\n",
            "index== 3870 3900\n"
          ]
        },
        {
          "output_type": "stream",
          "name": "stderr",
          "text": [
            "\r  6%|▌         | 131/2345 [00:53<15:21,  2.40it/s]"
          ]
        },
        {
          "output_type": "stream",
          "name": "stdout",
          "text": [
            "[1, 2, 2, 2, 2, 2, 2, 1, 1, 1, 2, 1, 1, 1, 0, 0, 1, 1, 2, 1, 0, 1, 1, 1, 1, 2, 0, 1, 2, 0]\n",
            "index== 3900 3930\n"
          ]
        },
        {
          "output_type": "stream",
          "name": "stderr",
          "text": [
            "\r  6%|▌         | 132/2345 [00:54<15:20,  2.40it/s]"
          ]
        },
        {
          "output_type": "stream",
          "name": "stdout",
          "text": [
            "[2, 1, 1, 1, 2, 1, 0, 1, 2, 1, 2, 1, 1, 1, 0, 1, 1, 1, 1, 1, 0, 1, 1, 0, 1, 1, 0, 1, 1, 2]\n",
            "index== 3930 3960\n"
          ]
        },
        {
          "output_type": "stream",
          "name": "stderr",
          "text": [
            "\r  6%|▌         | 133/2345 [00:54<15:18,  2.41it/s]"
          ]
        },
        {
          "output_type": "stream",
          "name": "stdout",
          "text": [
            "[1, 0, 1, 0, 1, 1, 1, 0, 0, 1, 1, 0, 1, 1, 0, 0, 1, 1, 1, 1, 1, 1, 2, 1, 0, 2, 1, 1, 1, 1]\n",
            "index== 3960 3990\n"
          ]
        },
        {
          "output_type": "stream",
          "name": "stderr",
          "text": [
            "\r  6%|▌         | 134/2345 [00:54<15:17,  2.41it/s]"
          ]
        },
        {
          "output_type": "stream",
          "name": "stdout",
          "text": [
            "[0, 0, 2, 2, 1, 2, 1, 1, 2, 0, 1, 1, 2, 2, 1, 1, 1, 1, 1, 1, 1, 1, 0, 1, 1, 2, 1, 1, 1, 2]\n",
            "index== 3990 4020\n"
          ]
        },
        {
          "output_type": "stream",
          "name": "stderr",
          "text": [
            "\r  6%|▌         | 135/2345 [00:55<15:17,  2.41it/s]"
          ]
        },
        {
          "output_type": "stream",
          "name": "stdout",
          "text": [
            "[2, 2, 1, 0, 2, 1, 1, 0, 2, 1, 1, 1, 2, 2, 1, 1, 0, 1, 1, 1, 1, 1, 2, 1, 0, 2, 1, 1, 1, 1]\n",
            "index== 4020 4050\n"
          ]
        },
        {
          "output_type": "stream",
          "name": "stderr",
          "text": [
            "\r  6%|▌         | 136/2345 [00:55<15:16,  2.41it/s]"
          ]
        },
        {
          "output_type": "stream",
          "name": "stdout",
          "text": [
            "[1, 1, 1, 1, 1, 1, 1, 1, 1, 1, 0, 0, 0, 2, 1, 2, 1, 1, 1, 1, 2, 1, 0, 1, 1, 1, 2, 0, 1, 1]\n",
            "index== 4050 4080\n"
          ]
        },
        {
          "output_type": "stream",
          "name": "stderr",
          "text": [
            "\r  6%|▌         | 137/2345 [00:56<15:16,  2.41it/s]"
          ]
        },
        {
          "output_type": "stream",
          "name": "stdout",
          "text": [
            "[1, 1, 1, 1, 1, 0, 1, 1, 1, 1, 1, 0, 1, 1, 1, 0, 0, 1, 0, 1, 1, 1, 1, 1, 1, 1, 2, 0, 2, 0]\n",
            "index== 4080 4110\n"
          ]
        },
        {
          "output_type": "stream",
          "name": "stderr",
          "text": [
            "\r  6%|▌         | 138/2345 [00:56<15:16,  2.41it/s]"
          ]
        },
        {
          "output_type": "stream",
          "name": "stdout",
          "text": [
            "[1, 1, 1, 1, 0, 1, 1, 0, 1, 0, 0, 0, 1, 0, 1, 1, 1, 2, 0, 0, 1, 0, 2, 1, 1, 0, 0, 1, 1, 0]\n",
            "index== 4110 4140\n"
          ]
        },
        {
          "output_type": "stream",
          "name": "stderr",
          "text": [
            "\r  6%|▌         | 139/2345 [00:56<15:15,  2.41it/s]"
          ]
        },
        {
          "output_type": "stream",
          "name": "stdout",
          "text": [
            "[1, 1, 1, 0, 0, 1, 1, 1, 0, 1, 0, 2, 1, 1, 2, 1, 1, 1, 1, 1, 1, 1, 1, 1, 0, 0, 2, 2, 1, 1]\n",
            "index== 4140 4170\n"
          ]
        },
        {
          "output_type": "stream",
          "name": "stderr",
          "text": [
            "\r  6%|▌         | 140/2345 [00:57<15:16,  2.41it/s]"
          ]
        },
        {
          "output_type": "stream",
          "name": "stdout",
          "text": [
            "[0, 1, 0, 1, 1, 1, 1, 0, 0, 1, 0, 2, 0, 0, 1, 1, 1, 2, 2, 1, 1, 1, 2, 1, 0, 0, 0, 0, 1, 2]\n",
            "index== 4170 4200\n"
          ]
        },
        {
          "output_type": "stream",
          "name": "stderr",
          "text": [
            "\r  6%|▌         | 141/2345 [00:57<15:16,  2.41it/s]"
          ]
        },
        {
          "output_type": "stream",
          "name": "stdout",
          "text": [
            "[0, 2, 2, 2, 1, 1, 2, 2, 0, 1, 1, 2, 0, 2, 1, 1, 2, 2, 1, 0, 1, 2, 1, 1, 0, 0, 1, 1, 2, 1]\n",
            "index== 4200 4230\n"
          ]
        },
        {
          "output_type": "stream",
          "name": "stderr",
          "text": [
            "\r  6%|▌         | 142/2345 [00:58<15:16,  2.40it/s]"
          ]
        },
        {
          "output_type": "stream",
          "name": "stdout",
          "text": [
            "[2, 1, 0, 0, 1, 0, 0, 1, 2, 2, 1, 2, 0, 1, 1, 2, 2, 0, 2, 2, 2, 0, 2, 2, 1, 0, 1, 2, 0, 0]\n",
            "index== 4230 4260\n"
          ]
        },
        {
          "output_type": "stream",
          "name": "stderr",
          "text": [
            "\r  6%|▌         | 143/2345 [00:58<15:17,  2.40it/s]"
          ]
        },
        {
          "output_type": "stream",
          "name": "stdout",
          "text": [
            "[1, 2, 1, 1, 1, 1, 1, 1, 1, 1, 1, 2, 1, 1, 1, 0, 1, 1, 0, 1, 0, 0, 1, 0, 0, 0, 0, 0, 2, 0]\n",
            "index== 4260 4290\n"
          ]
        },
        {
          "output_type": "stream",
          "name": "stderr",
          "text": [
            "\r  6%|▌         | 144/2345 [00:59<15:16,  2.40it/s]"
          ]
        },
        {
          "output_type": "stream",
          "name": "stdout",
          "text": [
            "[0, 2, 1, 2, 2, 0, 0, 2, 0, 1, 1, 1, 2, 2, 1, 2, 1, 1, 0, 2, 2, 2, 1, 1, 1, 2, 1, 1, 0, 2]\n",
            "index== 4290 4320\n"
          ]
        },
        {
          "output_type": "stream",
          "name": "stderr",
          "text": [
            "\r  6%|▌         | 145/2345 [00:59<15:17,  2.40it/s]"
          ]
        },
        {
          "output_type": "stream",
          "name": "stdout",
          "text": [
            "[2, 2, 1, 2, 1, 1, 2, 0, 0, 2, 2, 1, 2, 2, 2, 2, 2, 1, 0, 1, 2, 2, 2, 0, 2, 1, 0, 2, 2, 1]\n",
            "index== 4320 4350\n"
          ]
        },
        {
          "output_type": "stream",
          "name": "stderr",
          "text": [
            "\r  6%|▌         | 146/2345 [00:59<15:17,  2.40it/s]"
          ]
        },
        {
          "output_type": "stream",
          "name": "stdout",
          "text": [
            "[1, 2, 2, 1, 1, 2, 1, 1, 1, 0, 0, 2, 0, 1, 1, 1, 1, 2, 2, 1, 2, 2, 1, 1, 2, 2, 2, 1, 0, 2]\n",
            "index== 4350 4380\n"
          ]
        },
        {
          "output_type": "stream",
          "name": "stderr",
          "text": [
            "\r  6%|▋         | 147/2345 [01:00<15:18,  2.39it/s]"
          ]
        },
        {
          "output_type": "stream",
          "name": "stdout",
          "text": [
            "[0, 0, 0, 2, 0, 1, 2, 0, 2, 0, 2, 2, 0, 2, 2, 2, 0, 0, 2, 0, 0, 2, 2, 2, 1, 2, 0, 0, 2, 2]\n",
            "index== 4380 4410\n"
          ]
        },
        {
          "output_type": "stream",
          "name": "stderr",
          "text": [
            "\r  6%|▋         | 148/2345 [01:00<15:16,  2.40it/s]"
          ]
        },
        {
          "output_type": "stream",
          "name": "stdout",
          "text": [
            "[1, 2, 2, 2, 2, 2, 1, 2, 2, 0, 1, 2, 1, 2, 2, 2, 1, 2, 2, 2, 2, 2, 2, 2, 2, 2, 2, 2, 2, 2]\n",
            "index== 4410 4440\n"
          ]
        },
        {
          "output_type": "stream",
          "name": "stderr",
          "text": [
            "\r  6%|▋         | 149/2345 [01:01<15:14,  2.40it/s]"
          ]
        },
        {
          "output_type": "stream",
          "name": "stdout",
          "text": [
            "[2, 2, 2, 2, 2, 2, 0, 0, 2, 2, 2, 2, 2, 1, 2, 2, 2, 2, 2, 1, 1, 0, 1, 0, 1, 2, 2, 2, 2, 1]\n",
            "index== 4440 4470\n"
          ]
        },
        {
          "output_type": "stream",
          "name": "stderr",
          "text": [
            "\r  6%|▋         | 150/2345 [01:01<15:17,  2.39it/s]"
          ]
        },
        {
          "output_type": "stream",
          "name": "stdout",
          "text": [
            "[1, 1, 1, 1, 1, 0, 1, 1, 1, 2, 1, 1, 1, 1, 1, 1, 1, 2, 1, 2, 2, 0, 1, 0, 2, 0, 1, 0, 1, 1]\n",
            "index== 4470 4500\n"
          ]
        },
        {
          "output_type": "stream",
          "name": "stderr",
          "text": [
            "\r  6%|▋         | 151/2345 [01:01<15:15,  2.40it/s]"
          ]
        },
        {
          "output_type": "stream",
          "name": "stdout",
          "text": [
            "[1, 2, 1, 1, 0, 1, 1, 1, 2, 1, 0, 0, 0, 1, 1, 1, 0, 1, 0, 1, 2, 2, 1, 1, 1, 2, 1, 1, 1, 1]\n",
            "index== 4500 4530\n"
          ]
        },
        {
          "output_type": "stream",
          "name": "stderr",
          "text": [
            "\r  6%|▋         | 152/2345 [01:02<15:15,  2.40it/s]"
          ]
        },
        {
          "output_type": "stream",
          "name": "stdout",
          "text": [
            "[2, 1, 1, 0, 2, 0, 1, 0, 1, 2, 2, 0, 1, 1, 1, 0, 1, 0, 1, 0, 1, 2, 1, 1, 0, 1, 2, 0, 0, 1]\n",
            "index== 4530 4560\n"
          ]
        },
        {
          "output_type": "stream",
          "name": "stderr",
          "text": [
            "\r  7%|▋         | 153/2345 [01:02<15:16,  2.39it/s]"
          ]
        },
        {
          "output_type": "stream",
          "name": "stdout",
          "text": [
            "[2, 1, 1, 2, 1, 1, 1, 1, 2, 1, 2, 0, 2, 1, 2, 2, 1, 1, 1, 2, 2, 1, 1, 1, 1, 1, 1, 2, 2, 1]\n",
            "index== 4560 4590\n"
          ]
        },
        {
          "output_type": "stream",
          "name": "stderr",
          "text": [
            "\r  7%|▋         | 154/2345 [01:03<15:16,  2.39it/s]"
          ]
        },
        {
          "output_type": "stream",
          "name": "stdout",
          "text": [
            "[1, 2, 1, 0, 1, 2, 1, 1, 1, 1, 2, 1, 1, 1, 2, 2, 2, 1, 1, 1, 2, 1, 1, 1, 0, 1, 1, 0, 0, 1]\n",
            "index== 4590 4620\n"
          ]
        },
        {
          "output_type": "stream",
          "name": "stderr",
          "text": [
            "\r  7%|▋         | 155/2345 [01:03<15:13,  2.40it/s]"
          ]
        },
        {
          "output_type": "stream",
          "name": "stdout",
          "text": [
            "[1, 1, 1, 1, 1, 1, 1, 0, 0, 0, 1, 1, 0, 1, 1, 1, 1, 1, 2, 2, 2, 2, 1, 2, 2, 2, 2, 2, 2, 2]\n",
            "index== 4620 4650\n"
          ]
        },
        {
          "output_type": "stream",
          "name": "stderr",
          "text": [
            "\r  7%|▋         | 156/2345 [01:04<15:14,  2.39it/s]"
          ]
        },
        {
          "output_type": "stream",
          "name": "stdout",
          "text": [
            "[2, 2, 0, 1, 0, 1, 1, 1, 1, 2, 1, 2, 1, 0, 1, 0, 1, 0, 1, 0, 0, 1, 1, 1, 1, 0, 0, 1, 0, 2]\n",
            "index== 4650 4680\n"
          ]
        },
        {
          "output_type": "stream",
          "name": "stderr",
          "text": [
            "\r  7%|▋         | 157/2345 [01:04<15:12,  2.40it/s]"
          ]
        },
        {
          "output_type": "stream",
          "name": "stdout",
          "text": [
            "[1, 2, 0, 1, 1, 1, 1, 2, 2, 0, 1, 2, 0, 1, 0, 1, 0, 1, 1, 1, 1, 0, 2, 1, 0, 1, 0, 2, 2, 0]\n",
            "index== 4680 4710\n"
          ]
        },
        {
          "output_type": "stream",
          "name": "stderr",
          "text": [
            "\r  7%|▋         | 158/2345 [01:04<15:14,  2.39it/s]"
          ]
        },
        {
          "output_type": "stream",
          "name": "stdout",
          "text": [
            "[2, 0, 1, 2, 2, 2, 2, 2, 0, 0, 0, 0, 1, 0, 0, 1, 2, 0, 1, 1, 1, 1, 1, 0, 0, 0, 1, 1, 0, 1]\n",
            "index== 4710 4740\n"
          ]
        },
        {
          "output_type": "stream",
          "name": "stderr",
          "text": [
            "\r  7%|▋         | 159/2345 [01:05<15:13,  2.39it/s]"
          ]
        },
        {
          "output_type": "stream",
          "name": "stdout",
          "text": [
            "[1, 1, 1, 1, 0, 1, 1, 1, 1, 1, 2, 0, 2, 0, 1, 1, 1, 2, 1, 1, 1, 1, 1, 1, 0, 0, 1, 1, 0, 0]\n",
            "index== 4740 4770\n"
          ]
        },
        {
          "output_type": "stream",
          "name": "stderr",
          "text": [
            "\r  7%|▋         | 160/2345 [01:05<15:12,  2.39it/s]"
          ]
        },
        {
          "output_type": "stream",
          "name": "stdout",
          "text": [
            "[1, 1, 1, 2, 1, 1, 1, 1, 0, 0, 1, 0, 2, 0, 1, 1, 2, 2, 1, 2, 0, 1, 0, 1, 1, 1, 2, 2, 2, 1]\n",
            "index== 4770 4800\n"
          ]
        },
        {
          "output_type": "stream",
          "name": "stderr",
          "text": [
            "\r  7%|▋         | 161/2345 [01:06<15:14,  2.39it/s]"
          ]
        },
        {
          "output_type": "stream",
          "name": "stdout",
          "text": [
            "[1, 2, 1, 1, 0, 1, 2, 0, 1, 2, 2, 2, 1, 1, 2, 1, 1, 1, 2, 2, 1, 2, 0, 1, 0, 1, 1, 1, 1, 1]\n",
            "index== 4800 4830\n"
          ]
        },
        {
          "output_type": "stream",
          "name": "stderr",
          "text": [
            "\r  7%|▋         | 162/2345 [01:06<15:15,  2.38it/s]"
          ]
        },
        {
          "output_type": "stream",
          "name": "stdout",
          "text": [
            "[2, 1, 0, 1, 1, 1, 1, 1, 1, 1, 1, 1, 1, 2, 1, 1, 1, 1, 1, 1, 2, 1, 2, 1, 1, 0, 1, 1, 2, 2]\n",
            "index== 4830 4860\n"
          ]
        },
        {
          "output_type": "stream",
          "name": "stderr",
          "text": [
            "\r  7%|▋         | 163/2345 [01:06<15:14,  2.39it/s]"
          ]
        },
        {
          "output_type": "stream",
          "name": "stdout",
          "text": [
            "[1, 2, 1, 0, 1, 1, 1, 1, 1, 2, 0, 2, 1, 2, 0, 2, 1, 0, 1, 0, 0, 0, 1, 2, 2, 1, 0, 1, 2, 2]\n",
            "index== 4860 4890\n"
          ]
        },
        {
          "output_type": "stream",
          "name": "stderr",
          "text": [
            "\r  7%|▋         | 164/2345 [01:07<15:14,  2.38it/s]"
          ]
        },
        {
          "output_type": "stream",
          "name": "stdout",
          "text": [
            "[2, 2, 1, 1, 2, 1, 1, 0, 2, 1, 2, 0, 1, 1, 1, 1, 0, 2, 0, 2, 2, 1, 0, 1, 1, 2, 2, 1, 0, 1]\n",
            "index== 4890 4920\n"
          ]
        },
        {
          "output_type": "stream",
          "name": "stderr",
          "text": [
            "\r  7%|▋         | 165/2345 [01:07<15:16,  2.38it/s]"
          ]
        },
        {
          "output_type": "stream",
          "name": "stdout",
          "text": [
            "[1, 0, 1, 1, 1, 0, 2, 1, 1, 1, 1, 2, 1, 2, 2, 1, 1, 1, 2, 2, 2, 2, 2, 0, 1, 2, 2, 0, 1, 2]\n",
            "index== 4920 4950\n"
          ]
        },
        {
          "output_type": "stream",
          "name": "stderr",
          "text": [
            "\r  7%|▋         | 166/2345 [01:08<15:16,  2.38it/s]"
          ]
        },
        {
          "output_type": "stream",
          "name": "stdout",
          "text": [
            "[0, 0, 2, 1, 1, 1, 1, 2, 2, 2, 1, 2, 1, 2, 0, 1, 2, 2, 1, 2, 2, 2, 2, 0, 2, 0, 0, 1, 2, 1]\n",
            "index== 4950 4980\n"
          ]
        },
        {
          "output_type": "stream",
          "name": "stderr",
          "text": [
            "\r  7%|▋         | 167/2345 [01:08<15:21,  2.36it/s]"
          ]
        },
        {
          "output_type": "stream",
          "name": "stdout",
          "text": [
            "[0, 2, 2, 2, 2, 2, 2, 1, 1, 1, 0, 1, 2, 1, 1, 2, 2, 1, 0, 1, 1, 2, 2, 2, 1, 1, 0, 1, 1, 1]\n",
            "index== 4980 5010\n"
          ]
        },
        {
          "output_type": "stream",
          "name": "stderr",
          "text": [
            "\r  7%|▋         | 168/2345 [01:09<15:19,  2.37it/s]"
          ]
        },
        {
          "output_type": "stream",
          "name": "stdout",
          "text": [
            "[1, 1, 1, 0, 1, 0, 1, 2, 1, 2, 1, 1, 1, 2, 2, 2, 2, 0, 2, 1, 2, 1, 2, 0, 1, 0, 1, 0, 1, 1]\n",
            "index== 5010 5040\n"
          ]
        },
        {
          "output_type": "stream",
          "name": "stderr",
          "text": [
            "\r  7%|▋         | 169/2345 [01:09<15:17,  2.37it/s]"
          ]
        },
        {
          "output_type": "stream",
          "name": "stdout",
          "text": [
            "[2, 1, 0, 2, 1, 2, 2, 2, 2, 1, 1, 1, 1, 1, 1, 1, 2, 1, 1, 1, 1, 1, 1, 1, 1, 2, 1, 1, 1, 2]\n",
            "index== 5040 5070\n"
          ]
        },
        {
          "output_type": "stream",
          "name": "stderr",
          "text": [
            "\r  7%|▋         | 170/2345 [01:09<15:20,  2.36it/s]"
          ]
        },
        {
          "output_type": "stream",
          "name": "stdout",
          "text": [
            "[2, 1, 1, 2, 1, 1, 2, 1, 0, 1, 0, 1, 1, 2, 2, 0, 1, 1, 0, 0, 1, 1, 1, 2, 1, 2, 1, 2, 1, 1]\n",
            "index== 5070 5100\n"
          ]
        },
        {
          "output_type": "stream",
          "name": "stderr",
          "text": [
            "\r  7%|▋         | 171/2345 [01:10<15:17,  2.37it/s]"
          ]
        },
        {
          "output_type": "stream",
          "name": "stdout",
          "text": [
            "[1, 1, 1, 1, 1, 1, 1, 0, 1, 1, 1, 1, 1, 0, 1, 0, 1, 1, 2, 0, 0, 1, 1, 1, 1, 0, 1, 1, 0, 1]\n",
            "index== 5100 5130\n"
          ]
        },
        {
          "output_type": "stream",
          "name": "stderr",
          "text": [
            "\r  7%|▋         | 172/2345 [01:10<15:21,  2.36it/s]"
          ]
        },
        {
          "output_type": "stream",
          "name": "stdout",
          "text": [
            "[0, 0, 1, 0, 0, 2, 1, 2, 1, 2, 0, 2, 1, 2, 0, 1, 1, 0, 1, 1, 1, 2, 1, 1, 0, 1, 1, 1, 2, 1]\n",
            "index== 5130 5160\n"
          ]
        },
        {
          "output_type": "stream",
          "name": "stderr",
          "text": [
            "\r  7%|▋         | 173/2345 [01:11<15:20,  2.36it/s]"
          ]
        },
        {
          "output_type": "stream",
          "name": "stdout",
          "text": [
            "[1, 0, 1, 2, 2, 1, 1, 1, 1, 1, 2, 1, 1, 2, 1, 1, 0, 1, 2, 1, 1, 2, 1, 1, 1, 1, 2, 1, 1, 1]\n",
            "index== 5160 5190\n"
          ]
        },
        {
          "output_type": "stream",
          "name": "stderr",
          "text": [
            "\r  7%|▋         | 174/2345 [01:11<15:25,  2.34it/s]"
          ]
        },
        {
          "output_type": "stream",
          "name": "stdout",
          "text": [
            "[2, 1, 2, 1, 2, 2, 2, 2, 1, 2, 2, 1, 1, 1, 2, 1, 1, 2, 1, 2, 2, 1, 1, 1, 1, 1, 2, 2, 1, 2]\n",
            "index== 5190 5220\n"
          ]
        },
        {
          "output_type": "stream",
          "name": "stderr",
          "text": [
            "\r  7%|▋         | 175/2345 [01:12<15:19,  2.36it/s]"
          ]
        },
        {
          "output_type": "stream",
          "name": "stdout",
          "text": [
            "[2, 2, 2, 1, 2, 2, 2, 0, 2, 1, 0, 0, 2, 2, 2, 1, 1, 2, 2, 1, 0, 1, 0, 2, 2, 2, 1, 1, 1, 1]\n",
            "index== 5220 5250\n"
          ]
        },
        {
          "output_type": "stream",
          "name": "stderr",
          "text": [
            "\r  8%|▊         | 176/2345 [01:12<15:20,  2.36it/s]"
          ]
        },
        {
          "output_type": "stream",
          "name": "stdout",
          "text": [
            "[1, 2, 1, 2, 1, 2, 0, 2, 2, 0, 1, 1, 2, 1, 2, 1, 1, 2, 1, 0, 1, 1, 2, 1, 2, 1, 1, 1, 0, 1]\n",
            "index== 5250 5280\n"
          ]
        },
        {
          "output_type": "stream",
          "name": "stderr",
          "text": [
            "\r  8%|▊         | 177/2345 [01:12<15:23,  2.35it/s]"
          ]
        },
        {
          "output_type": "stream",
          "name": "stdout",
          "text": [
            "[2, 1, 1, 0, 0, 0, 1, 1, 1, 1, 1, 2, 1, 1, 1, 1, 2, 1, 2, 2, 1, 1, 2, 1, 2, 2, 2, 0, 1, 1]\n",
            "index== 5280 5310\n"
          ]
        },
        {
          "output_type": "stream",
          "name": "stderr",
          "text": [
            "\r  8%|▊         | 178/2345 [01:13<15:20,  2.35it/s]"
          ]
        },
        {
          "output_type": "stream",
          "name": "stdout",
          "text": [
            "[1, 1, 1, 1, 1, 0, 2, 1, 1, 0, 1, 1, 1, 1, 2, 0, 1, 1, 1, 2, 1, 1, 1, 0, 1, 1, 1, 0, 1, 1]\n",
            "index== 5310 5340\n"
          ]
        },
        {
          "output_type": "stream",
          "name": "stderr",
          "text": [
            "\r  8%|▊         | 179/2345 [01:13<15:20,  2.35it/s]"
          ]
        },
        {
          "output_type": "stream",
          "name": "stdout",
          "text": [
            "[1, 2, 1, 1, 1, 2, 2, 2, 0, 1, 1, 1, 1, 1, 0, 1, 2, 0, 1, 2, 2, 2, 2, 2, 1, 2, 2, 1, 1, 0]\n",
            "index== 5340 5370\n"
          ]
        },
        {
          "output_type": "stream",
          "name": "stderr",
          "text": [
            "\r  8%|▊         | 180/2345 [01:14<15:17,  2.36it/s]"
          ]
        },
        {
          "output_type": "stream",
          "name": "stdout",
          "text": [
            "[1, 1, 1, 2, 1, 0, 1, 0, 2, 0, 2, 1, 0, 1, 1, 1, 1, 1, 1, 1, 1, 1, 2, 0, 2, 1, 2, 1, 2, 1]\n",
            "index== 5370 5400\n"
          ]
        },
        {
          "output_type": "stream",
          "name": "stderr",
          "text": [
            "\r  8%|▊         | 181/2345 [01:14<15:19,  2.35it/s]"
          ]
        },
        {
          "output_type": "stream",
          "name": "stdout",
          "text": [
            "[2, 1, 1, 1, 2, 1, 1, 1, 2, 1, 1, 1, 1, 0, 1, 2, 1, 0, 2, 2, 2, 0, 1, 2, 2, 1, 0, 1, 1, 1]\n",
            "index== 5400 5430\n"
          ]
        },
        {
          "output_type": "stream",
          "name": "stderr",
          "text": [
            "\r  8%|▊         | 182/2345 [01:15<15:19,  2.35it/s]"
          ]
        },
        {
          "output_type": "stream",
          "name": "stdout",
          "text": [
            "[1, 1, 1, 1, 1, 1, 0, 0, 2, 1, 0, 1, 0, 2, 1, 2, 0, 0, 2, 1, 1, 1, 1, 1, 1, 0, 2, 2, 1, 1]\n",
            "index== 5430 5460\n"
          ]
        },
        {
          "output_type": "stream",
          "name": "stderr",
          "text": [
            "\r  8%|▊         | 183/2345 [01:15<15:21,  2.35it/s]"
          ]
        },
        {
          "output_type": "stream",
          "name": "stdout",
          "text": [
            "[2, 2, 1, 1, 1, 1, 1, 1, 2, 2, 1, 2, 1, 1, 1, 0, 2, 0, 0, 0, 1, 0, 1, 1, 2, 0, 1, 1, 0, 1]\n",
            "index== 5460 5490\n"
          ]
        },
        {
          "output_type": "stream",
          "name": "stderr",
          "text": [
            "\r  8%|▊         | 184/2345 [01:15<15:25,  2.33it/s]"
          ]
        },
        {
          "output_type": "stream",
          "name": "stdout",
          "text": [
            "[1, 1, 1, 1, 1, 1, 0, 2, 1, 0, 1, 2, 1, 2, 2, 0, 0, 1, 0, 0, 1, 1, 1, 1, 1, 0, 0, 2, 1, 0]\n",
            "index== 5490 5520\n"
          ]
        },
        {
          "output_type": "stream",
          "name": "stderr",
          "text": [
            "\r  8%|▊         | 185/2345 [01:16<15:25,  2.33it/s]"
          ]
        },
        {
          "output_type": "stream",
          "name": "stdout",
          "text": [
            "[0, 1, 2, 0, 2, 0, 1, 0, 0, 2, 1, 0, 0, 1, 2, 0, 1, 1, 0, 1, 2, 0, 0, 0, 0, 0, 0, 0, 0, 0]\n",
            "index== 5520 5550\n"
          ]
        },
        {
          "output_type": "stream",
          "name": "stderr",
          "text": [
            "\r  8%|▊         | 186/2345 [01:16<15:27,  2.33it/s]"
          ]
        },
        {
          "output_type": "stream",
          "name": "stdout",
          "text": [
            "[0, 2, 2, 2, 1, 0, 2, 0, 1, 0, 1, 1, 1, 1, 0, 1, 1, 1, 1, 2, 0, 0, 1, 1, 1, 2, 0, 2, 2, 1]\n",
            "index== 5550 5580\n"
          ]
        },
        {
          "output_type": "stream",
          "name": "stderr",
          "text": [
            "\r  8%|▊         | 187/2345 [01:17<15:25,  2.33it/s]"
          ]
        },
        {
          "output_type": "stream",
          "name": "stdout",
          "text": [
            "[1, 1, 1, 0, 1, 2, 1, 0, 1, 0, 1, 1, 0, 0, 1, 1, 1, 0, 1, 0, 1, 0, 0, 1, 1, 0, 1, 0, 2, 2]\n",
            "index== 5580 5610\n"
          ]
        },
        {
          "output_type": "stream",
          "name": "stderr",
          "text": [
            "\r  8%|▊         | 188/2345 [01:17<15:26,  2.33it/s]"
          ]
        },
        {
          "output_type": "stream",
          "name": "stdout",
          "text": [
            "[0, 1, 0, 1, 1, 1, 1, 2, 1, 1, 0, 1, 1, 0, 0, 1, 1, 1, 2, 1, 1, 1, 1, 1, 1, 0, 0, 1, 0, 0]\n",
            "index== 5610 5640\n"
          ]
        },
        {
          "output_type": "stream",
          "name": "stderr",
          "text": [
            "\r  8%|▊         | 189/2345 [01:18<15:34,  2.31it/s]"
          ]
        },
        {
          "output_type": "stream",
          "name": "stdout",
          "text": [
            "[1, 2, 1, 0, 2, 0, 1, 2, 1, 2, 2, 1, 2, 1, 0, 0, 0, 1, 2, 1, 0, 0, 1, 1, 1, 1, 0, 1, 1, 0]\n",
            "index== 5640 5670\n"
          ]
        },
        {
          "output_type": "stream",
          "name": "stderr",
          "text": [
            "\r  8%|▊         | 190/2345 [01:18<15:30,  2.32it/s]"
          ]
        },
        {
          "output_type": "stream",
          "name": "stdout",
          "text": [
            "[2, 1, 1, 0, 1, 1, 0, 1, 1, 1, 1, 1, 1, 1, 1, 0, 2, 1, 1, 2, 1, 1, 2, 1, 1, 0, 1, 1, 2, 2]\n",
            "index== 5670 5700\n"
          ]
        },
        {
          "output_type": "stream",
          "name": "stderr",
          "text": [
            "\r  8%|▊         | 191/2345 [01:18<15:27,  2.32it/s]"
          ]
        },
        {
          "output_type": "stream",
          "name": "stdout",
          "text": [
            "[1, 1, 2, 2, 1, 1, 0, 1, 1, 2, 1, 0, 2, 2, 1, 1, 0, 2, 1, 1, 2, 1, 1, 1, 1, 1, 1, 0, 1, 2]\n",
            "index== 5700 5730\n"
          ]
        },
        {
          "output_type": "stream",
          "name": "stderr",
          "text": [
            "\r  8%|▊         | 192/2345 [01:19<15:22,  2.33it/s]"
          ]
        },
        {
          "output_type": "stream",
          "name": "stdout",
          "text": [
            "[1, 0, 0, 0, 1, 1, 1, 1, 1, 1, 1, 1, 1, 0, 1, 1, 0, 1, 1, 1, 1, 2, 1, 1, 1, 0, 2, 0, 1, 0]\n",
            "index== 5730 5760\n"
          ]
        },
        {
          "output_type": "stream",
          "name": "stderr",
          "text": [
            "\r  8%|▊         | 193/2345 [01:19<15:25,  2.33it/s]"
          ]
        },
        {
          "output_type": "stream",
          "name": "stdout",
          "text": [
            "[1, 2, 1, 1, 0, 1, 1, 1, 1, 0, 2, 1, 1, 0, 2, 2, 1, 0, 2, 1, 2, 1, 1, 2, 1, 2, 1, 1, 2, 1]\n",
            "index== 5760 5790\n"
          ]
        },
        {
          "output_type": "stream",
          "name": "stderr",
          "text": [
            "\r  8%|▊         | 194/2345 [01:20<15:18,  2.34it/s]"
          ]
        },
        {
          "output_type": "stream",
          "name": "stdout",
          "text": [
            "[1, 1, 1, 1, 0, 1, 2, 2, 1, 1, 1, 2, 1, 1, 1, 1, 1, 2, 2, 1, 2, 0, 1, 2, 1, 1, 1, 1, 2, 0]\n",
            "index== 5790 5820\n"
          ]
        },
        {
          "output_type": "stream",
          "name": "stderr",
          "text": [
            "\r  8%|▊         | 195/2345 [01:20<15:19,  2.34it/s]"
          ]
        },
        {
          "output_type": "stream",
          "name": "stdout",
          "text": [
            "[2, 2, 1, 1, 1, 1, 1, 1, 1, 1, 1, 1, 1, 1, 0, 1, 0, 1, 0, 0, 1, 1, 1, 2, 0, 1, 0, 1, 1, 0]\n",
            "index== 5820 5850\n"
          ]
        },
        {
          "output_type": "stream",
          "name": "stderr",
          "text": [
            "\r  8%|▊         | 196/2345 [01:21<15:15,  2.35it/s]"
          ]
        },
        {
          "output_type": "stream",
          "name": "stdout",
          "text": [
            "[1, 1, 0, 1, 1, 0, 2, 2, 1, 1, 2, 2, 2, 1, 1, 1, 0, 1, 0, 1, 1, 1, 1, 1, 0, 2, 1, 2, 0, 2]\n",
            "index== 5850 5880\n"
          ]
        },
        {
          "output_type": "stream",
          "name": "stderr",
          "text": [
            "\r  8%|▊         | 197/2345 [01:21<15:16,  2.34it/s]"
          ]
        },
        {
          "output_type": "stream",
          "name": "stdout",
          "text": [
            "[1, 1, 1, 0, 2, 2, 1, 2, 1, 1, 2, 1, 1, 1, 1, 1, 2, 2, 0, 0, 2, 1, 2, 1, 1, 1, 2, 1, 1, 1]\n",
            "index== 5880 5910\n"
          ]
        },
        {
          "output_type": "stream",
          "name": "stderr",
          "text": [
            "\r  8%|▊         | 198/2345 [01:21<15:16,  2.34it/s]"
          ]
        },
        {
          "output_type": "stream",
          "name": "stdout",
          "text": [
            "[1, 1, 2, 2, 1, 1, 1, 1, 2, 2, 1, 1, 1, 1, 1, 1, 1, 1, 1, 2, 1, 2, 2, 0, 1, 2, 2, 1, 2, 1]\n",
            "index== 5910 5940\n"
          ]
        },
        {
          "output_type": "stream",
          "name": "stderr",
          "text": [
            "\r  8%|▊         | 199/2345 [01:22<15:11,  2.35it/s]"
          ]
        },
        {
          "output_type": "stream",
          "name": "stdout",
          "text": [
            "[1, 2, 1, 1, 1, 0, 1, 0, 0, 1, 1, 1, 1, 0, 1, 1, 1, 2, 2, 0, 1, 1, 1, 1, 0, 1, 0, 1, 1, 1]\n",
            "index== 5940 5970\n"
          ]
        },
        {
          "output_type": "stream",
          "name": "stderr",
          "text": [
            "\r  9%|▊         | 200/2345 [01:22<15:14,  2.34it/s]"
          ]
        },
        {
          "output_type": "stream",
          "name": "stdout",
          "text": [
            "[2, 1, 1, 1, 1, 0, 2, 2, 1, 1, 1, 1, 1, 1, 1, 2, 1, 2, 0, 1, 2, 1, 2, 1, 1, 2, 2, 1, 2, 1]\n",
            "index== 5970 6000\n"
          ]
        },
        {
          "output_type": "stream",
          "name": "stderr",
          "text": [
            "\r  9%|▊         | 201/2345 [01:23<15:13,  2.35it/s]"
          ]
        },
        {
          "output_type": "stream",
          "name": "stdout",
          "text": [
            "[1, 1, 1, 0, 1, 1, 1, 1, 1, 2, 0, 1, 1, 1, 2, 1, 1, 1, 1, 1, 1, 1, 1, 1, 1, 0, 2, 1, 2, 0]\n",
            "index== 6000 6030\n"
          ]
        },
        {
          "output_type": "stream",
          "name": "stderr",
          "text": [
            "\r  9%|▊         | 202/2345 [01:23<15:14,  2.34it/s]"
          ]
        },
        {
          "output_type": "stream",
          "name": "stdout",
          "text": [
            "[1, 1, 1, 1, 1, 1, 1, 1, 1, 2, 1, 1, 2, 1, 2, 1, 1, 1, 1, 1, 1, 1, 1, 2, 1, 1, 1, 2, 2, 1]\n",
            "index== 6030 6060\n"
          ]
        },
        {
          "output_type": "stream",
          "name": "stderr",
          "text": [
            "\r  9%|▊         | 203/2345 [01:24<15:11,  2.35it/s]"
          ]
        },
        {
          "output_type": "stream",
          "name": "stdout",
          "text": [
            "[1, 1, 1, 2, 1, 0, 0, 1, 2, 2, 2, 2, 2, 1, 1, 2, 1, 2, 1, 1, 2, 1, 1, 1, 1, 2, 2, 1, 1, 0]\n",
            "index== 6060 6090\n"
          ]
        },
        {
          "output_type": "stream",
          "name": "stderr",
          "text": [
            "\r  9%|▊         | 204/2345 [01:24<15:11,  2.35it/s]"
          ]
        },
        {
          "output_type": "stream",
          "name": "stdout",
          "text": [
            "[2, 1, 1, 2, 2, 1, 1, 1, 1, 2, 0, 2, 0, 1, 0, 0, 2, 1, 1, 1, 1, 2, 1, 1, 1, 1, 0, 1, 0, 1]\n",
            "index== 6090 6120\n"
          ]
        },
        {
          "output_type": "stream",
          "name": "stderr",
          "text": [
            "\r  9%|▊         | 205/2345 [01:24<15:12,  2.35it/s]"
          ]
        },
        {
          "output_type": "stream",
          "name": "stdout",
          "text": [
            "[2, 0, 1, 1, 2, 1, 1, 2, 1, 1, 0, 1, 1, 0, 1, 2, 1, 1, 2, 1, 1, 1, 1, 2, 1, 0, 1, 2, 1, 1]\n",
            "index== 6120 6150\n"
          ]
        },
        {
          "output_type": "stream",
          "name": "stderr",
          "text": [
            "\r  9%|▉         | 206/2345 [01:25<15:09,  2.35it/s]"
          ]
        },
        {
          "output_type": "stream",
          "name": "stdout",
          "text": [
            "[1, 1, 1, 1, 1, 0, 1, 1, 1, 1, 2, 1, 1, 2, 1, 0, 1, 2, 2, 1, 2, 1, 0, 2, 2, 1, 2, 1, 1, 1]\n",
            "index== 6150 6180\n"
          ]
        },
        {
          "output_type": "stream",
          "name": "stderr",
          "text": [
            "\r  9%|▉         | 207/2345 [01:25<15:12,  2.34it/s]"
          ]
        },
        {
          "output_type": "stream",
          "name": "stdout",
          "text": [
            "[1, 1, 1, 1, 0, 2, 1, 1, 1, 1, 1, 1, 1, 1, 1, 1, 2, 1, 1, 0, 0, 1, 1, 1, 2, 1, 1, 2, 2, 2]\n",
            "index== 6180 6210\n"
          ]
        },
        {
          "output_type": "stream",
          "name": "stderr",
          "text": [
            "\r  9%|▉         | 208/2345 [01:26<15:11,  2.34it/s]"
          ]
        },
        {
          "output_type": "stream",
          "name": "stdout",
          "text": [
            "[1, 2, 2, 1, 1, 1, 0, 2, 1, 2, 1, 1, 1, 2, 2, 0, 2, 2, 0, 2, 2, 0, 0, 0, 2, 2, 1, 1, 1, 1]\n",
            "index== 6210 6240\n"
          ]
        },
        {
          "output_type": "stream",
          "name": "stderr",
          "text": [
            "\r  9%|▉         | 209/2345 [01:26<15:11,  2.34it/s]"
          ]
        },
        {
          "output_type": "stream",
          "name": "stdout",
          "text": [
            "[1, 1, 1, 0, 1, 2, 1, 1, 1, 0, 2, 1, 1, 2, 1, 2, 0, 1, 1, 1, 1, 2, 2, 1, 1, 1, 2, 0, 2, 1]\n",
            "index== 6240 6270\n"
          ]
        },
        {
          "output_type": "stream",
          "name": "stderr",
          "text": [
            "\r  9%|▉         | 210/2345 [01:27<15:11,  2.34it/s]"
          ]
        },
        {
          "output_type": "stream",
          "name": "stdout",
          "text": [
            "[1, 2, 1, 2, 1, 1, 0, 2, 0, 0, 1, 0, 1, 2, 1, 1, 0, 1, 1, 1, 1, 1, 1, 1, 2, 1, 2, 1, 1, 2]\n",
            "index== 6270 6300\n"
          ]
        },
        {
          "output_type": "stream",
          "name": "stderr",
          "text": [
            "\r  9%|▉         | 211/2345 [01:27<15:09,  2.35it/s]"
          ]
        },
        {
          "output_type": "stream",
          "name": "stdout",
          "text": [
            "[1, 2, 2, 2, 1, 2, 1, 0, 1, 2, 2, 0, 2, 0, 2, 2, 2, 2, 2, 2, 1, 0, 0, 0, 1, 1, 0, 1, 1, 1]\n",
            "index== 6300 6330\n"
          ]
        },
        {
          "output_type": "stream",
          "name": "stderr",
          "text": [
            "\r  9%|▉         | 212/2345 [01:27<15:09,  2.34it/s]"
          ]
        },
        {
          "output_type": "stream",
          "name": "stdout",
          "text": [
            "[0, 1, 2, 0, 0, 1, 1, 2, 2, 2, 0, 0, 0, 1, 0, 1, 2, 2, 2, 1, 0, 1, 0, 1, 1, 1, 1, 1, 2, 1]\n",
            "index== 6330 6360\n"
          ]
        },
        {
          "output_type": "stream",
          "name": "stderr",
          "text": [
            "\r  9%|▉         | 213/2345 [01:28<15:08,  2.35it/s]"
          ]
        },
        {
          "output_type": "stream",
          "name": "stdout",
          "text": [
            "[0, 1, 1, 0, 1, 1, 0, 1, 0, 2, 1, 1, 0, 1, 1, 2, 1, 1, 2, 1, 1, 1, 1, 2, 2, 0, 1, 1, 2, 0]\n",
            "index== 6360 6390\n"
          ]
        },
        {
          "output_type": "stream",
          "name": "stderr",
          "text": [
            "\r  9%|▉         | 214/2345 [01:28<15:09,  2.34it/s]"
          ]
        },
        {
          "output_type": "stream",
          "name": "stdout",
          "text": [
            "[1, 1, 0, 2, 1, 1, 1, 2, 1, 1, 0, 0, 1, 2, 2, 2, 1, 2, 0, 1, 1, 0, 0, 1, 1, 1, 1, 1, 1, 1]\n",
            "index== 6390 6420\n"
          ]
        },
        {
          "output_type": "stream",
          "name": "stderr",
          "text": [
            "\r  9%|▉         | 215/2345 [01:29<15:08,  2.34it/s]"
          ]
        },
        {
          "output_type": "stream",
          "name": "stdout",
          "text": [
            "[0, 0, 1, 2, 1, 1, 0, 1, 1, 2, 0, 1, 1, 1, 1, 1, 2, 1, 1, 0, 1, 1, 1, 1, 2, 2, 1, 1, 1, 1]\n",
            "index== 6420 6450\n"
          ]
        },
        {
          "output_type": "stream",
          "name": "stderr",
          "text": [
            "\r  9%|▉         | 216/2345 [01:29<15:09,  2.34it/s]"
          ]
        },
        {
          "output_type": "stream",
          "name": "stdout",
          "text": [
            "[0, 1, 1, 1, 1, 1, 0, 2, 0, 1, 2, 1, 0, 0, 1, 1, 2, 1, 2, 1, 1, 0, 1, 1, 2, 1, 0, 2, 2, 2]\n",
            "index== 6450 6480\n"
          ]
        },
        {
          "output_type": "stream",
          "name": "stderr",
          "text": [
            "\r  9%|▉         | 217/2345 [01:30<15:10,  2.34it/s]"
          ]
        },
        {
          "output_type": "stream",
          "name": "stdout",
          "text": [
            "[0, 2, 1, 0, 1, 2, 0, 0, 2, 0, 1, 1, 0, 1, 0, 0, 1, 0, 0, 2, 1, 2, 0, 2, 0, 0, 1, 1, 1, 2]\n",
            "index== 6480 6510\n"
          ]
        },
        {
          "output_type": "stream",
          "name": "stderr",
          "text": [
            "\r  9%|▉         | 218/2345 [01:30<15:10,  2.34it/s]"
          ]
        },
        {
          "output_type": "stream",
          "name": "stdout",
          "text": [
            "[0, 1, 2, 0, 2, 1, 1, 2, 1, 2, 2, 0, 0, 1, 1, 0, 0, 0, 1, 1, 1, 1, 1, 2, 0, 1, 1, 1, 0, 1]\n",
            "index== 6510 6540\n"
          ]
        },
        {
          "output_type": "stream",
          "name": "stderr",
          "text": [
            "\r  9%|▉         | 219/2345 [01:30<15:11,  2.33it/s]"
          ]
        },
        {
          "output_type": "stream",
          "name": "stdout",
          "text": [
            "[0, 0, 0, 1, 2, 2, 2, 2, 1, 2, 2, 1, 2, 0, 0, 2, 0, 1, 0, 1, 1, 1, 1, 2, 0, 1, 2, 2, 2, 1]\n",
            "index== 6540 6570\n"
          ]
        },
        {
          "output_type": "stream",
          "name": "stderr",
          "text": [
            "\r  9%|▉         | 220/2345 [01:31<15:10,  2.34it/s]"
          ]
        },
        {
          "output_type": "stream",
          "name": "stdout",
          "text": [
            "[2, 0, 1, 1, 1, 2, 0, 1, 0, 1, 0, 0, 0, 0, 0, 0, 0, 0, 1, 0, 1, 2, 1, 1, 2, 2, 1, 1, 2, 1]\n",
            "index== 6570 6600\n"
          ]
        },
        {
          "output_type": "stream",
          "name": "stderr",
          "text": [
            "\r  9%|▉         | 221/2345 [01:31<15:10,  2.33it/s]"
          ]
        },
        {
          "output_type": "stream",
          "name": "stdout",
          "text": [
            "[2, 1, 0, 1, 1, 2, 2, 2, 1, 1, 1, 1, 1, 1, 0, 1, 2, 1, 1, 1, 1, 1, 0, 1, 1, 2, 1, 2, 1, 2]\n",
            "index== 6600 6630\n"
          ]
        },
        {
          "output_type": "stream",
          "name": "stderr",
          "text": [
            "\r  9%|▉         | 222/2345 [01:32<15:12,  2.33it/s]"
          ]
        },
        {
          "output_type": "stream",
          "name": "stdout",
          "text": [
            "[2, 2, 1, 2, 1, 1, 0, 2, 1, 1, 1, 1, 1, 0, 1, 2, 0, 1, 1, 2, 1, 1, 1, 1, 1, 2, 1, 1, 1, 0]\n",
            "index== 6630 6660\n"
          ]
        },
        {
          "output_type": "stream",
          "name": "stderr",
          "text": [
            "\r 10%|▉         | 223/2345 [01:32<15:18,  2.31it/s]"
          ]
        },
        {
          "output_type": "stream",
          "name": "stdout",
          "text": [
            "[2, 1, 0, 2, 1, 2, 1, 1, 0, 0, 1, 1, 1, 1, 0, 1, 0, 0, 1, 1, 2, 2, 0, 1, 1, 1, 1, 0, 1, 0]\n",
            "index== 6660 6690\n"
          ]
        },
        {
          "output_type": "stream",
          "name": "stderr",
          "text": [
            "\r 10%|▉         | 224/2345 [01:33<15:17,  2.31it/s]"
          ]
        },
        {
          "output_type": "stream",
          "name": "stdout",
          "text": [
            "[2, 1, 1, 0, 0, 1, 2, 1, 1, 0, 1, 2, 1, 1, 1, 1, 1, 2, 1, 1, 2, 1, 0, 2, 1, 2, 1, 1, 1, 0]\n",
            "index== 6690 6720\n"
          ]
        },
        {
          "output_type": "stream",
          "name": "stderr",
          "text": [
            "\r 10%|▉         | 225/2345 [01:33<15:15,  2.32it/s]"
          ]
        },
        {
          "output_type": "stream",
          "name": "stdout",
          "text": [
            "[0, 1, 1, 2, 2, 2, 0, 1, 0, 2, 2, 0, 0, 2, 0, 1, 0, 1, 1, 1, 1, 1, 1, 1, 0, 0, 1, 2, 0, 2]\n",
            "index== 6720 6750\n"
          ]
        },
        {
          "output_type": "stream",
          "name": "stderr",
          "text": [
            "\r 10%|▉         | 226/2345 [01:33<15:17,  2.31it/s]"
          ]
        },
        {
          "output_type": "stream",
          "name": "stdout",
          "text": [
            "[0, 2, 0, 1, 1, 0, 1, 0, 1, 0, 2, 0, 0, 1, 2, 1, 0, 1, 0, 1, 0, 1, 1, 0, 0, 1, 1, 1, 1, 1]\n",
            "index== 6750 6780\n"
          ]
        },
        {
          "output_type": "stream",
          "name": "stderr",
          "text": [
            "\r 10%|▉         | 227/2345 [01:34<15:16,  2.31it/s]"
          ]
        },
        {
          "output_type": "stream",
          "name": "stdout",
          "text": [
            "[2, 1, 1, 1, 1, 1, 1, 0, 1, 1, 2, 2, 1, 1, 1, 0, 2, 1, 1, 1, 1, 1, 1, 2, 0, 0, 1, 1, 0, 1]\n",
            "index== 6780 6810\n"
          ]
        },
        {
          "output_type": "stream",
          "name": "stderr",
          "text": [
            "\r 10%|▉         | 228/2345 [01:34<15:17,  2.31it/s]"
          ]
        },
        {
          "output_type": "stream",
          "name": "stdout",
          "text": [
            "[0, 1, 0, 1, 0, 1, 1, 2, 2, 1, 1, 2, 2, 1, 2, 2, 2, 1, 1, 0, 1, 2, 2, 0, 1, 1, 1, 1, 1, 1]\n",
            "index== 6810 6840\n"
          ]
        },
        {
          "output_type": "stream",
          "name": "stderr",
          "text": [
            "\r 10%|▉         | 229/2345 [01:35<15:16,  2.31it/s]"
          ]
        },
        {
          "output_type": "stream",
          "name": "stdout",
          "text": [
            "[2, 1, 0, 0, 0, 1, 1, 1, 2, 2, 2, 0, 1, 1, 1, 1, 1, 2, 0, 1, 2, 0, 1, 0, 1, 0, 0, 0, 2, 1]\n",
            "index== 6840 6870\n"
          ]
        },
        {
          "output_type": "stream",
          "name": "stderr",
          "text": [
            "\r 10%|▉         | 230/2345 [01:35<15:18,  2.30it/s]"
          ]
        },
        {
          "output_type": "stream",
          "name": "stdout",
          "text": [
            "[0, 0, 2, 2, 1, 1, 1, 1, 2, 1, 0, 2, 1, 0, 0, 0, 0, 2, 2, 1, 1, 1, 1, 2, 1, 0, 1, 1, 1, 1]\n",
            "index== 6870 6900\n"
          ]
        },
        {
          "output_type": "stream",
          "name": "stderr",
          "text": [
            "\r 10%|▉         | 231/2345 [01:36<15:16,  2.31it/s]"
          ]
        },
        {
          "output_type": "stream",
          "name": "stdout",
          "text": [
            "[0, 0, 0, 0, 1, 2, 1, 0, 0, 2, 1, 1, 1, 1, 1, 1, 2, 2, 0, 0, 2, 2, 0, 2, 2, 2, 2, 1, 1, 2]\n",
            "index== 6900 6930\n"
          ]
        },
        {
          "output_type": "stream",
          "name": "stderr",
          "text": [
            "\r 10%|▉         | 232/2345 [01:36<15:15,  2.31it/s]"
          ]
        },
        {
          "output_type": "stream",
          "name": "stdout",
          "text": [
            "[0, 1, 1, 2, 1, 0, 1, 2, 1, 1, 1, 2, 1, 1, 2, 1, 1, 1, 2, 2, 0, 0, 1, 1, 1, 1, 1, 1, 1, 1]\n",
            "index== 6930 6960\n"
          ]
        },
        {
          "output_type": "stream",
          "name": "stderr",
          "text": [
            "\r 10%|▉         | 233/2345 [01:36<15:11,  2.32it/s]"
          ]
        },
        {
          "output_type": "stream",
          "name": "stdout",
          "text": [
            "[1, 2, 2, 1, 1, 1, 2, 1, 1, 2, 1, 1, 1, 1, 2, 1, 2, 1, 1, 0, 1, 1, 1, 2, 1, 1, 1, 1, 1, 2]\n",
            "index== 6960 6990\n"
          ]
        },
        {
          "output_type": "stream",
          "name": "stderr",
          "text": [
            "\r 10%|▉         | 234/2345 [01:37<15:15,  2.31it/s]"
          ]
        },
        {
          "output_type": "stream",
          "name": "stdout",
          "text": [
            "[2, 1, 1, 1, 1, 1, 0, 2, 1, 1, 1, 1, 0, 1, 1, 2, 2, 2, 2, 1, 2, 2, 1, 2, 2, 1, 1, 1, 1, 2]\n",
            "index== 6990 7020\n"
          ]
        },
        {
          "output_type": "stream",
          "name": "stderr",
          "text": [
            "\r 10%|█         | 235/2345 [01:37<15:09,  2.32it/s]"
          ]
        },
        {
          "output_type": "stream",
          "name": "stdout",
          "text": [
            "[2, 1, 1, 1, 2, 2, 1, 1, 1, 0, 0, 1, 2, 1, 1, 1, 2, 1, 2, 1, 2, 1, 0, 1, 1, 0, 1, 2, 1, 1]\n",
            "index== 7020 7050\n"
          ]
        },
        {
          "output_type": "stream",
          "name": "stderr",
          "text": [
            "\r 10%|█         | 236/2345 [01:38<15:07,  2.32it/s]"
          ]
        },
        {
          "output_type": "stream",
          "name": "stdout",
          "text": [
            "[1, 1, 1, 1, 1, 1, 1, 1, 0, 1, 2, 1, 2, 1, 1, 2, 2, 0, 1, 1, 1, 0, 2, 2, 1, 2, 2, 1, 2, 2]\n",
            "index== 7050 7080\n"
          ]
        },
        {
          "output_type": "stream",
          "name": "stderr",
          "text": [
            "\r 10%|█         | 237/2345 [01:38<15:05,  2.33it/s]"
          ]
        },
        {
          "output_type": "stream",
          "name": "stdout",
          "text": [
            "[1, 1, 0, 2, 1, 2, 2, 1, 1, 2, 0, 2, 2, 2, 1, 2, 2, 2, 1, 1, 1, 0, 1, 2, 0, 1, 0, 1, 2, 0]\n",
            "index== 7080 7110\n"
          ]
        },
        {
          "output_type": "stream",
          "name": "stderr",
          "text": [
            "\r 10%|█         | 238/2345 [01:39<15:01,  2.34it/s]"
          ]
        },
        {
          "output_type": "stream",
          "name": "stdout",
          "text": [
            "[1, 0, 1, 2, 1, 0, 2, 0, 1, 2, 0, 0, 1, 0, 1, 1, 1, 1, 1, 0, 1, 1, 1, 1, 1, 1, 0, 1, 1, 2]\n",
            "index== 7110 7140\n"
          ]
        },
        {
          "output_type": "stream",
          "name": "stderr",
          "text": [
            "\r 10%|█         | 239/2345 [01:39<15:01,  2.34it/s]"
          ]
        },
        {
          "output_type": "stream",
          "name": "stdout",
          "text": [
            "[2, 1, 1, 1, 2, 2, 2, 2, 1, 0, 2, 1, 0, 0, 0, 0, 1, 1, 1, 1, 1, 1, 1, 2, 0, 2, 1, 1, 0, 2]\n",
            "index== 7140 7170\n"
          ]
        },
        {
          "output_type": "stream",
          "name": "stderr",
          "text": [
            "\r 10%|█         | 240/2345 [01:39<14:58,  2.34it/s]"
          ]
        },
        {
          "output_type": "stream",
          "name": "stdout",
          "text": [
            "[0, 1, 1, 1, 1, 0, 1, 1, 1, 1, 1, 0, 1, 2, 1, 2, 0, 1, 0, 1, 0, 2, 0, 1, 2, 1, 1, 2, 0, 1]\n",
            "index== 7170 7200\n"
          ]
        },
        {
          "output_type": "stream",
          "name": "stderr",
          "text": [
            "\r 10%|█         | 241/2345 [01:40<14:57,  2.34it/s]"
          ]
        },
        {
          "output_type": "stream",
          "name": "stdout",
          "text": [
            "[2, 1, 1, 0, 2, 1, 1, 1, 1, 1, 1, 1, 1, 1, 1, 2, 1, 1, 1, 1, 1, 0, 1, 2, 1, 1, 1, 2, 1, 1]\n",
            "index== 7200 7230\n"
          ]
        },
        {
          "output_type": "stream",
          "name": "stderr",
          "text": [
            "\r 10%|█         | 242/2345 [01:40<14:56,  2.35it/s]"
          ]
        },
        {
          "output_type": "stream",
          "name": "stdout",
          "text": [
            "[1, 0, 0, 0, 1, 1, 1, 2, 1, 1, 1, 1, 2, 1, 1, 1, 2, 2, 1, 1, 0, 2, 1, 1, 0, 0, 1, 1, 0, 0]\n",
            "index== 7230 7260\n"
          ]
        },
        {
          "output_type": "stream",
          "name": "stderr",
          "text": [
            "\r 10%|█         | 243/2345 [01:41<14:56,  2.34it/s]"
          ]
        },
        {
          "output_type": "stream",
          "name": "stdout",
          "text": [
            "[1, 2, 0, 1, 1, 1, 1, 1, 1, 2, 2, 0, 1, 1, 2, 2, 0, 0, 1, 2, 1, 1, 1, 1, 1, 2, 0, 1, 1, 0]\n",
            "index== 7260 7290\n"
          ]
        },
        {
          "output_type": "stream",
          "name": "stderr",
          "text": [
            "\r 10%|█         | 244/2345 [01:41<14:57,  2.34it/s]"
          ]
        },
        {
          "output_type": "stream",
          "name": "stdout",
          "text": [
            "[1, 1, 0, 2, 1, 2, 1, 1, 1, 0, 0, 1, 1, 1, 2, 1, 0, 2, 2, 1, 0, 1, 0, 0, 1, 1, 2, 0, 1, 2]\n",
            "index== 7290 7320\n"
          ]
        },
        {
          "output_type": "stream",
          "name": "stderr",
          "text": [
            "\r 10%|█         | 245/2345 [01:42<14:57,  2.34it/s]"
          ]
        },
        {
          "output_type": "stream",
          "name": "stdout",
          "text": [
            "[1, 1, 1, 2, 2, 2, 0, 2, 2, 2, 1, 2, 2, 2, 0, 2, 1, 2, 1, 0, 1, 2, 2, 2, 2, 2, 2, 1, 2, 2]\n",
            "index== 7320 7350\n"
          ]
        },
        {
          "output_type": "stream",
          "name": "stderr",
          "text": [
            "\r 10%|█         | 246/2345 [01:42<14:55,  2.34it/s]"
          ]
        },
        {
          "output_type": "stream",
          "name": "stdout",
          "text": [
            "[2, 1, 2, 2, 0, 0, 2, 2, 0, 1, 2, 1, 2, 1, 2, 2, 2, 1, 1, 2, 2, 2, 0, 2, 0, 1, 2, 1, 2, 0]\n",
            "index== 7350 7380\n"
          ]
        },
        {
          "output_type": "stream",
          "name": "stderr",
          "text": [
            "\r 11%|█         | 247/2345 [01:42<14:55,  2.34it/s]"
          ]
        },
        {
          "output_type": "stream",
          "name": "stdout",
          "text": [
            "[1, 1, 2, 0, 1, 2, 0, 1, 1, 1, 1, 2, 1, 1, 1, 1, 1, 1, 2, 2, 1, 2, 1, 1, 1, 2, 0, 2, 2, 2]\n",
            "index== 7380 7410\n"
          ]
        },
        {
          "output_type": "stream",
          "name": "stderr",
          "text": [
            "\r 11%|█         | 248/2345 [01:43<14:54,  2.35it/s]"
          ]
        },
        {
          "output_type": "stream",
          "name": "stdout",
          "text": [
            "[2, 2, 2, 2, 1, 0, 0, 2, 0, 2, 1, 2, 2, 1, 0, 0, 2, 1, 1, 2, 2, 0, 0, 1, 0, 2, 2, 2, 2, 2]\n",
            "index== 7410 7440\n"
          ]
        },
        {
          "output_type": "stream",
          "name": "stderr",
          "text": [
            "\r 11%|█         | 249/2345 [01:43<14:55,  2.34it/s]"
          ]
        },
        {
          "output_type": "stream",
          "name": "stdout",
          "text": [
            "[2, 2, 2, 2, 0, 0, 1, 2, 0, 2, 1, 1, 0, 0, 2, 2, 2, 1, 2, 0, 0, 0, 0, 0, 1, 0, 1, 0, 0, 1]\n",
            "index== 7440 7470\n"
          ]
        },
        {
          "output_type": "stream",
          "name": "stderr",
          "text": [
            "\r 11%|█         | 250/2345 [01:44<14:54,  2.34it/s]"
          ]
        },
        {
          "output_type": "stream",
          "name": "stdout",
          "text": [
            "[0, 2, 0, 0, 2, 0, 2, 2, 0, 2, 0, 2, 2, 2, 1, 2, 2, 2, 2, 0, 2, 2, 2, 2, 2, 0, 2, 2, 2, 0]\n",
            "index== 7470 7500\n"
          ]
        },
        {
          "output_type": "stream",
          "name": "stderr",
          "text": [
            "\r 11%|█         | 251/2345 [01:44<14:54,  2.34it/s]"
          ]
        },
        {
          "output_type": "stream",
          "name": "stdout",
          "text": [
            "[2, 2, 2, 2, 2, 0, 1, 2, 2, 0, 2, 2, 2, 1, 0, 2, 1, 1, 0, 1, 1, 0, 2, 1, 0, 1, 0, 0, 2, 2]\n",
            "index== 7500 7530\n"
          ]
        },
        {
          "output_type": "stream",
          "name": "stderr",
          "text": [
            "\r 11%|█         | 252/2345 [01:45<14:53,  2.34it/s]"
          ]
        },
        {
          "output_type": "stream",
          "name": "stdout",
          "text": [
            "[2, 2, 1, 1, 1, 1, 1, 1, 2, 0, 1, 2, 2, 1, 1, 1, 1, 1, 1, 1, 2, 1, 0, 1, 1, 0, 0, 0, 0, 0]\n",
            "index== 7530 7560\n"
          ]
        },
        {
          "output_type": "stream",
          "name": "stderr",
          "text": [
            "\r 11%|█         | 253/2345 [01:45<14:53,  2.34it/s]"
          ]
        },
        {
          "output_type": "stream",
          "name": "stdout",
          "text": [
            "[1, 1, 0, 2, 0, 1, 0, 1, 1, 2, 0, 1, 1, 1, 0, 2, 0, 1, 0, 1, 2, 1, 1, 1, 1, 2, 1, 1, 2, 1]\n",
            "index== 7560 7590\n"
          ]
        },
        {
          "output_type": "stream",
          "name": "stderr",
          "text": [
            "\r 11%|█         | 254/2345 [01:45<14:54,  2.34it/s]"
          ]
        },
        {
          "output_type": "stream",
          "name": "stdout",
          "text": [
            "[2, 1, 1, 1, 2, 2, 0, 0, 0, 1, 1, 0, 1, 2, 0, 1, 1, 1, 1, 2, 0, 1, 2, 1, 1, 2, 1, 1, 1, 1]\n",
            "index== 7590 7620\n"
          ]
        },
        {
          "output_type": "stream",
          "name": "stderr",
          "text": [
            "\r 11%|█         | 255/2345 [01:46<14:53,  2.34it/s]"
          ]
        },
        {
          "output_type": "stream",
          "name": "stdout",
          "text": [
            "[2, 0, 1, 1, 1, 0, 1, 2, 0, 0, 2, 0, 1, 1, 2, 1, 1, 2, 0, 1, 2, 1, 2, 2, 1, 1, 2, 0, 1, 0]\n",
            "index== 7620 7650\n"
          ]
        },
        {
          "output_type": "stream",
          "name": "stderr",
          "text": [
            "\r 11%|█         | 256/2345 [01:46<14:57,  2.33it/s]"
          ]
        },
        {
          "output_type": "stream",
          "name": "stdout",
          "text": [
            "[1, 0, 0, 1, 1, 1, 2, 1, 1, 1, 1, 1, 0, 2, 1, 1, 1, 1, 0, 1, 0, 2, 1, 1, 2, 1, 0, 1, 2, 0]\n",
            "index== 7650 7680\n"
          ]
        },
        {
          "output_type": "stream",
          "name": "stderr",
          "text": [
            "\r 11%|█         | 257/2345 [01:47<14:57,  2.33it/s]"
          ]
        },
        {
          "output_type": "stream",
          "name": "stdout",
          "text": [
            "[0, 2, 2, 1, 2, 0, 2, 2, 0, 2, 1, 0, 0, 1, 1, 1, 1, 2, 0, 0, 0, 0, 2, 0, 2, 2, 1, 0, 2, 1]\n",
            "index== 7680 7710\n"
          ]
        },
        {
          "output_type": "stream",
          "name": "stderr",
          "text": [
            "\r 11%|█         | 258/2345 [01:47<14:56,  2.33it/s]"
          ]
        },
        {
          "output_type": "stream",
          "name": "stdout",
          "text": [
            "[1, 2, 1, 2, 1, 0, 0, 2, 1, 0, 1, 0, 0, 1, 1, 1, 0, 1, 0, 1, 1, 0, 1, 2, 1, 1, 2, 1, 2, 0]\n",
            "index== 7710 7740\n"
          ]
        },
        {
          "output_type": "stream",
          "name": "stderr",
          "text": [
            "\r 11%|█         | 259/2345 [01:48<14:54,  2.33it/s]"
          ]
        },
        {
          "output_type": "stream",
          "name": "stdout",
          "text": [
            "[0, 1, 0, 1, 0, 0, 1, 2, 2, 2, 1, 1, 1, 1, 1, 1, 0, 2, 1, 1, 1, 2, 0, 2, 0, 1, 0, 0, 0, 0]\n",
            "index== 7740 7770\n"
          ]
        },
        {
          "output_type": "stream",
          "name": "stderr",
          "text": [
            "\r 11%|█         | 260/2345 [01:48<14:55,  2.33it/s]"
          ]
        },
        {
          "output_type": "stream",
          "name": "stdout",
          "text": [
            "[0, 0, 1, 0, 0, 0, 1, 0, 0, 0, 0, 2, 0, 0, 0, 0, 0, 0, 1, 2, 0, 0, 2, 2, 0, 1, 0, 1, 0, 0]\n",
            "index== 7770 7800\n"
          ]
        },
        {
          "output_type": "stream",
          "name": "stderr",
          "text": [
            "\r 11%|█         | 261/2345 [01:48<14:54,  2.33it/s]"
          ]
        },
        {
          "output_type": "stream",
          "name": "stdout",
          "text": [
            "[2, 0, 1, 1, 0, 0, 1, 1, 1, 0, 0, 2, 0, 0, 0, 0, 2, 0, 0, 1, 1, 0, 1, 1, 1, 0, 1, 1, 0, 2]\n",
            "index== 7800 7830\n"
          ]
        },
        {
          "output_type": "stream",
          "name": "stderr",
          "text": [
            "\r 11%|█         | 262/2345 [01:49<14:52,  2.33it/s]"
          ]
        },
        {
          "output_type": "stream",
          "name": "stdout",
          "text": [
            "[0, 1, 0, 1, 1, 1, 1, 0, 0, 2, 2, 0, 0, 0, 2, 2, 0, 1, 1, 1, 0, 1, 0, 1, 1, 0, 0, 0, 0, 0]\n",
            "index== 7830 7860\n"
          ]
        },
        {
          "output_type": "stream",
          "name": "stderr",
          "text": [
            "\r 11%|█         | 263/2345 [01:49<14:52,  2.33it/s]"
          ]
        },
        {
          "output_type": "stream",
          "name": "stdout",
          "text": [
            "[0, 0, 2, 1, 1, 0, 2, 0, 2, 1, 1, 1, 1, 2, 2, 1, 1, 2, 1, 1, 1, 2, 0, 0, 1, 0, 1, 1, 1, 1]\n",
            "index== 7860 7890\n"
          ]
        },
        {
          "output_type": "stream",
          "name": "stderr",
          "text": [
            "\r 11%|█▏        | 264/2345 [01:50<14:51,  2.33it/s]"
          ]
        },
        {
          "output_type": "stream",
          "name": "stdout",
          "text": [
            "[1, 1, 1, 2, 1, 1, 1, 1, 2, 2, 1, 1, 2, 1, 1, 2, 1, 1, 1, 2, 1, 0, 2, 2, 2, 2, 1, 1, 1, 1]\n",
            "index== 7890 7920\n"
          ]
        },
        {
          "output_type": "stream",
          "name": "stderr",
          "text": [
            "\r 11%|█▏        | 265/2345 [01:50<14:51,  2.33it/s]"
          ]
        },
        {
          "output_type": "stream",
          "name": "stdout",
          "text": [
            "[1, 1, 1, 1, 1, 1, 0, 1, 2, 1, 2, 1, 1, 1, 1, 1, 0, 0, 1, 1, 1, 1, 1, 1, 2, 1, 2, 0, 1, 0]\n",
            "index== 7920 7950\n"
          ]
        },
        {
          "output_type": "stream",
          "name": "stderr",
          "text": [
            "\r 11%|█▏        | 266/2345 [01:51<14:51,  2.33it/s]"
          ]
        },
        {
          "output_type": "stream",
          "name": "stdout",
          "text": [
            "[1, 0, 1, 0, 1, 0, 0, 1, 0, 1, 1, 1, 1, 2, 1, 1, 1, 1, 1, 0, 1, 2, 1, 1, 2, 1, 1, 1, 2, 1]\n",
            "index== 7950 7980\n"
          ]
        },
        {
          "output_type": "stream",
          "name": "stderr",
          "text": [
            "\r 11%|█▏        | 267/2345 [01:51<14:50,  2.33it/s]"
          ]
        },
        {
          "output_type": "stream",
          "name": "stdout",
          "text": [
            "[2, 1, 0, 1, 2, 2, 1, 1, 0, 2, 1, 2, 2, 2, 2, 1, 1, 1, 2, 0, 1, 1, 1, 0, 1, 0, 1, 2, 1, 1]\n",
            "index== 7980 8010\n"
          ]
        },
        {
          "output_type": "stream",
          "name": "stderr",
          "text": [
            "\r 11%|█▏        | 268/2345 [01:51<14:50,  2.33it/s]"
          ]
        },
        {
          "output_type": "stream",
          "name": "stdout",
          "text": [
            "[1, 1, 2, 2, 1, 1, 2, 2, 0, 2, 1, 1, 0, 1, 1, 2, 1, 1, 2, 1, 1, 2, 1, 1, 0, 2, 1, 2, 2, 0]\n",
            "index== 8010 8040\n"
          ]
        },
        {
          "output_type": "stream",
          "name": "stderr",
          "text": [
            "\r 11%|█▏        | 269/2345 [01:52<14:50,  2.33it/s]"
          ]
        },
        {
          "output_type": "stream",
          "name": "stdout",
          "text": [
            "[0, 1, 1, 1, 0, 2, 1, 1, 1, 0, 0, 0, 1, 1, 0, 2, 2, 1, 1, 1, 1, 1, 0, 1, 1, 1, 0, 2, 1, 1]\n",
            "index== 8040 8070\n"
          ]
        },
        {
          "output_type": "stream",
          "name": "stderr",
          "text": [
            "\r 12%|█▏        | 270/2345 [01:52<14:50,  2.33it/s]"
          ]
        },
        {
          "output_type": "stream",
          "name": "stdout",
          "text": [
            "[2, 1, 0, 0, 2, 1, 0, 0, 2, 2, 1, 1, 1, 0, 2, 1, 1, 2, 1, 1, 1, 1, 1, 1, 1, 1, 0, 1, 0, 1]\n",
            "index== 8070 8100\n"
          ]
        },
        {
          "output_type": "stream",
          "name": "stderr",
          "text": [
            "\r 12%|█▏        | 271/2345 [01:53<14:52,  2.33it/s]"
          ]
        },
        {
          "output_type": "stream",
          "name": "stdout",
          "text": [
            "[1, 1, 1, 2, 1, 1, 1, 0, 1, 2, 1, 2, 1, 1, 1, 2, 1, 1, 1, 1, 0, 0, 0, 2, 1, 2, 1, 1, 2, 1]\n",
            "index== 8100 8130\n"
          ]
        },
        {
          "output_type": "stream",
          "name": "stderr",
          "text": [
            "\r 12%|█▏        | 272/2345 [01:53<14:52,  2.32it/s]"
          ]
        },
        {
          "output_type": "stream",
          "name": "stdout",
          "text": [
            "[1, 2, 1, 1, 1, 2, 0, 2, 0, 1, 1, 0, 0, 2, 1, 0, 2, 2, 2, 1, 1, 0, 0, 0, 2, 1, 1, 1, 2, 1]\n",
            "index== 8130 8160\n"
          ]
        },
        {
          "output_type": "stream",
          "name": "stderr",
          "text": [
            "\r 12%|█▏        | 273/2345 [01:54<14:52,  2.32it/s]"
          ]
        },
        {
          "output_type": "stream",
          "name": "stdout",
          "text": [
            "[0, 2, 1, 0, 0, 1, 2, 0, 0, 1, 1, 1, 1, 1, 1, 1, 0, 1, 1, 1, 0, 1, 0, 1, 2, 1, 1, 0, 2, 1]\n",
            "index== 8160 8190\n"
          ]
        },
        {
          "output_type": "stream",
          "name": "stderr",
          "text": [
            "\r 12%|█▏        | 274/2345 [01:54<14:53,  2.32it/s]"
          ]
        },
        {
          "output_type": "stream",
          "name": "stdout",
          "text": [
            "[0, 1, 2, 0, 1, 1, 1, 0, 0, 1, 0, 0, 1, 0, 2, 0, 1, 0, 0, 0, 0, 0, 1, 0, 0, 1, 0, 1, 2, 2]\n",
            "index== 8190 8220\n"
          ]
        },
        {
          "output_type": "stream",
          "name": "stderr",
          "text": [
            "\r 12%|█▏        | 275/2345 [01:54<14:50,  2.32it/s]"
          ]
        },
        {
          "output_type": "stream",
          "name": "stdout",
          "text": [
            "[1, 1, 0, 1, 2, 1, 2, 0, 1, 1, 1, 2, 1, 2, 1, 2, 1, 2, 1, 1, 1, 1, 1, 2, 1, 1, 1, 1, 1, 1]\n",
            "index== 8220 8250\n"
          ]
        },
        {
          "output_type": "stream",
          "name": "stderr",
          "text": [
            "\r 12%|█▏        | 276/2345 [01:55<14:51,  2.32it/s]"
          ]
        },
        {
          "output_type": "stream",
          "name": "stdout",
          "text": [
            "[0, 2, 0, 0, 1, 0, 0, 1, 1, 1, 1, 1, 1, 0, 1, 1, 2, 1, 1, 1, 0, 1, 0, 0, 0, 1, 1, 1, 1, 1]\n",
            "index== 8250 8280\n"
          ]
        },
        {
          "output_type": "stream",
          "name": "stderr",
          "text": [
            "\r 12%|█▏        | 277/2345 [01:55<14:51,  2.32it/s]"
          ]
        },
        {
          "output_type": "stream",
          "name": "stdout",
          "text": [
            "[1, 1, 0, 1, 1, 1, 1, 1, 1, 1, 1, 1, 2, 2, 1, 0, 2, 1, 0, 1, 0, 2, 0, 0, 1, 1, 0, 2, 1, 0]\n",
            "index== 8280 8310\n"
          ]
        },
        {
          "output_type": "stream",
          "name": "stderr",
          "text": [
            "\r 12%|█▏        | 278/2345 [01:56<14:51,  2.32it/s]"
          ]
        },
        {
          "output_type": "stream",
          "name": "stdout",
          "text": [
            "[0, 0, 0, 1, 1, 2, 0, 1, 2, 1, 1, 2, 1, 1, 1, 1, 2, 1, 1, 1, 2, 1, 1, 0, 2, 1, 1, 2, 2, 1]\n",
            "index== 8310 8340\n"
          ]
        },
        {
          "output_type": "stream",
          "name": "stderr",
          "text": [
            "\r 12%|█▏        | 279/2345 [01:56<14:51,  2.32it/s]"
          ]
        },
        {
          "output_type": "stream",
          "name": "stdout",
          "text": [
            "[1, 1, 0, 0, 1, 1, 1, 1, 2, 1, 1, 1, 1, 2, 0, 1, 1, 1, 1, 2, 2, 1, 2, 1, 1, 1, 1, 2, 1, 2]\n",
            "index== 8340 8370\n"
          ]
        },
        {
          "output_type": "stream",
          "name": "stderr",
          "text": [
            "\r 12%|█▏        | 280/2345 [01:57<14:51,  2.32it/s]"
          ]
        },
        {
          "output_type": "stream",
          "name": "stdout",
          "text": [
            "[1, 2, 1, 1, 1, 2, 2, 0, 2, 1, 1, 0, 1, 1, 2, 1, 1, 1, 0, 1, 1, 1, 1, 1, 2, 1, 2, 1, 1, 2]\n",
            "index== 8370 8400\n"
          ]
        },
        {
          "output_type": "stream",
          "name": "stderr",
          "text": [
            "\r 12%|█▏        | 281/2345 [01:57<14:50,  2.32it/s]"
          ]
        },
        {
          "output_type": "stream",
          "name": "stdout",
          "text": [
            "[1, 2, 1, 1, 2, 0, 1, 1, 1, 1, 1, 1, 0, 2, 1, 2, 1, 0, 2, 1, 1, 1, 1, 2, 1, 1, 1, 0, 2, 1]\n",
            "index== 8400 8430\n"
          ]
        },
        {
          "output_type": "stream",
          "name": "stderr",
          "text": [
            "\r 12%|█▏        | 282/2345 [01:57<14:50,  2.32it/s]"
          ]
        },
        {
          "output_type": "stream",
          "name": "stdout",
          "text": [
            "[2, 1, 1, 1, 1, 1, 2, 1, 2, 1, 2, 1, 1, 1, 1, 2, 2, 2, 2, 1, 2, 2, 1, 1, 2, 1, 2, 1, 2, 2]\n",
            "index== 8430 8460\n"
          ]
        },
        {
          "output_type": "stream",
          "name": "stderr",
          "text": [
            "\r 12%|█▏        | 283/2345 [01:58<14:51,  2.31it/s]"
          ]
        },
        {
          "output_type": "stream",
          "name": "stdout",
          "text": [
            "[2, 1, 1, 2, 1, 2, 2, 0, 2, 2, 2, 2, 2, 1, 2, 2, 2, 2, 2, 2, 1, 1, 1, 0, 0, 0, 2, 2, 2, 2]\n",
            "index== 8460 8490\n"
          ]
        },
        {
          "output_type": "stream",
          "name": "stderr",
          "text": [
            "\r 12%|█▏        | 284/2345 [01:58<14:51,  2.31it/s]"
          ]
        },
        {
          "output_type": "stream",
          "name": "stdout",
          "text": [
            "[2, 2, 2, 2, 1, 2, 0, 2, 2, 1, 2, 1, 1, 1, 1, 1, 2, 1, 0, 2, 1, 1, 0, 1, 1, 2, 1, 1, 2, 1]\n",
            "index== 8490 8520\n"
          ]
        },
        {
          "output_type": "stream",
          "name": "stderr",
          "text": [
            "\r 12%|█▏        | 285/2345 [01:59<14:50,  2.31it/s]"
          ]
        },
        {
          "output_type": "stream",
          "name": "stdout",
          "text": [
            "[0, 2, 1, 1, 1, 1, 2, 0, 1, 0, 2, 0, 0, 2, 0, 0, 2, 2, 1, 1, 0, 2, 0, 0, 1, 2, 2, 1, 2, 0]\n",
            "index== 8520 8550\n"
          ]
        },
        {
          "output_type": "stream",
          "name": "stderr",
          "text": [
            "\r 12%|█▏        | 286/2345 [01:59<14:50,  2.31it/s]"
          ]
        },
        {
          "output_type": "stream",
          "name": "stdout",
          "text": [
            "[0, 1, 2, 1, 2, 0, 1, 1, 2, 0, 2, 1, 1, 1, 1, 1, 2, 0, 2, 0, 1, 1, 0, 0, 1, 2, 1, 2, 0, 1]\n",
            "index== 8550 8580\n"
          ]
        },
        {
          "output_type": "stream",
          "name": "stderr",
          "text": [
            "\r 12%|█▏        | 287/2345 [02:00<14:48,  2.31it/s]"
          ]
        },
        {
          "output_type": "stream",
          "name": "stdout",
          "text": [
            "[2, 0, 0, 2, 2, 1, 2, 1, 0, 0, 0, 2, 2, 2, 2, 0, 2, 2, 0, 0, 1, 0, 2, 1, 0, 1, 1, 0, 0, 0]\n",
            "index== 8580 8610\n"
          ]
        },
        {
          "output_type": "stream",
          "name": "stderr",
          "text": [
            "\r 12%|█▏        | 288/2345 [02:00<14:49,  2.31it/s]"
          ]
        },
        {
          "output_type": "stream",
          "name": "stdout",
          "text": [
            "[2, 2, 0, 0, 0, 0, 0, 1, 0, 2, 1, 0, 0, 2, 0, 0, 1, 0, 0, 2, 0, 0, 0, 2, 1, 0, 0, 1, 2, 0]\n",
            "index== 8610 8640\n"
          ]
        },
        {
          "output_type": "stream",
          "name": "stderr",
          "text": [
            "\r 12%|█▏        | 289/2345 [02:00<14:47,  2.32it/s]"
          ]
        },
        {
          "output_type": "stream",
          "name": "stdout",
          "text": [
            "[0, 0, 0, 0, 0, 2, 0, 2, 2, 2, 0, 0, 2, 0, 2, 0, 0, 2, 2, 2, 0, 1, 2, 0, 2, 2, 2, 0, 2, 2]\n",
            "index== 8640 8670\n"
          ]
        },
        {
          "output_type": "stream",
          "name": "stderr",
          "text": [
            "\r 12%|█▏        | 290/2345 [02:01<14:47,  2.32it/s]"
          ]
        },
        {
          "output_type": "stream",
          "name": "stdout",
          "text": [
            "[2, 1, 2, 1, 1, 1, 0, 1, 1, 1, 2, 1, 1, 0, 0, 1, 1, 1, 1, 0, 2, 1, 1, 1, 1, 1, 0, 2, 1, 2]\n",
            "index== 8670 8700\n"
          ]
        },
        {
          "output_type": "stream",
          "name": "stderr",
          "text": [
            "\r 12%|█▏        | 291/2345 [02:01<14:48,  2.31it/s]"
          ]
        },
        {
          "output_type": "stream",
          "name": "stdout",
          "text": [
            "[1, 1, 0, 2, 0, 0, 2, 1, 1, 1, 2, 0, 0, 0, 1, 1, 1, 0, 0, 0, 1, 1, 1, 1, 1, 1, 1, 1, 2, 1]\n",
            "index== 8700 8730\n"
          ]
        },
        {
          "output_type": "stream",
          "name": "stderr",
          "text": [
            "\r 12%|█▏        | 292/2345 [02:02<14:49,  2.31it/s]"
          ]
        },
        {
          "output_type": "stream",
          "name": "stdout",
          "text": [
            "[2, 1, 0, 1, 1, 1, 2, 1, 1, 2, 2, 0, 1, 2, 0, 1, 1, 0, 2, 1, 1, 0, 0, 1, 1, 2, 1, 1, 1, 1]\n",
            "index== 8730 8760\n"
          ]
        },
        {
          "output_type": "stream",
          "name": "stderr",
          "text": [
            "\r 12%|█▏        | 293/2345 [02:02<14:48,  2.31it/s]"
          ]
        },
        {
          "output_type": "stream",
          "name": "stdout",
          "text": [
            "[0, 0, 1, 1, 1, 1, 2, 1, 0, 1, 0, 1, 1, 1, 0, 1, 1, 2, 2, 1, 1, 1, 1, 2, 1, 0, 2, 0, 1, 2]\n",
            "index== 8760 8790\n"
          ]
        },
        {
          "output_type": "stream",
          "name": "stderr",
          "text": [
            "\r 13%|█▎        | 294/2345 [02:03<14:49,  2.31it/s]"
          ]
        },
        {
          "output_type": "stream",
          "name": "stdout",
          "text": [
            "[0, 1, 0, 2, 1, 1, 2, 2, 1, 1, 0, 2, 0, 1, 0, 1, 1, 1, 1, 1, 0, 1, 1, 1, 1, 1, 1, 1, 1, 0]\n",
            "index== 8790 8820\n"
          ]
        },
        {
          "output_type": "stream",
          "name": "stderr",
          "text": [
            "\r 13%|█▎        | 295/2345 [02:03<14:50,  2.30it/s]"
          ]
        },
        {
          "output_type": "stream",
          "name": "stdout",
          "text": [
            "[0, 1, 0, 1, 0, 2, 1, 1, 1, 1, 0, 1, 1, 1, 0, 0, 1, 0, 2, 2, 2, 1, 1, 1, 1, 0, 0, 0, 1, 2]\n",
            "index== 8820 8850\n"
          ]
        },
        {
          "output_type": "stream",
          "name": "stderr",
          "text": [
            "\r 13%|█▎        | 296/2345 [02:04<14:47,  2.31it/s]"
          ]
        },
        {
          "output_type": "stream",
          "name": "stdout",
          "text": [
            "[1, 2, 0, 1, 1, 1, 0, 2, 2, 1, 1, 1, 1, 1, 1, 0, 1, 1, 0, 1, 1, 1, 1, 1, 1, 1, 1, 2, 1, 0]\n",
            "index== 8850 8880\n"
          ]
        },
        {
          "output_type": "stream",
          "name": "stderr",
          "text": [
            "\r 13%|█▎        | 297/2345 [02:04<14:47,  2.31it/s]"
          ]
        },
        {
          "output_type": "stream",
          "name": "stdout",
          "text": [
            "[1, 1, 1, 1, 1, 1, 1, 1, 1, 1, 0, 2, 1, 1, 0, 1, 0, 1, 0, 0, 0, 0, 1, 2, 1, 1, 1, 1, 1, 1]\n",
            "index== 8880 8910\n"
          ]
        },
        {
          "output_type": "stream",
          "name": "stderr",
          "text": [
            "\r 13%|█▎        | 298/2345 [02:04<14:49,  2.30it/s]"
          ]
        },
        {
          "output_type": "stream",
          "name": "stdout",
          "text": [
            "[1, 1, 0, 2, 1, 2, 0, 1, 1, 0, 1, 1, 1, 1, 1, 1, 1, 1, 1, 1, 1, 1, 1, 0, 1, 1, 2, 0, 1, 0]\n",
            "index== 8910 8940\n"
          ]
        },
        {
          "output_type": "stream",
          "name": "stderr",
          "text": [
            "\r 13%|█▎        | 299/2345 [02:05<14:48,  2.30it/s]"
          ]
        },
        {
          "output_type": "stream",
          "name": "stdout",
          "text": [
            "[1, 2, 0, 0, 0, 1, 1, 2, 0, 1, 1, 1, 2, 0, 1, 1, 1, 1, 2, 0, 1, 1, 1, 1, 1, 1, 1, 1, 2, 0]\n",
            "index== 8940 8970\n"
          ]
        },
        {
          "output_type": "stream",
          "name": "stderr",
          "text": [
            "\r 13%|█▎        | 300/2345 [02:05<14:49,  2.30it/s]"
          ]
        },
        {
          "output_type": "stream",
          "name": "stdout",
          "text": [
            "[1, 1, 0, 1, 0, 0, 0, 0, 0, 1, 1, 2, 0, 1, 1, 0, 2, 1, 1, 2, 2, 0, 1, 1, 0, 1, 1, 1, 0, 0]\n",
            "index== 8970 9000\n"
          ]
        },
        {
          "output_type": "stream",
          "name": "stderr",
          "text": [
            "\r 13%|█▎        | 301/2345 [02:06<14:46,  2.30it/s]"
          ]
        },
        {
          "output_type": "stream",
          "name": "stdout",
          "text": [
            "[1, 1, 2, 1, 2, 2, 1, 1, 1, 1, 1, 1, 0, 1, 1, 1, 2, 1, 1, 1, 1, 1, 0, 1, 0, 1, 1, 0, 1, 2]\n",
            "index== 9000 9030\n"
          ]
        },
        {
          "output_type": "stream",
          "name": "stderr",
          "text": [
            "\r 13%|█▎        | 302/2345 [02:06<14:46,  2.31it/s]"
          ]
        },
        {
          "output_type": "stream",
          "name": "stdout",
          "text": [
            "[2, 1, 2, 1, 2, 1, 1, 1, 1, 0, 1, 0, 0, 1, 1, 1, 1, 1, 1, 1, 1, 1, 1, 1, 1, 1, 0, 1, 1, 1]\n",
            "index== 9030 9060\n"
          ]
        },
        {
          "output_type": "stream",
          "name": "stderr",
          "text": [
            "\r 13%|█▎        | 303/2345 [02:07<14:46,  2.30it/s]"
          ]
        },
        {
          "output_type": "stream",
          "name": "stdout",
          "text": [
            "[2, 0, 2, 1, 1, 1, 2, 1, 2, 1, 1, 1, 2, 2, 1, 1, 2, 1, 2, 1, 1, 0, 1, 0, 1, 0, 1, 1, 2, 1]\n",
            "index== 9060 9090\n"
          ]
        },
        {
          "output_type": "stream",
          "name": "stderr",
          "text": [
            "\r 13%|█▎        | 304/2345 [02:07<14:45,  2.31it/s]"
          ]
        },
        {
          "output_type": "stream",
          "name": "stdout",
          "text": [
            "[0, 1, 1, 0, 1, 0, 2, 1, 0, 1, 2, 0, 0, 0, 1, 0, 1, 1, 2, 2, 2, 1, 1, 1, 0, 1, 0, 0, 0, 0]\n",
            "index== 9090 9120\n"
          ]
        },
        {
          "output_type": "stream",
          "name": "stderr",
          "text": [
            "\r 13%|█▎        | 305/2345 [02:07<14:45,  2.30it/s]"
          ]
        },
        {
          "output_type": "stream",
          "name": "stdout",
          "text": [
            "[1, 0, 1, 2, 0, 1, 2, 0, 2, 2, 2, 0, 1, 2, 2, 1, 1, 1, 2, 2, 2, 2, 1, 1, 1, 2, 2, 1, 1, 2]\n",
            "index== 9120 9150\n"
          ]
        },
        {
          "output_type": "stream",
          "name": "stderr",
          "text": [
            "\r 13%|█▎        | 306/2345 [02:08<14:43,  2.31it/s]"
          ]
        },
        {
          "output_type": "stream",
          "name": "stdout",
          "text": [
            "[1, 2, 1, 1, 1, 2, 1, 1, 1, 0, 2, 1, 2, 2, 1, 1, 1, 2, 2, 2, 0, 1, 1, 2, 1, 1, 1, 1, 1, 1]\n",
            "index== 9150 9180\n"
          ]
        },
        {
          "output_type": "stream",
          "name": "stderr",
          "text": [
            "\r 13%|█▎        | 307/2345 [02:08<14:45,  2.30it/s]"
          ]
        },
        {
          "output_type": "stream",
          "name": "stdout",
          "text": [
            "[1, 1, 2, 1, 0, 2, 1, 2, 1, 0, 1, 0, 1, 1, 1, 1, 0, 0, 2, 1, 0, 1, 2, 1, 1, 1, 0, 1, 0, 0]\n",
            "index== 9180 9210\n"
          ]
        },
        {
          "output_type": "stream",
          "name": "stderr",
          "text": [
            "\r 13%|█▎        | 308/2345 [02:09<14:44,  2.30it/s]"
          ]
        },
        {
          "output_type": "stream",
          "name": "stdout",
          "text": [
            "[1, 1, 1, 1, 0, 2, 1, 1, 1, 1, 1, 1, 1, 1, 1, 1, 2, 1, 2, 1, 1, 2, 1, 1, 2, 2, 2, 0, 1, 1]\n",
            "index== 9210 9240\n"
          ]
        },
        {
          "output_type": "stream",
          "name": "stderr",
          "text": [
            "\r 13%|█▎        | 309/2345 [02:09<14:44,  2.30it/s]"
          ]
        },
        {
          "output_type": "stream",
          "name": "stdout",
          "text": [
            "[1, 1, 0, 2, 0, 1, 1, 0, 1, 1, 2, 0, 1, 1, 1, 0, 1, 0, 2, 0, 2, 1, 0, 0, 2, 2, 0, 0, 0, 0]\n",
            "index== 9240 9270\n"
          ]
        },
        {
          "output_type": "stream",
          "name": "stderr",
          "text": [
            "\r 13%|█▎        | 310/2345 [02:10<14:45,  2.30it/s]"
          ]
        },
        {
          "output_type": "stream",
          "name": "stdout",
          "text": [
            "[2, 0, 0, 0, 1, 0, 1, 0, 1, 0, 2, 1, 0, 0, 0, 0, 2, 2, 1, 2, 1, 2, 1, 1, 1, 1, 1, 2, 0, 1]\n",
            "index== 9270 9300\n"
          ]
        },
        {
          "output_type": "stream",
          "name": "stderr",
          "text": [
            "\r 13%|█▎        | 311/2345 [02:10<14:44,  2.30it/s]"
          ]
        },
        {
          "output_type": "stream",
          "name": "stdout",
          "text": [
            "[1, 2, 1, 0, 1, 2, 1, 0, 1, 2, 2, 0, 1, 1, 1, 1, 1, 1, 0, 2, 0, 1, 1, 1, 0, 0, 0, 0, 1, 0]\n",
            "index== 9300 9330\n"
          ]
        },
        {
          "output_type": "stream",
          "name": "stderr",
          "text": [
            "\r 13%|█▎        | 312/2345 [02:10<14:43,  2.30it/s]"
          ]
        },
        {
          "output_type": "stream",
          "name": "stdout",
          "text": [
            "[0, 2, 2, 1, 1, 1, 1, 1, 0, 1, 1, 1, 1, 1, 1, 2, 1, 2, 2, 1, 1, 2, 1, 2, 1, 0, 1, 1, 0, 1]\n",
            "index== 9330 9360\n"
          ]
        },
        {
          "output_type": "stream",
          "name": "stderr",
          "text": [
            "\r 13%|█▎        | 313/2345 [02:11<14:43,  2.30it/s]"
          ]
        },
        {
          "output_type": "stream",
          "name": "stdout",
          "text": [
            "[0, 1, 1, 0, 0, 1, 1, 0, 1, 2, 0, 1, 1, 0, 1, 1, 0, 1, 1, 2, 2, 2, 1, 2, 1, 1, 2, 2, 1, 1]\n",
            "index== 9360 9390\n"
          ]
        },
        {
          "output_type": "stream",
          "name": "stderr",
          "text": [
            "\r 13%|█▎        | 314/2345 [02:11<14:42,  2.30it/s]"
          ]
        },
        {
          "output_type": "stream",
          "name": "stdout",
          "text": [
            "[1, 1, 1, 1, 0, 2, 1, 1, 2, 1, 1, 1, 1, 2, 0, 2, 2, 1, 1, 1, 2, 1, 0, 0, 1, 1, 1, 0, 0, 1]\n",
            "index== 9390 9420\n"
          ]
        },
        {
          "output_type": "stream",
          "name": "stderr",
          "text": [
            "\r 13%|█▎        | 315/2345 [02:12<14:42,  2.30it/s]"
          ]
        },
        {
          "output_type": "stream",
          "name": "stdout",
          "text": [
            "[0, 1, 0, 1, 1, 1, 1, 1, 1, 1, 1, 1, 1, 2, 1, 0, 1, 1, 1, 1, 1, 1, 1, 1, 1, 2, 0, 2, 1, 1]\n",
            "index== 9420 9450\n"
          ]
        },
        {
          "output_type": "stream",
          "name": "stderr",
          "text": [
            "\r 13%|█▎        | 316/2345 [02:12<14:42,  2.30it/s]"
          ]
        },
        {
          "output_type": "stream",
          "name": "stdout",
          "text": [
            "[1, 0, 0, 1, 1, 1, 1, 1, 1, 1, 2, 1, 0, 0, 1, 1, 1, 2, 1, 1, 2, 1, 1, 1, 2, 1, 0, 1, 1, 2]\n",
            "index== 9450 9480\n"
          ]
        },
        {
          "output_type": "stream",
          "name": "stderr",
          "text": [
            "\r 14%|█▎        | 317/2345 [02:13<14:43,  2.30it/s]"
          ]
        },
        {
          "output_type": "stream",
          "name": "stdout",
          "text": [
            "[1, 1, 2, 2, 1, 1, 1, 2, 1, 2, 1, 2, 1, 2, 1, 2, 0, 2, 2, 2, 2, 1, 1, 2, 1, 2, 1, 1, 1, 2]\n",
            "index== 9480 9510\n"
          ]
        },
        {
          "output_type": "stream",
          "name": "stderr",
          "text": [
            "\r 14%|█▎        | 318/2345 [02:13<14:43,  2.29it/s]"
          ]
        },
        {
          "output_type": "stream",
          "name": "stdout",
          "text": [
            "[1, 2, 2, 2, 2, 1, 1, 1, 1, 1, 1, 1, 2, 1, 2, 1, 1, 1, 0, 1, 1, 2, 2, 2, 2, 0, 1, 0, 0, 0]\n",
            "index== 9510 9540\n"
          ]
        },
        {
          "output_type": "stream",
          "name": "stderr",
          "text": [
            "\r 14%|█▎        | 319/2345 [02:14<14:43,  2.29it/s]"
          ]
        },
        {
          "output_type": "stream",
          "name": "stdout",
          "text": [
            "[2, 0, 2, 1, 1, 1, 2, 1, 1, 2, 1, 2, 1, 1, 1, 1, 0, 2, 2, 0, 1, 1, 1, 1, 1, 1, 1, 1, 0, 2]\n",
            "index== 9540 9570\n"
          ]
        },
        {
          "output_type": "stream",
          "name": "stderr",
          "text": [
            "\r 14%|█▎        | 320/2345 [02:14<14:41,  2.30it/s]"
          ]
        },
        {
          "output_type": "stream",
          "name": "stdout",
          "text": [
            "[1, 0, 1, 1, 1, 0, 1, 2, 1, 1, 0, 0, 1, 1, 2, 1, 0, 1, 2, 1, 0, 2, 1, 1, 0, 0, 2, 1, 0, 1]\n",
            "index== 9570 9600\n"
          ]
        },
        {
          "output_type": "stream",
          "name": "stderr",
          "text": [
            "\r 14%|█▎        | 321/2345 [02:14<14:41,  2.30it/s]"
          ]
        },
        {
          "output_type": "stream",
          "name": "stdout",
          "text": [
            "[1, 0, 2, 0, 0, 2, 0, 0, 1, 1, 1, 1, 1, 1, 1, 0, 0, 1, 2, 0, 0, 1, 1, 0, 1, 1, 1, 1, 0, 1]\n",
            "index== 9600 9630\n"
          ]
        },
        {
          "output_type": "stream",
          "name": "stderr",
          "text": [
            "\r 14%|█▎        | 322/2345 [02:15<14:41,  2.30it/s]"
          ]
        },
        {
          "output_type": "stream",
          "name": "stdout",
          "text": [
            "[1, 1, 1, 1, 0, 1, 0, 1, 0, 1, 1, 1, 1, 0, 1, 1, 2, 2, 1, 0, 0, 1, 2, 1, 1, 1, 1, 0, 0, 1]\n",
            "index== 9630 9660\n"
          ]
        },
        {
          "output_type": "stream",
          "name": "stderr",
          "text": [
            "\r 14%|█▍        | 323/2345 [02:15<14:39,  2.30it/s]"
          ]
        },
        {
          "output_type": "stream",
          "name": "stdout",
          "text": [
            "[1, 0, 0, 1, 1, 1, 0, 0, 0, 0, 2, 1, 2, 0, 2, 0, 2, 1, 1, 0, 0, 2, 1, 1, 2, 0, 2, 1, 0, 1]\n",
            "index== 9660 9690\n"
          ]
        },
        {
          "output_type": "stream",
          "name": "stderr",
          "text": [
            "\r 14%|█▍        | 324/2345 [02:16<14:40,  2.29it/s]"
          ]
        },
        {
          "output_type": "stream",
          "name": "stdout",
          "text": [
            "[0, 2, 1, 2, 1, 1, 1, 1, 2, 1, 1, 1, 1, 0, 2, 0, 0, 2, 1, 1, 1, 1, 1, 0, 1, 1, 2, 0, 2, 2]\n",
            "index== 9690 9720\n"
          ]
        },
        {
          "output_type": "stream",
          "name": "stderr",
          "text": [
            "\r 14%|█▍        | 325/2345 [02:16<14:40,  2.29it/s]"
          ]
        },
        {
          "output_type": "stream",
          "name": "stdout",
          "text": [
            "[1, 2, 1, 2, 2, 0, 1, 2, 0, 0, 1, 1, 2, 0, 1, 1, 1, 1, 0, 1, 1, 2, 1, 1, 1, 1, 1, 1, 1, 1]\n",
            "index== 9720 9750\n"
          ]
        },
        {
          "output_type": "stream",
          "name": "stderr",
          "text": [
            "\r 14%|█▍        | 326/2345 [02:17<14:41,  2.29it/s]"
          ]
        },
        {
          "output_type": "stream",
          "name": "stdout",
          "text": [
            "[1, 0, 0, 2, 1, 1, 1, 1, 1, 1, 0, 0, 0, 1, 1, 1, 1, 1, 1, 1, 1, 1, 0, 1, 1, 2, 0, 2, 1, 1]\n",
            "index== 9750 9780\n"
          ]
        },
        {
          "output_type": "stream",
          "name": "stderr",
          "text": [
            "\r 14%|█▍        | 327/2345 [02:17<14:41,  2.29it/s]"
          ]
        },
        {
          "output_type": "stream",
          "name": "stdout",
          "text": [
            "[1, 1, 1, 1, 1, 1, 1, 1, 1, 1, 1, 1, 0, 1, 1, 1, 1, 1, 0, 1, 1, 1, 1, 0, 1, 0, 0, 0, 2, 2]\n",
            "index== 9780 9810\n"
          ]
        },
        {
          "output_type": "stream",
          "name": "stderr",
          "text": [
            "\r 14%|█▍        | 328/2345 [02:17<14:39,  2.29it/s]"
          ]
        },
        {
          "output_type": "stream",
          "name": "stdout",
          "text": [
            "[2, 1, 1, 2, 2, 1, 1, 2, 2, 1, 0, 0, 1, 0, 0, 2, 1, 0, 1, 1, 2, 1, 0, 1, 0, 1, 1, 1, 0, 1]\n",
            "index== 9810 9840\n"
          ]
        },
        {
          "output_type": "stream",
          "name": "stderr",
          "text": [
            "\r 14%|█▍        | 329/2345 [02:18<14:39,  2.29it/s]"
          ]
        },
        {
          "output_type": "stream",
          "name": "stdout",
          "text": [
            "[2, 1, 1, 1, 1, 1, 2, 1, 1, 0, 1, 1, 1, 1, 0, 2, 2, 1, 1, 1, 0, 1, 1, 0, 1, 2, 1, 0, 0, 2]\n",
            "index== 9840 9870\n"
          ]
        },
        {
          "output_type": "stream",
          "name": "stderr",
          "text": [
            "\r 14%|█▍        | 330/2345 [02:18<14:37,  2.30it/s]"
          ]
        },
        {
          "output_type": "stream",
          "name": "stdout",
          "text": [
            "[1, 1, 0, 2, 0, 0, 2, 2, 2, 0, 1, 0, 1, 0, 2, 2, 1, 1, 1, 1, 1, 1, 1, 0, 1, 1, 2, 1, 1, 1]\n",
            "index== 9870 9900\n"
          ]
        },
        {
          "output_type": "stream",
          "name": "stderr",
          "text": [
            "\r 14%|█▍        | 331/2345 [02:19<14:39,  2.29it/s]"
          ]
        },
        {
          "output_type": "stream",
          "name": "stdout",
          "text": [
            "[0, 2, 0, 1, 2, 1, 1, 2, 1, 0, 1, 2, 1, 2, 1, 1, 2, 1, 1, 1, 1, 2, 1, 1, 0, 0, 0, 1, 0, 0]\n",
            "index== 9900 9930\n"
          ]
        },
        {
          "output_type": "stream",
          "name": "stderr",
          "text": [
            "\r 14%|█▍        | 332/2345 [02:19<14:40,  2.29it/s]"
          ]
        },
        {
          "output_type": "stream",
          "name": "stdout",
          "text": [
            "[0, 0, 0, 0, 1, 1, 1, 1, 1, 0, 0, 1, 2, 2, 0, 2, 1, 1, 1, 0, 1, 1, 1, 2, 2, 2, 1, 1, 1, 1]\n",
            "index== 9930 9960\n"
          ]
        },
        {
          "output_type": "stream",
          "name": "stderr",
          "text": [
            "\r 14%|█▍        | 333/2345 [02:20<14:40,  2.29it/s]"
          ]
        },
        {
          "output_type": "stream",
          "name": "stdout",
          "text": [
            "[0, 0, 1, 1, 1, 1, 1, 1, 2, 0, 0, 0, 1, 1, 0, 1, 0, 0, 1, 1, 2, 1, 2, 0, 1, 1, 1, 1, 0, 1]\n",
            "index== 9960 9990\n"
          ]
        },
        {
          "output_type": "stream",
          "name": "stderr",
          "text": [
            "\r 14%|█▍        | 334/2345 [02:20<14:39,  2.29it/s]"
          ]
        },
        {
          "output_type": "stream",
          "name": "stdout",
          "text": [
            "[2, 0, 0, 2, 1, 0, 0, 0, 1, 0, 1, 1, 1, 1, 1, 0, 0, 1, 1, 2, 2, 1, 1, 1, 0, 2, 2, 1, 1, 1]\n",
            "index== 9990 10020\n"
          ]
        },
        {
          "output_type": "stream",
          "name": "stderr",
          "text": [
            "\r 14%|█▍        | 335/2345 [02:20<14:40,  2.28it/s]"
          ]
        },
        {
          "output_type": "stream",
          "name": "stdout",
          "text": [
            "[2, 1, 0, 1, 1, 2, 1, 1, 1, 1, 1, 1, 1, 2, 1, 1, 2, 1, 1, 1, 1, 2, 2, 1, 1, 1, 1, 0, 1, 1]\n",
            "index== 10020 10050\n"
          ]
        },
        {
          "output_type": "stream",
          "name": "stderr",
          "text": [
            "\r 14%|█▍        | 336/2345 [02:21<14:39,  2.28it/s]"
          ]
        },
        {
          "output_type": "stream",
          "name": "stdout",
          "text": [
            "[2, 2, 0, 2, 0, 1, 2, 2, 2, 1, 1, 1, 1, 1, 0, 2, 1, 1, 1, 1, 2, 2, 2, 2, 2, 2, 2, 1, 0, 1]\n",
            "index== 10050 10080\n"
          ]
        },
        {
          "output_type": "stream",
          "name": "stderr",
          "text": [
            "\r 14%|█▍        | 337/2345 [02:21<14:37,  2.29it/s]"
          ]
        },
        {
          "output_type": "stream",
          "name": "stdout",
          "text": [
            "[0, 1, 1, 1, 2, 2, 1, 2, 1, 1, 2, 1, 1, 1, 1, 1, 1, 2, 2, 2, 1, 1, 2, 0, 1, 2, 1, 1, 1, 2]\n",
            "index== 10080 10110\n"
          ]
        },
        {
          "output_type": "stream",
          "name": "stderr",
          "text": [
            "\r 14%|█▍        | 338/2345 [02:22<14:36,  2.29it/s]"
          ]
        },
        {
          "output_type": "stream",
          "name": "stdout",
          "text": [
            "[1, 1, 2, 2, 2, 2, 2, 0, 0, 1, 1, 1, 1, 1, 0, 1, 1, 2, 1, 0, 0, 1, 2, 0, 1, 2, 0, 1, 2, 2]\n",
            "index== 10110 10140\n"
          ]
        },
        {
          "output_type": "stream",
          "name": "stderr",
          "text": [
            "\r 14%|█▍        | 339/2345 [02:22<14:35,  2.29it/s]"
          ]
        },
        {
          "output_type": "stream",
          "name": "stdout",
          "text": [
            "[2, 0, 1, 1, 1, 1, 1, 0, 2, 0, 1, 1, 1, 0, 1, 1, 1, 1, 0, 0, 1, 0, 1, 1, 1, 0, 1, 1, 1, 1]\n",
            "index== 10140 10170\n"
          ]
        },
        {
          "output_type": "stream",
          "name": "stderr",
          "text": [
            "\r 14%|█▍        | 340/2345 [02:23<14:36,  2.29it/s]"
          ]
        },
        {
          "output_type": "stream",
          "name": "stdout",
          "text": [
            "[2, 1, 1, 1, 0, 1, 0, 1, 1, 0, 1, 1, 1, 1, 2, 1, 0, 1, 1, 1, 1, 1, 2, 1, 0, 1, 1, 0, 1, 1]\n",
            "index== 10170 10200\n"
          ]
        },
        {
          "output_type": "stream",
          "name": "stderr",
          "text": [
            "\r 15%|█▍        | 341/2345 [02:23<14:36,  2.29it/s]"
          ]
        },
        {
          "output_type": "stream",
          "name": "stdout",
          "text": [
            "[1, 2, 1, 1, 1, 2, 0, 1, 1, 1, 0, 1, 2, 2, 1, 0, 1, 2, 1, 1, 2, 1, 1, 1, 1, 1, 0, 0, 1, 0]\n",
            "index== 10200 10230\n"
          ]
        },
        {
          "output_type": "stream",
          "name": "stderr",
          "text": [
            "\r 15%|█▍        | 342/2345 [02:24<14:36,  2.29it/s]"
          ]
        },
        {
          "output_type": "stream",
          "name": "stdout",
          "text": [
            "[1, 1, 2, 1, 1, 0, 1, 1, 2, 1, 1, 1, 1, 1, 1, 1, 0, 1, 1, 1, 0, 1, 1, 1, 1, 1, 2, 1, 1, 1]\n",
            "index== 10230 10260\n"
          ]
        },
        {
          "output_type": "stream",
          "name": "stderr",
          "text": [
            "\r 15%|█▍        | 343/2345 [02:24<14:37,  2.28it/s]"
          ]
        },
        {
          "output_type": "stream",
          "name": "stdout",
          "text": [
            "[2, 1, 1, 2, 1, 2, 1, 1, 1, 0, 2, 2, 1, 0, 1, 1, 2, 0, 1, 1, 2, 1, 2, 1, 1, 0, 0, 2, 1, 2]\n",
            "index== 10260 10290\n"
          ]
        },
        {
          "output_type": "stream",
          "name": "stderr",
          "text": [
            "\r 15%|█▍        | 344/2345 [02:24<14:35,  2.29it/s]"
          ]
        },
        {
          "output_type": "stream",
          "name": "stdout",
          "text": [
            "[0, 1, 2, 1, 0, 2, 1, 1, 1, 1, 1, 1, 0, 2, 1, 2, 0, 2, 1, 1, 1, 0, 2, 1, 1, 1, 1, 1, 1, 1]\n",
            "index== 10290 10320\n"
          ]
        },
        {
          "output_type": "stream",
          "name": "stderr",
          "text": [
            "\r 15%|█▍        | 345/2345 [02:25<14:36,  2.28it/s]"
          ]
        },
        {
          "output_type": "stream",
          "name": "stdout",
          "text": [
            "[1, 1, 2, 1, 2, 1, 1, 1, 1, 1, 2, 1, 1, 1, 0, 1, 1, 1, 2, 1, 1, 1, 0, 2, 2, 2, 2, 1, 2, 1]\n",
            "index== 10320 10350\n"
          ]
        },
        {
          "output_type": "stream",
          "name": "stderr",
          "text": [
            "\r 15%|█▍        | 346/2345 [02:25<14:35,  2.28it/s]"
          ]
        },
        {
          "output_type": "stream",
          "name": "stdout",
          "text": [
            "[0, 1, 2, 1, 1, 2, 1, 1, 1, 0, 2, 0, 2, 1, 2, 1, 2, 1, 1, 1, 2, 1, 0, 2, 1, 1, 1, 2, 2, 2]\n",
            "index== 10350 10380\n"
          ]
        },
        {
          "output_type": "stream",
          "name": "stderr",
          "text": [
            "\r 15%|█▍        | 347/2345 [02:26<14:36,  2.28it/s]"
          ]
        },
        {
          "output_type": "stream",
          "name": "stdout",
          "text": [
            "[0, 1, 1, 0, 0, 1, 1, 2, 1, 1, 1, 1, 2, 0, 2, 1, 1, 1, 2, 2, 0, 2, 1, 1, 0, 1, 1, 0, 1, 1]\n",
            "index== 10380 10410\n"
          ]
        },
        {
          "output_type": "stream",
          "name": "stderr",
          "text": [
            "\r 15%|█▍        | 348/2345 [02:26<14:34,  2.28it/s]"
          ]
        },
        {
          "output_type": "stream",
          "name": "stdout",
          "text": [
            "[0, 0, 0, 1, 1, 0, 1, 0, 2, 1, 2, 1, 1, 1, 0, 1, 0, 1, 1, 1, 1, 0, 1, 0, 0, 1, 1, 1, 1, 0]\n",
            "index== 10410 10440\n"
          ]
        },
        {
          "output_type": "stream",
          "name": "stderr",
          "text": [
            "\r 15%|█▍        | 349/2345 [02:27<14:35,  2.28it/s]"
          ]
        },
        {
          "output_type": "stream",
          "name": "stdout",
          "text": [
            "[0, 1, 1, 1, 1, 1, 1, 1, 1, 2, 1, 1, 0, 1, 0, 1, 0, 1, 1, 1, 1, 1, 1, 1, 1, 0, 0, 2, 0, 1]\n",
            "index== 10440 10470\n"
          ]
        },
        {
          "output_type": "stream",
          "name": "stderr",
          "text": [
            "\r 15%|█▍        | 350/2345 [02:27<14:33,  2.28it/s]"
          ]
        },
        {
          "output_type": "stream",
          "name": "stdout",
          "text": [
            "[0, 1, 1, 2, 1, 1, 1, 0, 0, 0, 1, 0, 1, 1, 1, 2, 2, 1, 0, 1, 2, 2, 0, 1, 1, 2, 2, 2, 1, 0]\n",
            "index== 10470 10500\n"
          ]
        },
        {
          "output_type": "stream",
          "name": "stderr",
          "text": [
            "\r 15%|█▍        | 351/2345 [02:27<14:34,  2.28it/s]"
          ]
        },
        {
          "output_type": "stream",
          "name": "stdout",
          "text": [
            "[0, 1, 0, 1, 1, 2, 1, 0, 2, 0, 0, 0, 2, 2, 2, 0, 1, 0, 1, 1, 2, 1, 0, 0, 1, 1, 1, 2, 1, 0]\n",
            "index== 10500 10530\n"
          ]
        },
        {
          "output_type": "stream",
          "name": "stderr",
          "text": [
            "\r 15%|█▌        | 352/2345 [02:28<14:32,  2.28it/s]"
          ]
        },
        {
          "output_type": "stream",
          "name": "stdout",
          "text": [
            "[1, 0, 0, 1, 0, 1, 1, 0, 1, 1, 1, 0, 1, 1, 1, 1, 2, 0, 1, 0, 2, 1, 1, 2, 1, 2, 1, 2, 1, 2]\n",
            "index== 10530 10560\n"
          ]
        },
        {
          "output_type": "stream",
          "name": "stderr",
          "text": [
            "\r 15%|█▌        | 353/2345 [02:28<14:32,  2.28it/s]"
          ]
        },
        {
          "output_type": "stream",
          "name": "stdout",
          "text": [
            "[2, 1, 0, 2, 1, 0, 1, 1, 0, 1, 1, 1, 2, 0, 1, 2, 2, 1, 2, 2, 2, 1, 0, 1, 2, 1, 1, 2, 2, 1]\n",
            "index== 10560 10590\n"
          ]
        },
        {
          "output_type": "stream",
          "name": "stderr",
          "text": [
            "\r 15%|█▌        | 354/2345 [02:29<14:32,  2.28it/s]"
          ]
        },
        {
          "output_type": "stream",
          "name": "stdout",
          "text": [
            "[1, 2, 0, 1, 1, 1, 2, 2, 2, 1, 2, 1, 2, 1, 1, 0, 2, 0, 1, 1, 1, 1, 2, 1, 0, 0, 2, 1, 1, 1]\n",
            "index== 10590 10620\n"
          ]
        },
        {
          "output_type": "stream",
          "name": "stderr",
          "text": [
            "\r 15%|█▌        | 355/2345 [02:29<14:34,  2.28it/s]"
          ]
        },
        {
          "output_type": "stream",
          "name": "stdout",
          "text": [
            "[0, 1, 1, 1, 0, 1, 1, 2, 2, 2, 2, 2, 1, 2, 1, 1, 1, 2, 2, 1, 1, 1, 1, 2, 1, 1, 1, 2, 0, 2]\n",
            "index== 10620 10650\n"
          ]
        },
        {
          "output_type": "stream",
          "name": "stderr",
          "text": [
            "\r 15%|█▌        | 356/2345 [02:30<14:40,  2.26it/s]"
          ]
        },
        {
          "output_type": "stream",
          "name": "stdout",
          "text": [
            "[2, 1, 0, 1, 1, 1, 1, 1, 1, 1, 1, 1, 1, 0, 1, 0, 0, 2, 0, 1, 1, 1, 2, 0, 1, 1, 2, 1, 2, 0]\n",
            "index== 10650 10680\n"
          ]
        },
        {
          "output_type": "stream",
          "name": "stderr",
          "text": [
            "\r 15%|█▌        | 357/2345 [02:30<14:39,  2.26it/s]"
          ]
        },
        {
          "output_type": "stream",
          "name": "stdout",
          "text": [
            "[2, 1, 2, 1, 1, 1, 1, 1, 2, 0, 1, 2, 0, 0, 0, 1, 2, 0, 2, 0, 2, 2, 1, 2, 1, 1, 2, 2, 1, 1]\n",
            "index== 10680 10710\n"
          ]
        },
        {
          "output_type": "stream",
          "name": "stderr",
          "text": [
            "\r 15%|█▌        | 358/2345 [02:31<14:38,  2.26it/s]"
          ]
        },
        {
          "output_type": "stream",
          "name": "stdout",
          "text": [
            "[1, 2, 2, 2, 2, 1, 2, 1, 0, 0, 0, 1, 0, 1, 0, 1, 2, 2, 1, 0, 1, 1, 1, 1, 0, 1, 1, 1, 2, 0]\n",
            "index== 10710 10740\n"
          ]
        },
        {
          "output_type": "stream",
          "name": "stderr",
          "text": [
            "\r 15%|█▌        | 359/2345 [02:31<14:34,  2.27it/s]"
          ]
        },
        {
          "output_type": "stream",
          "name": "stdout",
          "text": [
            "[2, 1, 1, 1, 1, 1, 1, 2, 1, 2, 2, 1, 2, 1, 0, 1, 1, 2, 1, 1, 2, 2, 2, 2, 2, 2, 1, 2, 1, 1]\n",
            "index== 10740 10770\n"
          ]
        },
        {
          "output_type": "stream",
          "name": "stderr",
          "text": [
            "\r 15%|█▌        | 360/2345 [02:31<14:33,  2.27it/s]"
          ]
        },
        {
          "output_type": "stream",
          "name": "stdout",
          "text": [
            "[1, 1, 2, 0, 1, 1, 2, 1, 2, 2, 1, 2, 1, 2, 1, 1, 1, 1, 1, 1, 2, 1, 0, 2, 2, 2, 2, 1, 2, 0]\n",
            "index== 10770 10800\n"
          ]
        },
        {
          "output_type": "stream",
          "name": "stderr",
          "text": [
            "\r 15%|█▌        | 361/2345 [02:32<14:32,  2.27it/s]"
          ]
        },
        {
          "output_type": "stream",
          "name": "stdout",
          "text": [
            "[1, 1, 2, 1, 2, 1, 1, 0, 2, 1, 2, 2, 2, 1, 1, 1, 1, 2, 2, 2, 2, 1, 2, 2, 1, 2, 2, 1, 2, 0]\n",
            "index== 10800 10830\n"
          ]
        },
        {
          "output_type": "stream",
          "name": "stderr",
          "text": [
            "\r 15%|█▌        | 362/2345 [02:32<14:35,  2.26it/s]"
          ]
        },
        {
          "output_type": "stream",
          "name": "stdout",
          "text": [
            "[2, 2, 2, 1, 2, 0, 2, 0, 0, 1, 2, 0, 1, 1, 2, 2, 2, 2, 0, 2, 1, 1, 2, 0, 1, 2, 1, 2, 1, 1]\n",
            "index== 10830 10860\n"
          ]
        },
        {
          "output_type": "stream",
          "name": "stderr",
          "text": [
            "\r 15%|█▌        | 363/2345 [02:33<14:35,  2.27it/s]"
          ]
        },
        {
          "output_type": "stream",
          "name": "stdout",
          "text": [
            "[2, 1, 1, 1, 2, 2, 1, 1, 1, 0, 1, 1, 1, 1, 1, 1, 1, 1, 1, 1, 1, 1, 2, 2, 2, 2, 1, 1, 2, 1]\n",
            "index== 10860 10890\n"
          ]
        },
        {
          "output_type": "stream",
          "name": "stderr",
          "text": [
            "\r 16%|█▌        | 364/2345 [02:33<14:35,  2.26it/s]"
          ]
        },
        {
          "output_type": "stream",
          "name": "stdout",
          "text": [
            "[1, 2, 1, 0, 0, 1, 1, 0, 0, 2, 1, 1, 0, 0, 1, 1, 1, 0, 1, 2, 1, 1, 1, 1, 1, 1, 2, 0, 1, 0]\n",
            "index== 10890 10920\n"
          ]
        },
        {
          "output_type": "stream",
          "name": "stderr",
          "text": [
            "\r 16%|█▌        | 365/2345 [02:34<14:33,  2.27it/s]"
          ]
        },
        {
          "output_type": "stream",
          "name": "stdout",
          "text": [
            "[2, 2, 1, 1, 1, 1, 1, 0, 0, 1, 1, 1, 1, 0, 1, 1, 0, 1, 1, 0, 1, 1, 1, 2, 1, 0, 2, 2, 1, 1]\n",
            "index== 10920 10950\n"
          ]
        },
        {
          "output_type": "stream",
          "name": "stderr",
          "text": [
            "\r 16%|█▌        | 366/2345 [02:34<14:32,  2.27it/s]"
          ]
        },
        {
          "output_type": "stream",
          "name": "stdout",
          "text": [
            "[1, 1, 2, 1, 1, 1, 1, 1, 2, 1, 1, 1, 2, 2, 1, 1, 2, 1, 2, 1, 2, 2, 2, 1, 2, 1, 0, 0, 2, 1]\n",
            "index== 10950 10980\n"
          ]
        },
        {
          "output_type": "stream",
          "name": "stderr",
          "text": [
            "\r 16%|█▌        | 367/2345 [02:35<14:30,  2.27it/s]"
          ]
        },
        {
          "output_type": "stream",
          "name": "stdout",
          "text": [
            "[0, 1, 2, 1, 2, 1, 1, 1, 1, 0, 0, 1, 1, 1, 1, 1, 2, 1, 1, 2, 1, 0, 2, 1, 1, 1, 0, 1, 1, 1]\n",
            "index== 10980 11010\n"
          ]
        },
        {
          "output_type": "stream",
          "name": "stderr",
          "text": [
            "\r 16%|█▌        | 368/2345 [02:35<14:30,  2.27it/s]"
          ]
        },
        {
          "output_type": "stream",
          "name": "stdout",
          "text": [
            "[1, 1, 1, 2, 2, 1, 0, 2, 1, 1, 0, 1, 0, 1, 0, 1, 0, 1, 0, 0, 2, 2, 2, 1, 1, 0, 2, 1, 1, 2]\n",
            "index== 11010 11040\n"
          ]
        },
        {
          "output_type": "stream",
          "name": "stderr",
          "text": [
            "\r 16%|█▌        | 369/2345 [02:35<14:29,  2.27it/s]"
          ]
        },
        {
          "output_type": "stream",
          "name": "stdout",
          "text": [
            "[1, 1, 0, 2, 1, 1, 1, 2, 1, 0, 1, 1, 1, 2, 1, 1, 1, 1, 1, 1, 2, 0, 1, 1, 1, 0, 0, 0, 2, 0]\n",
            "index== 11040 11070\n"
          ]
        },
        {
          "output_type": "stream",
          "name": "stderr",
          "text": [
            "\r 16%|█▌        | 370/2345 [02:36<14:30,  2.27it/s]"
          ]
        },
        {
          "output_type": "stream",
          "name": "stdout",
          "text": [
            "[2, 0, 1, 2, 1, 2, 1, 1, 0, 0, 1, 1, 1, 0, 2, 2, 0, 2, 1, 2, 2, 2, 2, 0, 2, 0, 2, 1, 1, 1]\n",
            "index== 11070 11100\n"
          ]
        },
        {
          "output_type": "stream",
          "name": "stderr",
          "text": [
            "\r 16%|█▌        | 371/2345 [02:36<14:27,  2.27it/s]"
          ]
        },
        {
          "output_type": "stream",
          "name": "stdout",
          "text": [
            "[1, 1, 2, 2, 2, 0, 0, 1, 2, 0, 1, 0, 0, 0, 0, 0, 1, 1, 1, 1, 1, 1, 1, 0, 1, 1, 0, 2, 1, 2]\n",
            "index== 11100 11130\n"
          ]
        },
        {
          "output_type": "stream",
          "name": "stderr",
          "text": [
            "\r 16%|█▌        | 372/2345 [02:37<14:28,  2.27it/s]"
          ]
        },
        {
          "output_type": "stream",
          "name": "stdout",
          "text": [
            "[0, 0, 0, 0, 1, 0, 0, 1, 1, 2, 2, 0, 1, 1, 1, 1, 1, 2, 0, 0, 1, 2, 0, 0, 1, 1, 1, 1, 1, 2]\n",
            "index== 11130 11160\n"
          ]
        },
        {
          "output_type": "stream",
          "name": "stderr",
          "text": [
            "\r 16%|█▌        | 373/2345 [02:37<14:28,  2.27it/s]"
          ]
        },
        {
          "output_type": "stream",
          "name": "stdout",
          "text": [
            "[1, 0, 1, 1, 1, 1, 2, 1, 2, 2, 2, 1, 1, 0, 1, 2, 1, 1, 1, 0, 1, 1, 1, 1, 1, 1, 0, 0, 1, 1]\n",
            "index== 11160 11190\n"
          ]
        },
        {
          "output_type": "stream",
          "name": "stderr",
          "text": [
            "\r 16%|█▌        | 374/2345 [02:38<14:28,  2.27it/s]"
          ]
        },
        {
          "output_type": "stream",
          "name": "stdout",
          "text": [
            "[0, 1, 1, 0, 2, 0, 1, 2, 1, 2, 1, 2, 1, 1, 0, 1, 1, 1, 1, 1, 1, 1, 1, 1, 1, 0, 1, 2, 1, 0]\n",
            "index== 11190 11220\n"
          ]
        },
        {
          "output_type": "stream",
          "name": "stderr",
          "text": [
            "\r 16%|█▌        | 375/2345 [02:38<14:29,  2.27it/s]"
          ]
        },
        {
          "output_type": "stream",
          "name": "stdout",
          "text": [
            "[1, 1, 2, 1, 0, 1, 1, 1, 2, 1, 1, 2, 2, 0, 2, 2, 1, 1, 1, 2, 1, 2, 1, 0, 2, 1, 1, 1, 1, 1]\n",
            "index== 11220 11250\n"
          ]
        },
        {
          "output_type": "stream",
          "name": "stderr",
          "text": [
            "\r 16%|█▌        | 376/2345 [02:39<14:26,  2.27it/s]"
          ]
        }
      ]
    },
    {
      "cell_type": "code",
      "source": [
        "print(sample_result)"
      ],
      "metadata": {
        "id": "c5H5GAHm8mT5"
      },
      "execution_count": null,
      "outputs": []
    },
    {
      "cell_type": "markdown",
      "source": [
        "### 예측 결과를 파일로 저장"
      ],
      "metadata": {
        "id": "YGo-WV7Ry9XD"
      }
    },
    {
      "cell_type": "code",
      "source": [
        "# 예측 결과를 파일로 저장\n",
        "#sample_csv = sample_result.to_csv('sample.csv')\n",
        "sample_xlsx = sample_result.to_excel('samsung_news_emotion_20180101-20220607_title.xlsx',index=False)\n",
        "sample_csv = sample_result.to_csv('samsung_news_emotion_20180101-20220607_title.csv',sep=',',na_rep='NaN', columns=['일자','언론사','제목','본문','pred_label','negative','neutral','positive'],index=False)\n",
        "\n",
        "#sample_xlsx = sample_result.to_excel('samsung_news_emotion_20180101-20220607_contents.xlsx',index=False)\n",
        "#sample_csv = sample_result.to_csv('samsung_news_emotion_20180101-20220607_contents.csv',sep=',',na_rep='NaN', columns=['일자','언론사','제목','본문','pred_label','negative','neutral','positive'],index=False)\n"
      ],
      "metadata": {
        "id": "wZazsnhLFPMA"
      },
      "execution_count": null,
      "outputs": []
    },
    {
      "cell_type": "markdown",
      "source": [
        "### 파일을 PC로 다운로드 하기"
      ],
      "metadata": {
        "id": "CbpUPlvhzBdz"
      }
    },
    {
      "cell_type": "code",
      "source": [
        "# 파일을 PC로 다운로드 하기\n",
        "from google.colab import files\n",
        "#files.download('sample_result.csv')\n",
        "files.download('samsung_news_emotion_20180101-20220607_title.xlsx')\n",
        "files.download('samsung_news_emotion_20180101-20220607_title.csv')\n",
        "\n",
        "#files.download('samsung_news_emotion_20180101-20220607_contents.xlsx')\n",
        "#files.download('samsung_news_emotion_20180101-20220607_contents.csv')"
      ],
      "metadata": {
        "id": "V5Nq7XK0raXn"
      },
      "execution_count": null,
      "outputs": []
    },
    {
      "cell_type": "code",
      "source": [
        "pd.read_excel(\"samsung_news_emotion_20180101-20220607_title.xlsx\")"
      ],
      "metadata": {
        "id": "zGCFymPCoQky"
      },
      "execution_count": null,
      "outputs": []
    },
    {
      "cell_type": "code",
      "source": [
        "sample_result.groupby(\"일자\").mean()"
      ],
      "metadata": {
        "colab": {
          "base_uri": "https://localhost:8080/",
          "height": 455
        },
        "id": "xdbh38JzjjsA",
        "outputId": "a8fd3146-23ac-47ce-c893-3a46039d4ec5"
      },
      "execution_count": null,
      "outputs": [
        {
          "output_type": "execute_result",
          "data": {
            "text/plain": [
              "          pred_label  negative   neutral  positive\n",
              "일자                                                \n",
              "20180101    1.000000  0.017331  0.973516  0.009153\n",
              "20180102    1.150000  0.058584  0.726884  0.214532\n",
              "20180103    1.209877  0.152805  0.520842  0.326353\n",
              "20180104    0.982456  0.170499  0.685041  0.144460\n",
              "20180105    1.240741  0.076499  0.616316  0.307186\n",
              "...              ...       ...       ...       ...\n",
              "20220603    1.028571  0.148613  0.676578  0.174809\n",
              "20220604    0.666667  0.486890  0.506659  0.006451\n",
              "20220605    1.000000  0.230194  0.587380  0.182426\n",
              "20220606    0.823529  0.401687  0.386237  0.212077\n",
              "20220607    0.777778  0.273484  0.652817  0.073699\n",
              "\n",
              "[1616 rows x 4 columns]"
            ],
            "text/html": [
              "\n",
              "  <div id=\"df-49ee0729-598b-41cf-a550-6c11cab140e7\">\n",
              "    <div class=\"colab-df-container\">\n",
              "      <div>\n",
              "<style scoped>\n",
              "    .dataframe tbody tr th:only-of-type {\n",
              "        vertical-align: middle;\n",
              "    }\n",
              "\n",
              "    .dataframe tbody tr th {\n",
              "        vertical-align: top;\n",
              "    }\n",
              "\n",
              "    .dataframe thead th {\n",
              "        text-align: right;\n",
              "    }\n",
              "</style>\n",
              "<table border=\"1\" class=\"dataframe\">\n",
              "  <thead>\n",
              "    <tr style=\"text-align: right;\">\n",
              "      <th></th>\n",
              "      <th>pred_label</th>\n",
              "      <th>negative</th>\n",
              "      <th>neutral</th>\n",
              "      <th>positive</th>\n",
              "    </tr>\n",
              "    <tr>\n",
              "      <th>일자</th>\n",
              "      <th></th>\n",
              "      <th></th>\n",
              "      <th></th>\n",
              "      <th></th>\n",
              "    </tr>\n",
              "  </thead>\n",
              "  <tbody>\n",
              "    <tr>\n",
              "      <th>20180101</th>\n",
              "      <td>1.000000</td>\n",
              "      <td>0.017331</td>\n",
              "      <td>0.973516</td>\n",
              "      <td>0.009153</td>\n",
              "    </tr>\n",
              "    <tr>\n",
              "      <th>20180102</th>\n",
              "      <td>1.150000</td>\n",
              "      <td>0.058584</td>\n",
              "      <td>0.726884</td>\n",
              "      <td>0.214532</td>\n",
              "    </tr>\n",
              "    <tr>\n",
              "      <th>20180103</th>\n",
              "      <td>1.209877</td>\n",
              "      <td>0.152805</td>\n",
              "      <td>0.520842</td>\n",
              "      <td>0.326353</td>\n",
              "    </tr>\n",
              "    <tr>\n",
              "      <th>20180104</th>\n",
              "      <td>0.982456</td>\n",
              "      <td>0.170499</td>\n",
              "      <td>0.685041</td>\n",
              "      <td>0.144460</td>\n",
              "    </tr>\n",
              "    <tr>\n",
              "      <th>20180105</th>\n",
              "      <td>1.240741</td>\n",
              "      <td>0.076499</td>\n",
              "      <td>0.616316</td>\n",
              "      <td>0.307186</td>\n",
              "    </tr>\n",
              "    <tr>\n",
              "      <th>...</th>\n",
              "      <td>...</td>\n",
              "      <td>...</td>\n",
              "      <td>...</td>\n",
              "      <td>...</td>\n",
              "    </tr>\n",
              "    <tr>\n",
              "      <th>20220603</th>\n",
              "      <td>1.028571</td>\n",
              "      <td>0.148613</td>\n",
              "      <td>0.676578</td>\n",
              "      <td>0.174809</td>\n",
              "    </tr>\n",
              "    <tr>\n",
              "      <th>20220604</th>\n",
              "      <td>0.666667</td>\n",
              "      <td>0.486890</td>\n",
              "      <td>0.506659</td>\n",
              "      <td>0.006451</td>\n",
              "    </tr>\n",
              "    <tr>\n",
              "      <th>20220605</th>\n",
              "      <td>1.000000</td>\n",
              "      <td>0.230194</td>\n",
              "      <td>0.587380</td>\n",
              "      <td>0.182426</td>\n",
              "    </tr>\n",
              "    <tr>\n",
              "      <th>20220606</th>\n",
              "      <td>0.823529</td>\n",
              "      <td>0.401687</td>\n",
              "      <td>0.386237</td>\n",
              "      <td>0.212077</td>\n",
              "    </tr>\n",
              "    <tr>\n",
              "      <th>20220607</th>\n",
              "      <td>0.777778</td>\n",
              "      <td>0.273484</td>\n",
              "      <td>0.652817</td>\n",
              "      <td>0.073699</td>\n",
              "    </tr>\n",
              "  </tbody>\n",
              "</table>\n",
              "<p>1616 rows × 4 columns</p>\n",
              "</div>\n",
              "      <button class=\"colab-df-convert\" onclick=\"convertToInteractive('df-49ee0729-598b-41cf-a550-6c11cab140e7')\"\n",
              "              title=\"Convert this dataframe to an interactive table.\"\n",
              "              style=\"display:none;\">\n",
              "        \n",
              "  <svg xmlns=\"http://www.w3.org/2000/svg\" height=\"24px\"viewBox=\"0 0 24 24\"\n",
              "       width=\"24px\">\n",
              "    <path d=\"M0 0h24v24H0V0z\" fill=\"none\"/>\n",
              "    <path d=\"M18.56 5.44l.94 2.06.94-2.06 2.06-.94-2.06-.94-.94-2.06-.94 2.06-2.06.94zm-11 1L8.5 8.5l.94-2.06 2.06-.94-2.06-.94L8.5 2.5l-.94 2.06-2.06.94zm10 10l.94 2.06.94-2.06 2.06-.94-2.06-.94-.94-2.06-.94 2.06-2.06.94z\"/><path d=\"M17.41 7.96l-1.37-1.37c-.4-.4-.92-.59-1.43-.59-.52 0-1.04.2-1.43.59L10.3 9.45l-7.72 7.72c-.78.78-.78 2.05 0 2.83L4 21.41c.39.39.9.59 1.41.59.51 0 1.02-.2 1.41-.59l7.78-7.78 2.81-2.81c.8-.78.8-2.07 0-2.86zM5.41 20L4 18.59l7.72-7.72 1.47 1.35L5.41 20z\"/>\n",
              "  </svg>\n",
              "      </button>\n",
              "      \n",
              "  <style>\n",
              "    .colab-df-container {\n",
              "      display:flex;\n",
              "      flex-wrap:wrap;\n",
              "      gap: 12px;\n",
              "    }\n",
              "\n",
              "    .colab-df-convert {\n",
              "      background-color: #E8F0FE;\n",
              "      border: none;\n",
              "      border-radius: 50%;\n",
              "      cursor: pointer;\n",
              "      display: none;\n",
              "      fill: #1967D2;\n",
              "      height: 32px;\n",
              "      padding: 0 0 0 0;\n",
              "      width: 32px;\n",
              "    }\n",
              "\n",
              "    .colab-df-convert:hover {\n",
              "      background-color: #E2EBFA;\n",
              "      box-shadow: 0px 1px 2px rgba(60, 64, 67, 0.3), 0px 1px 3px 1px rgba(60, 64, 67, 0.15);\n",
              "      fill: #174EA6;\n",
              "    }\n",
              "\n",
              "    [theme=dark] .colab-df-convert {\n",
              "      background-color: #3B4455;\n",
              "      fill: #D2E3FC;\n",
              "    }\n",
              "\n",
              "    [theme=dark] .colab-df-convert:hover {\n",
              "      background-color: #434B5C;\n",
              "      box-shadow: 0px 1px 3px 1px rgba(0, 0, 0, 0.15);\n",
              "      filter: drop-shadow(0px 1px 2px rgba(0, 0, 0, 0.3));\n",
              "      fill: #FFFFFF;\n",
              "    }\n",
              "  </style>\n",
              "\n",
              "      <script>\n",
              "        const buttonEl =\n",
              "          document.querySelector('#df-49ee0729-598b-41cf-a550-6c11cab140e7 button.colab-df-convert');\n",
              "        buttonEl.style.display =\n",
              "          google.colab.kernel.accessAllowed ? 'block' : 'none';\n",
              "\n",
              "        async function convertToInteractive(key) {\n",
              "          const element = document.querySelector('#df-49ee0729-598b-41cf-a550-6c11cab140e7');\n",
              "          const dataTable =\n",
              "            await google.colab.kernel.invokeFunction('convertToInteractive',\n",
              "                                                     [key], {});\n",
              "          if (!dataTable) return;\n",
              "\n",
              "          const docLinkHtml = 'Like what you see? Visit the ' +\n",
              "            '<a target=\"_blank\" href=https://colab.research.google.com/notebooks/data_table.ipynb>data table notebook</a>'\n",
              "            + ' to learn more about interactive tables.';\n",
              "          element.innerHTML = '';\n",
              "          dataTable['output_type'] = 'display_data';\n",
              "          await google.colab.output.renderOutput(dataTable, element);\n",
              "          const docLink = document.createElement('div');\n",
              "          docLink.innerHTML = docLinkHtml;\n",
              "          element.appendChild(docLink);\n",
              "        }\n",
              "      </script>\n",
              "    </div>\n",
              "  </div>\n",
              "  "
            ]
          },
          "metadata": {},
          "execution_count": 15
        }
      ]
    },
    {
      "cell_type": "code",
      "source": [
        "sample_result.groupby(\"일자\").sum()"
      ],
      "metadata": {
        "colab": {
          "base_uri": "https://localhost:8080/",
          "height": 455
        },
        "id": "C5yiA8_cn2vF",
        "outputId": "16c9b610-268f-404c-e1db-32b70d9c8ac3"
      },
      "execution_count": null,
      "outputs": [
        {
          "output_type": "execute_result",
          "data": {
            "text/plain": [
              "          pred_label   negative    neutral   positive\n",
              "일자                                                   \n",
              "20180101          18   0.311959  17.523282   0.164759\n",
              "20180102          92   4.686755  58.150689  17.162556\n",
              "20180103          98  12.377176  42.188215  26.434609\n",
              "20180104          56   9.718460  39.047334   8.234207\n",
              "20180105          67   4.130927  33.281044  16.588030\n",
              "...              ...        ...        ...        ...\n",
              "20220603          36   5.201451  23.680241   6.118307\n",
              "20220604           2   1.460670   1.519976   0.019353\n",
              "20220605          10   2.301941   5.873804   1.824255\n",
              "20220606          14   6.828674   6.566021   3.605305\n",
              "20220607          28   9.845415  23.501405   2.653180\n",
              "\n",
              "[1616 rows x 4 columns]"
            ],
            "text/html": [
              "\n",
              "  <div id=\"df-0280fad6-ff49-400b-aa38-1fba3dc76e0f\">\n",
              "    <div class=\"colab-df-container\">\n",
              "      <div>\n",
              "<style scoped>\n",
              "    .dataframe tbody tr th:only-of-type {\n",
              "        vertical-align: middle;\n",
              "    }\n",
              "\n",
              "    .dataframe tbody tr th {\n",
              "        vertical-align: top;\n",
              "    }\n",
              "\n",
              "    .dataframe thead th {\n",
              "        text-align: right;\n",
              "    }\n",
              "</style>\n",
              "<table border=\"1\" class=\"dataframe\">\n",
              "  <thead>\n",
              "    <tr style=\"text-align: right;\">\n",
              "      <th></th>\n",
              "      <th>pred_label</th>\n",
              "      <th>negative</th>\n",
              "      <th>neutral</th>\n",
              "      <th>positive</th>\n",
              "    </tr>\n",
              "    <tr>\n",
              "      <th>일자</th>\n",
              "      <th></th>\n",
              "      <th></th>\n",
              "      <th></th>\n",
              "      <th></th>\n",
              "    </tr>\n",
              "  </thead>\n",
              "  <tbody>\n",
              "    <tr>\n",
              "      <th>20180101</th>\n",
              "      <td>18</td>\n",
              "      <td>0.311959</td>\n",
              "      <td>17.523282</td>\n",
              "      <td>0.164759</td>\n",
              "    </tr>\n",
              "    <tr>\n",
              "      <th>20180102</th>\n",
              "      <td>92</td>\n",
              "      <td>4.686755</td>\n",
              "      <td>58.150689</td>\n",
              "      <td>17.162556</td>\n",
              "    </tr>\n",
              "    <tr>\n",
              "      <th>20180103</th>\n",
              "      <td>98</td>\n",
              "      <td>12.377176</td>\n",
              "      <td>42.188215</td>\n",
              "      <td>26.434609</td>\n",
              "    </tr>\n",
              "    <tr>\n",
              "      <th>20180104</th>\n",
              "      <td>56</td>\n",
              "      <td>9.718460</td>\n",
              "      <td>39.047334</td>\n",
              "      <td>8.234207</td>\n",
              "    </tr>\n",
              "    <tr>\n",
              "      <th>20180105</th>\n",
              "      <td>67</td>\n",
              "      <td>4.130927</td>\n",
              "      <td>33.281044</td>\n",
              "      <td>16.588030</td>\n",
              "    </tr>\n",
              "    <tr>\n",
              "      <th>...</th>\n",
              "      <td>...</td>\n",
              "      <td>...</td>\n",
              "      <td>...</td>\n",
              "      <td>...</td>\n",
              "    </tr>\n",
              "    <tr>\n",
              "      <th>20220603</th>\n",
              "      <td>36</td>\n",
              "      <td>5.201451</td>\n",
              "      <td>23.680241</td>\n",
              "      <td>6.118307</td>\n",
              "    </tr>\n",
              "    <tr>\n",
              "      <th>20220604</th>\n",
              "      <td>2</td>\n",
              "      <td>1.460670</td>\n",
              "      <td>1.519976</td>\n",
              "      <td>0.019353</td>\n",
              "    </tr>\n",
              "    <tr>\n",
              "      <th>20220605</th>\n",
              "      <td>10</td>\n",
              "      <td>2.301941</td>\n",
              "      <td>5.873804</td>\n",
              "      <td>1.824255</td>\n",
              "    </tr>\n",
              "    <tr>\n",
              "      <th>20220606</th>\n",
              "      <td>14</td>\n",
              "      <td>6.828674</td>\n",
              "      <td>6.566021</td>\n",
              "      <td>3.605305</td>\n",
              "    </tr>\n",
              "    <tr>\n",
              "      <th>20220607</th>\n",
              "      <td>28</td>\n",
              "      <td>9.845415</td>\n",
              "      <td>23.501405</td>\n",
              "      <td>2.653180</td>\n",
              "    </tr>\n",
              "  </tbody>\n",
              "</table>\n",
              "<p>1616 rows × 4 columns</p>\n",
              "</div>\n",
              "      <button class=\"colab-df-convert\" onclick=\"convertToInteractive('df-0280fad6-ff49-400b-aa38-1fba3dc76e0f')\"\n",
              "              title=\"Convert this dataframe to an interactive table.\"\n",
              "              style=\"display:none;\">\n",
              "        \n",
              "  <svg xmlns=\"http://www.w3.org/2000/svg\" height=\"24px\"viewBox=\"0 0 24 24\"\n",
              "       width=\"24px\">\n",
              "    <path d=\"M0 0h24v24H0V0z\" fill=\"none\"/>\n",
              "    <path d=\"M18.56 5.44l.94 2.06.94-2.06 2.06-.94-2.06-.94-.94-2.06-.94 2.06-2.06.94zm-11 1L8.5 8.5l.94-2.06 2.06-.94-2.06-.94L8.5 2.5l-.94 2.06-2.06.94zm10 10l.94 2.06.94-2.06 2.06-.94-2.06-.94-.94-2.06-.94 2.06-2.06.94z\"/><path d=\"M17.41 7.96l-1.37-1.37c-.4-.4-.92-.59-1.43-.59-.52 0-1.04.2-1.43.59L10.3 9.45l-7.72 7.72c-.78.78-.78 2.05 0 2.83L4 21.41c.39.39.9.59 1.41.59.51 0 1.02-.2 1.41-.59l7.78-7.78 2.81-2.81c.8-.78.8-2.07 0-2.86zM5.41 20L4 18.59l7.72-7.72 1.47 1.35L5.41 20z\"/>\n",
              "  </svg>\n",
              "      </button>\n",
              "      \n",
              "  <style>\n",
              "    .colab-df-container {\n",
              "      display:flex;\n",
              "      flex-wrap:wrap;\n",
              "      gap: 12px;\n",
              "    }\n",
              "\n",
              "    .colab-df-convert {\n",
              "      background-color: #E8F0FE;\n",
              "      border: none;\n",
              "      border-radius: 50%;\n",
              "      cursor: pointer;\n",
              "      display: none;\n",
              "      fill: #1967D2;\n",
              "      height: 32px;\n",
              "      padding: 0 0 0 0;\n",
              "      width: 32px;\n",
              "    }\n",
              "\n",
              "    .colab-df-convert:hover {\n",
              "      background-color: #E2EBFA;\n",
              "      box-shadow: 0px 1px 2px rgba(60, 64, 67, 0.3), 0px 1px 3px 1px rgba(60, 64, 67, 0.15);\n",
              "      fill: #174EA6;\n",
              "    }\n",
              "\n",
              "    [theme=dark] .colab-df-convert {\n",
              "      background-color: #3B4455;\n",
              "      fill: #D2E3FC;\n",
              "    }\n",
              "\n",
              "    [theme=dark] .colab-df-convert:hover {\n",
              "      background-color: #434B5C;\n",
              "      box-shadow: 0px 1px 3px 1px rgba(0, 0, 0, 0.15);\n",
              "      filter: drop-shadow(0px 1px 2px rgba(0, 0, 0, 0.3));\n",
              "      fill: #FFFFFF;\n",
              "    }\n",
              "  </style>\n",
              "\n",
              "      <script>\n",
              "        const buttonEl =\n",
              "          document.querySelector('#df-0280fad6-ff49-400b-aa38-1fba3dc76e0f button.colab-df-convert');\n",
              "        buttonEl.style.display =\n",
              "          google.colab.kernel.accessAllowed ? 'block' : 'none';\n",
              "\n",
              "        async function convertToInteractive(key) {\n",
              "          const element = document.querySelector('#df-0280fad6-ff49-400b-aa38-1fba3dc76e0f');\n",
              "          const dataTable =\n",
              "            await google.colab.kernel.invokeFunction('convertToInteractive',\n",
              "                                                     [key], {});\n",
              "          if (!dataTable) return;\n",
              "\n",
              "          const docLinkHtml = 'Like what you see? Visit the ' +\n",
              "            '<a target=\"_blank\" href=https://colab.research.google.com/notebooks/data_table.ipynb>data table notebook</a>'\n",
              "            + ' to learn more about interactive tables.';\n",
              "          element.innerHTML = '';\n",
              "          dataTable['output_type'] = 'display_data';\n",
              "          await google.colab.output.renderOutput(dataTable, element);\n",
              "          const docLink = document.createElement('div');\n",
              "          docLink.innerHTML = docLinkHtml;\n",
              "          element.appendChild(docLink);\n",
              "        }\n",
              "      </script>\n",
              "    </div>\n",
              "  </div>\n",
              "  "
            ]
          },
          "metadata": {},
          "execution_count": 20
        }
      ]
    }
  ]
}