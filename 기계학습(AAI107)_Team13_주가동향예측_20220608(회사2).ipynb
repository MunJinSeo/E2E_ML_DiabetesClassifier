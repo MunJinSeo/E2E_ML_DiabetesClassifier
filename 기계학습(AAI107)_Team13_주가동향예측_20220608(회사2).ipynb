{
  "nbformat": 4,
  "nbformat_minor": 0,
  "metadata": {
    "colab": {
      "name": "기계학습(AAI107)_Team13_주가동향예측_20220608(회사2).ipynb",
      "provenance": [],
      "collapsed_sections": [],
      "toc_visible": true,
      "include_colab_link": true
    },
    "kernelspec": {
      "name": "python3",
      "display_name": "Python 3"
    },
    "language_info": {
      "name": "python"
    }
  },
  "cells": [
    {
      "cell_type": "markdown",
      "metadata": {
        "id": "view-in-github",
        "colab_type": "text"
      },
      "source": [
        "<a href=\"https://colab.research.google.com/github/MunJinSeo/MachineLearning/blob/main/%EA%B8%B0%EA%B3%84%ED%95%99%EC%8A%B5(AAI107)_Team13_%EC%A3%BC%EA%B0%80%EB%8F%99%ED%96%A5%EC%98%88%EC%B8%A1_20220608(%ED%9A%8C%EC%82%AC2).ipynb\" target=\"_parent\"><img src=\"https://colab.research.google.com/assets/colab-badge.svg\" alt=\"Open In Colab\"/></a>"
      ]
    },
    {
      "cell_type": "markdown",
      "source": [
        "# 기계학습(AAI107)_Team13 (서문진, 서혜인, 이정은) 주가 동향 예측\n",
        "\n",
        "## * 주가 이력 및 매매 정보 데이터와 금융 뉴스 감정 분석을 통한 \"삼성전자\" 주가 동향 예측\n",
        "\n"
      ],
      "metadata": {
        "id": "axUU6-0e9OAH"
      }
    },
    {
      "cell_type": "markdown",
      "source": [
        "## 1) 배경 및 목적\n",
        "\n",
        "- 주식가격 예측은 시계열에 유리한 LSTM/RNN등 모델을 사용하여 예측하는 경우가 많고 예측 정확도 50~60%를 넘기기 쉽지 않다고 한다.\n",
        "또한 최근 강화학습을 사용하여 정확도를 높인 사례나 논문도 있으나 이 역시 만족할만한 수준은 아니고, 우리의 학습 범위를 벗어난다.\n",
        "\n",
        "- 주식은 외부 변수가 너무 많고, 국가간의 영향과 현재 경제상황에도 영향을 받는 경우가 많다. \n",
        "또한 주식매매에 참여한 수많은 참가자들의 심리와 복잡한 상호작용을 모델링하여 주식 가격을 예측하는 것은 아직 불가능에 가깝다고 보여진다.\n",
        "\n",
        "- 특정 주식의 과거 패턴을 학습했더라도 오늘자 주식은 그 패턴을 따르지 않는 경우가 많고, 과거 패턴보다는 어제,오늘 외부 환경에 따라 영향을 많이 받는다. 그리고, 특정 종목 패턴을 학습하더라도 타 종목에 적용하기도 어렵울것으로 보인다.\n",
        "\n",
        "- **따라서 우리는 주식 가격에 영향을 주는 외부 요인이 어떤것이 있는지 찾아보고, 연관관계가 높은 데이터를 활용하여 내일의 주식가격 상승/보합/하강 을 판단하는 multiclass classification 과제로 접근 해보고자 한다.** \n",
        "\n",
        "- 향후 주식을 매매(buy,sell) 시기를 판단하도록 도와주는 자동 매매 예측기 기반을 마련해보고자 한다."
      ],
      "metadata": {
        "id": "sGOcJMXP61xW"
      }
    },
    {
      "cell_type": "markdown",
      "source": [
        "## 2) 주가에 영향 있어 보이는 외부 데이터 대상 후보\n",
        "\n",
        "- 원달라 환율, 미국 국채금리, 미국 장단기 금리차\n",
        "- 전날 미국 나스닥지수, 뉴욕지수 동향\n",
        "- 종목 수익률 --제외(주가와 동일패턴)\n",
        "- 전일 거래 동향 및 거래량\n",
        "- 기관매매동향 , 외국인매매동향\n",
        "- 공매도 동향\n",
        "- 뉴스(금융/경제/주식) 감성 분석\n",
        "- SNS 주식 감성분석 -- 제외(비효율적이며, 데이터 불리)\n",
        "- 증시자금동향(고객,신용,혼합,채권) -- 제외(거래 동향으로 대체)"
      ],
      "metadata": {
        "id": "i1I5PB6cJxNr"
      }
    }
  ]
}