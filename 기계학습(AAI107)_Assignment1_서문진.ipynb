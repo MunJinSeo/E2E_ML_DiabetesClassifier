{
  "nbformat": 4,
  "nbformat_minor": 0,
  "metadata": {
    "colab": {
      "name": "기계학습(AAI107)_Assignment1_서문진.ipynb",
      "provenance": [],
      "collapsed_sections": [],
      "toc_visible": true,
      "include_colab_link": true
    },
    "kernelspec": {
      "name": "python3",
      "display_name": "Python 3"
    },
    "language_info": {
      "name": "python"
    }
  },
  "cells": [
    {
      "cell_type": "markdown",
      "metadata": {
        "id": "view-in-github",
        "colab_type": "text"
      },
      "source": [
        "<a href=\"https://colab.research.google.com/github/MunJinSeo/E2E_ML_DiabetesClassifier/blob/main/%EA%B8%B0%EA%B3%84%ED%95%99%EC%8A%B5(AAI107)_Assignment1_%EC%84%9C%EB%AC%B8%EC%A7%84.ipynb\" target=\"_parent\"><img src=\"https://colab.research.google.com/assets/colab-badge.svg\" alt=\"Open In Colab\"/></a>"
      ]
    },
    {
      "cell_type": "markdown",
      "source": [
        "### IMPORTANT\n",
        "\n",
        "Student Name (ENG): MunJin, Seo\n",
        "\n",
        "Student Name (KOR):서문진\n",
        "\n",
        "Student Department (ENG): Big Data Convergence Department\n",
        "\n",
        "Student ID: 2020511021\n",
        "\n",
        "Consent that you will not plagiarise (yes/no): yes"
      ],
      "metadata": {
        "id": "S1TBn_p1HLvl"
      }
    },
    {
      "cell_type": "code",
      "source": [
        "import numpy as np\n",
        "np.random.seed(20220324)\n",
        "\n",
        "import os\n",
        "\n",
        "import hashlib\n",
        "import urllib.request\n",
        "\n",
        "import pandas as pd\n",
        "\n",
        "#### Include any librarys you need to import here ###\n",
        "# Scikit-Learn ≥0.20 is required --강의 교재 참고하여 추가함\n",
        "import sklearn\n",
        "assert sklearn.__version__ >= \"0.20\"\n",
        "\n",
        "# To plot pretty figures --강의 교재 참고하여 추가함\n",
        "# 실행한 브라우저에서 바로 그림을 볼 수 있게 해줌\n",
        "%matplotlib inline\n",
        "import matplotlib as mpl #그래프를 그리기 위한 Library\n",
        "import matplotlib.pyplot as plt #그래프를 그리기 위한 Library\n",
        "mpl.rc('axes', labelsize=14)\n",
        "mpl.rc('xtick', labelsize=12)\n",
        "mpl.rc('ytick', labelsize=12)\n",
        "\n",
        "#### Include any librarys you need to import here ###"
      ],
      "metadata": {
        "id": "wtQQsnW5676z"
      },
      "execution_count": 2,
      "outputs": []
    },
    {
      "cell_type": "markdown",
      "source": [
        "# Prepare the Dataset\n",
        "\n",
        "We will be using a publicly open diabetes dataset.\n",
        "\n",
        "We thank BRFSS 2015 organizers for preparing the dataset and Alex Teboul for cleaning it.\n",
        "\n",
        "Please refer to this [link](https://www.kaggle.com/datasets/alexteboul/diabetes-health-indicators-dataset) for more information on the dataset (e.g., descriptions of each column)."
      ],
      "metadata": {
        "id": "qVvKL0sp6bch"
      }
    },
    {
      "cell_type": "code",
      "source": [
        "## DO NOT EDIT THIS CODE ###\n",
        "DATA_URL = 'https://raw.githubusercontent.com/wltjr1007/wltjr1007.github.io/master/class_datasets/diabetes.csv'\n",
        "DATA_MD5 = '0c84b09d240b72e8180bceff3965d1bd'\n",
        "DATA_PATH = '/content/diabetes.csv'\n",
        "def fetch_diabetes_data():\n",
        "    def download_data_from_url():\n",
        "        urllib.request.urlretrieve(DATA_URL, DATA_PATH)\n",
        "    \n",
        "    def check_data_consistency():\n",
        "        with open(\"diabetes.csv\", \"rb\") as f:\n",
        "            data = f.read()\n",
        "        assert hashlib.md5(data).hexdigest()==DATA_MD5, \"Data is not correct. Reset Colab using Ctrl+F12 and rerun this code.\"\n",
        "\n",
        "    if not os.path.exists(DATA_PATH):\n",
        "        download_data_from_url()\n",
        "    check_data_consistency()\n",
        "    print(\"Data is fetched!\")\n",
        "\n",
        "fetch_diabetes_data()\n",
        "\n",
        "all_data = pd.read_csv(DATA_PATH)\n",
        "all_data_size = len(all_data)\n",
        "\n",
        "missing_data = all_data.to_numpy().copy()\n",
        "\n",
        "for i in np.random.choice(all_data_size, 1000):\n",
        "    j = np.random.randint(0,22)\n",
        "    missing_data[i,j] = np.nan\n",
        "\n",
        "## DO NOT EDIT THIS CODE ###"
      ],
      "metadata": {
        "id": "HyaSE0r76K3W",
        "colab": {
          "base_uri": "https://localhost:8080/"
        },
        "outputId": "a5707591-376c-4727-9246-9e1c2087d6f1"
      },
      "execution_count": 3,
      "outputs": [
        {
          "output_type": "stream",
          "name": "stdout",
          "text": [
            "Data is fetched!\n"
          ]
        }
      ]
    },
    {
      "cell_type": "markdown",
      "source": [
        "### Task 1: Draw the histogram of \"BMI\" feature (1pts)."
      ],
      "metadata": {
        "id": "FyGt03ZGLgu6"
      }
    },
    {
      "cell_type": "code",
      "source": [
        "# Your Code Starts Here\n",
        "\n",
        "#print( all_data.info() ) #데이터 컬럼별 건수, type등 표시\n",
        "#print( all_data.head() ) #데이터 앞쪽 5개 row 데이터 표시\n",
        "#print( all_data.describe() ) #데이터 count, mean, std, min, 25%,50%,75%, max 값 표시\n",
        "#print( all_data[\"BMI\"].value_counts() )\n",
        "#print( all_data[\"BMI\"].describe() ) #BMI 데이터 count, mean, std, min, 25%,50%,75%, max 값 표시\n",
        "all_data[\"BMI\"].hist(bins=50, figsize=(8,6)) # bins는 막대 구간 수량 (막대의 영역을 얼마나 채울지 결정됨), figsize는 가로,세로 크기 지정\n",
        "all_data.hist(bins=50, figsize=(20,15)) # 전체 feature 에 대해 histogram 표시 - bins값, figsize값은 교재 참고함\n",
        "plt.show()\n",
        "\n",
        "# Your Code Ends Here"
      ],
      "metadata": {
        "id": "PlukXyAZJ_rH",
        "colab": {
          "base_uri": "https://localhost:8080/",
          "height": 1000
        },
        "outputId": "bf122fcb-8c42-40d9-d30d-df31ff56c328"
      },
      "execution_count": null,
      "outputs": [
        {
          "output_type": "display_data",
          "data": {
            "text/plain": [
              "<Figure size 576x432 with 1 Axes>"
            ],
            "image/png": "[encoded data removed]"
          },
          "metadata": {
            "needs_background": "light"
          }
        },
        {
          "output_type": "display_data",
          "data": {
            "text/plain": [
              "<Figure size 1440x1080 with 25 Axes>"
            ],
            "image/png": "[encoded data removed]"
          },
          "metadata": {
            "needs_background": "light"
          }
        }
      ]
    },
    {
      "cell_type": "markdown",
      "source": [
        "### Task 2: Missing data imputation (4pts)\n",
        "\n",
        "1. impute_data_zero: Replace NaN values of \"missing_data\" into 0 (1 pts).\n",
        "2. imput_data_mean : Replace NaN values of \"missing_data\" into feature-wise mean of \"impute_data_zero\" (3pts)."
      ],
      "metadata": {
        "id": "iVcpyQerSn3N"
      }
    },
    {
      "cell_type": "code",
      "source": [
        "# Your Code Starts Here"
      ],
      "metadata": {
        "id": "WVwPHuyBOypp"
      },
      "execution_count": null,
      "outputs": []
    },
    {
      "cell_type": "code",
      "source": [
        "# 1. impute_data_zero: Replace NaN values of \"missing_data\" into 0 \n",
        "\n",
        "print(\"'missing_data' contain NaN values ?\",np.any(np.isnan(missing_data) ) ) # NaN 값 있는지 확인\n",
        "missing_data_df1 = pd.DataFrame(missing_data).copy() # num array를 DataFrame으로 변환 -> fillna() 를 사용하여 0 으로 치환하기 위함\n",
        "\n",
        "print(missing_data_df1.info()) #데이터 컬럼별 count, type등 표시\n",
        "#print(missing_data_df1.head()) #데이터 앞쪽 5개 row 데이터 표시\n",
        "#print(missing_data_df1.describe()) #데이터 count, mean, std, min, 25%,50%,75%, max 값 표시\n",
        "print(\"'missing_data_df1' contain NaN values ?\",np.any(np.isnan(missing_data_df1) ) ) # NaN값 있는지 확인\n",
        "print(\"-----------------------------------------------\")\n",
        "\n",
        "# DataFrame 의 fillna() 활용하여 NaN값을 0으로 변환\n",
        "missing_data_df1.fillna(0,inplace=True) # NaN값을 0 으로 채움\n",
        "impute_data_zero = missing_data_df1.copy()\n",
        "print(impute_data_zero.info()) #데이터 컬럼별 건수, type등 표시\n",
        "print(\"'impute_data_zero' contain NaN values ?\",np.any(np.isnan(impute_data_zero) ) ) # NaN값 있는지 다시 확인\n",
        "print(\"-----------------------------------------------\")"
      ],
      "metadata": {
        "colab": {
          "base_uri": "https://localhost:8080/"
        },
        "id": "tb_xc6M3KPYc",
        "outputId": "655b5209-f166-4a02-ed7b-706f201acb05"
      },
      "execution_count": 4,
      "outputs": [
        {
          "output_type": "stream",
          "name": "stdout",
          "text": [
            "'missing_data' contain NaN values ? True\n",
            "<class 'pandas.core.frame.DataFrame'>\n",
            "RangeIndex: 253680 entries, 0 to 253679\n",
            "Data columns (total 22 columns):\n",
            " #   Column  Non-Null Count   Dtype  \n",
            "---  ------  --------------   -----  \n",
            " 0   0       253637 non-null  float64\n",
            " 1   1       253636 non-null  float64\n",
            " 2   2       253637 non-null  float64\n",
            " 3   3       253621 non-null  float64\n",
            " 4   4       253635 non-null  float64\n",
            " 5   5       253641 non-null  float64\n",
            " 6   6       253634 non-null  float64\n",
            " 7   7       253624 non-null  float64\n",
            " 8   8       253634 non-null  float64\n",
            " 9   9       253630 non-null  float64\n",
            " 10  10      253634 non-null  float64\n",
            " 11  11      253647 non-null  float64\n",
            " 12  12      253643 non-null  float64\n",
            " 13  13      253638 non-null  float64\n",
            " 14  14      253632 non-null  float64\n",
            " 15  15      253646 non-null  float64\n",
            " 16  16      253623 non-null  float64\n",
            " 17  17      253648 non-null  float64\n",
            " 18  18      253630 non-null  float64\n",
            " 19  19      253632 non-null  float64\n",
            " 20  20      253628 non-null  float64\n",
            " 21  21      253630 non-null  float64\n",
            "dtypes: float64(22)\n",
            "memory usage: 42.6 MB\n",
            "None\n",
            "'missing_data_df1' contain NaN values ? True\n",
            "-----------------------------------------------\n",
            "<class 'pandas.core.frame.DataFrame'>\n",
            "RangeIndex: 253680 entries, 0 to 253679\n",
            "Data columns (total 22 columns):\n",
            " #   Column  Non-Null Count   Dtype  \n",
            "---  ------  --------------   -----  \n",
            " 0   0       253680 non-null  float64\n",
            " 1   1       253680 non-null  float64\n",
            " 2   2       253680 non-null  float64\n",
            " 3   3       253680 non-null  float64\n",
            " 4   4       253680 non-null  float64\n",
            " 5   5       253680 non-null  float64\n",
            " 6   6       253680 non-null  float64\n",
            " 7   7       253680 non-null  float64\n",
            " 8   8       253680 non-null  float64\n",
            " 9   9       253680 non-null  float64\n",
            " 10  10      253680 non-null  float64\n",
            " 11  11      253680 non-null  float64\n",
            " 12  12      253680 non-null  float64\n",
            " 13  13      253680 non-null  float64\n",
            " 14  14      253680 non-null  float64\n",
            " 15  15      253680 non-null  float64\n",
            " 16  16      253680 non-null  float64\n",
            " 17  17      253680 non-null  float64\n",
            " 18  18      253680 non-null  float64\n",
            " 19  19      253680 non-null  float64\n",
            " 20  20      253680 non-null  float64\n",
            " 21  21      253680 non-null  float64\n",
            "dtypes: float64(22)\n",
            "memory usage: 42.6 MB\n",
            "None\n",
            "'impute_data_zero' contain NaN values ? False\n",
            "-----------------------------------------------\n"
          ]
        }
      ]
    },
    {
      "cell_type": "code",
      "source": [
        "# 2. imput_data_mean : Replace NaN values of \"missing_data\" into feature-wise mean of \"impute_data_zero\"\n",
        "\n",
        "# impute_data_mean 처리 방법1 : DataFrame fillna() 활용\n",
        "missing_data_df2 = pd.DataFrame(missing_data).copy()\n",
        "#print( missing_data_df2.info() ) #데이터 컬럼별 건수, type등 표시\n",
        "#print( missing_data_df2.head() ) #데이터 앞쪽 5개 row 데이터 표시\n",
        "#print( missing_data_df2.describe() ) #데이터 count, mean, std, min, 25%,50%,75%, max 값 표시\n",
        "#print(missing_data_df2)\n",
        "print(\"'missing_data_df2' contain NaN values ?\",np.any(np.isnan(missing_data_df2) ) ) # NaN값 있는지 확인\n",
        "print(\"-----------------------------------------------\")\n",
        "\n",
        "missing_data_df2.fillna( impute_data_zero.mean() ,inplace=True) # NaN값을 열의 평균(mean)값으로 채움\n",
        "impute_data_mean = missing_data_df2.copy()\n",
        "\n",
        "#print( imput_data_mean.info() ) #데이터 컬럼별 건수, type등 표시\n",
        "print( impute_data_mean.describe() ) #데이터 count, mean, std, min, 25%,50%,75%, max 값 표시\n",
        "print(\"'impute_data_mean' contain NaN values ?\",np.any(np.isnan(impute_data_mean) ) ) # NaN값 있는지 다시 확인\n",
        "print(\"-----------------------------------------------\")"
      ],
      "metadata": {
        "colab": {
          "base_uri": "https://localhost:8080/"
        },
        "id": "UQ9PmicsHDLE",
        "outputId": "1d03cd5c-8f7b-4f24-b4e1-4f581c3a7b99"
      },
      "execution_count": 5,
      "outputs": [
        {
          "output_type": "stream",
          "name": "stdout",
          "text": [
            "'missing_data_df2' contain NaN values ? True\n",
            "-----------------------------------------------\n",
            "                  0              1              2              3   \\\n",
            "count  253680.000000  253680.000000  253680.000000  253680.000000   \n",
            "mean        0.296897       0.428997       0.424114       0.962665   \n",
            "std         0.698076       0.494891       0.494167       0.189560   \n",
            "min         0.000000       0.000000       0.000000       0.000000   \n",
            "25%         0.000000       0.000000       0.000000       1.000000   \n",
            "50%         0.000000       0.000000       0.000000       1.000000   \n",
            "75%         0.000000       1.000000       1.000000       1.000000   \n",
            "max         2.000000       1.000000       1.000000       1.000000   \n",
            "\n",
            "                  4              5              6              7   \\\n",
            "count  253680.000000  253680.000000  253680.000000  253680.000000   \n",
            "mean       28.382561       0.443154       0.040574       0.094187   \n",
            "std         6.608252       0.496721       0.197284       0.292057   \n",
            "min        12.000000       0.000000       0.000000       0.000000   \n",
            "25%        24.000000       0.000000       0.000000       0.000000   \n",
            "50%        27.000000       0.000000       0.000000       0.000000   \n",
            "75%        31.000000       1.000000       0.000000       0.000000   \n",
            "max        98.000000       1.000000       1.000000       1.000000   \n",
            "\n",
            "                  8              9   ...             12             13  \\\n",
            "count  253680.000000  253680.000000  ...  253680.000000  253680.000000   \n",
            "mean        0.756539       0.634247  ...       0.951045       0.084183   \n",
            "std         0.429133       0.481594  ...       0.215758       0.277640   \n",
            "min         0.000000       0.000000  ...       0.000000       0.000000   \n",
            "25%         1.000000       0.000000  ...       1.000000       0.000000   \n",
            "50%         1.000000       1.000000  ...       1.000000       0.000000   \n",
            "75%         1.000000       1.000000  ...       1.000000       0.000000   \n",
            "max         1.000000       1.000000  ...       1.000000       1.000000   \n",
            "\n",
            "                  14             15             16             17  \\\n",
            "count  253680.000000  253680.000000  253680.000000  253680.000000   \n",
            "mean        2.511351       3.184974       4.242482       0.168221   \n",
            "std         1.068356       7.412668       8.717328       0.374040   \n",
            "min         1.000000       0.000000       0.000000       0.000000   \n",
            "25%         2.000000       0.000000       0.000000       0.000000   \n",
            "50%         2.000000       0.000000       0.000000       0.000000   \n",
            "75%         3.000000       2.000000       3.000000       0.000000   \n",
            "max         5.000000      30.000000      30.000000       1.000000   \n",
            "\n",
            "                  18             19             20             21  \n",
            "count  253680.000000  253680.000000  253680.000000  253680.000000  \n",
            "mean        0.440378       8.032062       5.050467       6.053921  \n",
            "std         0.496385       3.053949       0.985673       2.070923  \n",
            "min         0.000000       1.000000       1.000000       1.000000  \n",
            "25%         0.000000       6.000000       4.000000       5.000000  \n",
            "50%         0.000000       8.000000       5.000000       7.000000  \n",
            "75%         1.000000      10.000000       6.000000       8.000000  \n",
            "max         1.000000      13.000000       6.000000       8.000000  \n",
            "\n",
            "[8 rows x 22 columns]\n",
            "'impute_data_mean' contain NaN values ? False\n",
            "-----------------------------------------------\n"
          ]
        }
      ]
    },
    {
      "cell_type": "code",
      "source": [
        "# 2. imput_data_mean : Replace NaN values of \"missing_data\" into feature-wise mean of \"impute_data_zero\"\n",
        "\n",
        "# impute_data_mean 처리 방법2 : SimpleImputer 활용 (강의 교재 참조)\n",
        "from sklearn.impute import SimpleImputer # library  import\n",
        "imputer = SimpleImputer(strategy=\"mean\") # 정책 평균 mean 셋팅,  중간값은 median 셋팅\n",
        "imputer.fit(impute_data_zero) # fit the imputer, 데이터 impute_data_zero 를 사용\n",
        "print( imputer.statistics_ ) # 정책에 대한 결과 저장값 출력\n",
        "print(\"-----------------------------------------------\")\n",
        "missing_data_df3 = pd.DataFrame(missing_data).copy() # NaN 값이 있는 missing_data를 복사하여 사용\n",
        "xx = imputer.transform(missing_data_df3) # 데이터의 NaN값을 치환, num arrary 리턴\n",
        "impute_data_mean2 = pd.DataFrame(xx) # num arrary -> DataFrame로 변환\n",
        "\n",
        "print( impute_data_mean2.describe() ) #데이터 count, mean, std, min, 25%,50%,75%, max 값 표시\n",
        "print(\"'impute_data_mean2' contain NaN values ?\",np.any(np.isnan(impute_data_mean2) ) ) # NaN값 있는지 다시 확인\n",
        "print(\"-----------------------------------------------\")"
      ],
      "metadata": {
        "colab": {
          "base_uri": "https://localhost:8080/"
        },
        "id": "d-_JhGcXZ7JP",
        "outputId": "5e6c39c7-0768-4483-84d7-4466b857b975"
      },
      "execution_count": 6,
      "outputs": [
        {
          "output_type": "stream",
          "name": "stdout",
          "text": [
            "[ 0.29684642  0.42892226  0.4240421   0.96244087 28.37752681  0.44308578\n",
            "  0.04056686  0.09416588  0.75640177  0.63412173  0.81126616  0.05619284\n",
            "  0.95090665  0.08416903  2.51087591  3.18454746  4.2415287   0.16820009\n",
            "  0.44029092  8.03054242  5.04943236  6.05272785]\n",
            "-----------------------------------------------\n",
            "                  0              1              2              3   \\\n",
            "count  253680.000000  253680.000000  253680.000000  253680.000000   \n",
            "mean        0.296897       0.428997       0.424114       0.962665   \n",
            "std         0.698076       0.494891       0.494167       0.189560   \n",
            "min         0.000000       0.000000       0.000000       0.000000   \n",
            "25%         0.000000       0.000000       0.000000       1.000000   \n",
            "50%         0.000000       0.000000       0.000000       1.000000   \n",
            "75%         0.000000       1.000000       1.000000       1.000000   \n",
            "max         2.000000       1.000000       1.000000       1.000000   \n",
            "\n",
            "                  4              5              6              7   \\\n",
            "count  253680.000000  253680.000000  253680.000000  253680.000000   \n",
            "mean       28.382561       0.443154       0.040574       0.094187   \n",
            "std         6.608252       0.496721       0.197284       0.292057   \n",
            "min        12.000000       0.000000       0.000000       0.000000   \n",
            "25%        24.000000       0.000000       0.000000       0.000000   \n",
            "50%        27.000000       0.000000       0.000000       0.000000   \n",
            "75%        31.000000       1.000000       0.000000       0.000000   \n",
            "max        98.000000       1.000000       1.000000       1.000000   \n",
            "\n",
            "                  8              9   ...             12             13  \\\n",
            "count  253680.000000  253680.000000  ...  253680.000000  253680.000000   \n",
            "mean        0.756539       0.634247  ...       0.951045       0.084183   \n",
            "std         0.429133       0.481594  ...       0.215758       0.277640   \n",
            "min         0.000000       0.000000  ...       0.000000       0.000000   \n",
            "25%         1.000000       0.000000  ...       1.000000       0.000000   \n",
            "50%         1.000000       1.000000  ...       1.000000       0.000000   \n",
            "75%         1.000000       1.000000  ...       1.000000       0.000000   \n",
            "max         1.000000       1.000000  ...       1.000000       1.000000   \n",
            "\n",
            "                  14             15             16             17  \\\n",
            "count  253680.000000  253680.000000  253680.000000  253680.000000   \n",
            "mean        2.511351       3.184974       4.242482       0.168221   \n",
            "std         1.068356       7.412668       8.717328       0.374040   \n",
            "min         1.000000       0.000000       0.000000       0.000000   \n",
            "25%         2.000000       0.000000       0.000000       0.000000   \n",
            "50%         2.000000       0.000000       0.000000       0.000000   \n",
            "75%         3.000000       2.000000       3.000000       0.000000   \n",
            "max         5.000000      30.000000      30.000000       1.000000   \n",
            "\n",
            "                  18             19             20             21  \n",
            "count  253680.000000  253680.000000  253680.000000  253680.000000  \n",
            "mean        0.440378       8.032062       5.050467       6.053921  \n",
            "std         0.496385       3.053949       0.985673       2.070923  \n",
            "min         0.000000       1.000000       1.000000       1.000000  \n",
            "25%         0.000000       6.000000       4.000000       5.000000  \n",
            "50%         0.000000       8.000000       5.000000       7.000000  \n",
            "75%         1.000000      10.000000       6.000000       8.000000  \n",
            "max         1.000000      13.000000       6.000000       8.000000  \n",
            "\n",
            "[8 rows x 22 columns]\n",
            "'impute_data_mean2' contain NaN values ? False\n",
            "-----------------------------------------------\n"
          ]
        }
      ]
    },
    {
      "cell_type": "code",
      "source": [
        "# Your Code Ends Here\n",
        "\n",
        "## DO NOT EDIT THIS CODE ###\n",
        "print(\"impute_data_zero nan values?:\", np.any(np.isnan(impute_data_zero)))\n",
        "print(\"impute_data_mean nan values?:\", np.any(np.isnan(impute_data_mean)))\n",
        "## DO NOT EDIT THIS CODE ###"
      ],
      "metadata": {
        "id": "3JDwg8wWSyyI",
        "colab": {
          "base_uri": "https://localhost:8080/"
        },
        "outputId": "757d9c83-e4c1-429e-f7b9-a9686ce3e4ef"
      },
      "execution_count": 7,
      "outputs": [
        {
          "output_type": "stream",
          "name": "stdout",
          "text": [
            "impute_data_zero nan values?: False\n",
            "impute_data_mean nan values?: False\n"
          ]
        }
      ]
    },
    {
      "cell_type": "markdown",
      "source": [
        "### Task 3: Split \"all_data\" into three sets: train_data, valid_data, test_data (4pts).\n",
        "\n",
        "Specification:\n",
        "\n",
        "1. Test size should be 20% of all samples (1pts).\n",
        "1. Validation size should be 2,944 samples (1pts).\n",
        "1. The rest of the samples should belong to the train dataset (1pts).\n",
        "1. Create train_label, valid_label, test_label from \"Diabetes_012\" feature (0.5pts).\n",
        "1. Drop \"Diabetes_012\" feature from each data set (0.5pts).\n"
      ],
      "metadata": {
        "id": "HHH08dbrMosR"
      }
    },
    {
      "cell_type": "code",
      "source": [
        "# Your Code Starts Here"
      ],
      "metadata": {
        "id": "-ND49wuvpQOt"
      },
      "execution_count": null,
      "outputs": []
    },
    {
      "cell_type": "code",
      "source": [
        "# 1.Test size should be 20% of all samples\n",
        "\n",
        "from sklearn.model_selection import train_test_split # sklearn에서 제공하는 데이터 분리 모듈 사용\n",
        "train_valid_tmp, test_data = train_test_split(all_data, test_size=0.2, random_state=42) # test_size는 비율 또는 정수값, random_state값은 random seed 생성시 항상 동일한 shuffle index 허용\n",
        "#print( train_valid_tmp.info() ) #데이터 컬럼별 건수, type등 표시\n",
        "#print( train_valid_tmp.head() ) #데이터 앞쪽 5개 row 데이터 표시\n",
        "#print( train_valid_tmp.describe() ) #데이터 count, mean, std, min, 25%,50%,75%, max 값 표시\n",
        "print( \"train_valid_tmp.shape=\",train_valid_tmp.shape )\n",
        "#print( test_data.info() ) #데이터 컬럼별 건수, type등 표시\n",
        "#print( test_data.head() ) #데이터 앞쪽 5개 row 데이터 표시\n",
        "#print( test_data.describe() ) #데이터 count, mean, std, min, 25%,50%,75%, max 값 표시\n",
        "print( \"test_data.shape=\",test_data.shape )\n"
      ],
      "metadata": {
        "colab": {
          "base_uri": "https://localhost:8080/"
        },
        "id": "j-iKI4IepSr2",
        "outputId": "38299f38-3f11-467c-e0dc-c1581b7df011"
      },
      "execution_count": null,
      "outputs": [
        {
          "output_type": "stream",
          "name": "stdout",
          "text": [
            "train_valid_tmp.shape= (202944, 22)\n",
            "test_data.shape= (50736, 22)\n"
          ]
        }
      ]
    },
    {
      "cell_type": "code",
      "source": [
        "# 2.Validation size should be 2,944 samples\n",
        "# 3.The rest of the samples should belong to the train dataset\n",
        "\n",
        "train_data, valid_data = train_test_split(train_valid_tmp, test_size=2944, random_state=42) # test_size는 비율 또는 정수값, random_state값은 random seed 생성시 항상 동일한 shuffle index 허용\n",
        "#print( train_data.info() ) #데이터 컬럼별 건수, type등 표시\n",
        "#print( train_data.head() ) #데이터 앞쪽 5개 row 데이터 표시\n",
        "#print( train_data.describe() ) #데이터 count, mean, std, min, 25%,50%,75%, max 값 표시\n",
        "print( \"train_data.shape=\",train_data.shape )\n",
        "#print( valid_data.info() ) #데이터 컬럼별 건수, type등 표시\n",
        "#print( valid_data.head() ) #데이터 앞쪽 5개 row 데이터 표시\n",
        "#print( valid_data.describe() ) #데이터 count, mean, std, min, 25%,50%,75%, max 값 표시\n",
        "print( \"valid_data.shape=\",valid_data.shape )  "
      ],
      "metadata": {
        "id": "ksf--9pgru_-"
      },
      "execution_count": null,
      "outputs": []
    },
    {
      "cell_type": "code",
      "source": [
        "# 1.Test size should be 20% of all samples\n",
        "\n",
        "# BMI 분포를 고려하여 데이터를 나누기 위해 분석\n",
        "all_data[\"BMI\"].hist(bins=50, figsize=(8,6)) #BMI 분포 확인"
      ],
      "metadata": {
        "colab": {
          "base_uri": "https://localhost:8080/",
          "height": 395
        },
        "id": "sAmlCugTjcIc",
        "outputId": "1dfc1929-0937-4074-e919-7e77d8957a9e"
      },
      "execution_count": 47,
      "outputs": [
        {
          "output_type": "execute_result",
          "data": {
            "text/plain": [
              "<matplotlib.axes._subplots.AxesSubplot at 0x7fbe626c7e90>"
            ]
          },
          "metadata": {},
          "execution_count": 47
        },
        {
          "output_type": "display_data",
          "data": {
            "text/plain": [
              "<Figure size 576x432 with 1 Axes>"
            ],
            "image/png": "[encoded data removed]"
          },
          "metadata": {
            "needs_background": "light"
          }
        }
      ]
    },
    {
      "cell_type": "code",
      "source": [
        "# all_data 를 나눌때 BMI 분포를 고려하기 위해 BMI_cut 범주 그룹값 추가\n",
        "all_data[\"BMI_cut\"] = pd.cut(all_data[\"BMI\"], bins=[0, 5, 10, 15, 20, 25, 30, 35, 40, 45, 50, np.inf], labels=[0, 5, 10, 15, 20, 25, 30, 35, 40, 45, 50] ) #BMI값을 구간별로 나눠서 범주값 매핑, np.inf는 무한대 의미\n",
        "all_data[\"BMI_cut\"].hist() #그래프 표시\n",
        "print(all_data[[\"BMI\",\"BMI_cut\"]]) # 맵핑된 정보 확인 BMI -> BMI_cut\n",
        "#print(all_data[all_data[\"BMI\"] > 50.0 ] ) # BMI값이 50보다 큰것들 표시\n",
        "print( all_data[\"BMI_cut\"].value_counts() / len(all_data) ) #  all_data 내에 BMI_cut 분포 비율 확인"
      ],
      "metadata": {
        "colab": {
          "base_uri": "https://localhost:8080/",
          "height": 745
        },
        "id": "f_3f5MlVfYve",
        "outputId": "f4ee5ddf-14be-43c6-ad5b-117574ad8d9e"
      },
      "execution_count": 57,
      "outputs": [
        {
          "output_type": "stream",
          "name": "stdout",
          "text": [
            "         BMI BMI_cut\n",
            "0       40.0      35\n",
            "1       25.0      20\n",
            "2       28.0      25\n",
            "3       27.0      25\n",
            "4       24.0      20\n",
            "...      ...     ...\n",
            "253675  45.0      40\n",
            "253676  18.0      15\n",
            "253677  28.0      25\n",
            "253678  23.0      20\n",
            "253679  25.0      20\n",
            "\n",
            "[253680 rows x 2 columns]\n",
            "25    0.359413\n",
            "20    0.298817\n",
            "30    0.175233\n",
            "35    0.068377\n",
            "15    0.052121\n",
            "40    0.026254\n",
            "45    0.010423\n",
            "50    0.008574\n",
            "10    0.000788\n",
            "0     0.000000\n",
            "5     0.000000\n",
            "Name: BMI_cut, dtype: float64\n"
          ]
        },
        {
          "output_type": "display_data",
          "data": {
            "text/plain": [
              "<Figure size 432x288 with 1 Axes>"
            ],
            "image/png": "[encoded data removed]"
          },
          "metadata": {
            "needs_background": "light"
          }
        }
      ]
    },
    {
      "cell_type": "code",
      "source": [
        "# StratifiedShuffleSplit 를 활용하여 데이터 나누기 (각 구간별, 범주별 데이터 나누기)\n",
        "from sklearn.model_selection import StratifiedShuffleSplit  # 필요한 lib\n",
        "\n",
        "split1 = StratifiedShuffleSplit(n_splits=1, test_size=0.2, random_state=42) # train/test 1개로 분할, test_size 비율지정, 재현가능성을 위해 난수 초기값 지정\n",
        "for train_valid_index, test_index in split1.split( all_data, all_data[\"BMI_cut\"] ): # all_data를 BMI_cut 고려하여 데이터 나누기\n",
        "\ttrain_valid_tmp = all_data.iloc[train_valid_index].copy() # train 임시 데이터 -> 아래쪽에서 다시 train, valid 데이터로 나눔\n",
        "\ttest_data = all_data.iloc[test_index].copy() # test 데이터\n",
        "\n",
        "print(train_valid_tmp[\"BMI_cut\"].value_counts() / len(train_valid_tmp)) #train_valid_tmp 내에 BMI_cut 분포 비율 확인\n",
        "print(test_data[\"BMI_cut\"].value_counts() / len(test_data)) #test_data 내에 BMI_cut 분포 비율 확인\n",
        "#print(train_valid_tmp.info()) #데이터 컬럼별 건수, type등 표시\n",
        "#print(train_valid_tmp.head()) #데이터 앞쪽 5개 row 데이터 표시\n",
        "#print(train_valid_tmp.describe()) #데이터 count, mean, std, min, 25%,50%,75%, max 값 표시\n"
      ],
      "metadata": {
        "colab": {
          "base_uri": "https://localhost:8080/"
        },
        "id": "Cje4JKGtmAcI",
        "outputId": "6281740b-e3e6-4d54-8ef9-4e1e533c094d"
      },
      "execution_count": 95,
      "outputs": [
        {
          "output_type": "stream",
          "name": "stdout",
          "text": [
            "25    0.359414\n",
            "20    0.298816\n",
            "30    0.175231\n",
            "35    0.068378\n",
            "15    0.052123\n",
            "40    0.026254\n",
            "45    0.010422\n",
            "50    0.008574\n",
            "10    0.000788\n",
            "0     0.000000\n",
            "5     0.000000\n",
            "Name: BMI_cut, dtype: float64\n",
            "25    0.359409\n",
            "20    0.298821\n",
            "30    0.175240\n",
            "35    0.068374\n",
            "15    0.052113\n",
            "40    0.026254\n",
            "45    0.010427\n",
            "50    0.008574\n",
            "10    0.000788\n",
            "0     0.000000\n",
            "5     0.000000\n",
            "Name: BMI_cut, dtype: float64\n"
          ]
        }
      ]
    },
    {
      "cell_type": "code",
      "source": [
        "# 2.Validation size should be 2,944 samples\n",
        "# 3.The rest of the samples should belong to the train dataset\n",
        "\n",
        "# 위 에서 만들어진 train_valid_tmp 데이터를 다시 train, valid 로 나누기\n",
        "split2 = StratifiedShuffleSplit(n_splits=1, test_size=2944, random_state=42) #valid 데이터 2944개 생성, 나머지 train 데이터\n",
        "for train_index, valid_index in split2.split( train_valid_tmp, train_valid_tmp[\"BMI_cut\"] ): # train_tmp를 BMI_cut 고려하여 데이터 나누기\n",
        "\ttrain_data = train_valid_tmp.iloc[train_index].copy() # train 데이터\n",
        "\tvalid_data = train_valid_tmp.iloc[valid_index].copy() # test 데이터\n",
        "\n",
        "print(train_data[\"BMI_cut\"].value_counts() / len(train_data)) # train_data 내에 BMI_cut 분포 비율 확인\n",
        "print(valid_data[\"BMI_cut\"].value_counts() / len(valid_data)) # valid_data 내에 BMI_cut 분포 비율 확인"
      ],
      "metadata": {
        "colab": {
          "base_uri": "https://localhost:8080/"
        },
        "id": "R1h1IIXOroHM",
        "outputId": "a347add0-5085-433a-d6ff-1bc234c4ad3e"
      },
      "execution_count": 96,
      "outputs": [
        {
          "output_type": "stream",
          "name": "stdout",
          "text": [
            "25    0.359415\n",
            "20    0.298815\n",
            "30    0.175230\n",
            "35    0.068380\n",
            "15    0.052120\n",
            "40    0.026255\n",
            "45    0.010420\n",
            "50    0.008575\n",
            "10    0.000790\n",
            "0     0.000000\n",
            "5     0.000000\n",
            "Name: BMI_cut, dtype: float64\n",
            "25    0.359375\n",
            "20    0.298913\n",
            "30    0.175272\n",
            "35    0.068274\n",
            "15    0.052310\n",
            "40    0.026155\n",
            "45    0.010530\n",
            "50    0.008492\n",
            "10    0.000679\n",
            "0     0.000000\n",
            "5     0.000000\n",
            "Name: BMI_cut, dtype: float64\n"
          ]
        }
      ]
    },
    {
      "cell_type": "code",
      "source": [
        "# 데이터 나누기 위해 추가된 BMI_cut 삭제\n",
        "for set_ in (train_valid_tmp, train_data, valid_data , test_data):\n",
        "\tset_.drop(\"BMI_cut\", axis=1, inplace=True)"
      ],
      "metadata": {
        "id": "P_vm0zW2sxMF"
      },
      "execution_count": 97,
      "outputs": []
    },
    {
      "cell_type": "code",
      "source": [
        "# 데이터 shape 확인\n",
        "print( \"test_data.shape=\",test_data.shape )\n",
        "print( \"valid_data.shape=\",valid_data.shape )\n",
        "print( \"train_data.shape=\",train_data.shape )\n",
        "print(\"My Test data size correct:\", test_data.shape==(all_data_size*.2, 22))\n",
        "print(\"My Valid data size correct:\", valid_data.shape==(2944,22))\n",
        "print(\"My Train data size correct:\", train_data.shape==(all_data_size-len(test_data)-len(valid_data),22))"
      ],
      "metadata": {
        "colab": {
          "base_uri": "https://localhost:8080/"
        },
        "id": "VkdXmZY9sqgR",
        "outputId": "624ba437-1f06-408e-f07c-55dc8b8b0df1"
      },
      "execution_count": 98,
      "outputs": [
        {
          "output_type": "stream",
          "name": "stdout",
          "text": [
            "test_data.shape= (50736, 22)\n",
            "valid_data.shape= (2944, 22)\n",
            "train_data.shape= (200000, 22)\n",
            "My Test data size correct: True\n",
            "My Valid data size correct: True\n",
            "My Train data size correct: True\n"
          ]
        }
      ]
    },
    {
      "cell_type": "code",
      "source": [
        "# 4.Create train_label, valid_label, test_label from \"Diabetes_012\" feature\n",
        "train_label = train_data[\"Diabetes_012\"].copy() # train_data 로 부터 \"Diabetes_012\" 복사\n",
        "valid_label = valid_data[\"Diabetes_012\"].copy() # valid_data 로 부터 \"Diabetes_012\" 복사\n",
        "test_label = test_data[\"Diabetes_012\"].copy() # test_data 로 부터 \"Diabetes_012\" 복사\n",
        "\n",
        "# train_label 데이터 확인\n",
        "print( train_label.value_counts() ) # 값 별로 건수 표시\n",
        "print( train_label ) # 전체 데이터 확인\n",
        "print( train_label.describe() ) #데이터 count, mean, std, min, 25%,50%,75%, max 값 표시"
      ],
      "metadata": {
        "id": "iXtYmAdLXzS5",
        "colab": {
          "base_uri": "https://localhost:8080/"
        },
        "outputId": "b9340333-c0a2-449f-b238-6da2aba33241"
      },
      "execution_count": 99,
      "outputs": [
        {
          "output_type": "stream",
          "name": "stdout",
          "text": [
            "0.0    168534\n",
            "2.0     27833\n",
            "1.0      3633\n",
            "Name: Diabetes_012, dtype: int64\n",
            "170207    0.0\n",
            "18255     0.0\n",
            "97666     0.0\n",
            "167428    0.0\n",
            "157820    0.0\n",
            "         ... \n",
            "116941    2.0\n",
            "72383     2.0\n",
            "103045    0.0\n",
            "162715    0.0\n",
            "193123    0.0\n",
            "Name: Diabetes_012, Length: 200000, dtype: float64\n",
            "count    200000.000000\n",
            "mean          0.296495\n",
            "std           0.697795\n",
            "min           0.000000\n",
            "25%           0.000000\n",
            "50%           0.000000\n",
            "75%           0.000000\n",
            "max           2.000000\n",
            "Name: Diabetes_012, dtype: float64\n"
          ]
        }
      ]
    },
    {
      "cell_type": "code",
      "source": [
        "# 5.Drop \"Diabetes_012\" feature from each data set\n",
        "\n",
        "test_data.drop(\"Diabetes_012\", axis=1, inplace=True) # test_data 에 있는 Diabetes_012 컬럼 삭제\n",
        "valid_data.drop(\"Diabetes_012\", axis=1, inplace=True) # valid_data 에 있는 Diabetes_012 컬럼 삭제\n",
        "train_data.drop(\"Diabetes_012\", axis=1, inplace=True) # train_data 에 있는 Diabetes_012 컬럼 삭제\n",
        "\n",
        "print( \"test_data.shape=\",test_data.shape )\n",
        "print( \"valid_data.shape=\",valid_data.shape )\n",
        "print( \"train_data.shape=\",train_data.shape )"
      ],
      "metadata": {
        "colab": {
          "base_uri": "https://localhost:8080/"
        },
        "id": "z1yKhlM-w1D1",
        "outputId": "8bd74a92-d245-4e92-9bbd-74029837ad65"
      },
      "execution_count": 100,
      "outputs": [
        {
          "output_type": "stream",
          "name": "stdout",
          "text": [
            "test_data.shape= (50736, 21)\n",
            "valid_data.shape= (2944, 21)\n",
            "train_data.shape= (200000, 21)\n"
          ]
        }
      ]
    },
    {
      "cell_type": "code",
      "source": [
        "# Your Code Ends Here\n",
        "\n",
        "## DO NOT EDIT THIS CODE ###\n",
        "print(\"Test data size correct:\", test_data.shape==(all_data_size*.2, 21))\n",
        "print(\"Valid data size correct:\", valid_data.shape==(2944,21))\n",
        "print(\"Train data size correct:\", train_data.shape==(all_data_size-len(test_data)-len(valid_data),21))\n",
        "\n",
        "print(\"Test label size correct:\", test_label.shape==(all_data_size*.2,))\n",
        "print(\"Valid label size correct:\", valid_label.shape==(2944,))\n",
        "print(\"Train label size correct:\", train_label.shape==(all_data_size-len(test_data)-len(valid_data),))\n",
        "## DO NOT EDIT THIS CODE ###"
      ],
      "metadata": {
        "id": "N0JsJjhxON1P",
        "colab": {
          "base_uri": "https://localhost:8080/"
        },
        "outputId": "13055f97-36ba-4008-ceb0-9a4ad7a757de"
      },
      "execution_count": 101,
      "outputs": [
        {
          "output_type": "stream",
          "name": "stdout",
          "text": [
            "Test data size correct: True\n",
            "Valid data size correct: True\n",
            "Train data size correct: True\n",
            "Test label size correct: True\n",
            "Valid label size correct: True\n",
            "Train label size correct: True\n"
          ]
        }
      ]
    },
    {
      "cell_type": "markdown",
      "source": [
        "### Task 4: Preprocess train, valid, test datasets (4pts)\n",
        "\n",
        "1. Replace values of 2 into 1 in labels (i.e., multi-class to binary-class)(1pts)\n",
        "2. MinMax scale features into 0~1 (e.g., use MinMaxScaler) (3pts)"
      ],
      "metadata": {
        "id": "lB1pOMXXaX39"
      }
    },
    {
      "cell_type": "code",
      "source": [
        "# Your Code Starts Here\n",
        "\n",
        "\n",
        "# Your Code Ends Here\n",
        "\n",
        "## DO NOT EDIT THIS CODE ###\n",
        "print(\"Train data range correct:\", np.max(train_data) == 1. and np.min(train_data)==0.)\n",
        "print(\"Valid data range correct:\", np.max(valid_data) == 1. and np.min(valid_data)==0.)\n",
        "print(\"Test data range correct:\", np.max(test_data) == 1. and np.min(test_data)==0.)\n",
        "\n",
        "print(\"Train label correct:\", np.unique(train_label)==(0,1))\n",
        "print(\"Valid label correct:\", np.unique(valid_label)==(0,1))\n",
        "print(\"Test label correct:\", np.unique(test_label)==(0,1))\n",
        "## DO NOT EDIT THIS CODE ###"
      ],
      "metadata": {
        "id": "1udsaxVIZNrG"
      },
      "execution_count": null,
      "outputs": []
    },
    {
      "cell_type": "markdown",
      "source": [
        "### Task 5: Train a model (9pt)\n",
        "\n",
        "1. Train a model of your choice (4pt)\n",
        "2. Validate your model on valid_data (1pt)\n",
        "3. Improve the validation score by finetuning (3pt)\n",
        "4. Save your model (1pt)"
      ],
      "metadata": {
        "id": "9QJmf2phgiuK"
      }
    },
    {
      "cell_type": "code",
      "source": [
        "# Your Code Starts Here\n",
        "\n",
        "# Your Code Ends Here"
      ],
      "metadata": {
        "id": "tIuXDopuh3mS"
      },
      "execution_count": null,
      "outputs": []
    },
    {
      "cell_type": "markdown",
      "source": [
        "### Task 6: Evaluate your model (5pt)\n",
        "\n",
        "1. Load your model (1pt)\n",
        "2. Show that the loaded model's prediction is same as the model in Task 5 using valid_data (3pt)\n",
        "2. Evaluate your model on test_data (1pt)"
      ],
      "metadata": {
        "id": "zxAAHezeiVx8"
      }
    },
    {
      "cell_type": "code",
      "source": [
        "# Your Code Starts Here\n",
        "\n",
        "# Your Code Ends Here"
      ],
      "metadata": {
        "id": "de9_T95Kid4a"
      },
      "execution_count": null,
      "outputs": []
    }
  ]
}