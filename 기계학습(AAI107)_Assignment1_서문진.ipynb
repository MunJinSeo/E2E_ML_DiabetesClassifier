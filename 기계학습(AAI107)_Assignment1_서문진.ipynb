{
  "nbformat": 4,
  "nbformat_minor": 0,
  "metadata": {
    "colab": {
      "name": "기계학습(AAI107)_Assignment1_서문진.ipynb",
      "provenance": [],
      "collapsed_sections": [],
      "toc_visible": true,
      "include_colab_link": true
    },
    "kernelspec": {
      "name": "python3",
      "display_name": "Python 3"
    },
    "language_info": {
      "name": "python"
    }
  },
  "cells": [
    {
      "cell_type": "markdown",
      "metadata": {
        "id": "view-in-github",
        "colab_type": "text"
      },
      "source": [
        "<a href=\"https://colab.research.google.com/github/MunJinSeo/E2E_ML_DiabetesClassifier/blob/main/%EA%B8%B0%EA%B3%84%ED%95%99%EC%8A%B5(AAI107)_Assignment1_%EC%84%9C%EB%AC%B8%EC%A7%84.ipynb\" target=\"_parent\"><img src=\"https://colab.research.google.com/assets/colab-badge.svg\" alt=\"Open In Colab\"/></a>"
      ]
    },
    {
      "cell_type": "markdown",
      "source": [
        "### IMPORTANT\n",
        "\n",
        "Student Name (ENG): MunJin, Seo\n",
        "\n",
        "Student Name (KOR):서문진\n",
        "\n",
        "Student Department (ENG): Big Data Convergence Department\n",
        "\n",
        "Student ID: 2020511021\n",
        "\n",
        "Consent that you will not plagiarise (yes/no): yes"
      ],
      "metadata": {
        "id": "S1TBn_p1HLvl"
      }
    },
    {
      "cell_type": "code",
      "source": [
        "import numpy as np\n",
        "np.random.seed(20220324)\n",
        "\n",
        "import os\n",
        "\n",
        "import hashlib\n",
        "import urllib.request\n",
        "\n",
        "import pandas as pd\n",
        "\n",
        "#### Include any librarys you need to import here ###\n",
        "# Scikit-Learn ≥0.20 is required --강의 교재 참고하여 추가함\n",
        "import sklearn\n",
        "assert sklearn.__version__ >= \"0.20\"\n",
        "\n",
        "# To plot pretty figures --강의 교재 참고하여 추가함\n",
        "# 실행한 브라우저에서 바로 그림을 볼 수 있게 해줌\n",
        "%matplotlib inline\n",
        "import matplotlib as mpl #그래프를 그리기 위한 Library\n",
        "import matplotlib.pyplot as plt #그래프를 그리기 위한 Library\n",
        "mpl.rc('axes', labelsize=14)\n",
        "mpl.rc('xtick', labelsize=12)\n",
        "mpl.rc('ytick', labelsize=12)\n",
        "\n",
        "from sklearn.model_selection import train_test_split # sklearn에서 제공하는 데이터 분리 Library\n",
        "from sklearn.model_selection import StratifiedShuffleSplit  # sklearn에서 제공하는 데이터 분리 Library\n",
        "\n",
        "from sklearn.preprocessing import MinMaxScaler #sklearn에서 제공하는 Feature Scaling Library\n",
        "\n",
        "# 모델 LinearRegression, DecisionTreeRegressor, RandomForestRegressor 비교하기 위해 각 모델library import\n",
        "from sklearn.linear_model import LinearRegression\n",
        "from sklearn.tree import DecisionTreeRegressor\n",
        "from sklearn.ensemble import RandomForestRegressor\n",
        "from sklearn.metrics import mean_squared_error #평가 -> RMSE : 루트 평균 제곱 오차, MSE : 평균 제곱 오차\n",
        "from sklearn.model_selection import cross_val_score # 교차검증(Cross-Validation)  library import\n",
        "\n",
        "# 모델 평가 후 score 표시용 함수\n",
        "def display_scores(scores):\n",
        "  print(\"Scores:\", scores)\n",
        "  print(\"Mean:\", scores.mean())\n",
        "  print(\"Standard deviation:\", scores.std())\n",
        "\n",
        "from sklearn.model_selection import GridSearchCV # sklearn에서 제공하는 하이퍼파라미터 조합을 찾기위해 도와줌\n",
        "\n",
        "#from sklearn.externals import joblib # <-- 에러남\n",
        "import joblib # 내 모델을 외부 저장/로딩\n",
        "\n",
        "#### Include any librarys you need to import here ###"
      ],
      "metadata": {
        "id": "wtQQsnW5676z"
      },
      "execution_count": null,
      "outputs": []
    },
    {
      "cell_type": "markdown",
      "source": [
        "# Prepare the Dataset\n",
        "\n",
        "We will be using a publicly open diabetes dataset.\n",
        "\n",
        "We thank BRFSS 2015 organizers for preparing the dataset and Alex Teboul for cleaning it.\n",
        "\n",
        "Please refer to this [link](https://www.kaggle.com/datasets/alexteboul/diabetes-health-indicators-dataset) for more information on the dataset (e.g., descriptions of each column)."
      ],
      "metadata": {
        "id": "qVvKL0sp6bch"
      }
    },
    {
      "cell_type": "code",
      "source": [
        "## DO NOT EDIT THIS CODE ###\n",
        "DATA_URL = 'https://raw.githubusercontent.com/wltjr1007/wltjr1007.github.io/master/class_datasets/diabetes.csv'\n",
        "DATA_MD5 = '0c84b09d240b72e8180bceff3965d1bd'\n",
        "DATA_PATH = '/content/diabetes.csv'\n",
        "def fetch_diabetes_data():\n",
        "    def download_data_from_url():\n",
        "        urllib.request.urlretrieve(DATA_URL, DATA_PATH)\n",
        "    \n",
        "    def check_data_consistency():\n",
        "        with open(\"diabetes.csv\", \"rb\") as f:\n",
        "            data = f.read()\n",
        "        assert hashlib.md5(data).hexdigest()==DATA_MD5, \"Data is not correct. Reset Colab using Ctrl+F12 and rerun this code.\"\n",
        "\n",
        "    if not os.path.exists(DATA_PATH):\n",
        "        download_data_from_url()\n",
        "    check_data_consistency()\n",
        "    print(\"Data is fetched!\")\n",
        "\n",
        "fetch_diabetes_data()\n",
        "\n",
        "all_data = pd.read_csv(DATA_PATH)\n",
        "all_data_size = len(all_data)\n",
        "\n",
        "missing_data = all_data.to_numpy().copy()\n",
        "\n",
        "for i in np.random.choice(all_data_size, 1000):\n",
        "    j = np.random.randint(0,22)\n",
        "    missing_data[i,j] = np.nan\n",
        "\n",
        "## DO NOT EDIT THIS CODE ###"
      ],
      "metadata": {
        "id": "HyaSE0r76K3W",
        "colab": {
          "base_uri": "https://localhost:8080/"
        },
        "outputId": "620ed74a-eb24-4bac-80bd-b619157b1d8c"
      },
      "execution_count": null,
      "outputs": [
        {
          "output_type": "stream",
          "name": "stdout",
          "text": [
            "Data is fetched!\n"
          ]
        }
      ]
    },
    {
      "cell_type": "markdown",
      "source": [
        "### Task 1: Draw the histogram of \"BMI\" feature (1pts)."
      ],
      "metadata": {
        "id": "FyGt03ZGLgu6"
      }
    },
    {
      "cell_type": "code",
      "source": [
        "# Your Code Starts Here\n",
        "\n",
        "#print( all_data.info() ) #데이터 컬럼별 건수, type등 표시\n",
        "#print( all_data.head() ) #데이터 앞쪽 5개 row 데이터 표시\n",
        "#print( all_data.describe() ) #데이터 count, mean, std, min, 25%,50%,75%, max 값 표시\n",
        "#print( all_data[\"BMI\"].value_counts() )\n",
        "#print( all_data[\"BMI\"].describe() ) #BMI 데이터 count, mean, std, min, 25%,50%,75%, max 값 표시\n",
        "all_data[\"BMI\"].hist(bins=50, figsize=(8,6)) # bins는 막대 구간 수량 (막대의 영역을 얼마나 채울지 결정됨), figsize는 가로,세로 크기 지정\n",
        "#all_data.hist(bins=50, figsize=(20,15)) # 전체 feature 에 대해 histogram 표시 - bins값, figsize값은 교재 참고함\n",
        "plt.show()\n",
        "\n",
        "print(\"--- Correlations ---------------------\")\n",
        "corr_matrix = all_data.corr() # 상관관계 계산\n",
        "print(\"-- BMI --\\n\", corr_matrix[\"BMI\"].sort_values(ascending=False)) # BMI 상관관계 찾아보기\n",
        "print(\"-- Diabetes_012 --\\n\", corr_matrix[\"Diabetes_012\"].sort_values(ascending=False)) # 당뇨병 상관관계 찾아보기\n",
        "#all_data.plot(kind=\"scatter\", x=\"BMI\", y=\"Diabetes_012\", alpha=0.1)\n",
        "# Your Code Ends Here"
      ],
      "metadata": {
        "id": "PlukXyAZJ_rH",
        "colab": {
          "base_uri": "https://localhost:8080/",
          "height": 1000
        },
        "outputId": "b58c9af1-f568-44af-b116-fbb632ea5afb"
      },
      "execution_count": null,
      "outputs": [
        {
          "output_type": "display_data",
          "data": {
            "text/plain": [
              "<Figure size 576x432 with 1 Axes>"
            ],
            "image/png": "[encoded data removed]"
          },
          "metadata": {
            "needs_background": "light"
          }
        },
        {
          "output_type": "stream",
          "name": "stdout",
          "text": [
            "--- Correlations ---------------------\n",
            "-- BMI --\n",
            " BMI                     1.000000\n",
            "GenHlth                 0.239185\n",
            "Diabetes_012            0.224379\n",
            "HighBP                  0.213748\n",
            "DiffWalk                0.197078\n",
            "PhysHlth                0.121141\n",
            "HighChol                0.106722\n",
            "MentHlth                0.085310\n",
            "NoDocbcCost             0.058206\n",
            "HeartDiseaseorAttack    0.052904\n",
            "Sex                     0.042950\n",
            "CholCheck               0.034495\n",
            "Stroke                  0.020153\n",
            "Smoker                  0.013804\n",
            "AnyHealthcare          -0.018471\n",
            "Age                    -0.036618\n",
            "HvyAlcoholConsump      -0.048736\n",
            "Veggies                -0.062275\n",
            "Fruits                 -0.087518\n",
            "Income                 -0.100069\n",
            "Education              -0.103932\n",
            "PhysActivity           -0.147294\n",
            "Name: BMI, dtype: float64\n",
            "-- Diabetes_012 --\n",
            " Diabetes_012            1.000000\n",
            "GenHlth                 0.302587\n",
            "HighBP                  0.271596\n",
            "BMI                     0.224379\n",
            "DiffWalk                0.224239\n",
            "HighChol                0.209085\n",
            "Age                     0.185026\n",
            "HeartDiseaseorAttack    0.180272\n",
            "PhysHlth                0.176287\n",
            "Stroke                  0.107179\n",
            "MentHlth                0.073507\n",
            "CholCheck               0.067546\n",
            "Smoker                  0.062914\n",
            "NoDocbcCost             0.035436\n",
            "Sex                     0.031040\n",
            "AnyHealthcare           0.015410\n",
            "Fruits                 -0.042192\n",
            "HvyAlcoholConsump      -0.057882\n",
            "Veggies                -0.058972\n",
            "PhysActivity           -0.121947\n",
            "Education              -0.130517\n",
            "Income                 -0.171483\n",
            "Name: Diabetes_012, dtype: float64\n"
          ]
        }
      ]
    },
    {
      "cell_type": "markdown",
      "source": [
        "### Task 2: Missing data imputation (4pts)\n",
        "\n",
        "1. impute_data_zero: Replace NaN values of \"missing_data\" into 0 (1 pts).\n",
        "2. imput_data_mean : Replace NaN values of \"missing_data\" into feature-wise mean of \"impute_data_zero\" (3pts)."
      ],
      "metadata": {
        "id": "iVcpyQerSn3N"
      }
    },
    {
      "cell_type": "code",
      "source": [
        "# Your Code Starts Here"
      ],
      "metadata": {
        "id": "WVwPHuyBOypp"
      },
      "execution_count": null,
      "outputs": []
    },
    {
      "cell_type": "code",
      "source": [
        "# 1. impute_data_zero: Replace NaN values of \"missing_data\" into 0 \n",
        "\n",
        "missing_data_df1 = pd.DataFrame(missing_data).copy() # num array를 DataFrame으로 변환 -> fillna() 를 사용하여 0 으로 치환하기 위함\n",
        "print(missing_data_df1.info()) #데이터 컬럼별 count, type등 표시\n",
        "#print(missing_data_df1.head()) #데이터 앞쪽 5개 row 데이터 표시\n",
        "#print(missing_data_df1.describe()) #데이터 count, mean, std, min, 25%,50%,75%, max 값 표시\n",
        "print(\"'missing_data' contain NaN values ?\",np.any(np.isnan(missing_data_df1) ) ) # NaN값 있는지 확인\n",
        "print(\"-----------------------------------------------\")\n",
        "\n",
        "# DataFrame 의 fillna() 활용하여 NaN값을 0으로 변환\n",
        "missing_data_df1.fillna(0,inplace=True) # NaN값을 0 으로 채움\n",
        "impute_data_zero = missing_data_df1.copy()\n",
        "print(impute_data_zero.info()) #데이터 컬럼별 건수, type등 표시\n",
        "print(\"'impute_data_zero' contain NaN values ?\",np.any(np.isnan(impute_data_zero) ) ) # NaN값 있는지 다시 확인\n",
        "print(\"-----------------------------------------------\")"
      ],
      "metadata": {
        "colab": {
          "base_uri": "https://localhost:8080/"
        },
        "id": "tb_xc6M3KPYc",
        "outputId": "6cbb2f3d-dc0f-4e45-ec7e-1b66d476e3e1"
      },
      "execution_count": null,
      "outputs": [
        {
          "output_type": "stream",
          "name": "stdout",
          "text": [
            "<class 'pandas.core.frame.DataFrame'>\n",
            "RangeIndex: 253680 entries, 0 to 253679\n",
            "Data columns (total 22 columns):\n",
            " #   Column  Non-Null Count   Dtype  \n",
            "---  ------  --------------   -----  \n",
            " 0   0       253637 non-null  float64\n",
            " 1   1       253636 non-null  float64\n",
            " 2   2       253637 non-null  float64\n",
            " 3   3       253621 non-null  float64\n",
            " 4   4       253635 non-null  float64\n",
            " 5   5       253641 non-null  float64\n",
            " 6   6       253634 non-null  float64\n",
            " 7   7       253624 non-null  float64\n",
            " 8   8       253634 non-null  float64\n",
            " 9   9       253630 non-null  float64\n",
            " 10  10      253634 non-null  float64\n",
            " 11  11      253647 non-null  float64\n",
            " 12  12      253643 non-null  float64\n",
            " 13  13      253638 non-null  float64\n",
            " 14  14      253632 non-null  float64\n",
            " 15  15      253646 non-null  float64\n",
            " 16  16      253623 non-null  float64\n",
            " 17  17      253648 non-null  float64\n",
            " 18  18      253630 non-null  float64\n",
            " 19  19      253632 non-null  float64\n",
            " 20  20      253628 non-null  float64\n",
            " 21  21      253630 non-null  float64\n",
            "dtypes: float64(22)\n",
            "memory usage: 42.6 MB\n",
            "None\n",
            "'missing_data' contain NaN values ? True\n",
            "-----------------------------------------------\n",
            "<class 'pandas.core.frame.DataFrame'>\n",
            "RangeIndex: 253680 entries, 0 to 253679\n",
            "Data columns (total 22 columns):\n",
            " #   Column  Non-Null Count   Dtype  \n",
            "---  ------  --------------   -----  \n",
            " 0   0       253680 non-null  float64\n",
            " 1   1       253680 non-null  float64\n",
            " 2   2       253680 non-null  float64\n",
            " 3   3       253680 non-null  float64\n",
            " 4   4       253680 non-null  float64\n",
            " 5   5       253680 non-null  float64\n",
            " 6   6       253680 non-null  float64\n",
            " 7   7       253680 non-null  float64\n",
            " 8   8       253680 non-null  float64\n",
            " 9   9       253680 non-null  float64\n",
            " 10  10      253680 non-null  float64\n",
            " 11  11      253680 non-null  float64\n",
            " 12  12      253680 non-null  float64\n",
            " 13  13      253680 non-null  float64\n",
            " 14  14      253680 non-null  float64\n",
            " 15  15      253680 non-null  float64\n",
            " 16  16      253680 non-null  float64\n",
            " 17  17      253680 non-null  float64\n",
            " 18  18      253680 non-null  float64\n",
            " 19  19      253680 non-null  float64\n",
            " 20  20      253680 non-null  float64\n",
            " 21  21      253680 non-null  float64\n",
            "dtypes: float64(22)\n",
            "memory usage: 42.6 MB\n",
            "None\n",
            "'impute_data_zero' contain NaN values ? False\n",
            "-----------------------------------------------\n"
          ]
        }
      ]
    },
    {
      "cell_type": "code",
      "source": [
        "# 2. imput_data_mean : Replace NaN values of \"missing_data\" into feature-wise mean of \"impute_data_zero\"\n",
        "\n",
        "# impute_data_mean 처리 방법① : DataFrame fillna() 활용 , 방법② : SimpleImputer 활용 (강의 교재 참조)\n",
        "print(\"----- 방법1 DataFrame fillna() - before --------------------------------------\")\n",
        "missing_data_df2 = pd.DataFrame(missing_data).copy()\n",
        "print( missing_data_df2.info() ) #데이터 컬럼별 건수, type등 표시\n",
        "#print( missing_data_df2.head() ) #데이터 앞쪽 5개 row 데이터 표시\n",
        "#print( missing_data_df2.describe() ) #데이터 count, mean, std, min, 25%,50%,75%, max 값 표시\n",
        "#print(missing_data_df2)\n",
        "print(\"'missing_data' contain NaN values ?\",np.any(np.isnan(missing_data_df2) ) ) # NaN값 있는지 확인\n",
        "\n",
        "missing_data_df2.fillna( impute_data_zero.mean() ,inplace=True) # NaN값을 열의 평균(mean)값으로 채움\n",
        "impute_data_mean = missing_data_df2.copy()\n",
        "\n",
        "print(\"----- 방법1 DataFrame fillna() - after --------------------------------------\")\n",
        "print( impute_data_mean.info() ) #데이터 컬럼별 건수, type등 표시\n",
        "#print( impute_data_mean.describe() ) #데이터 count, mean, std, min, 25%,50%,75%, max 값 표시\n",
        "print(\"'impute_data_mean' contain NaN values ?\",np.any(np.isnan(impute_data_mean) ) ) # NaN값 있는지 다시 확인\n",
        "print(\"-----------------------------------------------\")\n",
        "\n",
        "# impute_data_mean 처리 방법2 : SimpleImputer 활용 (강의 교재 참조)\n",
        "from sklearn.impute import SimpleImputer # library  import\n",
        "imputer = SimpleImputer(strategy=\"mean\") # 정책 평균 mean 셋팅,  중간값은 median 셋팅\n",
        "imputer.fit(impute_data_zero) # fit the imputer, 데이터 impute_data_zero 를 사용\n",
        "#print( imputer.statistics_ ) # 정책에 대한 결과 저장값 출력\n",
        "print(\"----- 방법2 SimpleImputer - before ------------------------------------------\")\n",
        "missing_data_df3 = pd.DataFrame(missing_data).copy() # NaN 값이 있는 missing_data를 복사하여 사용\n",
        "print(missing_data_df3.info() ) #데이터 컬럼별 건수, type등 표시\n",
        "xx = imputer.transform(missing_data_df3) # 데이터의 NaN값을 치환, num arrary 리턴\n",
        "impute_data_mean = pd.DataFrame(xx) # num arrary -> DataFrame로 변환\n",
        "\n",
        "print(\"----- 방법2 SimpleImputer - after ------------------------------------------\")\n",
        "print( impute_data_mean.info() ) #데이터 컬럼별 건수, type등 표시\n",
        "#print( impute_data_mean.describe() ) #데이터 count, mean, std, min, 25%,50%,75%, max 값 표시\n",
        "print(\"'impute_data_mean' contain NaN values ?\",np.any(np.isnan(impute_data_mean) ) ) # NaN값 있는지 다시 확인\n",
        "print(\"-----------------------------------------------\")\n"
      ],
      "metadata": {
        "colab": {
          "base_uri": "https://localhost:8080/"
        },
        "id": "UQ9PmicsHDLE",
        "outputId": "606699ac-ff33-4281-df83-1e688d3378de"
      },
      "execution_count": null,
      "outputs": [
        {
          "output_type": "stream",
          "name": "stdout",
          "text": [
            "----- 방법1 DataFrame fillna() - before --------------------------------------\n",
            "<class 'pandas.core.frame.DataFrame'>\n",
            "RangeIndex: 253680 entries, 0 to 253679\n",
            "Data columns (total 22 columns):\n",
            " #   Column  Non-Null Count   Dtype  \n",
            "---  ------  --------------   -----  \n",
            " 0   0       253637 non-null  float64\n",
            " 1   1       253636 non-null  float64\n",
            " 2   2       253637 non-null  float64\n",
            " 3   3       253621 non-null  float64\n",
            " 4   4       253635 non-null  float64\n",
            " 5   5       253641 non-null  float64\n",
            " 6   6       253634 non-null  float64\n",
            " 7   7       253624 non-null  float64\n",
            " 8   8       253634 non-null  float64\n",
            " 9   9       253630 non-null  float64\n",
            " 10  10      253634 non-null  float64\n",
            " 11  11      253647 non-null  float64\n",
            " 12  12      253643 non-null  float64\n",
            " 13  13      253638 non-null  float64\n",
            " 14  14      253632 non-null  float64\n",
            " 15  15      253646 non-null  float64\n",
            " 16  16      253623 non-null  float64\n",
            " 17  17      253648 non-null  float64\n",
            " 18  18      253630 non-null  float64\n",
            " 19  19      253632 non-null  float64\n",
            " 20  20      253628 non-null  float64\n",
            " 21  21      253630 non-null  float64\n",
            "dtypes: float64(22)\n",
            "memory usage: 42.6 MB\n",
            "None\n",
            "'missing_data' contain NaN values ? True\n",
            "----- 방법1 DataFrame fillna() - after --------------------------------------\n",
            "<class 'pandas.core.frame.DataFrame'>\n",
            "RangeIndex: 253680 entries, 0 to 253679\n",
            "Data columns (total 22 columns):\n",
            " #   Column  Non-Null Count   Dtype  \n",
            "---  ------  --------------   -----  \n",
            " 0   0       253680 non-null  float64\n",
            " 1   1       253680 non-null  float64\n",
            " 2   2       253680 non-null  float64\n",
            " 3   3       253680 non-null  float64\n",
            " 4   4       253680 non-null  float64\n",
            " 5   5       253680 non-null  float64\n",
            " 6   6       253680 non-null  float64\n",
            " 7   7       253680 non-null  float64\n",
            " 8   8       253680 non-null  float64\n",
            " 9   9       253680 non-null  float64\n",
            " 10  10      253680 non-null  float64\n",
            " 11  11      253680 non-null  float64\n",
            " 12  12      253680 non-null  float64\n",
            " 13  13      253680 non-null  float64\n",
            " 14  14      253680 non-null  float64\n",
            " 15  15      253680 non-null  float64\n",
            " 16  16      253680 non-null  float64\n",
            " 17  17      253680 non-null  float64\n",
            " 18  18      253680 non-null  float64\n",
            " 19  19      253680 non-null  float64\n",
            " 20  20      253680 non-null  float64\n",
            " 21  21      253680 non-null  float64\n",
            "dtypes: float64(22)\n",
            "memory usage: 42.6 MB\n",
            "None\n",
            "'impute_data_mean' contain NaN values ? False\n",
            "-----------------------------------------------\n",
            "----- 방법2 SimpleImputer - before ------------------------------------------\n",
            "<class 'pandas.core.frame.DataFrame'>\n",
            "RangeIndex: 253680 entries, 0 to 253679\n",
            "Data columns (total 22 columns):\n",
            " #   Column  Non-Null Count   Dtype  \n",
            "---  ------  --------------   -----  \n",
            " 0   0       253637 non-null  float64\n",
            " 1   1       253636 non-null  float64\n",
            " 2   2       253637 non-null  float64\n",
            " 3   3       253621 non-null  float64\n",
            " 4   4       253635 non-null  float64\n",
            " 5   5       253641 non-null  float64\n",
            " 6   6       253634 non-null  float64\n",
            " 7   7       253624 non-null  float64\n",
            " 8   8       253634 non-null  float64\n",
            " 9   9       253630 non-null  float64\n",
            " 10  10      253634 non-null  float64\n",
            " 11  11      253647 non-null  float64\n",
            " 12  12      253643 non-null  float64\n",
            " 13  13      253638 non-null  float64\n",
            " 14  14      253632 non-null  float64\n",
            " 15  15      253646 non-null  float64\n",
            " 16  16      253623 non-null  float64\n",
            " 17  17      253648 non-null  float64\n",
            " 18  18      253630 non-null  float64\n",
            " 19  19      253632 non-null  float64\n",
            " 20  20      253628 non-null  float64\n",
            " 21  21      253630 non-null  float64\n",
            "dtypes: float64(22)\n",
            "memory usage: 42.6 MB\n",
            "None\n",
            "----- 방법2 SimpleImputer - after ------------------------------------------\n",
            "<class 'pandas.core.frame.DataFrame'>\n",
            "RangeIndex: 253680 entries, 0 to 253679\n",
            "Data columns (total 22 columns):\n",
            " #   Column  Non-Null Count   Dtype  \n",
            "---  ------  --------------   -----  \n",
            " 0   0       253680 non-null  float64\n",
            " 1   1       253680 non-null  float64\n",
            " 2   2       253680 non-null  float64\n",
            " 3   3       253680 non-null  float64\n",
            " 4   4       253680 non-null  float64\n",
            " 5   5       253680 non-null  float64\n",
            " 6   6       253680 non-null  float64\n",
            " 7   7       253680 non-null  float64\n",
            " 8   8       253680 non-null  float64\n",
            " 9   9       253680 non-null  float64\n",
            " 10  10      253680 non-null  float64\n",
            " 11  11      253680 non-null  float64\n",
            " 12  12      253680 non-null  float64\n",
            " 13  13      253680 non-null  float64\n",
            " 14  14      253680 non-null  float64\n",
            " 15  15      253680 non-null  float64\n",
            " 16  16      253680 non-null  float64\n",
            " 17  17      253680 non-null  float64\n",
            " 18  18      253680 non-null  float64\n",
            " 19  19      253680 non-null  float64\n",
            " 20  20      253680 non-null  float64\n",
            " 21  21      253680 non-null  float64\n",
            "dtypes: float64(22)\n",
            "memory usage: 42.6 MB\n",
            "None\n",
            "'impute_data_mean' contain NaN values ? False\n",
            "-----------------------------------------------\n"
          ]
        }
      ]
    },
    {
      "cell_type": "code",
      "source": [
        "# Your Code Ends Here\n",
        "\n",
        "## DO NOT EDIT THIS CODE ###\n",
        "print(\"impute_data_zero nan values?:\", np.any(np.isnan(impute_data_zero)))\n",
        "print(\"impute_data_mean nan values?:\", np.any(np.isnan(impute_data_mean)))\n",
        "## DO NOT EDIT THIS CODE ###"
      ],
      "metadata": {
        "id": "3JDwg8wWSyyI",
        "colab": {
          "base_uri": "https://localhost:8080/"
        },
        "outputId": "15b51949-4dae-48a2-c413-61f635e126df"
      },
      "execution_count": null,
      "outputs": [
        {
          "output_type": "stream",
          "name": "stdout",
          "text": [
            "impute_data_zero nan values?: False\n",
            "impute_data_mean nan values?: False\n"
          ]
        }
      ]
    },
    {
      "cell_type": "markdown",
      "source": [
        "### Task 3: Split \"all_data\" into three sets: train_data, valid_data, test_data (4pts).\n",
        "\n",
        "Specification:\n",
        "\n",
        "1. Test size should be 20% of all samples (1pts).\n",
        "1. Validation size should be 2,944 samples (1pts).\n",
        "1. The rest of the samples should belong to the train dataset (1pts).\n",
        "1. Create train_label, valid_label, test_label from \"Diabetes_012\" feature (0.5pts).\n",
        "1. Drop \"Diabetes_012\" feature from each data set (0.5pts).\n"
      ],
      "metadata": {
        "id": "HHH08dbrMosR"
      }
    },
    {
      "cell_type": "code",
      "source": [
        "# Your Code Starts Here"
      ],
      "metadata": {
        "id": "-ND49wuvpQOt"
      },
      "execution_count": null,
      "outputs": []
    },
    {
      "cell_type": "code",
      "source": [
        "# 1.Test size should be 20% of all samples\n",
        "# 2.Validation size should be 2,944 samples\n",
        "# 3.The rest of the samples should belong to the train dataset\n",
        "\n",
        "# 방법① : train_test_split() 활용,  방법② : StratifiedShuffleSplit() 활용\n",
        "\n",
        "print(\"방법1 : train_test_split() 활용\")\n",
        "train_valid_tmp, test_data = train_test_split(all_data, test_size=0.2, random_state=42) # test_size는 비율 또는 정수값, random_state값은 random seed 생성시 항상 동일한 shuffle index 허용\n",
        "#print( train_valid_tmp.info() ) #데이터 컬럼별 건수, type등 표시\n",
        "#print( train_valid_tmp.head() ) #데이터 앞쪽 5개 row 데이터 표시\n",
        "#print( train_valid_tmp.describe() ) #데이터 count, mean, std, min, 25%,50%,75%, max 값 표시\n",
        "print( \"train_valid_tmp.shape=\",train_valid_tmp.shape )\n",
        "#print( test_data.info() ) #데이터 컬럼별 건수, type등 표시\n",
        "#print( test_data.head() ) #데이터 앞쪽 5개 row 데이터 표시\n",
        "#print( test_data.describe() ) #데이터 count, mean, std, min, 25%,50%,75%, max 값 표시\n",
        "print( \"test_data.shape=\",test_data.shape )\n",
        "\n",
        "# train_valid_tmp 값을 다시 train, valid 로 나누기\n",
        "train_data, valid_data = train_test_split(train_valid_tmp, test_size=2944, random_state=42) # test_size는 비율 또는 정수값, random_state값은 random seed 생성시 항상 동일한 shuffle index 허용\n",
        "#print( train_data.info() ) #데이터 컬럼별 건수, type등 표시\n",
        "#print( train_data.head() ) #데이터 앞쪽 5개 row 데이터 표시\n",
        "#print( train_data.describe() ) #데이터 count, mean, std, min, 25%,50%,75%, max 값 표시\n",
        "print( \"train_data.shape=\",train_data.shape )\n",
        "#print( valid_data.info() ) #데이터 컬럼별 건수, type등 표시\n",
        "#print( valid_data.head() ) #데이터 앞쪽 5개 row 데이터 표시\n",
        "#print( valid_data.describe() ) #데이터 count, mean, std, min, 25%,50%,75%, max 값 표시\n",
        "print( \"valid_data.shape=\",valid_data.shape )  "
      ],
      "metadata": {
        "colab": {
          "base_uri": "https://localhost:8080/"
        },
        "id": "j-iKI4IepSr2",
        "outputId": "010ed918-6328-4f68-9c62-3a424d72fe0f"
      },
      "execution_count": null,
      "outputs": [
        {
          "output_type": "stream",
          "name": "stdout",
          "text": [
            "방법1 : train_test_split() 활용\n",
            "train_valid_tmp.shape= (202944, 22)\n",
            "test_data.shape= (50736, 22)\n",
            "train_data.shape= (200000, 22)\n",
            "valid_data.shape= (2944, 22)\n"
          ]
        }
      ]
    },
    {
      "cell_type": "code",
      "source": [
        "# 1.Test size should be 20% of all samples\n",
        "# 2.Validation size should be 2,944 samples\n",
        "# 3.The rest of the samples should belong to the train dataset\n",
        "\n",
        "#방법② : StratifiedShuffleSplit() 활용\n",
        "\n",
        "# 먼저 all_data 를 나눌때 BMI 분포를 고려하기 위해 BMI_cut 범주 그룹값 추가\n",
        "all_data[\"BMI_cut\"] = pd.cut(all_data[\"BMI\"], bins=[0, 5, 10, 15, 20, 25, 30, 35, 40, 45, 50, np.inf], labels=[0, 5, 10, 15, 20, 25, 30, 35, 40, 45, 50] ) #BMI값을 구간별로 나눠서 범주값 매핑, np.inf는 무한대 의미\n",
        "all_data[\"BMI_cut\"].hist() #그래프 표시\n",
        "print(all_data[[\"BMI\",\"BMI_cut\"]]) # 맵핑된 정보 확인 BMI -> BMI_cut\n",
        "#print(all_data[all_data[\"BMI\"] > 50.0 ] ) # BMI값이 50보다 큰것들 표시\n",
        "print( all_data[\"BMI_cut\"].value_counts() / len(all_data) ) #  all_data 내에 BMI_cut 분포 비율 확인"
      ],
      "metadata": {
        "colab": {
          "base_uri": "https://localhost:8080/",
          "height": 745
        },
        "id": "f_3f5MlVfYve",
        "outputId": "e04c6e66-dc8c-497f-b5e5-d0c0c54276da"
      },
      "execution_count": null,
      "outputs": [
        {
          "output_type": "stream",
          "name": "stdout",
          "text": [
            "         BMI BMI_cut\n",
            "0       40.0      35\n",
            "1       25.0      20\n",
            "2       28.0      25\n",
            "3       27.0      25\n",
            "4       24.0      20\n",
            "...      ...     ...\n",
            "253675  45.0      40\n",
            "253676  18.0      15\n",
            "253677  28.0      25\n",
            "253678  23.0      20\n",
            "253679  25.0      20\n",
            "\n",
            "[253680 rows x 2 columns]\n",
            "25    0.359413\n",
            "20    0.298817\n",
            "30    0.175233\n",
            "35    0.068377\n",
            "15    0.052121\n",
            "40    0.026254\n",
            "45    0.010423\n",
            "50    0.008574\n",
            "10    0.000788\n",
            "0     0.000000\n",
            "5     0.000000\n",
            "Name: BMI_cut, dtype: float64\n"
          ]
        },
        {
          "output_type": "display_data",
          "data": {
            "text/plain": [
              "<Figure size 432x288 with 1 Axes>"
            ],
            "image/png": "[encoded data removed]"
          },
          "metadata": {
            "needs_background": "light"
          }
        }
      ]
    },
    {
      "cell_type": "code",
      "source": [
        "# StratifiedShuffleSplit 를 활용하여 데이터 나누기 (각 구간별, 범주별 데이터 나누기)\n",
        "split1 = StratifiedShuffleSplit(n_splits=1, test_size=0.2, random_state=42) # train/test 1개로 분할, test_size 비율지정, 재현가능성을 위해 난수 초기값 지정\n",
        "for train_valid_index, test_index in split1.split( all_data, all_data[\"BMI_cut\"] ): # all_data를 BMI_cut 고려하여 데이터 나누기\n",
        "\ttrain_valid_tmp = all_data.iloc[train_valid_index].copy() # train 임시 데이터 -> 아래쪽에서 다시 train, valid 데이터로 나눔\n",
        "\ttest_data = all_data.iloc[test_index].copy() # test 데이터\n",
        "\n",
        "print(\"-- train_valid_tmp --\\n\", train_valid_tmp[\"BMI_cut\"].value_counts() / len(train_valid_tmp)) #train_valid_tmp 내에 BMI_cut 분포 비율 확인\n",
        "print(\"-- test_data --\\n\", test_data[\"BMI_cut\"].value_counts() / len(test_data)) #test_data 내에 BMI_cut 분포 비율 확인\n",
        "#print(train_valid_tmp.info()) #데이터 컬럼별 건수, type등 표시\n",
        "#print(train_valid_tmp.head()) #데이터 앞쪽 5개 row 데이터 표시\n",
        "#print(train_valid_tmp.describe()) #데이터 count, mean, std, min, 25%,50%,75%, max 값 표시\n",
        "\n",
        "# 위 에서 만들어진 train_valid_tmp 데이터를 다시 train, valid 로 나누기\n",
        "split2 = StratifiedShuffleSplit(n_splits=1, test_size=2944, random_state=42) #valid 데이터 2944개 생성, 나머지 train 데이터\n",
        "for train_index, valid_index in split2.split( train_valid_tmp, train_valid_tmp[\"BMI_cut\"] ): # train_tmp를 BMI_cut 고려하여 데이터 나누기\n",
        "\ttrain_data = train_valid_tmp.iloc[train_index].copy() # train 데이터\n",
        "\tvalid_data = train_valid_tmp.iloc[valid_index].copy() # test 데이터\n",
        "\n",
        "print(\"-- train_data --\\n\", train_data[\"BMI_cut\"].value_counts() / len(train_data)) # train_data 내에 BMI_cut 분포 비율 확인\n",
        "print(\"-- valid_data --\\n\", valid_data[\"BMI_cut\"].value_counts() / len(valid_data)) # valid_data 내에 BMI_cut 분포 비율 확인"
      ],
      "metadata": {
        "colab": {
          "base_uri": "https://localhost:8080/"
        },
        "id": "Cje4JKGtmAcI",
        "outputId": "d45d68e0-eedb-4be0-f712-9d18b4fe71fc"
      },
      "execution_count": null,
      "outputs": [
        {
          "output_type": "stream",
          "name": "stdout",
          "text": [
            "-- train_valid_tmp --\n",
            " 25    0.359414\n",
            "20    0.298816\n",
            "30    0.175231\n",
            "35    0.068378\n",
            "15    0.052123\n",
            "40    0.026254\n",
            "45    0.010422\n",
            "50    0.008574\n",
            "10    0.000788\n",
            "0     0.000000\n",
            "5     0.000000\n",
            "Name: BMI_cut, dtype: float64\n",
            "-- test_data --\n",
            " 25    0.359409\n",
            "20    0.298821\n",
            "30    0.175240\n",
            "35    0.068374\n",
            "15    0.052113\n",
            "40    0.026254\n",
            "45    0.010427\n",
            "50    0.008574\n",
            "10    0.000788\n",
            "0     0.000000\n",
            "5     0.000000\n",
            "Name: BMI_cut, dtype: float64\n",
            "-- train_data --\n",
            " 25    0.359415\n",
            "20    0.298815\n",
            "30    0.175230\n",
            "35    0.068380\n",
            "15    0.052120\n",
            "40    0.026255\n",
            "45    0.010420\n",
            "50    0.008575\n",
            "10    0.000790\n",
            "0     0.000000\n",
            "5     0.000000\n",
            "Name: BMI_cut, dtype: float64\n",
            "-- valid_data --\n",
            " 25    0.359375\n",
            "20    0.298913\n",
            "30    0.175272\n",
            "35    0.068274\n",
            "15    0.052310\n",
            "40    0.026155\n",
            "45    0.010530\n",
            "50    0.008492\n",
            "10    0.000679\n",
            "0     0.000000\n",
            "5     0.000000\n",
            "Name: BMI_cut, dtype: float64\n"
          ]
        }
      ]
    },
    {
      "cell_type": "code",
      "source": [
        "# 데이터 나누기 위해 추가된 BMI_cut 삭제\n",
        "for set_ in (train_valid_tmp, train_data, valid_data , test_data):\n",
        "\tset_.drop(\"BMI_cut\", axis=1, inplace=True)"
      ],
      "metadata": {
        "id": "P_vm0zW2sxMF"
      },
      "execution_count": null,
      "outputs": []
    },
    {
      "cell_type": "code",
      "source": [
        "# 데이터 shape 확인\n",
        "print(\"방법2 : StratifiedShuffleSplit() 활용\")\n",
        "print( \"test_data.shape=\",test_data.shape )\n",
        "print( \"valid_data.shape=\",valid_data.shape )\n",
        "print( \"train_data.shape=\",train_data.shape )\n",
        "print(\"My Test data size correct:\", test_data.shape==(all_data_size*.2, 22))\n",
        "print(\"My Valid data size correct:\", valid_data.shape==(2944,22))\n",
        "print(\"My Train data size correct:\", train_data.shape==(all_data_size-len(test_data)-len(valid_data),22))"
      ],
      "metadata": {
        "colab": {
          "base_uri": "https://localhost:8080/"
        },
        "id": "VkdXmZY9sqgR",
        "outputId": "65cd7e77-bac0-40fc-e528-28a90b146c5a"
      },
      "execution_count": null,
      "outputs": [
        {
          "output_type": "stream",
          "name": "stdout",
          "text": [
            "방법2 : StratifiedShuffleSplit() 활용\n",
            "test_data.shape= (50736, 22)\n",
            "valid_data.shape= (2944, 22)\n",
            "train_data.shape= (200000, 22)\n",
            "My Test data size correct: True\n",
            "My Valid data size correct: True\n",
            "My Train data size correct: True\n"
          ]
        }
      ]
    },
    {
      "cell_type": "code",
      "source": [
        "# 4.Create train_label, valid_label, test_label from \"Diabetes_012\" feature\n",
        "\n",
        "train_label = train_data[\"Diabetes_012\"].copy() # train_data 로 부터 \"Diabetes_012\" 복사\n",
        "valid_label = valid_data[\"Diabetes_012\"].copy() # valid_data 로 부터 \"Diabetes_012\" 복사\n",
        "test_label = test_data[\"Diabetes_012\"].copy() # test_data 로 부터 \"Diabetes_012\" 복사\n",
        "\n",
        "# train_label 데이터 확인\n",
        "print( train_label.value_counts() ) # 값 별로 건수 표시\n",
        "print( train_label ) # 전체 데이터 확인\n",
        "#print( train_label.describe() ) #데이터 count, mean, std, min, 25%,50%,75%, max 값 표시\n",
        "#train_label.to_numpy() # numpy 배열로 변환"
      ],
      "metadata": {
        "id": "iXtYmAdLXzS5",
        "colab": {
          "base_uri": "https://localhost:8080/"
        },
        "outputId": "595b77f8-0fc9-45f3-824b-41c399af388f"
      },
      "execution_count": null,
      "outputs": [
        {
          "output_type": "stream",
          "name": "stdout",
          "text": [
            "0.0    168534\n",
            "2.0     27833\n",
            "1.0      3633\n",
            "Name: Diabetes_012, dtype: int64\n",
            "170207    0.0\n",
            "18255     0.0\n",
            "97666     0.0\n",
            "167428    0.0\n",
            "157820    0.0\n",
            "         ... \n",
            "116941    2.0\n",
            "72383     2.0\n",
            "103045    0.0\n",
            "162715    0.0\n",
            "193123    0.0\n",
            "Name: Diabetes_012, Length: 200000, dtype: float64\n"
          ]
        }
      ]
    },
    {
      "cell_type": "code",
      "source": [
        "# 5.Drop \"Diabetes_012\" feature from each data set\n",
        "\n",
        "test_data.drop(\"Diabetes_012\", axis=1, inplace=True) # test_data 에 있는 Diabetes_012 컬럼 삭제\n",
        "valid_data.drop(\"Diabetes_012\", axis=1, inplace=True) # valid_data 에 있는 Diabetes_012 컬럼 삭제\n",
        "train_data.drop(\"Diabetes_012\", axis=1, inplace=True) # train_data 에 있는 Diabetes_012 컬럼 삭제\n",
        "\n",
        "print( \"test_data.shape=\",test_data.shape )\n",
        "print( \"valid_data.shape=\",valid_data.shape )\n",
        "print( \"train_data.shape=\",train_data.shape )"
      ],
      "metadata": {
        "colab": {
          "base_uri": "https://localhost:8080/"
        },
        "id": "z1yKhlM-w1D1",
        "outputId": "e956ba1e-f54a-46ed-f78f-e8eb73dfb2c3"
      },
      "execution_count": null,
      "outputs": [
        {
          "output_type": "stream",
          "name": "stdout",
          "text": [
            "test_data.shape= (50736, 21)\n",
            "valid_data.shape= (2944, 21)\n",
            "train_data.shape= (200000, 21)\n"
          ]
        }
      ]
    },
    {
      "cell_type": "code",
      "source": [
        "# Your Code Ends Here\n",
        "\n",
        "## DO NOT EDIT THIS CODE ###\n",
        "print(\"Test data size correct:\", test_data.shape==(all_data_size*.2, 21))\n",
        "print(\"Valid data size correct:\", valid_data.shape==(2944,21))\n",
        "print(\"Train data size correct:\", train_data.shape==(all_data_size-len(test_data)-len(valid_data),21))\n",
        "\n",
        "print(\"Test label size correct:\", test_label.shape==(all_data_size*.2,))\n",
        "print(\"Valid label size correct:\", valid_label.shape==(2944,))\n",
        "print(\"Train label size correct:\", train_label.shape==(all_data_size-len(test_data)-len(valid_data),))\n",
        "## DO NOT EDIT THIS CODE ###"
      ],
      "metadata": {
        "id": "N0JsJjhxON1P",
        "colab": {
          "base_uri": "https://localhost:8080/"
        },
        "outputId": "66fa7378-e43f-4f7c-8a6d-0904c5eec013"
      },
      "execution_count": null,
      "outputs": [
        {
          "output_type": "stream",
          "name": "stdout",
          "text": [
            "Test data size correct: True\n",
            "Valid data size correct: True\n",
            "Train data size correct: True\n",
            "Test label size correct: True\n",
            "Valid label size correct: True\n",
            "Train label size correct: True\n"
          ]
        }
      ]
    },
    {
      "cell_type": "markdown",
      "source": [
        "### Task 4: Preprocess train, valid, test datasets (4pts)\n",
        "\n",
        "1. Replace values of 2 into 1 in labels (i.e., multi-class to binary-class)(1pts)\n",
        "2. MinMax scale features into 0~1 (e.g., use MinMaxScaler) (3pts)"
      ],
      "metadata": {
        "id": "lB1pOMXXaX39"
      }
    },
    {
      "cell_type": "code",
      "source": [
        "# Your Code Starts Here"
      ],
      "metadata": {
        "id": "iM2p7TjALoqB"
      },
      "execution_count": null,
      "outputs": []
    },
    {
      "cell_type": "code",
      "source": [
        "# 1.Replace values of 2 into 1 in labels (i.e., multi-class to binary-class)\n",
        "\n",
        "print( \"-- before -------------\")\n",
        "print( test_label.value_counts() ) # 값 별로 건수 표시\n",
        "print( valid_label.value_counts() ) # 값 별로 건수 표시\n",
        "print( train_label.value_counts() ) # 값 별로 건수 표시\n",
        "\n",
        "test_label.replace(2,1, inplace=True) # test_label 값 2 --> 1 로 변경\n",
        "valid_label.replace(2,1, inplace=True) # valid_label 값 2 --> 1 로 변경\n",
        "train_label.replace(2,1, inplace=True) # train_label 값 2 --> 1 로 변경\n",
        "print( \"-- after -------------\" )\n",
        "print( test_label.value_counts() ) # 값 별로 건수 표시\n",
        "print( valid_label.value_counts() ) # 값 별로 건수 표시\n",
        "print( train_label.value_counts() ) # 값 별로 건수 표시"
      ],
      "metadata": {
        "colab": {
          "base_uri": "https://localhost:8080/"
        },
        "id": "ph0mt1ZgLr0l",
        "outputId": "1952069f-d4a8-4bb1-a00e-63a65ed894a6"
      },
      "execution_count": null,
      "outputs": [
        {
          "output_type": "stream",
          "name": "stdout",
          "text": [
            "-- before -------------\n",
            "0.0    42700\n",
            "2.0     7096\n",
            "1.0      940\n",
            "Name: Diabetes_012, dtype: int64\n",
            "0.0    2469\n",
            "2.0     417\n",
            "1.0      58\n",
            "Name: Diabetes_012, dtype: int64\n",
            "0.0    168534\n",
            "2.0     27833\n",
            "1.0      3633\n",
            "Name: Diabetes_012, dtype: int64\n",
            "-- after -------------\n",
            "0.0    42700\n",
            "1.0     8036\n",
            "Name: Diabetes_012, dtype: int64\n",
            "0.0    2469\n",
            "1.0     475\n",
            "Name: Diabetes_012, dtype: int64\n",
            "0.0    168534\n",
            "1.0     31466\n",
            "Name: Diabetes_012, dtype: int64\n"
          ]
        }
      ]
    },
    {
      "cell_type": "code",
      "source": [
        "# 2. MinMax scale features into 0~1 (e.g., use MinMaxScaler)\n",
        "scaler1 = MinMaxScaler() # 객체 생성 : train_data용\n",
        "scaler1.fit(train_data) # 피팅 : 스케일링에 사용할 최소,최대 값 계산하여 저장\n",
        "train_data_scaled = scaler1.transform(train_data) # 데이터 변환, 결과는 배열로 반환됨\n",
        "train_data = np.round(train_data_scaled,4) # 결과값들을 소수점 4째자리까지 반올림 (불필요값 제거)\n",
        "\n",
        "scaler2 = MinMaxScaler() # 객체 생성 : valid_data용\n",
        "scaler2.fit(valid_data) # 피팅 : 스케일링에 사용할 최소,최대 값 계산하여 저장\n",
        "valid_data_scaled = scaler2.transform(valid_data) # 데이터 변환, 결과는 배열로 반환됨\n",
        "valid_data = np.round(valid_data_scaled,4) # 결과값들을 소수점 4째자리까지 반올림 (불필요값 제거)\n",
        "\n",
        "scaler3 = MinMaxScaler() # 객체 생성 : test_data용\n",
        "scaler3.fit(test_data) # 피팅 : 스케일링에 사용할 최소,최대 값 계산하여 저장\n",
        "test_data_scaled = scaler3.transform(test_data) # 데이터 변환, 결과는 배열로 반환됨\n",
        "test_data = np.round(test_data_scaled,4) # 결과값들을 소수점 4째자리까지 반올림 (불필요값 제거)\n",
        "\n",
        "print(\"My Train data range correct:\", np.max(train_data) == 1. and np.min(train_data)==0.)\n",
        "print(\"My Valid data range correct:\", np.max(valid_data) == 1. and np.min(valid_data)==0.)\n",
        "print(\"My Test data range correct:\", np.max(test_data) == 1. and np.min(test_data)==0.)"
      ],
      "metadata": {
        "colab": {
          "base_uri": "https://localhost:8080/"
        },
        "id": "Z2zqnRNcUmDd",
        "outputId": "2ddf1704-08dc-47d7-aed9-987a03d37090"
      },
      "execution_count": null,
      "outputs": [
        {
          "output_type": "stream",
          "name": "stdout",
          "text": [
            "My Train data range correct: True\n",
            "My Valid data range correct: True\n",
            "My Test data range correct: True\n"
          ]
        }
      ]
    },
    {
      "cell_type": "code",
      "source": [
        "# Your Code Ends Here\n",
        "\n",
        "## DO NOT EDIT THIS CODE ###\n",
        "print(\"Train data range correct:\", np.max(train_data) == 1. and np.min(train_data)==0.)\n",
        "print(\"Valid data range correct:\", np.max(valid_data) == 1. and np.min(valid_data)==0.)\n",
        "print(\"Test data range correct:\", np.max(test_data) == 1. and np.min(test_data)==0.)\n",
        "\n",
        "print(\"Train label correct:\", np.unique(train_label)==(0,1))\n",
        "print(\"Valid label correct:\", np.unique(valid_label)==(0,1))\n",
        "print(\"Test label correct:\", np.unique(test_label)==(0,1))\n",
        "## DO NOT EDIT THIS CODE ###"
      ],
      "metadata": {
        "id": "1udsaxVIZNrG",
        "colab": {
          "base_uri": "https://localhost:8080/"
        },
        "outputId": "90ec0a5c-bf7f-4496-ab7e-9f0c6d09d307"
      },
      "execution_count": null,
      "outputs": [
        {
          "output_type": "stream",
          "name": "stdout",
          "text": [
            "Train data range correct: True\n",
            "Valid data range correct: True\n",
            "Test data range correct: True\n",
            "Train label correct: [ True  True]\n",
            "Valid label correct: [ True  True]\n",
            "Test label correct: [ True  True]\n"
          ]
        }
      ]
    },
    {
      "cell_type": "markdown",
      "source": [
        "### Task 5: Train a model (9pt)\n",
        "\n",
        "1. Train a model of your choice (4pt)\n",
        "2. Validate your model on valid_data (1pt)\n",
        "3. Improve the validation score by finetuning (3pt)\n",
        "4. Save your model (1pt)"
      ],
      "metadata": {
        "id": "9QJmf2phgiuK"
      }
    },
    {
      "cell_type": "code",
      "source": [
        "# Your Code Starts Here"
      ],
      "metadata": {
        "id": "tIuXDopuh3mS"
      },
      "execution_count": null,
      "outputs": []
    },
    {
      "cell_type": "code",
      "source": [
        "# 1. Train a model of your choice\n",
        "# 2. Validate your model on valid_data\n",
        "\n",
        "# ** 각 모델 비교 DecisionTreeRegressor, RandomForestRegressor **\n",
        "\n",
        "# ① DecisionTreeRegressor 모델\n",
        "tree_reg = DecisionTreeRegressor() # 객체 생성\n",
        "tree_reg.fit(train_data, train_label) # 모델 피팅 : train_data, train_label\n",
        "predict_valid_label = tree_reg.predict(valid_data) # valid_data로 예측 label 생성\n",
        "\n",
        "# 평가 -> RMSE : 루트 평균 제곱 오차, MSE : 평균 제곱 오차\n",
        "tree_reg_mse = mean_squared_error(valid_label, predict_valid_label) #MSE 측정\n",
        "tree_reg_rmse = np.sqrt(tree_reg_mse) # RMSE 측정\n",
        "print(\"tree_reg RMSE:\", tree_reg_rmse)\n",
        "\n",
        "# 평가-> 교차검증(Cross-Validation)\n",
        "# scoring 매개변수에 평균 제곱 오차(MSE)의 반댓값(즉, 음숫값)을 계산하는 neg_mean_squared_error 함수 사용 \n",
        "scores = cross_val_score(tree_reg, valid_data, valid_label, scoring=\"neg_mean_squared_error\", cv=10) #valid_data로 평가, 훈련 세트 10개 fold , 10개의 평가 점수가 담긴 배열 리턴\n",
        "tree_reg_rmse_score = np.sqrt(-scores) # 제곱근을 계산하기 전에 -scores로 부호를 바꿔서 계산\n",
        "display_scores(tree_reg_rmse_score)"
      ],
      "metadata": {
        "colab": {
          "base_uri": "https://localhost:8080/"
        },
        "id": "DcfAuW4LF5s4",
        "outputId": "b74ca212-bcf4-4557-c7ff-08bd5d0560c2"
      },
      "execution_count": null,
      "outputs": [
        {
          "output_type": "stream",
          "name": "stdout",
          "text": [
            "tree_reg RMSE: 0.4788770796237339\n",
            "Scores: [0.51089818 0.50756982 0.51749069 0.48363034 0.48795004 0.45550301\n",
            " 0.46656947 0.48795004 0.51507875 0.51507875]\n",
            "Mean: 0.49477190869589005\n",
            "Standard deviation: 0.02078305997862749\n"
          ]
        }
      ]
    },
    {
      "cell_type": "code",
      "source": [
        "# ② RandomForestRegressor 모델\n",
        "forest_reg = RandomForestRegressor() # 객체 생성\n",
        "forest_reg.fit(train_data, train_label) # 모델 피팅 : train_data, train_label\n",
        "\n",
        "predict_valid_label = forest_reg.predict(valid_data) # valid_data로 예측 label 생성\n",
        "\n",
        "# 평가 -> RMSE : 루트 평균 제곱 오차, MSE : 평균 제곱 오차\n",
        "forest_reg_mse = mean_squared_error(valid_label, predict_valid_label) #MSE 측정\n",
        "forest_reg_rmse = np.sqrt(forest_reg_mse) # RMSE 측정\n",
        "print(\"forest_reg RMSE:\", forest_reg_rmse)\n",
        "\n",
        "# 평가-> 교차검증(Cross-Validation)\n",
        "# scoring 매개변수에 평균 제곱 오차(MSE)의 반댓값(즉, 음숫값)을 계산하는 neg_mean_squared_error 함수 사용 \n",
        "scores = cross_val_score(forest_reg, valid_data, valid_label, scoring=\"neg_mean_squared_error\", cv=10) #valid_data로 평가, 훈련 세트 10개 fold , 10개의 평가 점수가 담긴 배열 리턴\n",
        "forest_reg_rmse_score = np.sqrt(-scores) # 제곱근을 계산하기 전에 -scores로 부호를 바꿔서 계산\n",
        "display_scores(forest_reg_rmse_score)"
      ],
      "metadata": {
        "colab": {
          "base_uri": "https://localhost:8080/"
        },
        "id": "2OrNqSFLDRLi",
        "outputId": "088188d6-fd2a-4f38-8605-cf87c5a4b954"
      },
      "execution_count": null,
      "outputs": [
        {
          "output_type": "stream",
          "name": "stdout",
          "text": [
            "forest_reg RMSE: 0.34963909243765806\n",
            "Scores: [0.37971878 0.36364775 0.37527168 0.35824754 0.33861758 0.31447938\n",
            " 0.33048222 0.36259276 0.37129404 0.39196782]\n",
            "Mean: 0.3586319548417187\n",
            "Standard deviation: 0.022752077360631003\n"
          ]
        }
      ]
    },
    {
      "cell_type": "code",
      "source": [
        "# 모델들의 RMSE 값은  DecisionTreeRegressor 평균 약 0.49 이고, RandomForestRegressor 평균 약 0.36으로 RandomForestRegressor 성능이 더 좋음,  RandomForestRegressor 선택하여 튜닝"
      ],
      "metadata": {
        "id": "GEuWgWMJIVXE"
      },
      "execution_count": null,
      "outputs": []
    },
    {
      "cell_type": "code",
      "source": [
        "# 3. Improve the validation score by finetuning\n",
        "\n",
        "#GridSearchCV 활용하여 RandomForestRegressor 모델의 하이퍼파라미터 조합을 탐색\n",
        "param_grid = [\n",
        "        {'n_estimators': [3, 10, 30, 40, 50], 'max_features': [2, 4, 6, 8]},  # n_estimators : 생성할 tree의 수량, max_features : 최대 선택할 특성의 수량\n",
        "        {'bootstrap': [False], 'n_estimators': [3, 10], 'max_features': [2, 3, 4]}, # bootstrap : tree가 조금씩 다른 데이터셋으로 만듬, n_estimators : 생성할 tree의 수량, max_features : 최대 선택할 특성의 수량\n",
        "    ]\n",
        "forest_reg = RandomForestRegressor()\n",
        "grid_search = GridSearchCV(forest_reg, param_grid, cv=5,\n",
        "                           scoring='neg_mean_squared_error',\n",
        "                           return_train_score=True)\n",
        " \n",
        "grid_search.fit(train_data, train_label) # 모델 피팅 : train_data, train_label\n",
        "\n",
        "grid_search.best_params_ # 주어진 조건중에 최적의 파라미터 표시"
      ],
      "metadata": {
        "colab": {
          "base_uri": "https://localhost:8080/"
        },
        "id": "7DlCtoLoDNmK",
        "outputId": "a1f90c81-0ddb-4296-e4df-0007c7c6b678"
      },
      "execution_count": null,
      "outputs": [
        {
          "output_type": "execute_result",
          "data": {
            "text/plain": [
              "{'max_features': 4, 'n_estimators': 50}"
            ]
          },
          "metadata": {},
          "execution_count": 89
        }
      ]
    },
    {
      "cell_type": "code",
      "source": [
        "grid_search.best_estimator_\n",
        "# n_estimators=50 은 탐색 범위의 최댓값(점수가 향상될 수 있음) -> 더 큰값이 성능이 좋을 수 있으며, 검색해볼 필요 있음 (본 과제는 여기까지만)"
      ],
      "metadata": {
        "colab": {
          "base_uri": "https://localhost:8080/"
        },
        "id": "zypXTO5gU7so",
        "outputId": "45b54258-2620-4758-f9cc-c0b6c12664ef"
      },
      "execution_count": null,
      "outputs": [
        {
          "output_type": "execute_result",
          "data": {
            "text/plain": [
              "RandomForestRegressor(max_features=4, n_estimators=50)"
            ]
          },
          "metadata": {},
          "execution_count": 91
        }
      ]
    },
    {
      "cell_type": "code",
      "source": [
        "# grid_search 평가 점수 목록\n",
        "cvres = grid_search.cv_results_\n",
        "for mean_score, params in zip(cvres[\"mean_test_score\"], cvres[\"params\"]):\n",
        "  print(np.sqrt(-mean_score), params)\n",
        "\n",
        "# n_estimators=50 은 탐색 범위의 최댓값(점수가 향상될 수 있음) -> 더 큰값으로 검색 필요 하고,\n",
        "# 하지만, max_features=2 일때와 6,8 일때는 오히려 안좋아짐"
      ],
      "metadata": {
        "colab": {
          "base_uri": "https://localhost:8080/"
        },
        "id": "v68QzS8JRsbs",
        "outputId": "9a8055c3-6c42-4c59-93e6-03e7b2bbb644"
      },
      "execution_count": null,
      "outputs": [
        {
          "output_type": "stream",
          "name": "stdout",
          "text": [
            "0.3838766324466991 {'max_features': 2, 'n_estimators': 3}\n",
            "0.3501831644422248 {'max_features': 2, 'n_estimators': 10}\n",
            "0.33968583135748176 {'max_features': 2, 'n_estimators': 30}\n",
            "0.3385724487122269 {'max_features': 2, 'n_estimators': 40}\n",
            "0.33789929443938294 {'max_features': 2, 'n_estimators': 50}\n",
            "0.3828748547558458 {'max_features': 4, 'n_estimators': 3}\n",
            "0.3499149930463031 {'max_features': 4, 'n_estimators': 10}\n",
            "0.33984921067403034 {'max_features': 4, 'n_estimators': 30}\n",
            "0.3389624274391766 {'max_features': 4, 'n_estimators': 40}\n",
            "0.3378759419643956 {'max_features': 4, 'n_estimators': 50}\n",
            "0.38438476658673254 {'max_features': 6, 'n_estimators': 3}\n",
            "0.3519911280958317 {'max_features': 6, 'n_estimators': 10}\n",
            "0.34098773350415573 {'max_features': 6, 'n_estimators': 30}\n",
            "0.33989105745574316 {'max_features': 6, 'n_estimators': 40}\n",
            "0.33896338447284635 {'max_features': 6, 'n_estimators': 50}\n",
            "0.38578937842230404 {'max_features': 8, 'n_estimators': 3}\n",
            "0.3524152248014151 {'max_features': 8, 'n_estimators': 10}\n",
            "0.3426404741248831 {'max_features': 8, 'n_estimators': 30}\n",
            "0.3411913362960481 {'max_features': 8, 'n_estimators': 40}\n",
            "0.3405056059751338 {'max_features': 8, 'n_estimators': 50}\n",
            "0.386356354133326 {'bootstrap': False, 'max_features': 2, 'n_estimators': 3}\n",
            "0.3561465663217988 {'bootstrap': False, 'max_features': 2, 'n_estimators': 10}\n",
            "0.386907217551165 {'bootstrap': False, 'max_features': 3, 'n_estimators': 3}\n",
            "0.3560096972244697 {'bootstrap': False, 'max_features': 3, 'n_estimators': 10}\n",
            "0.38772470871775944 {'bootstrap': False, 'max_features': 4, 'n_estimators': 3}\n",
            "0.3569260418633246 {'bootstrap': False, 'max_features': 4, 'n_estimators': 10}\n"
          ]
        }
      ]
    },
    {
      "cell_type": "code",
      "source": [
        "# ② RandomForestRegressor 에 위에서 찾은 파라미터 값 적용\n",
        "my_forest_reg = RandomForestRegressor(max_features=4, n_estimators=50) # 객체 생성\n",
        "my_forest_reg.fit(train_data, train_label) # 모델 피팅 : train_data, train_label\n",
        "\n",
        "predict_valid_label = my_forest_reg.predict(valid_data) # valid_data로 예측 label 생성\n",
        "\n",
        "# 평가 -> RMSE : 루트 평균 제곱 오차, MSE : 평균 제곱 오차\n",
        "my_forest_reg_mse = mean_squared_error(valid_label, predict_valid_label) #MSE 측정\n",
        "my_forest_reg_rmse = np.sqrt(my_forest_reg_mse) # RMSE 측정\n",
        "print(\"my_forest_reg RMSE:\", my_forest_reg_rmse)\n",
        "\n",
        "# 평가-> 교차검증(Cross-Validation)\n",
        "# scoring 매개변수에 평균 제곱 오차(MSE)의 반댓값(즉, 음숫값)을 계산하는 neg_mean_squared_error 함수 사용 \n",
        "scores = cross_val_score(my_forest_reg, valid_data, valid_label, scoring=\"neg_mean_squared_error\", cv=10) #valid_data로 평가, 훈련 세트 10개 fold , 10개의 평가 점수가 담긴 배열 리턴\n",
        "my_forest_reg_rmse_score = np.sqrt(-scores) # 제곱근을 계산하기 전에 -scores로 부호를 바꿔서 계산\n",
        "display_scores(my_forest_reg_rmse_score)"
      ],
      "metadata": {
        "colab": {
          "base_uri": "https://localhost:8080/"
        },
        "id": "cEfM2JctYHh5",
        "outputId": "af30c6b3-747e-4430-b938-f48941a63fbe"
      },
      "execution_count": null,
      "outputs": [
        {
          "output_type": "stream",
          "name": "stdout",
          "text": [
            "my_forest_reg RMSE: 0.34525308827237394\n",
            "Scores: [0.37457875 0.35386534 0.37449593 0.34595996 0.33684159 0.30493894\n",
            " 0.3213429  0.35889386 0.36074539 0.38458565]\n",
            "Mean: 0.35162483053462534\n",
            "Standard deviation: 0.02371630412587143\n"
          ]
        }
      ]
    },
    {
      "cell_type": "code",
      "source": [
        "# 4.Save your model\n",
        "\n",
        "joblib.dump(my_forest_reg, \"my_forest_reg.pkl\") # 모델 저장\n",
        "#my_forest_reg = joblib.load(\"my_forest_reg.pkl\") # 저장한 모델 로딩"
      ],
      "metadata": {
        "id": "e8mc59roT5qL",
        "colab": {
          "base_uri": "https://localhost:8080/"
        },
        "outputId": "ad1605e5-2d44-4554-d5bd-9746c1e39ac5"
      },
      "execution_count": null,
      "outputs": [
        {
          "output_type": "execute_result",
          "data": {
            "text/plain": [
              "['my_forest_reg.pkl']"
            ]
          },
          "metadata": {},
          "execution_count": 113
        }
      ]
    },
    {
      "cell_type": "code",
      "source": [
        "# Your Code Ends Here"
      ],
      "metadata": {
        "id": "Z-BPetMi0CG_"
      },
      "execution_count": null,
      "outputs": []
    },
    {
      "cell_type": "markdown",
      "source": [
        "### Task 6: Evaluate your model (5pt)\n",
        "\n",
        "1. Load your model (1pt)\n",
        "2. Show that the loaded model's prediction is same as the model in Task 5 using valid_data (3pt)\n",
        "2. Evaluate your model on test_data (1pt)"
      ],
      "metadata": {
        "id": "zxAAHezeiVx8"
      }
    },
    {
      "cell_type": "code",
      "source": [
        "# Your Code Starts Here"
      ],
      "metadata": {
        "id": "ugyPWd3GVyMi"
      },
      "execution_count": null,
      "outputs": []
    },
    {
      "cell_type": "code",
      "source": [
        "# 1. Load your model\n",
        "\n",
        "my2_forest_reg = joblib.load(\"my_forest_reg.pkl\") # 저장한 모델 로딩"
      ],
      "metadata": {
        "id": "de9_T95Kid4a"
      },
      "execution_count": null,
      "outputs": []
    },
    {
      "cell_type": "code",
      "source": [
        "# 2. Show that the loaded model's prediction is same as the model in Task 5 using valid_data\n",
        "\n",
        "# My RandomForestRegressor 모델\n",
        "predict_valid_label = my2_forest_reg.predict(valid_data) # valid_data로 예측 label 생성\n",
        "\n",
        "# 평가 -> RMSE : 루트 평균 제곱 오차, MSE : 평균 제곱 오차\n",
        "my2_forest_reg_mse = mean_squared_error(valid_label, predict_valid_label) #MSE 측정\n",
        "my2_forest_reg_rmse = np.sqrt(my2_forest_reg_mse) # RMSE 측정\n",
        "print(\"my2_forest_reg RMSE:\", my2_forest_reg_rmse)\n",
        "\n",
        "# 평가-> 교차검증(Cross-Validation)\n",
        "# scoring 매개변수에 평균 제곱 오차(MSE)의 반댓값(즉, 음숫값)을 계산하는 neg_mean_squared_error 함수 사용 \n",
        "scores = cross_val_score(my2_forest_reg, valid_data, valid_label, scoring=\"neg_mean_squared_error\", cv=10) #valid_data로 평가, 훈련 세트 10개 fold , 10개의 평가 점수가 담긴 배열 리턴\n",
        "my2_forest_reg_rmse_score = np.sqrt(-scores) # 제곱근을 계산하기 전에 -scores로 부호를 바꿔서 계산\n",
        "display_scores(my2_forest_reg_rmse_score)\n"
      ],
      "metadata": {
        "colab": {
          "base_uri": "https://localhost:8080/"
        },
        "id": "j5MrFKkYT_aq",
        "outputId": "46bdecf5-c22b-4c84-b00d-949edf87a18e"
      },
      "execution_count": null,
      "outputs": [
        {
          "output_type": "stream",
          "name": "stdout",
          "text": [
            "my2_forest_reg RMSE: 0.34525308827237394\n",
            "Scores: [0.37271928 0.35264149 0.3750548  0.34600122 0.3296628  0.3062723\n",
            " 0.32837943 0.35461613 0.36942224 0.38444943]\n",
            "Mean: 0.3519219099057215\n",
            "Standard deviation: 0.02346997311090688\n"
          ]
        }
      ]
    },
    {
      "cell_type": "code",
      "source": [
        "# 3. Evaluate your model on test_data\n",
        "\n",
        "print(\"Evaluate my model on test_data\")\n",
        "# My RandomForestRegressor 모델\n",
        "predict_test_label = my2_forest_reg.predict(test_data) # test_data로 예측 label 생성\n",
        "\n",
        "# 평가 -> RMSE : 루트 평균 제곱 오차, MSE : 평균 제곱 오차\n",
        "my2_forest_reg_mse = mean_squared_error(test_label, predict_test_label) #MSE 측정\n",
        "my2_forest_reg_rmse = np.sqrt(my2_forest_reg_mse) # RMSE 측정\n",
        "print(\"my2_forest_reg RMSE:\", my2_forest_reg_rmse)\n",
        "\n",
        "# 평가-> 교차검증(Cross-Validation)\n",
        "# scoring 매개변수에 평균 제곱 오차(MSE)의 반댓값(즉, 음숫값)을 계산하는 neg_mean_squared_error 함수 사용 \n",
        "scores = cross_val_score(my2_forest_reg, test_data, test_label, scoring=\"neg_mean_squared_error\", cv=10) #test_data로 평가, 훈련 세트 10개 fold , 10개의 평가 점수가 담긴 배열 리턴\n",
        "my2_forest_reg_rmse_score = np.sqrt(-scores) # 제곱근을 계산하기 전에 -scores로 부호를 바꿔서 계산\n",
        "print(\"Cross-Validation : test_data\")\n",
        "display_scores(my2_forest_reg_rmse_score)"
      ],
      "metadata": {
        "colab": {
          "base_uri": "https://localhost:8080/"
        },
        "id": "PTi2SIkVUfNC",
        "outputId": "8a9138e2-5fd9-41a6-f90c-f099f78d0e20"
      },
      "execution_count": null,
      "outputs": [
        {
          "output_type": "stream",
          "name": "stdout",
          "text": [
            "Evaluate my model on test_data\n",
            "my2_forest_reg RMSE: 0.3368727220608586\n",
            "Cross-Validation : test_data\n",
            "Scores: [0.33227285 0.33137484 0.33695538 0.33695121 0.33329972 0.33833775\n",
            " 0.33591278 0.3357445  0.33685032 0.32753734]\n",
            "Mean: 0.3345236707128042\n",
            "Standard deviation: 0.003169777616577935\n"
          ]
        }
      ]
    },
    {
      "cell_type": "code",
      "source": [
        "# Your Code Ends Here"
      ],
      "metadata": {
        "id": "00c8zd5UVyqa"
      },
      "execution_count": null,
      "outputs": []
    }
  ]
}